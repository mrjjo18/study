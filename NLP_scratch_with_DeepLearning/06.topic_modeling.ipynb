{
 "cells": [
  {
   "cell_type": "markdown",
   "id": "ad7a95f7",
   "metadata": {},
   "source": [
    "**토픽 모델링(Topic Modeling)**\n",
    "\n",
    "토픽(Topic)은 한국어로는 주제라고 합니다. 토픽 모델링(Topic Modeling)이란 기계 학습 및 자연어 처리 분야에서 토픽이라는 문서 집합의 추상적인 주제를 발견하기 위한 통계적 모델 중 하나로, 텍스트 본문의 숨겨진 의미 구조를 발견하기 위해 사용되는 텍스트 마이닝 기법입니다.\n",
    "\n"
   ]
  },
  {
   "cell_type": "markdown",
   "id": "eef159c0",
   "metadata": {},
   "source": [
    "# 1. 잠재 의미 분석(Latent Semantic Analysis, LSA)\n",
    "LSA는 정확히는 토픽 모델링을 위해 최적화 된 알고리즘은 아니지만, 토픽 모델링이라는 분야에 아이디어를 제공한 알고리즘이라고 볼 수 있습니다. 이에 토픽 모델링 알고리즘인 LDA에 앞서 배워보도록 하겠습니다. 뒤에서 배우게 되는 LDA는 LSA의 단점을 개선하여 탄생한 알고리즘으로 토픽 모델링에 보다 적합한 알고리즘입니다.\n",
    "\n",
    "BoW에 기반한 DTM이나 TF-IDF는 기본적으로 단어의 빈도 수를 이용한 수치화 방법이기 때문에 단어의 의미를 고려하지 못한다는 단점이 있었습니다. (이를 토픽 모델링 관점에서는 단어의 토픽을 고려하지 못한다고도 합니다.) 이를 위한 대안으로 DTM의 잠재된(Latent) 의미를 이끌어내는 방법으로 잠재 의미 분석(Latent Semantic Analysis, LSA)이라는 방법이 있습니다. 잠재 의미 분석(Latent Semantic Indexing, LSI)이라고 부르기도 합니다. 이하 LSA라고 명명하겠습니다.\n",
    "\n",
    "이 방법을 이해하기 위해서는 선형대수학의 특이값 분해(Singular Value Decomposition, SVD)를 이해할 필요가 있습니다. 이하 이를 SVD라고 명명하겠습니다. 이 챕터에서는 SVD를 수행하는 구체적인 선형대수학에 대해서는 설명하지 않고, **SVD가 갖고있는 의미를 이해하는 것에 초점을 맞춥니다.**"
   ]
  },
  {
   "cell_type": "markdown",
   "id": "e967f7df",
   "metadata": {},
   "source": [
    "## 1.1 특이값 분해(Singular Value Decomposition, SVD)\n",
    "시작하기 앞서, 여기서의 특이값 분해(Singular Value Decomposition, SVD)는 실수 벡터 공간에 한정하여 내용을 설명함을 명시합니다. SVD란 A가 m × n 행렬일 때, 다음과 같이 3개의 행렬의 곱으로 분해(decomposition)하는 것을 말합니다.\n",
    "\n",
    "$$ A=UΣV^\\text{T} $$\n",
    "\n",
    "\n",
    "\n",
    "\n",
    "여기서 각 3개의 행렬은 다음과 같은 조건을 만족합니다.\n",
    "\n",
    "$ U: m × m\\ \\text{직교행렬}\\ (AA^\\text{T}=U(ΣΣ^\\text{T})U^\\text{T}) $  \n",
    "$ V: n × n\\ \\text{직교행렬}\\ (A^\\text{T}A=V(Σ^\\text{T}Σ)V^\\text{T}) $  \n",
    "$ Σ: m × n\\ \\text{직사각 대각행렬} $\n",
    "\n",
    "여기서 직교행렬(orthogonal matrix)이란 자신과 자신의 전치 행렬(transposed matrix)의 곱 또는 이를 반대로 곱한 결과가 단위행렬(identity matrix)이 되는 행렬을 말합니다. 또한 대각행렬(diagonal matrix)이란 주대각선을 제외한 곳의 원소가 모두 0인 행렬을 의미합니다.\n",
    "\n",
    "이때 SVD로 나온 대각 행렬의 대각 원소의 값을 행렬 A의 특이값(singular value)라고 합니다. 많은 용어가 한꺼번에 나와서 복잡해보이는데 차근, 차근 용어를 정리해보도록 하겠습니다."
   ]
  },
  {
   "cell_type": "markdown",
   "id": "a30b8a25",
   "metadata": {},
   "source": [
    "### 1.1.1 전치 행렬(Transposed Matrix)\n",
    "전치 행렬(transposed matrix)은 원래의 행렬에서 행과 열을 바꾼 행렬입니다. 즉, 주대각선을 축으로 반사 대칭을 하여 얻는 행렬입니다. 기호는 기존 행렬 표현의 우측 위에 $T$를 붙입니다. 예를 들어서 기존의 행렬을 $M$이라고 한다면, 전치 행렬은 $M^T$와 같이 표현합니다.\n",
    "\n",
    "$ M = \n",
    "\\left[\n",
    "    \\begin{array}{c}\n",
    "      1\\ 2\\\\\n",
    "      3\\ 4\\\\\n",
    "      5\\ 6\\\\\n",
    "    \\end{array}\n",
    "  \\right]\n",
    "\\ \\ \\ \\ $ $ M^\\text{T} = \n",
    "\\left[\n",
    "    \\begin{array}{c}\n",
    "      1\\ 3\\ 5\\\\\n",
    "      2\\ 4\\ 6\\\\\n",
    "    \\end{array}\n",
    "  \\right]\n",
    "\\ \\ \\ \\ $"
   ]
  },
  {
   "cell_type": "markdown",
   "id": "d54a302d",
   "metadata": {},
   "source": [
    "### 1.1.2 단위 행렬(Identity Matrix)\n",
    "단위 행렬(identity matrix)은 주대각선의 원소가 모두 1이며 나머지 원소는 모두 0인 정사각 행렬을 말합니다. 보통 줄여서 대문자 $I$로 표현하기도 하는데, 2 × 2 단위 행렬과 3 × 3 단위 행렬을 표현해보면 다음과 같습니다.\n",
    "\n",
    "$ I = \n",
    "\\left[\n",
    "    \\begin{array}{c}\n",
    "      1\\ 0\\\\\n",
    "      0\\ 1\\\\\n",
    "    \\end{array}\n",
    "  \\right]\n",
    "\\ \\ \\ \\ $$ I = \n",
    "\\left[\n",
    "    \\begin{array}{c}\n",
    "      1\\ 0\\ 0\\\\\n",
    "      0\\ 1\\ 0\\\\\n",
    "      0\\ 0\\ 1\\\\\n",
    "    \\end{array}\n",
    "  \\right]\n",
    "\\ \\ \\ \\ $"
   ]
  },
  {
   "cell_type": "markdown",
   "id": "69bd90af",
   "metadata": {},
   "source": [
    "### 1.1.3 역행렬(Inverse Matrix)\n",
    "단위 행렬(identity matrix)를 이해했다면 역행렬(inverse matrix)을 정의할 수 있습니다. 만약 행렬 $A$와 어떤 행렬을 곱했을 때, 결과로서 단위 행렬이 나온다면 이때의 어떤 행렬을 $A$의 역행렬이라고 하며, $A^{-1}$라고 표현합니다.\n",
    "\n",
    "$$ A\\ ×\\ A^{-1} = I $$\n",
    "\n",
    "$ \\left[\n",
    "    \\begin{array}{c}\n",
    "      1\\ 2\\ 3\\\\\n",
    "      4\\ 5\\ 6\\\\\n",
    "      7\\ 8\\ 9\\\\\n",
    "    \\end{array}\n",
    "  \\right]\n",
    "×\n",
    "\\left[\n",
    "    \\begin{array}{c}\n",
    "      \\ \\ \\ \\ \\ \\ \\ \\ \\\\\n",
    "      \\ \\ \\ \\ ?\\ \\ \\ \\\\\n",
    "      \\ \\ \\ \\ \\ \\ \\ \\ \\\\\n",
    "    \\end{array}\n",
    "  \\right]\n",
    "=\n",
    "\\left[\n",
    "    \\begin{array}{c}\n",
    "      1\\ 0\\ 0\\\\\n",
    "      0\\ 1\\ 0\\\\\n",
    "      0\\ 0\\ 1\\\\\n",
    "    \\end{array}\n",
    "  \\right] $"
   ]
  },
  {
   "cell_type": "markdown",
   "id": "dd89a9e5",
   "metadata": {},
   "source": [
    "### 1.1.4 직교 행렬(Orthogonal matrix)\n",
    "다시 직교 행렬(orthogonal matrix)의 정의로 돌아가서, 실수 행렬 $A$에 대해서 $A$ X $A^T = I$를 만족하면서 $A^T$ X $A = I$을 만족하는 행렬 를 직교 행렬이라고 합니다. 그런데 역행렬의 정의를 다시 생각해보면, 결국 직교 행렬은 $A^{-1} = A^T$를 만족합니다."
   ]
  },
  {
   "cell_type": "markdown",
   "id": "df03551b",
   "metadata": {},
   "source": [
    "### 1.1.5 대각 행렬(Diagonal matrix)\n",
    "대각행렬(diagonal matrix)은 주대각선을 제외한 곳의 원소가 모두 0인 행렬을 말합니다. 아래의 그림에서는 주대각선의 원소를 $a$라고 표현하고 있습니다. 만약 대각 행렬 $Σ$가 3 × 3 행렬이라면, 다음과 같은 모양을 가집니다.\n",
    "\n",
    "$ Σ=\n",
    "\\left[\n",
    "    \\begin{array}{c}\n",
    "      a\\ \\ 0\\ \\ 0\\\\\n",
    "      0\\ \\ a\\ \\ 0\\\\\n",
    "      0\\ \\ 0\\ \\ a\\\\\n",
    "    \\end{array}\n",
    "  \\right] $\n",
    "  \n",
    "여기까진 정사각 행렬이기 때문에 직관적으로 이해가 쉽습니다. 그런데 정사각 행렬이 아니라 직사각 행렬이 될 경우를 잘 보아야 헷갈리지 않습니다. 만약 행의 크기가 열의 크기보다 크다면 다음과 같은 모양을 가집니다. 즉, m × n 행렬일 때, m > n인 경우입니다.\n",
    "\n",
    "$ Σ=\n",
    "\\left[\n",
    "    \\begin{array}{c}\n",
    "      a\\ \\ 0\\ \\ 0\\\\\n",
    "      0\\ \\ a\\ \\ 0\\\\\n",
    "      0\\ \\ 0\\ \\ a\\\\\n",
    "      0\\ \\ 0\\ \\ 0\\\\\n",
    "    \\end{array}\n",
    "  \\right] $\n",
    "  \n",
    "  \n",
    "반면 n > m인 경우에는 다음과 같은 모양을 가집니다.\n",
    "\n",
    "$ Σ=\n",
    "\\left[\n",
    "    \\begin{array}{c}\n",
    "      a\\ \\ 0\\ \\ 0\\ \\ 0\\\\\n",
    "      0\\ \\ a\\ \\ 0\\ \\ 0\\\\\n",
    "      0\\ \\ 0\\ \\ a\\ \\ 0\\\\\n",
    "    \\end{array}\n",
    "  \\right] $\n",
    "  \n",
    "  \n",
    "여기까지는 일반적인 대각 행렬에 대한 정의입니다. SVD를 통해 나온 대각 행렬 Σ는 추가적인 성질을 가지는데, 대각 행렬 $Σ$의 주대각원소를 행렬 $A$의 특이값(singular value)라고 하며, 이를 $\\sigma_{1}, \\sigma_{2} ... \\sigma_{r}$라고 표현한다고 하였을 때 특이값 $\\sigma_{1}, \\sigma_{2} ... \\sigma_{r}$은 내림차순으로 정렬되어 있다는 특징을 가집니다.\n",
    "\n",
    "아래의 그림은 특이값 12.4, 9.5, 1.3이 내림차순으로 정렬되어져 있는 모습을 보여줍니다.\n",
    "\n",
    "$ Σ=\n",
    "\\left[\n",
    "    \\begin{array}{c}\n",
    "      12.4\\ \\ 0\\ \\ 0\\\\\n",
    "      0\\ \\ 9.5\\ \\ 0\\\\\n",
    "      0\\ \\ 0\\ \\ 1.3\\\\\n",
    "    \\end{array}\n",
    "  \\right] $\n",
    "\n",
    "\n",
    "  "
   ]
  },
  {
   "cell_type": "markdown",
   "id": "cddb34f1",
   "metadata": {},
   "source": [
    "## 1.2 절단된 SVD(Truncated SVD)\n",
    "위에서 설명한 SVD를 풀 SVD(full SVD)라고 합니다. 하지만 LSA의 경우 풀 SVD에서 나온 3개의 행렬에서 일부 벡터들을 삭제시킨 절단된 SVD(truncated SVD)를 사용하게 됩니다. 그림을 통해 이해해보도록 하겠습니다.\n",
    "\n",
    "\n",
    "![python image2](https://wikidocs.net/images/page/24949/svd%EC%99%80truncatedsvd.PNG)\n",
    "\n",
    "\n",
    "절단된 SVD는 대각 행렬 Σ의 대각 원소의 값 중에서 상위값 t개만 남게 됩니다. 절단된 SVD를 수행하면 값의 손실이 일어나므로 기존의 행렬 A를 복구할 수 없습니다. 또한, U행렬과 V행렬의 t열까지만 남깁니다. 여기서 t는 우리가 찾고자하는 토픽의 수를 반영한 하이퍼파라미터값입니다. 하이퍼파라미터란 사용자가 직접 값을 선택하며 성능에 영향을 주는 매개변수를 말합니다. t를 선택하는 것은 쉽지 않은 일입니다. t를 크게 잡으면 기존의 행렬 A로부터 다양한 의미를 가져갈 수 있지만, t를 작게 잡아야만 노이즈를 제거할 수 있기 때문입니다.\n",
    "\n",
    "이렇게 일부 벡터들을 삭제하는 것을 데이터의 차원을 줄인다고도 말하는데, 데이터의 차원을 줄이게되면 당연히 풀 SVD를 하였을 때보다 직관적으로 계산 비용이 낮아지는 효과를 얻을 수 있습니다.\n",
    "\n",
    "하지만 계산 비용이 낮아지는 것 외에도 상대적으로 중요하지 않은 정보를 삭제하는 효과를 갖고 있는데, 이는 영상 처리 분야에서는 노이즈를 제거한다는 의미를 갖고 **자연어 처리 분야에서는 설명력이 낮은 정보를 삭제하고 설명력이 높은 정보를 남긴다는 의미**를 갖고 있습니다. 즉, 다시 말하면 **기존의 행렬에서는 드러나지 않았던 심층적인 의미를 확인할 수 있게 해줍니다.(= 잠재된 의미)**"
   ]
  },
  {
   "cell_type": "markdown",
   "id": "ec7114e4",
   "metadata": {},
   "source": [
    "## 1.3 잠재 의미 분석(Latent Semantic Analysis, LSA)\n",
    "기존의 DTM이나 DTM에 단어의 중요도에 따른 가중치를 주었던 TF-IDF 행렬은 단어의 의미를 전혀 고려하지 못한다는 단점을 갖고 있었습니다. LSA는 기본적으로 DTM이나 TF-IDF 행렬에 절단된 SVD(truncated SVD)를 사용하여 차원을 축소시키고, 단어들의 잠재적인 의미를 끌어낸다는 아이디어를 갖고 있습니다.\n",
    "\n",
    "실습을 통해서 이해해보도록 하겠습니다."
   ]
  },
  {
   "cell_type": "code",
   "execution_count": 1,
   "id": "b561ae83",
   "metadata": {
    "ExecuteTime": {
     "end_time": "2021-08-01T13:17:22.552681Z",
     "start_time": "2021-08-01T13:17:20.347487Z"
    }
   },
   "outputs": [
    {
     "data": {
      "text/html": [
       "<div>\n",
       "<style scoped>\n",
       "    .dataframe tbody tr th:only-of-type {\n",
       "        vertical-align: middle;\n",
       "    }\n",
       "\n",
       "    .dataframe tbody tr th {\n",
       "        vertical-align: top;\n",
       "    }\n",
       "\n",
       "    .dataframe thead th {\n",
       "        text-align: right;\n",
       "    }\n",
       "</style>\n",
       "<table border=\"1\" class=\"dataframe\">\n",
       "  <thead>\n",
       "    <tr style=\"text-align: right;\">\n",
       "      <th></th>\n",
       "      <th>과일이</th>\n",
       "      <th>길고</th>\n",
       "      <th>노란</th>\n",
       "      <th>먹고</th>\n",
       "      <th>바나나</th>\n",
       "      <th>사과</th>\n",
       "      <th>싶은</th>\n",
       "      <th>저는</th>\n",
       "      <th>좋아요</th>\n",
       "    </tr>\n",
       "  </thead>\n",
       "  <tbody>\n",
       "    <tr>\n",
       "      <th>문서1</th>\n",
       "      <td>0</td>\n",
       "      <td>0</td>\n",
       "      <td>0</td>\n",
       "      <td>1</td>\n",
       "      <td>0</td>\n",
       "      <td>1</td>\n",
       "      <td>1</td>\n",
       "      <td>0</td>\n",
       "      <td>0</td>\n",
       "    </tr>\n",
       "    <tr>\n",
       "      <th>문서2</th>\n",
       "      <td>0</td>\n",
       "      <td>0</td>\n",
       "      <td>0</td>\n",
       "      <td>1</td>\n",
       "      <td>1</td>\n",
       "      <td>0</td>\n",
       "      <td>1</td>\n",
       "      <td>0</td>\n",
       "      <td>0</td>\n",
       "    </tr>\n",
       "    <tr>\n",
       "      <th>문서3</th>\n",
       "      <td>0</td>\n",
       "      <td>1</td>\n",
       "      <td>1</td>\n",
       "      <td>0</td>\n",
       "      <td>2</td>\n",
       "      <td>0</td>\n",
       "      <td>0</td>\n",
       "      <td>0</td>\n",
       "      <td>0</td>\n",
       "    </tr>\n",
       "    <tr>\n",
       "      <th>문서4</th>\n",
       "      <td>1</td>\n",
       "      <td>0</td>\n",
       "      <td>0</td>\n",
       "      <td>0</td>\n",
       "      <td>0</td>\n",
       "      <td>0</td>\n",
       "      <td>0</td>\n",
       "      <td>1</td>\n",
       "      <td>1</td>\n",
       "    </tr>\n",
       "  </tbody>\n",
       "</table>\n",
       "</div>"
      ],
      "text/plain": [
       "     과일이  길고  노란  먹고  바나나  사과  싶은  저는  좋아요\n",
       "문서1    0   0   0   1    0   1   1   0    0\n",
       "문서2    0   0   0   1    1   0   1   0    0\n",
       "문서3    0   1   1   0    2   0   0   0    0\n",
       "문서4    1   0   0   0    0   0   0   1    1"
      ]
     },
     "execution_count": 1,
     "metadata": {},
     "output_type": "execute_result"
    }
   ],
   "source": [
    "import pandas as pd\n",
    "tmp = pd.DataFrame({\"문서1\":{\"과일이\":0\n",
    "                     ,\"길고\":0\n",
    "                     ,\"노란\":0\n",
    "                     ,\"먹고\":1\n",
    "                     ,\"바나나\":0\n",
    "                     ,\"사과\":1\n",
    "                     ,\"싶은\":1\n",
    "                     ,\"저는\":0\n",
    "                     ,\"좋아요\":0\n",
    "                    }\n",
    "            , \"문서2\":{\"과일이\":0\n",
    "                     ,\"길고\":0\n",
    "                     ,\"노란\":0\n",
    "                     ,\"먹고\":1\n",
    "                     ,\"바나나\":1\n",
    "                     ,\"사과\":0\n",
    "                     ,\"싶은\":1\n",
    "                     ,\"저는\":0\n",
    "                     ,\"좋아요\":0\n",
    "                    }\n",
    "           , \"문서3\":{\"과일이\":0\n",
    "                     ,\"길고\":1\n",
    "                     ,\"노란\":1\n",
    "                     ,\"먹고\":0\n",
    "                     ,\"바나나\":2\n",
    "                     ,\"사과\":0\n",
    "                     ,\"싶은\":0\n",
    "                     ,\"저는\":0\n",
    "                     ,\"좋아요\":0\n",
    "                    }\n",
    "          , \"문서4\":{\"과일이\":1\n",
    "                     ,\"길고\":0\n",
    "                     ,\"노란\":0\n",
    "                     ,\"먹고\":0\n",
    "                     ,\"바나나\":0\n",
    "                     ,\"사과\":0\n",
    "                     ,\"싶은\":0\n",
    "                     ,\"저는\":1\n",
    "                     ,\"좋아요\":1\n",
    "                    }}).transpose()\n",
    "\n",
    "tmp"
   ]
  },
  {
   "cell_type": "markdown",
   "id": "b8601589",
   "metadata": {},
   "source": [
    "위와 같은 DTM을 실제로 파이썬을 통해서 만들면 다음과 같습니다."
   ]
  },
  {
   "cell_type": "code",
   "execution_count": 5,
   "id": "4bc785bc",
   "metadata": {
    "ExecuteTime": {
     "end_time": "2021-08-01T13:18:16.345664Z",
     "start_time": "2021-08-01T13:18:16.324721Z"
    }
   },
   "outputs": [
    {
     "name": "stdout",
     "output_type": "stream",
     "text": [
      "(4, 9)\n",
      "   0  1  2  3  4  5  6  7  8\n",
      "0  0  0  0  1  0  1  1  0  0\n",
      "1  0  0  0  1  1  0  1  0  0\n",
      "2  0  1  1  0  2  0  0  0  0\n",
      "3  1  0  0  0  0  0  0  1  1\n"
     ]
    }
   ],
   "source": [
    "import numpy as np\n",
    "A=np.array([[0,0,0,1,0,1,1,0,0],[0,0,0,1,1,0,1,0,0],[0,1,1,0,2,0,0,0,0],[1,0,0,0,0,0,0,1,1]])\n",
    "print(np.shape(A))\n",
    "print(pd.DataFrame(A))\n"
   ]
  },
  {
   "cell_type": "markdown",
   "id": "f34f7d32",
   "metadata": {},
   "source": [
    "4 × 9의 크기를 가지는 DTM이 생성되었습니다. 이에 대해서 풀 SVD(full SVD)를 수행해보겠습니다. 단, 여기서는 대각 행렬의 변수명을 Σ가 아니라 S를 사용합니다. 또한 V의 전치 행렬을 VT라고 하겠습니다. \n",
    "\n"
   ]
  },
  {
   "cell_type": "code",
   "execution_count": 6,
   "id": "db7bc142",
   "metadata": {
    "ExecuteTime": {
     "end_time": "2021-08-01T13:19:24.469420Z",
     "start_time": "2021-08-01T13:19:24.451923Z"
    }
   },
   "outputs": [],
   "source": [
    "# A행렬(DTM)을 full 방식으로 SVD(U, S, VT)\n",
    "U, s, VT = np.linalg.svd(A, full_matrices = True)"
   ]
  },
  {
   "cell_type": "code",
   "execution_count": 9,
   "id": "207c8c4e",
   "metadata": {
    "ExecuteTime": {
     "end_time": "2021-08-01T13:20:08.420677Z",
     "start_time": "2021-08-01T13:20:08.412665Z"
    }
   },
   "outputs": [
    {
     "name": "stdout",
     "output_type": "stream",
     "text": [
      "[[-0.24  0.75  0.   -0.62]\n",
      " [-0.51  0.44 -0.    0.74]\n",
      " [-0.83 -0.49 -0.   -0.27]\n",
      " [-0.   -0.    1.    0.  ]]\n",
      "(4, 4)\n"
     ]
    }
   ],
   "source": [
    "print(U.round(2))\n",
    "print(np.shape(U))\n"
   ]
  },
  {
   "cell_type": "markdown",
   "id": "b1eb334b",
   "metadata": {},
   "source": [
    "4 × 4의 크기를 가지는 직교 행렬 U가 생성되었습니다. 이제 대각 행렬 S를 확인해봅시다.\n",
    "\n"
   ]
  },
  {
   "cell_type": "code",
   "execution_count": 10,
   "id": "81dc56df",
   "metadata": {
    "ExecuteTime": {
     "end_time": "2021-08-01T13:20:51.849175Z",
     "start_time": "2021-08-01T13:20:51.828230Z"
    }
   },
   "outputs": [
    {
     "name": "stdout",
     "output_type": "stream",
     "text": [
      "[2.69 2.05 1.73 0.77]\n"
     ]
    },
    {
     "data": {
      "text/plain": [
       "(4,)"
      ]
     },
     "execution_count": 10,
     "metadata": {},
     "output_type": "execute_result"
    }
   ],
   "source": [
    "print(s.round(2))\n",
    "np.shape(s)"
   ]
  },
  {
   "cell_type": "markdown",
   "id": "76068445",
   "metadata": {},
   "source": [
    "Numpy의 linalg.svd()는 **특이값 분해의 결과로 대각 행렬이 아니라 특이값의 리스트를 반환**합니다. 그러므로 앞서 본 수식의 형식으로 보려면 이를 다시 대각 행렬로 바꾸어 주어야 합니다. 우선 특이값을 s에 저장하고 대각 행렬 크기의 행렬을 생성한 후에 그 행렬에 특이값을 삽입해도록 하겠습니다.\n",
    "\n"
   ]
  },
  {
   "cell_type": "code",
   "execution_count": 11,
   "id": "2b6700c5",
   "metadata": {
    "ExecuteTime": {
     "end_time": "2021-08-01T13:21:47.828319Z",
     "start_time": "2021-08-01T13:21:47.806358Z"
    }
   },
   "outputs": [
    {
     "name": "stdout",
     "output_type": "stream",
     "text": [
      "[[2.69 0.   0.   0.   0.   0.   0.   0.   0.  ]\n",
      " [0.   2.05 0.   0.   0.   0.   0.   0.   0.  ]\n",
      " [0.   0.   1.73 0.   0.   0.   0.   0.   0.  ]\n",
      " [0.   0.   0.   0.77 0.   0.   0.   0.   0.  ]]\n"
     ]
    },
    {
     "data": {
      "text/plain": [
       "(4, 9)"
      ]
     },
     "execution_count": 11,
     "metadata": {},
     "output_type": "execute_result"
    }
   ],
   "source": [
    "S = np.zeros((4, 9)) # 대각 행렬의 크기인 4 x 9의 임의의 행렬 생성\n",
    "S[:4, :4] = np.diag(s) # 특이값을 대각행렬에 삽입\n",
    "print(S.round(2))\n",
    "np.shape(S)"
   ]
  },
  {
   "cell_type": "markdown",
   "id": "c8f0c24a",
   "metadata": {},
   "source": [
    "4 × 9의 크기를 가지는 대각 행렬 S가 생성되었습니다. 2.69 > 2.05 > 1.73 > 0.77 순으로 값이 내림차순을 보이는 것을 확인할 수 있습니다.\n",
    "\n"
   ]
  },
  {
   "cell_type": "code",
   "execution_count": 12,
   "id": "71d93f82",
   "metadata": {
    "ExecuteTime": {
     "end_time": "2021-08-01T13:22:42.799954Z",
     "start_time": "2021-08-01T13:22:42.788550Z"
    }
   },
   "outputs": [
    {
     "name": "stdout",
     "output_type": "stream",
     "text": [
      "[[-0.   -0.31 -0.31 -0.28 -0.8  -0.09 -0.28 -0.   -0.  ]\n",
      " [ 0.   -0.24 -0.24  0.58 -0.26  0.37  0.58 -0.   -0.  ]\n",
      " [ 0.58 -0.    0.    0.   -0.    0.   -0.    0.58  0.58]\n",
      " [ 0.   -0.35 -0.35  0.16  0.25 -0.8   0.16 -0.   -0.  ]\n",
      " [-0.   -0.78 -0.01 -0.2   0.4   0.4  -0.2   0.    0.  ]\n",
      " [-0.29  0.31 -0.78 -0.24  0.23  0.23  0.01  0.14  0.14]\n",
      " [-0.29 -0.1   0.26 -0.59 -0.08 -0.08  0.66  0.14  0.14]\n",
      " [-0.5  -0.06  0.15  0.24 -0.05 -0.05 -0.19  0.75 -0.25]\n",
      " [-0.5  -0.06  0.15  0.24 -0.05 -0.05 -0.19 -0.25  0.75]]\n"
     ]
    },
    {
     "data": {
      "text/plain": [
       "(9, 9)"
      ]
     },
     "execution_count": 12,
     "metadata": {},
     "output_type": "execute_result"
    }
   ],
   "source": [
    "print(VT.round(2))\n",
    "np.shape(VT)"
   ]
  },
  {
   "cell_type": "markdown",
   "id": "d5f18ec3",
   "metadata": {},
   "source": [
    "9 × 9의 크기를 가지는 직교 행렬 VT(V의 전치 행렬)가 생성되었습니다. 즉, U × S × VT를 하면 기존의 행렬 A가 나와야 합니다. Numpy의 allclose()는 2개의 행렬이 동일하면 True를 리턴합니다. 이를 사용하여 정말로 기존의 행렬 A와 동일한지 확인해보겠습니다.\n",
    "\n",
    "U.shape = 4, 4  \n",
    "S.shape = 4, 9  \n",
    "VT.shape = 9, 9\n",
    "\n"
   ]
  },
  {
   "cell_type": "code",
   "execution_count": 13,
   "id": "ea1f2b26",
   "metadata": {
    "ExecuteTime": {
     "end_time": "2021-08-01T13:24:07.168342Z",
     "start_time": "2021-08-01T13:24:07.149847Z"
    }
   },
   "outputs": [
    {
     "data": {
      "text/plain": [
       "True"
      ]
     },
     "execution_count": 13,
     "metadata": {},
     "output_type": "execute_result"
    }
   ],
   "source": [
    "np.allclose(A, np.dot(np.dot(U,S), VT).round(2))"
   ]
  },
  {
   "cell_type": "code",
   "execution_count": 18,
   "id": "cfed4170",
   "metadata": {
    "ExecuteTime": {
     "end_time": "2021-08-01T13:24:52.590592Z",
     "start_time": "2021-08-01T13:24:52.573881Z"
    }
   },
   "outputs": [
    {
     "data": {
      "text/plain": [
       "array([[0, 0, 0, 1, 0, 1, 1, 0, 0],\n",
       "       [0, 0, 0, 1, 1, 0, 1, 0, 0],\n",
       "       [0, 1, 1, 0, 2, 0, 0, 0, 0],\n",
       "       [1, 0, 0, 0, 0, 0, 0, 1, 1]])"
      ]
     },
     "execution_count": 18,
     "metadata": {},
     "output_type": "execute_result"
    }
   ],
   "source": [
    "A"
   ]
  },
  {
   "cell_type": "markdown",
   "id": "a48050ab",
   "metadata": {},
   "source": [
    "지금까지 수행한 것은 풀 SVD(Full SVD)입니다. 이제 t를 정하고, 절단된 SVD(Truncated SVD)를 수행해보도록 합시다. 여기서는 t=2로 하겠습니다. 우선 대각 행렬 S 내의 특이값 중에서 상위 2개만 남기고 제거해보도록 하겠습니다.\n",
    "\n"
   ]
  },
  {
   "cell_type": "code",
   "execution_count": 36,
   "id": "75c2be12",
   "metadata": {
    "ExecuteTime": {
     "end_time": "2021-08-01T13:27:35.325074Z",
     "start_time": "2021-08-01T13:27:35.317944Z"
    }
   },
   "outputs": [
    {
     "name": "stdout",
     "output_type": "stream",
     "text": [
      "[[2.69 0.  ]\n",
      " [0.   2.05]]\n"
     ]
    }
   ],
   "source": [
    "S=S[:2,:2]\n",
    "print(S.round(2))"
   ]
  },
  {
   "cell_type": "markdown",
   "id": "fb91b08c",
   "metadata": {},
   "source": [
    "상위 2개의 값만 남기고 나머지는 모두 제거된 것을 볼 수 있습니다. 이제 직교 행렬 U에 대해서도 2개의 열만 남기고 제거합니다.(asis 4 * 2)\n",
    "\n"
   ]
  },
  {
   "cell_type": "code",
   "execution_count": 37,
   "id": "adcac5fc",
   "metadata": {
    "ExecuteTime": {
     "end_time": "2021-08-01T13:27:54.320022Z",
     "start_time": "2021-08-01T13:27:54.307987Z"
    }
   },
   "outputs": [
    {
     "name": "stdout",
     "output_type": "stream",
     "text": [
      "[[-0.24  0.75]\n",
      " [-0.51  0.44]\n",
      " [-0.83 -0.49]\n",
      " [-0.   -0.  ]]\n"
     ]
    }
   ],
   "source": [
    "U=U[:,:2]\n",
    "print(U.round(2))"
   ]
  },
  {
   "cell_type": "markdown",
   "id": "f1fa9b67",
   "metadata": {},
   "source": [
    "2개의 열만 남기고 모두 제거가 된 것을 볼 수 있습니다. 이제 행렬 V의 전치 행렬인 VT에 대해서 2개의 행(= 2 * 9)만 남기고 제거합니다. 이는 V관점에서는 2개의 열만 남기고 제거한 것이 됩니다.(asis 4 * 9)\n",
    "\n"
   ]
  },
  {
   "cell_type": "code",
   "execution_count": 38,
   "id": "24a787d3",
   "metadata": {
    "ExecuteTime": {
     "end_time": "2021-08-01T13:28:49.423782Z",
     "start_time": "2021-08-01T13:28:49.406268Z"
    }
   },
   "outputs": [
    {
     "name": "stdout",
     "output_type": "stream",
     "text": [
      "[[-0.   -0.31 -0.31 -0.28 -0.8  -0.09 -0.28 -0.   -0.  ]\n",
      " [ 0.   -0.24 -0.24  0.58 -0.26  0.37  0.58 -0.   -0.  ]]\n"
     ]
    }
   ],
   "source": [
    "VT=VT[:2,:]\n",
    "print(VT.round(2))\n"
   ]
  },
  {
   "cell_type": "markdown",
   "id": "9f964e92",
   "metadata": {},
   "source": [
    "이제 축소된 행렬 U, S, VT에 대해서 다시 U × S × VT연산을 하면 기존의 A와는 다른 결과가 나오게 됩니다. **값이 손실되었기 때문에 이 세 개의 행렬로는 이제 기존의 A행렬을 복구할 수 없습니다.** U × S × VT연산을 해서 나오는 값을 A_prime이라 하고 기존의 행렬 A와 값을 비교해보도록 하겠습니다.\n",
    "\n"
   ]
  },
  {
   "cell_type": "code",
   "execution_count": 41,
   "id": "bd8d515b",
   "metadata": {
    "ExecuteTime": {
     "end_time": "2021-08-01T13:29:56.210134Z",
     "start_time": "2021-08-01T13:29:56.197149Z"
    }
   },
   "outputs": [
    {
     "name": "stdout",
     "output_type": "stream",
     "text": [
      "[[0 0 0 1 0 1 1 0 0]\n",
      " [0 0 0 1 1 0 1 0 0]\n",
      " [0 1 1 0 2 0 0 0 0]\n",
      " [1 0 0 0 0 0 0 1 1]]\n",
      "[[ 0.   -0.17 -0.17  1.08  0.12  0.62  1.08 -0.   -0.  ]\n",
      " [ 0.    0.2   0.2   0.91  0.86  0.45  0.91  0.    0.  ]\n",
      " [ 0.    0.93  0.93  0.03  2.05 -0.17  0.03  0.    0.  ]\n",
      " [ 0.    0.    0.    0.    0.   -0.    0.    0.    0.  ]]\n"
     ]
    }
   ],
   "source": [
    "A_prime=np.dot(np.dot(U,S), VT)\n",
    "print(A)\n",
    "print(A_prime.round(2))"
   ]
  },
  {
   "cell_type": "markdown",
   "id": "48d7f8cc",
   "metadata": {},
   "source": [
    "대체적으로 기존에 0인 값들은 0에 가가운 값이 나오고, 1인 값들은 1에 가까운 값이 나오는 것을 볼 수 있습니다. 또한 값이 제대로 복구되지 않은 구간도 존재해보입니다. 이제 이렇게 차원이 축소된 U, S, VT의 크기가 어떤 의미를 가지고 있는지 알아봅시다.\n",
    "\n",
    "축소된 U는 4 × 2의 크기를 가지는데, 이는 잘 생각해보면 **문서의 개수 × 토픽의 수 t의 크기**입니다. **단어의 개수인 9는 유지되지 않는데 문서의 개수인 4의 크기가 유지되었으니 4개의 문서 각각을 2개의 값으로 표현**하고 있습니다. 즉, **U의 각 행은 잠재 의미를 표현하기 위한 수치화 된 각각의 문서 벡터**라고 볼 수 있습니다. 축소된 VT는 2 × 9의 크기를 가지는데, 이는 잘 생각해보면 **토픽의 수 t × 단어의 개수의 크기**입니다. VT의 각 열은 **잠재 의미를 표현하기 위해 수치화된 각각의 단어 벡터**라고 볼 수 있습니다.\n",
    "\n",
    "이 문서 벡터들과 단어 벡터들을 통해 다른 문서의 유사도, 다른 단어의 유사도, 단어(쿼리)로부터 문서의 유사도를 구하는 것들이 가능해집니다."
   ]
  },
  {
   "cell_type": "markdown",
   "id": "52d81827",
   "metadata": {},
   "source": [
    "## 1.4 실습을 통한 이해\n",
    "사이킷런에서는 Twenty Newsgroups이라고 불리는 20개의 다른 주제를 가진 뉴스그룹 데이터를 제공합니다. 앞서 언급했듯이 LSA가 토픽 모델링에 최적화 된 알고리즘은 아니지만, 토픽 모델링이라는 분야의 시초가 되는 알고리즘입니다. 여기서는 LSA를 사용해서 문서의 수를 원하는 토픽의 수로 압축한 뒤에 각 토픽당 가장 중요한 단어 5개를 출력하는 실습으로 토픽 모델링을 수행합니다."
   ]
  },
  {
   "cell_type": "markdown",
   "id": "821796f9",
   "metadata": {},
   "source": [
    "### 1.4.1 뉴스그룹 데이터에 대한 이해"
   ]
  },
  {
   "cell_type": "code",
   "execution_count": 43,
   "id": "1088deff",
   "metadata": {
    "ExecuteTime": {
     "end_time": "2021-08-01T13:35:16.059467Z",
     "start_time": "2021-08-01T13:33:46.042726Z"
    }
   },
   "outputs": [
    {
     "data": {
      "text/plain": [
       "11314"
      ]
     },
     "execution_count": 43,
     "metadata": {},
     "output_type": "execute_result"
    }
   ],
   "source": [
    "import pandas as pd\n",
    "from sklearn.datasets import fetch_20newsgroups\n",
    "dataset = fetch_20newsgroups(shuffle=True, random_state=1, remove=('headers', 'footers', 'quotes'))\n",
    "documents = dataset.data\n",
    "len(documents)"
   ]
  },
  {
   "cell_type": "markdown",
   "id": "33ed9031",
   "metadata": {},
   "source": [
    "훈련에 사용할 뉴스그룹 데이터는 총 11,314개입니다. 이 중 첫번째 훈련용 샘플을 출력해보겠습니다.\n",
    "\n"
   ]
  },
  {
   "cell_type": "code",
   "execution_count": 48,
   "id": "8b0c21fc",
   "metadata": {
    "ExecuteTime": {
     "end_time": "2021-08-01T13:35:59.244457Z",
     "start_time": "2021-08-01T13:35:59.228841Z"
    }
   },
   "outputs": [
    {
     "data": {
      "text/plain": [
       "\"\\n\\n\\n\\n\\n\\n\\nYeah, do you expect people to read the FAQ, etc. and actually accept hard\\natheism?  No, you need a little leap of faith, Jimmy.  Your logic runs out\\nof steam!\\n\\n\\n\\n\\n\\n\\n\\nJim,\\n\\nSorry I can't pity you, Jim.  And I'm sorry that you have these feelings of\\ndenial about the faith you need to get by.  Oh well, just pretend that it will\\nall end happily ever after anyway.  Maybe if you start a new newsgroup,\\nalt.atheist.hard, you won't be bummin' so much?\\n\\n\\n\\n\\n\\n\\nBye-Bye, Big Jim.  Don't forget your Flintstone's Chewables!  :) \\n--\\nBake Timmons, III\""
      ]
     },
     "execution_count": 48,
     "metadata": {},
     "output_type": "execute_result"
    }
   ],
   "source": [
    "documents[1]"
   ]
  },
  {
   "cell_type": "markdown",
   "id": "1180cf90",
   "metadata": {},
   "source": [
    "뉴스그룹 데이터에는 특수문자가 포함된 다수의 영어문장으로 구성되어져 있습니다. 이런 형식의 샘플이 총 11,314개 존재합니다. 사이킷런이 제공하는 뉴스그룹 데이터에서 target_name에는 본래 이 뉴스그룹 데이터가 어떤 20개의 카테고리를 갖고있었는지가 저장되어져 있습니다. 이를 출력해보겠습니다."
   ]
  },
  {
   "cell_type": "code",
   "execution_count": 49,
   "id": "157a56b7",
   "metadata": {
    "ExecuteTime": {
     "end_time": "2021-08-01T13:36:39.586363Z",
     "start_time": "2021-08-01T13:36:39.572403Z"
    }
   },
   "outputs": [
    {
     "name": "stdout",
     "output_type": "stream",
     "text": [
      "['alt.atheism', 'comp.graphics', 'comp.os.ms-windows.misc', 'comp.sys.ibm.pc.hardware', 'comp.sys.mac.hardware', 'comp.windows.x', 'misc.forsale', 'rec.autos', 'rec.motorcycles', 'rec.sport.baseball', 'rec.sport.hockey', 'sci.crypt', 'sci.electronics', 'sci.med', 'sci.space', 'soc.religion.christian', 'talk.politics.guns', 'talk.politics.mideast', 'talk.politics.misc', 'talk.religion.misc']\n"
     ]
    }
   ],
   "source": [
    "print(dataset.target_names)"
   ]
  },
  {
   "cell_type": "markdown",
   "id": "76bff811",
   "metadata": {},
   "source": [
    "### 1.4.2 텍스트 전처리\n",
    "시작하기 앞서, 텍스트 데이터에 대해서 가능한한 정제 과정을 거쳐야만 합니다. 기본적인 아이디어는 알파벳을 제외한 구두점, 숫자, 특수 문자를 제거하는 것입니다. 이는 텍스트 전처리 챕터에서 정제 기법으로 배웠던 정규 표현식을 통해서 해결할 수 있습니다. 또한 짧은 단어는 유용한 정보를 담고있지 않다고 가정하고, 길이가 짧은 단어도 제거합니다. 그리고 마지막으로 모든 알파벳을 소문자로 바꿔서 단어의 개수를 줄이는 작업을 합니다."
   ]
  },
  {
   "cell_type": "code",
   "execution_count": 50,
   "id": "e1fdb8e7",
   "metadata": {
    "ExecuteTime": {
     "end_time": "2021-08-01T13:37:58.186828Z",
     "start_time": "2021-08-01T13:37:58.157775Z"
    }
   },
   "outputs": [],
   "source": [
    "news_df = pd.DataFrame({'document':documents})"
   ]
  },
  {
   "cell_type": "code",
   "execution_count": 62,
   "id": "bcb7b8ef",
   "metadata": {
    "ExecuteTime": {
     "end_time": "2021-08-01T13:40:27.474497Z",
     "start_time": "2021-08-01T13:40:26.108865Z"
    }
   },
   "outputs": [
    {
     "name": "stderr",
     "output_type": "stream",
     "text": [
      "<ipython-input-62-b4124dfb5e6a>:3: FutureWarning: The default value of regex will change from True to False in a future version.\n",
      "  news_df['clean_doc'] = news_df['document'].str.replace(\"[^a-zA-Z]\", \" \")\n"
     ]
    }
   ],
   "source": [
    "news_df = pd.DataFrame({'document':documents})\n",
    "# 특수 문자 제거\n",
    "news_df['clean_doc'] = news_df['document'].str.replace(\"[^a-zA-Z]\", \" \")\n",
    "# 길이가 3이하인 단어는 제거 (길이가 짧은 단어 제거)\n",
    "news_df['clean_doc'] = news_df['clean_doc'].apply(lambda x: ' '.join([w for w in x.split() if len(w)>3]))\n",
    "# 전체 단어에 대한 소문자 변환\n",
    "news_df['clean_doc'] = news_df['clean_doc'].apply(lambda x: x.lower())"
   ]
  },
  {
   "cell_type": "markdown",
   "id": "d30714f9",
   "metadata": {},
   "source": [
    "데이터의 정제가 끝났습니다. 다시 첫번째 훈련용 뉴스그룹 샘플만 출력하여 정제 전, 후에 어떤 차이가 있는지 확인해보겠습니다."
   ]
  },
  {
   "cell_type": "code",
   "execution_count": 65,
   "id": "93b87dea",
   "metadata": {
    "ExecuteTime": {
     "end_time": "2021-08-01T13:40:50.810653Z",
     "start_time": "2021-08-01T13:40:50.788522Z"
    }
   },
   "outputs": [
    {
     "data": {
      "text/html": [
       "<div>\n",
       "<style scoped>\n",
       "    .dataframe tbody tr th:only-of-type {\n",
       "        vertical-align: middle;\n",
       "    }\n",
       "\n",
       "    .dataframe tbody tr th {\n",
       "        vertical-align: top;\n",
       "    }\n",
       "\n",
       "    .dataframe thead th {\n",
       "        text-align: right;\n",
       "    }\n",
       "</style>\n",
       "<table border=\"1\" class=\"dataframe\">\n",
       "  <thead>\n",
       "    <tr style=\"text-align: right;\">\n",
       "      <th></th>\n",
       "      <th>document</th>\n",
       "      <th>clean_doc</th>\n",
       "    </tr>\n",
       "  </thead>\n",
       "  <tbody>\n",
       "    <tr>\n",
       "      <th>0</th>\n",
       "      <td>Well i'm not sure about the story nad it did s...</td>\n",
       "      <td>well sure about story seem biased what disagre...</td>\n",
       "    </tr>\n",
       "    <tr>\n",
       "      <th>1</th>\n",
       "      <td>\\n\\n\\n\\n\\n\\n\\nYeah, do you expect people to re...</td>\n",
       "      <td>yeah expect people read actually accept hard a...</td>\n",
       "    </tr>\n",
       "    <tr>\n",
       "      <th>2</th>\n",
       "      <td>Although I realize that principle is not one o...</td>\n",
       "      <td>although realize that principle your strongest...</td>\n",
       "    </tr>\n",
       "    <tr>\n",
       "      <th>3</th>\n",
       "      <td>Notwithstanding all the legitimate fuss about ...</td>\n",
       "      <td>notwithstanding legitimate fuss about this pro...</td>\n",
       "    </tr>\n",
       "    <tr>\n",
       "      <th>4</th>\n",
       "      <td>Well, I will have to change the scoring on my ...</td>\n",
       "      <td>well will have change scoring playoff pool unf...</td>\n",
       "    </tr>\n",
       "  </tbody>\n",
       "</table>\n",
       "</div>"
      ],
      "text/plain": [
       "                                            document  \\\n",
       "0  Well i'm not sure about the story nad it did s...   \n",
       "1  \\n\\n\\n\\n\\n\\n\\nYeah, do you expect people to re...   \n",
       "2  Although I realize that principle is not one o...   \n",
       "3  Notwithstanding all the legitimate fuss about ...   \n",
       "4  Well, I will have to change the scoring on my ...   \n",
       "\n",
       "                                           clean_doc  \n",
       "0  well sure about story seem biased what disagre...  \n",
       "1  yeah expect people read actually accept hard a...  \n",
       "2  although realize that principle your strongest...  \n",
       "3  notwithstanding legitimate fuss about this pro...  \n",
       "4  well will have change scoring playoff pool unf...  "
      ]
     },
     "execution_count": 65,
     "metadata": {},
     "output_type": "execute_result"
    }
   ],
   "source": [
    "news_df.head(5)"
   ]
  },
  {
   "cell_type": "markdown",
   "id": "cc4abde4",
   "metadata": {},
   "source": [
    "우선 특수문자가 제거되었으며, if나 you와 같은 길이가 3이하인 단어가 제거된 것을 확인할 수 있습니다. 뿐만 아니라 대문자가 전부 소문자로 바뀌었습니다. 이제 뉴스그룹 데이터에서 불용어를 제거합니다. 불용어를 제거하기 위해서 토큰화를 우선 수행합니다. 토큰화와 불용어 제거를 순차적으로 진행합니다.\n",
    "\n"
   ]
  },
  {
   "cell_type": "code",
   "execution_count": 66,
   "id": "e7488ae2",
   "metadata": {
    "ExecuteTime": {
     "end_time": "2021-08-01T13:41:50.340704Z",
     "start_time": "2021-08-01T13:41:46.646276Z"
    }
   },
   "outputs": [],
   "source": [
    "from nltk.corpus import stopwords\n",
    "stop_words = stopwords.words('english') # NLTK로부터 불용어를 받아옵니다.\n",
    "tokenized_doc = news_df['clean_doc'].apply(lambda x: x.split()) # 토큰화\n",
    "tokenized_doc = tokenized_doc.apply(lambda x: [item for item in x if item not in stop_words])\n",
    "# 불용어를 제거합니다."
   ]
  },
  {
   "cell_type": "markdown",
   "id": "9bc11b23",
   "metadata": {},
   "source": [
    "다시 첫번째 훈련용 뉴스그룹 샘플을 출력합니다.\n",
    "\n"
   ]
  },
  {
   "cell_type": "code",
   "execution_count": 67,
   "id": "8a9f6fe3",
   "metadata": {
    "ExecuteTime": {
     "end_time": "2021-08-01T13:41:55.798628Z",
     "start_time": "2021-08-01T13:41:55.790620Z"
    }
   },
   "outputs": [
    {
     "name": "stdout",
     "output_type": "stream",
     "text": [
      "['yeah', 'expect', 'people', 'read', 'actually', 'accept', 'hard', 'atheism', 'need', 'little', 'leap', 'faith', 'jimmy', 'logic', 'runs', 'steam', 'sorry', 'pity', 'sorry', 'feelings', 'denial', 'faith', 'need', 'well', 'pretend', 'happily', 'ever', 'anyway', 'maybe', 'start', 'newsgroup', 'atheist', 'hard', 'bummin', 'much', 'forget', 'flintstone', 'chewables', 'bake', 'timmons']\n"
     ]
    }
   ],
   "source": [
    "print(tokenized_doc[1])\n"
   ]
  },
  {
   "cell_type": "markdown",
   "id": "92ba1616",
   "metadata": {},
   "source": [
    "기존에 있었던 불용어에 속하던 your, about, just, that, will, after 단어들이 사라졌을 뿐만 아니라, 토큰화가 수행된 것을 확인할 수 있습니다.\n",
    "\n"
   ]
  },
  {
   "cell_type": "code",
   "execution_count": 74,
   "id": "23d6c64f",
   "metadata": {
    "ExecuteTime": {
     "end_time": "2021-08-01T13:43:08.548315Z",
     "start_time": "2021-08-01T13:43:08.541333Z"
    }
   },
   "outputs": [
    {
     "data": {
      "text/plain": [
       "'yeah expect people read actually accept hard atheism need little leap faith jimmy your logic runs steam sorry pity sorry that have these feelings denial about faith need well just pretend that will happily ever after anyway maybe start newsgroup atheist hard bummin much forget your flintstone chewables bake timmons'"
      ]
     },
     "execution_count": 74,
     "metadata": {},
     "output_type": "execute_result"
    }
   ],
   "source": [
    "# regex만 실행했던 결과\n",
    "news_df.clean_doc[1]"
   ]
  },
  {
   "cell_type": "markdown",
   "id": "d21561ee",
   "metadata": {},
   "source": [
    "### 1.4.3 TF-IDF 행렬 만들기\n",
    "불용어 제거를 위해 토큰화 작업을 수행하였지만, TfidfVectorizer(TF-IDF 챕터 참고)는 기본적으로 토큰화가 되어있지 않은 텍스트 데이터를 입력으로 사용합니다. 그렇기 때문에 TfidfVectorizer를 사용해서 TF-IDF 행렬을 만들기 위해서 다시 토큰화 작업을 역으로 취소하는 작업을 수행해보도록 하겠습니다. 이를 역토큰화(Detokenization)라고 합니다."
   ]
  },
  {
   "cell_type": "code",
   "execution_count": 75,
   "id": "41cf8d59",
   "metadata": {
    "ExecuteTime": {
     "end_time": "2021-08-01T13:44:54.910139Z",
     "start_time": "2021-08-01T13:44:54.807092Z"
    }
   },
   "outputs": [
    {
     "data": {
      "text/plain": [
       "'yeah expect people read actually accept hard atheism need little leap faith jimmy logic runs steam sorry pity sorry feelings denial faith need well pretend happily ever anyway maybe start newsgroup atheist hard bummin much forget flintstone chewables bake timmons'"
      ]
     },
     "execution_count": 75,
     "metadata": {},
     "output_type": "execute_result"
    }
   ],
   "source": [
    "# 역토큰화 (토큰화 작업을 역으로 되돌림)\n",
    "detokenized_doc = []\n",
    "for i in range(len(news_df)):\n",
    "    t = ' '.join(tokenized_doc[i])\n",
    "    detokenized_doc.append(t)\n",
    "\n",
    "news_df['clean_doc'] = detokenized_doc\n",
    "\n",
    "news_df[\"clean_doc\"][1]"
   ]
  },
  {
   "cell_type": "markdown",
   "id": "c60d4e5f",
   "metadata": {},
   "source": [
    "정상적으로 불용어가 제거된 상태에서 역토큰화가 수행되었음을 확인할 수 있습니다.\n",
    "\n",
    "이제 사이킷런의 TfidfVectorizer를 통해 단어 1,000개에 대한 TF-IDF 행렬을 만들 것입니다. 물론 텍스트 데이터에 있는 모든 단어를 가지고 행렬을 만들 수는 있겠지만, 여기서는 1,000개의 단어로 제한하도록 하겠습니다."
   ]
  },
  {
   "cell_type": "code",
   "execution_count": 76,
   "id": "fa042ce1",
   "metadata": {
    "ExecuteTime": {
     "end_time": "2021-08-01T13:45:41.674048Z",
     "start_time": "2021-08-01T13:45:40.582450Z"
    }
   },
   "outputs": [
    {
     "data": {
      "text/plain": [
       "(11314, 1000)"
      ]
     },
     "execution_count": 76,
     "metadata": {},
     "output_type": "execute_result"
    }
   ],
   "source": [
    "from sklearn.feature_extraction.text import TfidfVectorizer\n",
    "\n",
    "vectorizer = TfidfVectorizer(stop_words='english', \n",
    "max_features= 1000, # 상위 1,000개의 단어를 보존 \n",
    "max_df = 0.5, \n",
    "smooth_idf=True)\n",
    "\n",
    "X = vectorizer.fit_transform(news_df['clean_doc'])\n",
    "X.shape # TF-IDF 행렬의 크기 확인"
   ]
  },
  {
   "cell_type": "markdown",
   "id": "767853d1",
   "metadata": {},
   "source": [
    "11,314 × 1,000의 크기를 가진 TF-IDF 행렬이 생성되었음을 확인할 수 있습니다.\n",
    "\n"
   ]
  },
  {
   "cell_type": "markdown",
   "id": "14dff094",
   "metadata": {},
   "source": [
    "### 1.4.4 토픽 모델링(Topic Modeling)\n",
    "이제 TF-IDF 행렬을 다수의 행렬로 분해해보도록 하겠습니다. 여기서는 사이킷런의 절단된 SVD(Truncated SVD)를 사용합니다. 절단된 SVD를 사용하면 차원을 축소할 수 있습니다. 원래 기존 뉴스그룹 데이터가 20개의 카테고리를 갖고있었기 때문에, 20개의 토픽을 가졌다고 가정하고 토픽 모델링을 시도해보겠습니다. 토픽의 숫자는 n_components의 파라미터로 지정이 가능합니다."
   ]
  },
  {
   "cell_type": "code",
   "execution_count": 79,
   "id": "3cb40600",
   "metadata": {
    "ExecuteTime": {
     "end_time": "2021-08-01T13:48:37.416155Z",
     "start_time": "2021-08-01T13:48:35.646864Z"
    }
   },
   "outputs": [
    {
     "data": {
      "text/plain": [
       "20"
      ]
     },
     "execution_count": 79,
     "metadata": {},
     "output_type": "execute_result"
    }
   ],
   "source": [
    "from sklearn.decomposition import TruncatedSVD\n",
    "svd_model = TruncatedSVD(n_components=20, algorithm='randomized', n_iter=100, random_state=122)\n",
    "svd_model.fit(X)\n",
    "len(svd_model.components_)"
   ]
  },
  {
   "cell_type": "markdown",
   "id": "c23c7e53",
   "metadata": {},
   "source": [
    "여기서 svd_model.componets_는 앞서 배운 LSA에서 VT에 해당됩니다.\n",
    "\n"
   ]
  },
  {
   "cell_type": "code",
   "execution_count": 80,
   "id": "25e63985",
   "metadata": {
    "ExecuteTime": {
     "end_time": "2021-08-01T13:48:56.578654Z",
     "start_time": "2021-08-01T13:48:56.565938Z"
    }
   },
   "outputs": [
    {
     "data": {
      "text/plain": [
       "(20, 1000)"
      ]
     },
     "execution_count": 80,
     "metadata": {},
     "output_type": "execute_result"
    }
   ],
   "source": [
    "np.shape(svd_model.components_)\n"
   ]
  },
  {
   "cell_type": "markdown",
   "id": "ebd6102e",
   "metadata": {},
   "source": [
    "정확하게 토픽의 수 t × 단어의 수의 크기를 가지는 것을 볼 수 있습니다.\n",
    "\n"
   ]
  },
  {
   "cell_type": "code",
   "execution_count": 88,
   "id": "dc0e6fe4",
   "metadata": {
    "ExecuteTime": {
     "end_time": "2021-08-01T13:54:24.468529Z",
     "start_time": "2021-08-01T13:54:24.438087Z"
    }
   },
   "outputs": [
    {
     "name": "stdout",
     "output_type": "stream",
     "text": [
      "Topic 1: [('like', 0.21386), ('know', 0.20046), ('people', 0.19293), ('think', 0.17805), ('good', 0.15128)]\n",
      "Topic 2: [('thanks', 0.32888), ('windows', 0.29088), ('card', 0.18069), ('drive', 0.17455), ('mail', 0.15111)]\n",
      "Topic 3: [('game', 0.37064), ('team', 0.32443), ('year', 0.28154), ('games', 0.2537), ('season', 0.18419)]\n",
      "Topic 4: [('drive', 0.53324), ('scsi', 0.20165), ('hard', 0.15628), ('disk', 0.15578), ('card', 0.13994)]\n",
      "Topic 5: [('windows', 0.40399), ('file', 0.25436), ('window', 0.18044), ('files', 0.16078), ('program', 0.13894)]\n",
      "Topic 6: [('chip', 0.16114), ('government', 0.16009), ('mail', 0.15625), ('space', 0.1507), ('information', 0.13562)]\n",
      "Topic 7: [('like', 0.67086), ('bike', 0.14236), ('chip', 0.11169), ('know', 0.11139), ('sounds', 0.10371)]\n",
      "Topic 8: [('card', 0.46633), ('video', 0.22137), ('sale', 0.21266), ('monitor', 0.15463), ('offer', 0.14643)]\n",
      "Topic 9: [('know', 0.46047), ('card', 0.33605), ('chip', 0.17558), ('government', 0.1522), ('video', 0.14356)]\n",
      "Topic 10: [('good', 0.42756), ('know', 0.23039), ('time', 0.1882), ('bike', 0.11406), ('jesus', 0.09027)]\n",
      "Topic 11: [('think', 0.78469), ('chip', 0.10899), ('good', 0.10635), ('thanks', 0.09123), ('clipper', 0.07946)]\n",
      "Topic 12: [('thanks', 0.36824), ('good', 0.22729), ('right', 0.21559), ('bike', 0.21037), ('problem', 0.20894)]\n",
      "Topic 13: [('good', 0.36212), ('people', 0.33985), ('windows', 0.28385), ('know', 0.26232), ('file', 0.18422)]\n",
      "Topic 14: [('space', 0.39946), ('think', 0.23258), ('know', 0.18074), ('nasa', 0.15174), ('problem', 0.12957)]\n",
      "Topic 15: [('space', 0.31613), ('good', 0.3094), ('card', 0.22603), ('people', 0.17476), ('time', 0.14496)]\n",
      "Topic 16: [('people', 0.48156), ('problem', 0.19961), ('window', 0.15281), ('time', 0.14664), ('game', 0.12871)]\n",
      "Topic 17: [('time', 0.34465), ('bike', 0.27303), ('right', 0.25557), ('windows', 0.1997), ('file', 0.19118)]\n",
      "Topic 18: [('time', 0.5973), ('problem', 0.15504), ('file', 0.14956), ('think', 0.12847), ('israel', 0.10903)]\n",
      "Topic 19: [('file', 0.44163), ('need', 0.26633), ('card', 0.18388), ('files', 0.17453), ('right', 0.15448)]\n",
      "Topic 20: [('problem', 0.33006), ('file', 0.27651), ('thanks', 0.23578), ('used', 0.19206), ('space', 0.13185)]\n"
     ]
    }
   ],
   "source": [
    "terms = vectorizer.get_feature_names() # 단어 집합. 1,000개의 단어가 저장됨.\n",
    "\n",
    "def get_topics(components, feature_names, n=5):\n",
    "    for idx, topic in enumerate(components):\n",
    "        print(\"Topic %d:\" % (idx+1), [(feature_names[i], topic[i].round(5)) for i in topic.argsort()[:-n - 1:-1]])\n",
    "get_topics(svd_model.components_,terms)"
   ]
  },
  {
   "cell_type": "markdown",
   "id": "8a74564a",
   "metadata": {},
   "source": [
    "## 1.5 LSA의 장단점(Pros and Cons of LSA)\n",
    "정리해보면 LSA는 쉽고 빠르게 구현이 가능할 뿐만 아니라 단어의 잠재적인 의미를 이끌어낼 수 있어 문서의 유사도 계산 등에서 좋은 성능을 보여준다는 장점을 갖고 있습니다. 하지만 SVD의 특성상 이미 계산된 LSA에 새로운 데이터를 추가하여 계산하려고하면 보통 처음부터 다시 계산해야 합니다. 즉, 새로운 정보에 대해 업데이트가 어렵습니다.(=본래의 A행렬에 행이나 열이 추가되면 SVD의 결과 역시 달라질 수 밖에 없으니)  이는 최근 LSA 대신 Word2Vec 등 단어의 의미를 벡터화할 수 있는 또 다른 방법론인 인공 신경망 기반의 방법론이 각광받는 이유이기도 합니다.\n",
    "\n"
   ]
  },
  {
   "cell_type": "markdown",
   "id": "9a339bbe",
   "metadata": {},
   "source": [
    "https://sragent.tistory.com/entry/Latent-Semantic-AnalysisLSA  \n",
    "https://bskyvision.com/251  \n",
    "https://simonpaarlberg.com/post/latent-semantic-analyses/  \n",
    "  \n",
    "LSA로 텍스트 분류하기 :  \n",
    "https://seantrottcom.wordpress.com/2018/08/20/tutorial-document-classification-with-latent-semantic-analysis-lsa/"
   ]
  },
  {
   "cell_type": "markdown",
   "id": "8e188f60",
   "metadata": {},
   "source": [
    "# 2. 잠재 디리클레 할당(Latent Dirichlet Allocation, LDA)\n",
    "토픽 모델링은 문서의 집합에서 토픽을 찾아내는 프로세스를 말합니다. 이는 검색 엔진, 고객 민원 시스템 등과 같이 문서의 주제를 알아내는 일이 중요한 곳에서 사용됩니다. 잠재 디리클레 할당(Latent Dirichlet Allocation, LDA)은 토픽 모델링의 대표적인 알고리즘입니다. 줄여서 LDA라고 합니다.\n",
    "\n",
    "LDA는 문서들은 토픽들의 혼합으로 구성되어져 있으며, 토픽들은 확률 분포에 기반하여 단어들을 생성한다고 가정합니다. 데이터가 주어지면, LDA는 문서가 생성되던 과정을 역추적합니다.\n",
    "\n",
    "참고 링크 : https://lettier.com/projects/lda-topic-modeling/\n",
    "\n",
    "위의 사이트는 코드 작성 없이 입력한 문서들로부터 DTM을 만들고 LDA를 수행한 결과를 보여주는 웹 사이트입니다."
   ]
  },
  {
   "cell_type": "markdown",
   "id": "a2607297",
   "metadata": {},
   "source": [
    "## 2.1 잠재 디리클레 할당(Latent Dirichlet Allocation, LDA) 개요\n",
    "우선 LDA의 내부 메커니즘에 대해서 이해하기 전에, LDA를 일종의 블랙 박스로 보고 LDA에 문서 집합을 입력하면, 어떤 결과를 보여주는지 간소화 된 예를 들어 보겠습니다. 아래와 같은 3개의 문서가 있다고 합시다. 지금의 예제는 간단해서 눈으로도 토픽 모델링을 할 수 있을 것 같지만, 실제 수십만개 이상의 문서가 있는 경우는 직접 토픽을 찾아내는 것이 어렵기 때문에 LDA의 도움이 필요합니다.\n",
    "\n",
    "**문서1 : 저는 사과랑 바나나를 먹어요  \n",
    "문서2 : 우리는 귀여운 강아지가 좋아요  \n",
    "문서3 : 저의 깜찍하고 귀여운 강아지가 바나나를 먹어요**\n",
    "\n",
    "LDA를 수행할 때 문서 집합에서 토픽이 몇 개가 존재할지 가정하는 것은 사용자가 해야 할 일입니다. 여기서는 LDA에 2개의 토픽을 찾으라고 요청하겠습니다. 토픽의 개수를 의미하는 변수를 k라고 하였을 때, k를 2로 한다는 의미입니다. k의 값을 잘못 선택하면 원치않는 이상한 결과가 나올 수 있습니다. 이렇게 **모델의 성능에 영향을 주는 사용자가 직접 선택하는 매개변수를 머신 러닝 용어로 하이퍼파라미터**라고 합니다. 이러한 하이퍼파라미터의 선택은 여러 실험을 통해 얻은 값일 수도 있고, 우선 시도해보는 값일 수도 있습니다.\n",
    "\n",
    "LDA가 위의 세 문서로부터 2개의 토픽을 찾은 결과는 아래와 같습니다. 여기서는 LDA 입력 전에 주어와 불필요한 조사 등을 제거하는 전처리 과정은 거쳤다고 가정합니다. 즉, **전처리 과정을 거친 DTM이 LDA의 입력이 되었다고 가정**합니다.\n",
    "\n",
    "LDA는 각 문서의 토픽 분포와 각 토픽 내의 단어 분포를 추정합니다.\n",
    "\n",
    "**<각 문서의 토픽 분포>**  \n",
    "문서1 : 토픽 A 100%  \n",
    "문서2 : 토픽 B 100%  \n",
    "문서3 : 토픽 B 60%, 토픽 A 40%\n",
    "  \n",
    "**<각 토픽의 단어 분포>**  \n",
    "토픽A : 사과 20%, 바나나 40%, 먹어요 40%, 귀여운 0%, 강아지 0%, 깜찍하고 0%, 좋아요 0%  \n",
    "토픽B : 사과 0%, 바나나 0%, 먹어요 0%, 귀여운 33%, 강아지 33%, 깜찍하고 16%, 좋아요 16%  \n",
    "\n",
    "LDA는 토픽의 제목을 정해주지 않지만, 이 시점에서 알고리즘의 사용자는 위 결과로부터 두 토픽이 각각 과일에 대한 토픽과 강아지에 대한 토픽이라고 판단해볼 수 있습니다. 이제 LDA에 대해서 알아봅시다. 실제로 LDA는 아래의 설명보다 훨씬 더 복잡하지만, 여기서는 수학적인 수식은 배제하고 개념적 이해에 초점을 둡니다."
   ]
  },
  {
   "cell_type": "markdown",
   "id": "f176da8f",
   "metadata": {},
   "source": [
    "## 2.2 LDA의 가정\n",
    "LDA는 문서의 집합으로부터 어떤 토픽이 존재하는지를 알아내기 위한 알고리즘입니다. LDA는 앞서 배운 빈도수 기반의 표현 방법인 BoW의 행렬 **DTM 또는 TF-IDF 행렬을 입력**으로 하는데, 이로부터 알 수 있는 사실은 **LDA는 단어의 순서는 신경쓰지 않겠다**는 겁니다.\n",
    "\n",
    "LDA는 문서들로부터 토픽을 뽑아내기 위해서 이러한 가정을 염두해두고 있습니다. 모든 문서 하나, 하나가 작성될 때 그 문서의 작성자는 이러한 생각을 했습니다. '나는 이 문서를 작성하기 위해서 이런 주제들을 넣을거고, 이런 주제들을 위해서는 이런 단어들을 넣을 거야.' 조금 더 구체적으로 알아보겠습니다. 각각의 문서는 다음과 같은 과정을 거쳐서 작성되었다고 가정합니다.\n",
    "\n",
    "1) 문서에 사용할 단어의 개수 N을 정합니다.  \n",
    "     - Ex) 5개의 단어를 정하였습니다.  \n",
    "2) 문서에 사용할 토픽의 혼합을 확률 분포에 기반하여 결정합니다.  \n",
    "     - Ex) 위 예제와 같이 토픽이 2개라고 하였을 때 강아지 토픽을 60%, 과일 토픽을 40%와 같이 선택할 수 있습니다.  \n",
    "3) 문서에 사용할 각 단어를 (아래와 같이) 정합니다.\n",
    "- 3-1) 토픽 분포에서 토픽 T를 확률적으로 고릅니다. \n",
    "    - Ex) 60% 확률로 강아지 토픽을 선택하고, 40% 확률로 과일 토픽을 선택할 수 있습니다.  \n",
    "- 3-2) 선택한 토픽 T에서 단어의 출현 확률 분포에 기반해 문서에 사용할 단어를 고릅니다.  \n",
    "    - Ex) 강아지 토픽을 선택하였다면, 33% 확률로 강아지란 단어를 선택할 수 있습니다. 이제 3)을 반복하면서 문서를 완성합니다.  \n",
    "\n",
    "이러한 과정을 통해 문서가 작성되었다는 가정 하에 LDA는 토픽을 뽑아내기 위하여 위 과정을 역으로 추적하는 역공학(reverse engneering)을 수행합니다."
   ]
  },
  {
   "cell_type": "markdown",
   "id": "2aff2c34",
   "metadata": {},
   "source": [
    "## 2.3 LDA의 수행하기\n",
    "이제 LDA의 수행 과정을 정리해보겠습니다.\n",
    "\n",
    "1) 사용자는 알고리즘에게 토픽의 개수 k를 알려줍니다.  \n",
    "앞서 말하였듯이 LDA에게 토픽의 개수를 알려주는 역할은 사용자의 역할입니다. LDA는 토픽의 개수 k를 입력받으면, k개의 토픽이 M개의 전체 문서에 걸쳐 분포되어 있다고 가정합니다.  \n",
    "\n",
    "2) 모든 단어를 k개 중 하나의 토픽에 할당합니다.  \n",
    "이제 LDA는 모든 문서의 모든 단어에 대해서 k개 중 하나의 토픽을 랜덤으로 할당합니다. 이 작업이 끝나면 각 문서는 토픽을 가지며, 토픽은 단어 분포를 가지는 상태입니다. 물론 랜덤으로 할당하였기 때문에 사실 이 결과는 전부 틀린 상태입니다. 만약 한 단어가 한 문서에서 2회 이상 등장하였다면, 각 단어는 서로 다른 토픽에 할당되었을 수도 있습니다.  \n",
    "\n",
    "3) 이제 모든 문서의 모든 단어에 대해서 아래의 사항을 반복 진행합니다. (iterative)  \n",
    "\n",
    "- 3-1) 어떤 문서의 각 단어 w는 자신은 잘못된 토픽에 할당되어져 있지만, 다른 단어들은 전부 올바른 토픽에 할당되어져 있는 상태라고 가정합니다. 이에 따라 단어 w는 아래의 두 가지 기준에 따라서 토픽이 재할당됩니다.\n",
    "    - p(topic t | document d) : 문서 d의 단어들 중 토픽 t에 해당하는 단어들의 비율\n",
    "    - p(word w | topic t) : 각 토픽들 t에서 해당 단어 w의 분포\n",
    "\n",
    "이를 반복하면, 모든 할당이 완료된 수렴 상태가 됩니다. 두 가지 기준이 어떤 의미인지 예를 들어보겠습니다. 설명의 편의를 위해서 두 개의 문서라는 새로운 예를 사용합니다."
   ]
  },
  {
   "cell_type": "markdown",
   "id": "f78f021a",
   "metadata": {},
   "source": [
    "![python image2](https://wikidocs.net/images/page/30708/lda1.PNG)"
   ]
  },
  {
   "cell_type": "markdown",
   "id": "7076a9c9",
   "metadata": {},
   "source": [
    "위의 그림은 두 개의 문서 doc1과 doc2를 보여줍니다. 여기서는 doc1의 세번째 단어 apple의 토픽을 결정하고자 합니다.\n",
    "\n"
   ]
  },
  {
   "cell_type": "markdown",
   "id": "4b505134",
   "metadata": {},
   "source": [
    "![python image2](https://wikidocs.net/images/page/30708/lda3.PNG)"
   ]
  },
  {
   "cell_type": "markdown",
   "id": "9ffe775b",
   "metadata": {},
   "source": [
    "우선 첫번째로 사용하는 기준은 문서 doc1의 단어들이 어떤 토픽에 해당하는지를 봅니다. doc1의 모든 단어들은 토픽 A와 토픽 B에 50 대 50의 비율로 할당되어져 있으므로, 이 기준에 따르면 단어 apple은 토픽 A 또는 토픽 B 둘 중 어디에도 속할 가능성이 있습니다.\n",
    "\n"
   ]
  },
  {
   "cell_type": "markdown",
   "id": "83774fb2",
   "metadata": {},
   "source": [
    "![python image2](https://wikidocs.net/images/page/30708/lda2.PNG)"
   ]
  },
  {
   "cell_type": "markdown",
   "id": "e2787374",
   "metadata": {},
   "source": [
    "두번째 기준은 단어 apple이 전체 문서에서 어떤 토픽에 할당되어져 있는지를 봅니다. 이 기준에 따르면 단어 apple은 토픽 B에 할당될 가능성이 높습니다. 이러한 두 가지 기준을 참고하여 LDA는 doc1의 apple을 어떤 토픽에 할당할지 결정합니다.\n",
    "\n"
   ]
  },
  {
   "cell_type": "markdown",
   "id": "d13d0c07",
   "metadata": {},
   "source": [
    "## 2.4 잠재 디리클레 할당과 잠재 의미 분석의 차이\n",
    "LSA : DTM을 차원 축소 하여 축소 차원에서 근접 단어들을 토픽으로 묶는다.  \n",
    "LDA : 단어가 특정 토픽에 존재할 확률과 문서에 특정 토픽이 존재할 확률을 결합확률로 추정하여 토픽을 추출한다."
   ]
  },
  {
   "cell_type": "markdown",
   "id": "9fed70af",
   "metadata": {},
   "source": [
    "## 2.5 실습을 통한 이해\n",
    "이제 LDA를 실습을 통해 직접 진행해보도록 하겠습니다. LSA 챕터에서는 사이킷런(sklearn)을 사용하였지만, 이번 챕터에서는 gensim을 사용하므로 앞서 챕터와 실습 과정이 확연히 다릅니다. 사이킷런을 통해 LDA를 진행하는 실습은 아래의 링크에 작성하였습니다. 아래의 링크에서는 LSA 챕터의 실습과 진행 과정이 거의 유사하니 참고하시기 바랍니다.\n",
    "\n",
    "사이킷런으로 LDA 실습 : https://wikidocs.net/40710"
   ]
  },
  {
   "cell_type": "markdown",
   "id": "e166793f",
   "metadata": {},
   "source": [
    "### 2.5.1 정수 인코딩과 단어 집합 만들기\n",
    "바로 이전 챕터인 LSA 챕터에서 사용하였던 Twenty Newsgroups이라고 불리는 20개의 다른 주제를 가진 뉴스 데이터를 다시 사용합니다. 전처리 과정은 이전 챕터와 중복되므로 생략합니다. 동일한 전처리 과정을 거친 후에 tokenized_doc으로 저장한 상태라고 합시다. 훈련용 뉴스를 5개만 출력해보겠습니다."
   ]
  },
  {
   "cell_type": "code",
   "execution_count": 90,
   "id": "2bdc7f25",
   "metadata": {
    "ExecuteTime": {
     "end_time": "2021-08-01T14:17:21.604555Z",
     "start_time": "2021-08-01T14:17:21.591556Z"
    }
   },
   "outputs": [
    {
     "data": {
      "text/plain": [
       "0    [well, sure, story, seem, biased, disagree, st...\n",
       "1    [yeah, expect, people, read, actually, accept,...\n",
       "2    [although, realize, principle, strongest, poin...\n",
       "3    [notwithstanding, legitimate, fuss, proposal, ...\n",
       "4    [well, change, scoring, playoff, pool, unfortu...\n",
       "Name: clean_doc, dtype: object"
      ]
     },
     "execution_count": 90,
     "metadata": {},
     "output_type": "execute_result"
    }
   ],
   "source": [
    "tokenized_doc[:5]\n"
   ]
  },
  {
   "cell_type": "markdown",
   "id": "f3e2181a",
   "metadata": {},
   "source": [
    "이제 각 단어에 정수 인코딩을 하는 동시에, 각 뉴스에서의 단어의 빈도수를 기록해보겠습니다. 여기서는 각 단어를 (word_id, word_frequency)의 형태로 바꾸고자 합니다. word_id는 단어가 정수 인코딩된 값이고, word_frequency는 해당 뉴스에서의 해당 단어의 빈도수를 의미합니다. 이는 gensim의 corpora.Dictionary()를 사용하여 손쉽게 구할 수 있습니다. 전체 뉴스에 대해서 정수 인코딩을 수행하고, 두번째 뉴스를 출력해봅시다.\n",
    "\n"
   ]
  },
  {
   "cell_type": "code",
   "execution_count": 92,
   "id": "e0d9f210",
   "metadata": {
    "ExecuteTime": {
     "end_time": "2021-08-01T14:24:09.433358Z",
     "start_time": "2021-08-01T14:24:07.842972Z"
    }
   },
   "outputs": [
    {
     "name": "stdout",
     "output_type": "stream",
     "text": [
      "[(52, 1), (55, 1), (56, 1), (57, 1), (58, 1), (59, 1), (60, 1), (61, 1), (62, 1), (63, 1), (64, 1), (65, 1), (66, 2), (67, 1), (68, 1), (69, 1), (70, 1), (71, 2), (72, 1), (73, 1), (74, 1), (75, 1), (76, 1), (77, 1), (78, 2), (79, 1), (80, 1), (81, 1), (82, 1), (83, 1), (84, 1), (85, 2), (86, 1), (87, 1), (88, 1), (89, 1)]\n"
     ]
    }
   ],
   "source": [
    "from gensim import corpora\n",
    "dictionary = corpora.Dictionary(tokenized_doc)\n",
    "corpus = [dictionary.doc2bow(text) for text in tokenized_doc]\n",
    "print(corpus[1]) # 수행된 결과에서 두번째 뉴스 출력. 첫번째 문서의 인덱스는 0"
   ]
  },
  {
   "cell_type": "markdown",
   "id": "d87f4414",
   "metadata": {},
   "source": [
    "두번째 뉴스의 출력 결과를 봅시다. 위의 출력 결과 중에서 (66, 2)는 정수 인코딩이 66으로 할당된 단어가 두번째 뉴스에서는 두 번 등장하였음을 의미합니다. 66이라는 값을 가지는 단어가 정수 인코딩이 되기 전에는 어떤 단어였는지 확인하여봅시다. 이는 dictionary[]에 기존 단어가 무엇인지 알고자하는 정수값을 입력하여 확인할 수 있습니다."
   ]
  },
  {
   "cell_type": "code",
   "execution_count": 93,
   "id": "7003841a",
   "metadata": {
    "ExecuteTime": {
     "end_time": "2021-08-01T14:24:35.188706Z",
     "start_time": "2021-08-01T14:24:35.157728Z"
    }
   },
   "outputs": [
    {
     "name": "stdout",
     "output_type": "stream",
     "text": [
      "faith\n"
     ]
    }
   ],
   "source": [
    "print(dictionary[66])\n"
   ]
  },
  {
   "cell_type": "markdown",
   "id": "52fd3010",
   "metadata": {},
   "source": [
    "기존에는 단어 'faith'이었음을 알 수 있습니다. 총 학습된 단어의 개수를 확인해보겠습니다. 이는 dictionary의 길이를 확인하면 됩니다.\n",
    "\n"
   ]
  },
  {
   "cell_type": "code",
   "execution_count": 95,
   "id": "6b87e1bd",
   "metadata": {
    "ExecuteTime": {
     "end_time": "2021-08-01T14:26:00.858672Z",
     "start_time": "2021-08-01T14:26:00.845684Z"
    }
   },
   "outputs": [
    {
     "data": {
      "text/plain": [
       "64281"
      ]
     },
     "execution_count": 95,
     "metadata": {},
     "output_type": "execute_result"
    }
   ],
   "source": [
    "len(dictionary)\n"
   ]
  },
  {
   "cell_type": "markdown",
   "id": "e62be15f",
   "metadata": {},
   "source": [
    "### 2.5.2 LDA 모델 훈련시키기\n",
    "기존의 뉴스 데이터가 총 20개의 카테고리를 가지고 있었으므로 토픽의 개수를 20으로 하여 LDA 모델을 학습시켜보도록 하겠습니다."
   ]
  },
  {
   "cell_type": "code",
   "execution_count": 96,
   "id": "a929350d",
   "metadata": {
    "ExecuteTime": {
     "end_time": "2021-08-01T14:29:32.456229Z",
     "start_time": "2021-08-01T14:27:34.494088Z"
    }
   },
   "outputs": [
    {
     "name": "stdout",
     "output_type": "stream",
     "text": [
      "(0, '0.016*\"navy\" + 0.011*\"naval\" + 0.010*\"yankees\" + 0.006*\"disc\"')\n",
      "(1, '0.010*\"homosexual\" + 0.007*\"grass\" + 0.006*\"spare\" + 0.006*\"exhaust\"')\n",
      "(2, '0.017*\"play\" + 0.015*\"period\" + 0.013*\"team\" + 0.012*\"game\"')\n",
      "(3, '0.035*\"jesus\" + 0.022*\"christian\" + 0.020*\"bible\" + 0.017*\"church\"')\n",
      "(4, '0.011*\"armenian\" + 0.011*\"said\" + 0.011*\"people\" + 0.010*\"armenians\"')\n",
      "(5, '0.022*\"file\" + 0.014*\"program\" + 0.013*\"windows\" + 0.010*\"files\"')\n",
      "(6, '0.033*\"entry\" + 0.025*\"sale\" + 0.018*\"offer\" + 0.017*\"condition\"')\n",
      "(7, '0.011*\"university\" + 0.009*\"research\" + 0.009*\"health\" + 0.007*\"medical\"')\n",
      "(8, '0.013*\"year\" + 0.010*\"last\" + 0.009*\"good\" + 0.008*\"game\"')\n",
      "(9, '0.023*\"space\" + 0.008*\"nasa\" + 0.007*\"data\" + 0.005*\"launch\"')\n",
      "(10, '0.014*\"encryption\" + 0.012*\"chip\" + 0.011*\"keys\" + 0.011*\"clipper\"')\n",
      "(11, '0.051*\"output\" + 0.041*\"window\" + 0.022*\"widget\" + 0.016*\"char\"')\n",
      "(12, '0.016*\"wiring\" + 0.011*\"radar\" + 0.010*\"detector\" + 0.009*\"symbol\"')\n",
      "(13, '0.011*\"drive\" + 0.009*\"like\" + 0.009*\"would\" + 0.008*\"card\"')\n",
      "(14, '0.026*\"henrik\" + 0.013*\"nist\" + 0.013*\"cross\" + 0.012*\"linked\"')\n",
      "(15, '0.010*\"government\" + 0.008*\"president\" + 0.008*\"state\" + 0.006*\"states\"')\n",
      "(16, '0.055*\"israel\" + 0.034*\"israeli\" + 0.022*\"arab\" + 0.014*\"jews\"')\n",
      "(17, '0.023*\"mail\" + 0.022*\"please\" + 0.017*\"information\" + 0.016*\"send\"')\n",
      "(18, '0.016*\"would\" + 0.012*\"people\" + 0.009*\"think\" + 0.009*\"know\"')\n",
      "(19, '0.012*\"marriage\" + 0.009*\"scope\" + 0.007*\"married\" + 0.006*\"contacts\"')\n"
     ]
    }
   ],
   "source": [
    "import gensim\n",
    "NUM_TOPICS = 20 #20개의 토픽, k=20\n",
    "ldamodel = gensim.models.ldamodel.LdaModel(corpus, num_topics = NUM_TOPICS, id2word=dictionary, passes=15)\n",
    "topics = ldamodel.print_topics(num_words=4)\n",
    "for topic in topics:\n",
    "    print(topic)"
   ]
  },
  {
   "cell_type": "markdown",
   "id": "0a1dbb1e",
   "metadata": {},
   "source": [
    "각 단어 앞에 붙은 수치는 단어의 해당 토픽에 대한 기여도를 보여줍니다. 또한 맨 앞에 있는 토픽 번호는 0부터 시작하므로 총 20개의 토픽은 0부터 19까지의 번호가 할당되어져 있습니다. passes는 알고리즘의 동작 횟수를 말하는데, 알고리즘이 결정하는 토픽의 값이 적절히 수렴할 수 있도록 충분히 적당한 횟수를 정해주면 됩니다. 여기서는 총 15회를 수행하였습니다. 여기서는 num_words=4로 총 4개의 단어만 출력하도록 하였습니다. 만약 10개의 단어를 출력하고 싶다면 파라미터를 수정하면 됩니다."
   ]
  },
  {
   "cell_type": "markdown",
   "id": "ae7746d7",
   "metadata": {},
   "source": [
    "### 2.5.3 LDA 시각화 하기\n",
    "LDA 시각화를 위해서는 pyLDAvis의 설치가 필요합니다. 윈도우의 명령 프롬프트나 MAC/UNIX의 터미널에서 아래의 명령을 수행하여 pyLDAvis를 설치하시기 바랍니다."
   ]
  },
  {
   "cell_type": "markdown",
   "id": "3d46bec0",
   "metadata": {},
   "source": [
    "설치가 완료되었다면 LDA 시각화 실습을 진행합니다.\n",
    "\n"
   ]
  },
  {
   "cell_type": "code",
   "execution_count": 104,
   "id": "d974f28f",
   "metadata": {
    "ExecuteTime": {
     "end_time": "2021-08-01T14:36:50.679677Z",
     "start_time": "2021-08-01T14:36:35.643809Z"
    }
   },
   "outputs": [
    {
     "name": "stderr",
     "output_type": "stream",
     "text": [
      "C:\\Users\\mrjjo\\anaconda3\\envs\\nlp38\\lib\\site-packages\\ipykernel\\ipkernel.py:287: DeprecationWarning: `should_run_async` will not call `transform_cell` automatically in the future. Please pass the result to `transformed_cell` argument and any exception that happen during thetransform in `preprocessing_exc_tuple` in IPython 7.17 and above.\n",
      "  and should_run_async(code)\n",
      "C:\\Users\\mrjjo\\anaconda3\\envs\\nlp38\\lib\\site-packages\\pyLDAvis\\_prepare.py:246: FutureWarning: In a future version of pandas all arguments of DataFrame.drop except for the argument 'labels' will be keyword-only\n",
      "  default_term_info = default_term_info.sort_values(\n"
     ]
    },
    {
     "data": {
      "text/html": [
       "\n",
       "<link rel=\"stylesheet\" type=\"text/css\" href=\"https://cdn.jsdelivr.net/gh/bmabey/pyLDAvis@3.3.1/pyLDAvis/js/ldavis.v1.0.0.css\">\n",
       "\n",
       "\n",
       "<div id=\"ldavis_el2169216608140220164087636482\"></div>\n",
       "<script type=\"text/javascript\">\n",
       "\n",
       "var ldavis_el2169216608140220164087636482_data = {\"mdsDat\": {\"x\": [-0.28451336918496156, -0.2581981938319081, -0.219152837583003, -0.1761620222931372, -0.19140202578470272, -0.13010584651103263, -0.11881453678052212, -0.11802579739002103, -0.08320582370322299, -0.12774543214310347, 0.060344413285927906, 0.10888257357276297, 0.08118300135191035, 0.18307955816030408, 0.154225570695683, 0.2200557253518438, 0.23080226294099657, 0.2084821947092739, 0.22169326191538224, 0.23857732322152989], \"y\": [-0.06750691346001361, 0.06609368907128926, 0.205958663141447, -0.10632096124160115, -0.1781213889768858, -0.21078469790000187, 0.0766370459131003, 0.14875627786617812, 0.0009667983959936962, 0.10203337374689556, -0.07207788995887769, -0.1614870878187137, 0.12939124483440512, -0.03524160865941118, 0.028188611407889873, 0.011304020045462477, 0.0063074295238710896, 0.03072343596096268, 0.01761475605931248, 0.007565202048696971], \"topics\": [1, 2, 3, 4, 5, 6, 7, 8, 9, 10, 11, 12, 13, 14, 15, 16, 17, 18, 19, 20], \"cluster\": [1, 1, 1, 1, 1, 1, 1, 1, 1, 1, 1, 1, 1, 1, 1, 1, 1, 1, 1, 1], \"Freq\": [27.836443989414956, 10.948676319944429, 8.781869274484928, 8.365871777585875, 7.919591508948891, 6.374700352135597, 5.941933573263439, 5.150671714850455, 4.453140301486848, 3.963867235950912, 2.786895703847796, 2.094506336781912, 1.3922562965532772, 0.9784928440823891, 0.9228422355054081, 0.6272915527113898, 0.44517829114642476, 0.3915748903198283, 0.3860940844029669, 0.2381017165822894]}, \"tinfo\": {\"Term\": [\"file\", \"please\", \"people\", \"space\", \"mail\", \"jesus\", \"year\", \"output\", \"window\", \"program\", \"entry\", \"windows\", \"information\", \"drive\", \"israel\", \"send\", \"best\", \"would\", \"game\", \"said\", \"government\", \"think\", \"believe\", \"email\", \"thanks\", \"team\", \"christian\", \"know\", \"scsi\", \"good\", \"moral\", \"doctor\", \"evil\", \"morality\", \"filename\", \"humans\", \"absolute\", \"merely\", \"plastic\", \"bikes\", \"convince\", \"helmet\", \"compass\", \"punishment\", \"bother\", \"claiming\", \"imply\", \"blame\", \"ignorance\", \"philosophy\", \"homosexuality\", \"rational\", \"ignorant\", \"outlets\", \"pray\", \"minds\", \"justified\", \"beings\", \"allah\", \"subjective\", \"pain\", \"followers\", \"claim\", \"certainly\", \"explain\", \"argue\", \"disagree\", \"life\", \"agree\", \"evidence\", \"love\", \"sense\", \"admit\", \"objective\", \"understand\", \"hell\", \"heaven\", \"things\", \"mind\", \"perhaps\", \"mean\", \"wrong\", \"think\", \"reason\", \"people\", \"whether\", \"question\", \"nothing\", \"rather\", \"would\", \"something\", \"even\", \"fact\", \"course\", \"really\", \"know\", \"point\", \"believe\", \"many\", \"enough\", \"much\", \"like\", \"take\", \"want\", \"could\", \"time\", \"well\", \"never\", \"make\", \"thing\", \"anything\", \"must\", \"good\", \"right\", \"might\", \"also\", \"find\", \"since\", \"card\", \"monitor\", \"drives\", \"controller\", \"floppy\", \"drive\", \"motherboard\", \"bios\", \"simms\", \"upgrade\", \"boot\", \"adapter\", \"voltage\", \"battery\", \"honda\", \"speeds\", \"candida\", \"nubus\", \"quadra\", \"connector\", \"macs\", \"diamond\", \"slots\", \"vram\", \"specs\", \"tires\", \"eisa\", \"circuits\", \"clone\", \"jumper\", \"modem\", \"circuit\", \"cable\", \"buying\", \"sony\", \"video\", \"drivers\", \"wire\", \"apple\", \"driver\", \"speed\", \"scsi\", \"disk\", \"cards\", \"bike\", \"memory\", \"port\", \"bought\", \"tape\", \"board\", \"cars\", \"price\", \"hard\", \"sound\", \"fast\", \"problem\", \"system\", \"thanks\", \"used\", \"like\", \"need\", \"work\", \"anyone\", \"know\", \"would\", \"also\", \"power\", \"computer\", \"good\", \"using\", \"much\", \"could\", \"want\", \"format\", \"jpeg\", \"contrib\", \"printf\", \"xterm\", \"postscript\", \"client\", \"font\", \"fonts\", \"formats\", \"echo\", \"clients\", \"terminal\", \"routines\", \"toolkit\", \"binaries\", \"shareware\", \"menu\", \"sunos\", \"colormap\", \"ansi\", \"sparc\", \"pixmap\", \"borland\", \"tiff\", \"icon\", \"workstation\", \"msdos\", \"apps\", \"bitmap\", \"file\", \"motif\", \"files\", \"directory\", \"vesa\", \"string\", \"server\", \"windows\", \"graphics\", \"image\", \"unix\", \"version\", \"export\", \"code\", \"program\", \"software\", \"user\", \"color\", \"available\", \"programs\", \"display\", \"comp\", \"source\", \"section\", \"using\", \"entry\", \"info\", \"include\", \"line\", \"based\", \"also\", \"system\", \"write\", \"data\", \"information\", \"jobs\", \"firearms\", \"amendment\", \"constitution\", \"myers\", \"tobacco\", \"militia\", \"economy\", \"senate\", \"batf\", \"morris\", \"firearm\", \"assault\", \"handgun\", \"weaver\", \"legislation\", \"handguns\", \"democratic\", \"homicide\", \"constitutional\", \"senator\", \"republicans\", \"concealed\", \"rkba\", \"courts\", \"ownership\", \"liberty\", \"democracy\", \"regulated\", \"deficit\", \"president\", \"guns\", \"congress\", \"weapons\", \"weapon\", \"politics\", \"crime\", \"federal\", \"rights\", \"civil\", \"police\", \"clinton\", \"states\", \"court\", \"government\", \"state\", \"laws\", \"american\", \"united\", \"arms\", \"military\", \"bill\", \"administration\", \"control\", \"house\", \"country\", \"public\", \"defense\", \"national\", \"right\", \"people\", \"would\", \"going\", \"fans\", \"pitching\", \"sports\", \"braves\", \"espn\", \"coach\", \"wins\", \"award\", \"stanley\", \"hitting\", \"hitter\", \"phillies\", \"mets\", \"financial\", \"creative\", \"finals\", \"victory\", \"clemens\", \"pirates\", \"offset\", \"dodgers\", \"predictions\", \"habs\", \"hung\", \"talent\", \"innings\", \"rookie\", \"inning\", \"ankara\", \"stadium\", \"baseball\", \"ball\", \"atlanta\", \"scores\", \"playing\", \"stats\", \"career\", \"players\", \"score\", \"game\", \"year\", \"cubs\", \"team\", \"watching\", \"games\", \"last\", \"night\", \"player\", \"back\", \"teams\", \"league\", \"lost\", \"left\", \"runs\", \"good\", \"next\", \"home\", \"watch\", \"season\", \"time\", \"first\", \"great\", \"better\", \"years\", \"still\", \"like\", \"went\", \"well\", \"think\", \"would\", \"right\", \"around\", \"best\", \"could\", \"three\", \"also\", \"even\", \"much\", \"armenian\", \"armenians\", \"turkish\", \"turkey\", \"armenia\", \"turks\", \"muslim\", \"genocide\", \"muslims\", \"apartment\", \"azerbaijan\", \"nazi\", \"azerbaijani\", \"sumgait\", \"karina\", \"greece\", \"karabakh\", \"nazis\", \"argic\", \"ottoman\", \"serdar\", \"massacre\", \"azeri\", \"mamma\", \"ethnic\", \"baku\", \"azerbaijanis\", \"cyprus\", \"jerusalem\", \"greeks\", \"daughter\", \"soldiers\", \"jews\", \"killed\", \"soviet\", \"islamic\", \"women\", \"greek\", \"said\", \"woman\", \"dead\", \"went\", \"russian\", \"children\", \"people\", \"came\", \"history\", \"jewish\", \"started\", \"told\", \"first\", \"world\", \"government\", \"launch\", \"satellite\", \"shuttle\", \"orbit\", \"lunar\", \"solar\", \"satellites\", \"spacecraft\", \"mars\", \"saturn\", \"missions\", \"telescope\", \"tube\", \"planetary\", \"astronomy\", \"terminals\", \"orbital\", \"imaging\", \"ames\", \"payload\", \"engines\", \"propulsion\", \"venus\", \"gravity\", \"integration\", \"observatory\", \"launches\", \"packaging\", \"siggraph\", \"digit\", \"nasa\", \"space\", \"flight\", \"moon\", \"launched\", \"surface\", \"mission\", \"module\", \"rocket\", \"earth\", \"vehicle\", \"station\", \"design\", \"data\", \"project\", \"high\", \"model\", \"analysis\", \"cost\", \"commercial\", \"system\", \"also\", \"systems\", \"contact\", \"first\", \"available\", \"small\", \"based\", \"time\", \"power\", \"usenet\", \"mailing\", \"uuencode\", \"guidelines\", \"kent\", \"prog\", \"anon\", \"telnet\", \"mailer\", \"retail\", \"solaris\", \"cryptosystem\", \"cryptosystems\", \"invalid\", \"nords\", \"ultrix\", \"dial\", \"gifs\", \"bounced\", \"mechanisms\", \"cabinet\", \"incorporate\", \"mitre\", \"censorship\", \"defamation\", \"postal\", \"viewers\", \"bulletin\", \"flaws\", \"xtpointer\", \"marc\", \"internet\", \"addresses\", \"mail\", \"address\", \"send\", \"anonymous\", \"newsgroups\", \"email\", \"request\", \"requests\", \"please\", \"newsgroup\", \"list\", \"posting\", \"subscribe\", \"information\", \"posted\", \"lists\", \"reply\", \"news\", \"thanks\", \"articles\", \"group\", \"post\", \"interested\", \"info\", \"message\", \"phone\", \"anyone\", \"contact\", \"name\", \"article\", \"number\", \"know\", \"would\", \"patients\", \"gordon\", \"pitt\", \"newsletter\", \"cancer\", \"senior\", \"diseases\", \"centers\", \"intellect\", \"shameful\", \"cadre\", \"chastity\", \"pitcher\", \"skepticism\", \"liar\", \"hicnet\", \"disease\", \"infections\", \"infection\", \"maine\", \"listserv\", \"illness\", \"clinical\", \"researchers\", \"ieee\", \"graduate\", \"chronic\", \"stewart\", \"courses\", \"astro\", \"medical\", \"aids\", \"health\", \"medicine\", \"studies\", \"avenue\", \"university\", \"research\", \"dept\", \"conference\", \"institute\", \"journal\", \"study\", \"washington\", \"center\", \"school\", \"banks\", \"department\", \"april\", \"page\", \"among\", \"education\", \"science\", \"national\", \"reported\", \"program\", \"scientific\", \"technology\", \"report\", \"years\", \"information\", \"year\", \"number\", \"international\", \"encryption\", \"clipper\", \"ripem\", \"secure\", \"escrow\", \"cryptography\", \"encrypted\", \"crypto\", \"judas\", \"crypt\", \"wiretap\", \"phones\", \"cipher\", \"cryptographic\", \"luke\", \"prophecy\", \"plaintext\", \"mormon\", \"decrypt\", \"disciples\", \"cryptology\", \"simm\", \"ciphertext\", \"patents\", \"denning\", \"cryptanalysis\", \"mormons\", \"patent\", \"laptop\", \"teaches\", \"keys\", \"privacy\", \"algorithm\", \"security\", \"chip\", \"secret\", \"scheme\", \"enforcement\", \"random\", \"public\", \"technology\", \"communications\", \"message\", \"agencies\", \"bits\", \"private\", \"government\", \"system\", \"data\", \"phone\", \"used\", \"number\", \"standard\", \"information\", \"strong\", \"using\", \"jesus\", \"christ\", \"bible\", \"atheism\", \"matthew\", \"atheists\", \"catholic\", \"christianity\", \"christians\", \"biblical\", \"doctrine\", \"pope\", \"worship\", \"christian\", \"passages\", \"resurrection\", \"revelation\", \"testament\", \"sabbath\", \"gospel\", \"orthodox\", \"easter\", \"churches\", \"teachings\", \"fallacy\", \"church\", \"verse\", \"deity\", \"priests\", \"decenso\", \"religions\", \"faith\", \"divine\", \"holy\", \"belief\", \"lord\", \"beliefs\", \"religion\", \"atheist\", \"paul\", \"john\", \"religious\", \"father\", \"word\", \"eternal\", \"believe\", \"truth\", \"peter\", \"book\", \"books\", \"detroit\", \"montreal\", \"puck\", \"calgary\", \"scorer\", \"quebec\", \"flyers\", \"leafs\", \"islanders\", \"hartford\", \"pens\", \"playoff\", \"winnipeg\", \"devils\", \"sharks\", \"lemieux\", \"jets\", \"bruins\", \"hawks\", \"lindros\", \"tampa\", \"edmonton\", \"defenseman\", \"gilmour\", \"gretzky\", \"jagr\", \"blues\", \"recchi\", \"goalie\", \"sabres\", \"jersey\", \"toronto\", \"buffalo\", \"minnesota\", \"chicago\", \"pittsburgh\", \"kings\", \"boston\", \"playoffs\", \"rangers\", \"period\", \"hockey\", \"play\", \"season\", \"philadelphia\", \"goal\", \"wings\", \"team\", \"louis\", \"game\", \"flames\", \"goals\", \"games\", \"power\", \"division\", \"league\", \"first\", \"teams\", \"second\", \"char\", \"null\", \"xlib\", \"xview\", \"cursor\", \"width\", \"argv\", \"allocation\", \"pointer\", \"handler\", \"mydisplay\", \"argc\", \"flags\", \"icons\", \"olwm\", \"phigs\", \"variables\", \"previewer\", \"popup\", \"tvtwm\", \"informatik\", \"unsigned\", \"buffers\", \"prefix\", \"util\", \"myhint\", \"vanilla\", \"extracted\", \"programmable\", \"cyberspace\", \"output\", \"stream\", \"steam\", \"reilly\", \"widget\", \"expose\", \"exit\", \"window\", \"input\", \"sheets\", \"mask\", \"protocol\", \"function\", \"return\", \"shared\", \"event\", \"application\", \"value\", \"button\", \"display\", \"open\", \"doug\", \"size\", \"check\", \"count\", \"events\", \"line\", \"bits\", \"build\", \"manager\", \"program\", \"call\", \"israel\", \"israeli\", \"arab\", \"palestinian\", \"arabs\", \"adaptec\", \"lebanon\", \"palestinians\", \"israelis\", \"lebanese\", \"gaza\", \"zionism\", \"recognition\", \"cleaning\", \"fleet\", \"lyme\", \"leagues\", \"profile\", \"inflammation\", \"mpeg\", \"imprisonment\", \"targa\", \"syrian\", \"occupying\", \"nationality\", \"thumbs\", \"colored\", \"palestineans\", \"bloom\", \"crohn\", \"ghetto\", \"syria\", \"palestine\", \"paradox\", \"occupied\", \"adam\", \"burst\", \"peace\", \"jewish\", \"land\", \"jews\", \"byte\", \"germany\", \"scsi\", \"attacks\", \"civilians\", \"strip\", \"solution\", \"april\", \"true\", \"contest\", \"judges\", \"smokeless\", \"sleeve\", \"rockefeller\", \"publisher\", \"franchise\", \"joystick\", \"rolling\", \"shack\", \"auth\", \"compiling\", \"methanol\", \"panasonic\", \"diff\", \"lawsuit\", \"chars\", \"dortmund\", \"joshua\", \"nervous\", \"titled\", \"paperback\", \"postage\", \"awarded\", \"epson\", \"helper\", \"statutes\", \"imperfect\", \"sunlight\", \"frozen\", \"amazed\", \"sale\", \"temp\", \"tapes\", \"speakers\", \"insurance\", \"entries\", \"shipping\", \"entry\", \"condition\", \"offer\", \"shar\", \"asking\", \"excellent\", \"rules\", \"picture\", \"included\", \"water\", \"price\", \"best\", \"offers\", \"georgia\", \"year\", \"sell\", \"original\", \"disks\", \"paid\", \"email\", \"games\", \"wiring\", \"detector\", \"symbol\", \"unto\", \"creed\", \"entity\", \"breaker\", \"filters\", \"gamma\", \"qemm\", \"execution\", \"queen\", \"functional\", \"terminator\", \"liturgy\", \"circuitry\", \"compatibles\", \"interfere\", \"wysiwyg\", \"teel\", \"extracting\", \"oscillator\", \"hawaii\", \"dithering\", \"lamps\", \"parish\", \"brave\", \"robertson\", \"rationale\", \"clues\", \"receiver\", \"pseudo\", \"pose\", \"terminated\", \"reserve\", \"radar\", \"compress\", \"detectors\", \"receivers\", \"antenna\", \"roll\", \"gerard\", \"countersteering\", \"stalin\", \"gainey\", \"seal\", \"witnessed\", \"bindings\", \"echl\", \"paste\", \"steer\", \"adjective\", \"intervene\", \"guessing\", \"lance\", \"combustion\", \"ahmet\", \"panicking\", \"rebuild\", \"duration\", \"compensate\", \"snapped\", \"noisy\", \"tesla\", \"violating\", \"applelink\", \"occurrence\", \"similarity\", \"resembles\", \"speedometer\", \"palestinean\", \"marriage\", \"ceremony\", \"snail\", \"scope\", \"married\", \"contacts\", \"correction\", \"invade\", \"marry\", \"adams\", \"shock\", \"randy\", \"atoms\", \"student\", \"fingers\", \"yankees\", \"disc\", \"babies\", \"losses\", \"bethesda\", \"seminar\", \"gangs\", \"waves\", \"reviewed\", \"lipman\", \"nail\", \"asshole\", \"berryhill\", \"nanao\", \"evolutionary\", \"scrolling\", \"ross\", \"skated\", \"luna\", \"sunroof\", \"louder\", \"videotape\", \"omniscient\", \"mindset\", \"examiner\", \"oasys\", \"slack\", \"goldin\", \"objecting\", \"howell\", \"navy\", \"unclear\", \"harddisk\", \"harley\", \"naval\", \"prize\", \"bird\", \"cleveland\", \"presentations\", \"visualization\", \"oklahoma\", \"virtual\", \"wave\", \"inherent\", \"presentation\", \"reality\", \"scientific\", \"cleansing\", \"robert\", \"henrik\", \"init\", \"ingr\", \"corn\", \"upenn\", \"catbyte\", \"dtmedin\", \"marginal\", \"intergraph\", \"keller\", \"kingman\", \"quakers\", \"journalist\", \"kkeller\", \"marlins\", \"viper\", \"configurations\", \"airplane\", \"medin\", \"compounds\", \"minimize\", \"mitch\", \"coil\", \"replacements\", \"sheesh\", \"hollow\", \"rosicrucian\", \"pinouts\", \"pierce\", \"submarines\", \"courage\", \"allergic\", \"planes\", \"linked\", \"dragon\", \"nist\", \"cross\", \"plane\", \"shell\", \"everywhere\", \"model\", \"champs\", \"azeris\", \"dave\", \"mail\", \"feustel\", \"clubs\", \"rocketry\", \"darken\", \"fran\", \"clockwise\", \"hillary\", \"trends\", \"poland\", \"freenet\", \"teenagers\", \"panther\", \"mohammed\", \"scam\", \"refered\", \"neptune\", \"techno\", \"interfered\", \"daigle\", \"quayle\", \"actix\", \"soldering\", \"smyrna\", \"nova\", \"excessively\", \"intercourse\", \"immorality\", \"laughable\", \"generals\", \"kurd\", \"grass\", \"gravitational\", \"partition\", \"axis\", \"homosexual\", \"exhaust\", \"spare\", \"female\", \"male\", \"homosexuals\", \"sexual\", \"exclusively\", \"trans\", \"dave\", \"netcom\"], \"Freq\": [1903.0, 1681.0, 4415.0, 1382.0, 1350.0, 933.0, 1560.0, 768.0, 778.0, 1623.0, 635.0, 1300.0, 1659.0, 1122.0, 518.0, 976.0, 998.0, 6549.0, 874.0, 1915.0, 1275.0, 3233.0, 1426.0, 858.0, 1375.0, 799.0, 592.0, 3749.0, 613.0, 2634.0, 275.7931387921672, 220.04918384725033, 178.44049020477323, 168.6725135736337, 163.55361635702008, 152.84820141199884, 148.64305200617108, 143.60969437225756, 113.20406324163, 110.0465106679983, 102.96455894518128, 96.10450259427445, 90.88178341128487, 89.50747891278291, 88.97147160906722, 85.31153646276313, 84.20769209382411, 83.1405981787405, 83.41723238455114, 78.48450909870026, 78.25269497271792, 70.00708461596057, 68.15209965490504, 67.82331848930798, 67.45233232880959, 66.99121084464475, 66.47154395325383, 69.8271776046974, 63.21114039892172, 62.849953069961835, 265.5050852119411, 76.97828981320149, 420.35599293561893, 463.32131217405913, 249.55204588162277, 118.55945543150646, 140.67120545135478, 801.1017741724808, 468.1216177719657, 526.2451452616768, 388.9469351498607, 353.7775399778653, 142.6452077243383, 226.60849769461737, 457.8612005330388, 350.0504404757888, 160.2867718020912, 1114.0055057939749, 455.1312066080299, 512.2041198598599, 708.2527660455971, 600.0898824818486, 2432.019573970641, 643.2146445314577, 3168.966475431537, 557.2431550237654, 934.812582928497, 646.6406843155506, 716.6660358413118, 4200.335668906107, 1283.3746222862037, 1736.5690258174893, 845.9482214843085, 783.170709361599, 1138.4872809775527, 2355.228301414407, 1022.6991811397522, 1039.3830516008459, 1473.6855864556537, 717.5269403679223, 1375.5609152814159, 2193.2032099341413, 966.1054009629449, 1180.344732639474, 1505.8691426483053, 1667.8666287350222, 1455.7714191166078, 865.5177221082545, 1247.3630769244705, 771.7056199822292, 761.977813531388, 902.8734520702035, 1249.0265804155329, 989.485002956117, 834.5021959193176, 1230.9322971679069, 864.6452431229138, 889.316975599767, 811.2841401817448, 383.2386569375872, 335.99571540617137, 315.7829727887045, 251.01228117630447, 1117.5943404989132, 174.67309143724904, 173.85172083983866, 149.0861520892883, 144.47235430140728, 116.53255908552158, 113.36396845092517, 109.2706511955832, 105.26268695350544, 98.15922746254881, 94.90681145347381, 88.98738157314587, 88.41337890721796, 88.33683264025962, 86.17839467419658, 85.78569412693147, 82.88761728159304, 80.57603200572059, 80.37652603204685, 80.37353161657866, 79.12604109113923, 78.59776412320433, 77.16348171741039, 75.27034165837718, 75.19371627068492, 288.9866547642105, 146.81619040566585, 265.23848127245196, 168.53467362407318, 106.5384540120043, 441.90035147740747, 345.47666774435226, 211.473167264798, 395.0163015950335, 383.55920546173144, 461.2221702861417, 515.8102182023135, 571.8771665319974, 248.68126263094027, 303.3586561143338, 456.69013464744717, 241.02315462281356, 234.632998979159, 276.0407985567084, 303.9521589980668, 238.42346640991266, 407.713231801216, 515.3681645757159, 293.20291346763696, 291.8945243219236, 643.0055864595671, 716.9553300343667, 555.3814429593691, 671.0755291965339, 955.0697386851839, 607.8580627978445, 593.6902416309061, 550.8756510594934, 726.6642474655898, 906.0477005033589, 608.9019695887083, 414.07390584217154, 374.3406418220564, 506.3562399481876, 427.3888785320216, 437.4425676043877, 397.5732159219375, 359.8297288080182, 402.1443666001186, 276.62757934248384, 254.96618544171295, 247.5407474130787, 206.2655846616559, 188.834820545589, 186.82638589309346, 185.83049677042635, 177.08732799798423, 136.5621624499096, 124.08196372889968, 123.41051329906436, 119.19323011962975, 118.60548155297971, 113.47492737362079, 108.71219079507593, 104.10616698988777, 100.80371695876308, 89.22146065664388, 86.39256614518276, 84.1215441124973, 83.09807330739716, 81.88370796957817, 80.45945335101435, 79.92300671368974, 76.29351603632853, 75.13582739462416, 74.72946866410939, 72.60064606993578, 70.75345930282884, 1834.2162100076919, 433.52531106803366, 845.1669540468821, 348.608916566667, 92.73840342453721, 170.20167081713507, 575.4019316159955, 1076.3000859558895, 545.2692999230037, 598.4579139611452, 324.44207097767094, 766.2565123898755, 277.50908014961624, 555.0309699159943, 1134.5254178725531, 727.9812212907165, 377.2931633302513, 400.7107439729549, 838.8016680201271, 399.98071297866005, 360.18240531097206, 268.0916686070996, 410.8274902939896, 311.6264789982753, 602.6637641670828, 345.042297480112, 401.9938926568768, 336.016321269314, 404.5749132732548, 377.64570116716885, 550.2254890522488, 410.15092382819154, 302.23812341573057, 334.1308862753287, 321.6411975028763, 262.31059915217804, 212.51976321852007, 198.13415824298457, 178.69848122950424, 174.93545376259308, 162.764940499239, 159.12959624693673, 116.98225813396492, 110.45362600400652, 109.41099136256877, 101.56716073597784, 90.19447224432659, 89.38610951500777, 84.73901902130535, 79.49213923123901, 73.2592023780031, 72.4323540434224, 76.1210112463466, 71.48342630664551, 67.10183095870438, 66.83812624263513, 64.37604824228798, 62.50223103127477, 61.0500297847013, 60.4830913853361, 57.981140283224065, 57.868254853758145, 57.94861491889661, 57.66495505007798, 56.746836655404245, 655.7408101987395, 376.79350114446765, 281.01319519180606, 284.63655984180525, 155.3809573240961, 135.08372554281004, 286.71046338398645, 280.0219389068295, 403.880832897283, 171.0990605325092, 341.0483024663289, 255.49416823800902, 488.8850773372792, 272.94677462552835, 830.5465717450952, 648.1880057802715, 267.749468810831, 435.9563296748995, 292.7346035818643, 185.2284247910812, 272.13710976552443, 275.2436401447349, 223.8862479875501, 353.0974757516973, 256.68226947884096, 252.91410789665707, 326.2402490928085, 219.9083503557282, 266.9821604018271, 363.83655675290544, 442.42085047048295, 424.0972302658239, 270.5371631908578, 143.5627321805765, 112.93731380544828, 106.31188135121359, 99.36481938009908, 86.51095283694471, 83.69849734131628, 83.46115590692138, 76.84055727252206, 70.93615640324187, 70.04757440925717, 63.95444765425439, 63.942975036320846, 61.67788140006738, 59.77145455416833, 58.8457736533049, 57.82342516050567, 56.90543082561, 56.61913485882023, 56.054850227635406, 54.497087951083486, 54.17856211633844, 51.201047962159635, 50.48652310372308, 48.97816440293871, 48.22427781121597, 46.69585303501291, 46.22212548398655, 44.641580859849796, 44.556914172168334, 44.41180712700046, 204.42264585820715, 148.2062544784407, 70.16232700290863, 78.55010061142806, 165.89976081128722, 118.53921792743395, 110.9670963863117, 318.8156174015532, 107.16735300004166, 618.8195224245501, 1018.2266620479409, 90.10031500072508, 521.8022753825406, 101.6451848934099, 373.97501351064744, 743.5532760686519, 215.57286825970453, 180.900961567401, 579.8075851209144, 173.2169137644436, 212.5859197923133, 203.4403150542091, 322.009601278069, 220.4700120154166, 695.7805553925324, 316.36623548467196, 275.9281012102955, 145.1283967400105, 210.30398702958408, 590.095996437734, 475.34005697290496, 292.7045729283958, 338.94617897046214, 365.82528131589794, 356.2522753347162, 549.6838890694294, 234.15470565053334, 425.91119390014114, 430.6899663009042, 529.9981093635525, 340.85265864499326, 277.85685695802067, 261.8304109391152, 311.4245043634837, 236.6245674671179, 268.0579029174295, 255.77834523839724, 247.8462670078206, 686.9154481101289, 605.3314915967962, 484.29560589950603, 305.02992461091367, 235.60485105521613, 226.71210737808545, 212.0538783987393, 203.22873250062014, 198.878519884704, 180.3485781476657, 180.33090265376188, 174.6822995670484, 134.96774684576107, 128.25705493930928, 127.74235362845467, 112.38072645565995, 105.2599687604049, 104.96517639114684, 100.16459304102605, 97.13799426511486, 95.98279372167632, 93.77193954232655, 92.68841900904971, 92.5781420703394, 92.2815495505394, 90.87289631544544, 84.00323127196211, 80.13897425588458, 76.54870156973006, 72.23980736979598, 122.19239028679067, 189.58903436766306, 457.8120179172618, 318.30009577829514, 180.55708377342776, 121.6700206181157, 282.11140012003005, 248.47327681464563, 676.439989397472, 163.0988552830409, 232.51498478368364, 300.6406756596237, 208.24912557144145, 273.7934856167372, 640.1709531622648, 246.6634876713895, 201.32809953985827, 178.74049091158793, 192.37617768546338, 197.78231325115135, 222.36604786538808, 197.99475936392645, 181.85877688262093, 275.92417915195966, 232.6154493486876, 203.4691676644631, 195.2939058600912, 177.3953820294403, 136.82618916990089, 119.72989318437419, 115.54350815204148, 92.31792269486627, 88.1655919498375, 87.24184545971701, 83.99159990353432, 83.66080098273034, 83.96162816706527, 79.5577449087006, 71.30250342316697, 69.83440360958987, 68.67579153721587, 76.34353546061548, 66.00008904124614, 65.51300373265623, 69.99100048263347, 56.264916271997414, 55.094822851158966, 54.14841093722862, 52.4724676679192, 50.11420662060437, 49.68061065523462, 48.32251841087744, 48.275909288845845, 479.4082633209295, 1291.796348744268, 172.06384809399168, 168.0831628478995, 94.57956997849146, 161.27412866224265, 174.08895185375812, 88.0951712509704, 111.3411496441121, 246.81913255238138, 127.68097142057027, 172.45213963601898, 169.20355220323364, 402.1899191316577, 131.45014353942724, 233.94366564458073, 154.52115358076838, 122.5935449583428, 154.8808276305356, 122.40967162510948, 235.14504540968136, 271.92726939963694, 162.23255041018243, 141.40798708697935, 190.3107495958861, 166.66861843823568, 139.63723020786784, 141.88120625608315, 131.29313048401698, 127.83919999273397, 243.4844979568913, 202.3581629226939, 173.43728210326822, 119.40206589021533, 104.56927417056609, 97.3786059849292, 74.5591237556664, 62.195753508750954, 52.665555040760545, 47.28360579049968, 46.3248658753644, 45.82255179545597, 41.42918828690808, 40.38350493644486, 40.227584543319196, 38.67368322821968, 38.61252562502516, 37.34228277931163, 36.74412076286107, 32.85543346074949, 31.069356581837056, 30.92369783898523, 30.565897228460564, 30.533534663436793, 30.379987849573688, 29.811969430802527, 29.31137898746353, 30.282662510257758, 28.419963973148292, 27.656865398194746, 75.7753755469118, 464.9132278439624, 114.68426072408376, 1138.0341486596853, 604.2272702100709, 802.4694806268346, 392.4888365690906, 134.43671205861054, 685.3032405064398, 346.95677193607395, 145.93339088220253, 1088.6816578864373, 238.7831274650264, 692.7116938947634, 381.95220613557115, 67.11382691987522, 815.6443401159129, 267.7067111298367, 123.14229998221302, 223.86612378727054, 360.853062088154, 558.7024666108417, 156.74755543523753, 390.7620848558238, 381.55651415235565, 282.7907185847054, 357.0137160302302, 269.4999803261286, 235.27755990663468, 408.0162251943849, 223.03117361811445, 311.65877939178404, 229.4068881093476, 248.1432871812136, 273.9331048663039, 233.3104152924216, 176.9803914813015, 125.15560240477662, 119.45021733074611, 117.69312309690034, 116.8664363658248, 115.89776852302323, 112.57652544504457, 83.01868491645722, 82.0389716778728, 78.71767909117256, 77.96767641894085, 76.4443128596395, 71.53405765755414, 89.46216086430904, 67.56301260893463, 67.28149116545616, 214.96583928697422, 66.93430630455589, 64.08032654077975, 62.13857962808452, 61.73579647285818, 58.486930194946545, 56.20717733833062, 50.20639352616483, 49.706078189440404, 49.69085425755682, 49.58625718149031, 47.77169322364302, 47.84875354877083, 46.79144033999347, 314.6658096678454, 84.82948126059283, 385.3919691541608, 126.44555214535164, 167.9998460473321, 67.29380893538342, 452.2197921003583, 398.7902174210337, 92.69850638653496, 178.78033056279622, 133.91107128873247, 114.71184650821664, 223.69545471652486, 232.32013145983012, 269.14331251786365, 201.52519175094653, 104.5656974387741, 156.8665425784528, 243.01033187063436, 150.26891132424024, 218.1808960589239, 143.36341503580044, 211.5378950122622, 239.74364740382873, 132.1299158162024, 289.47501959912057, 134.7491945344913, 157.51139367693636, 141.10645104372438, 198.07490914106094, 178.07712848506713, 175.7835676460046, 156.38679316466963, 128.75685691022582, 537.515426295118, 402.9816226756697, 237.45495490301926, 236.65425414586198, 197.81072205112523, 181.09849330935683, 150.5521199092541, 149.49696402078524, 147.74414099085126, 102.71273076087876, 101.7702772542624, 99.018556981622, 88.37350985384997, 73.06803370545916, 72.07739501689333, 71.39088177112183, 69.46606575773048, 66.15674765248548, 58.20262303165286, 57.88306458106755, 57.36897619618444, 56.321140189480545, 56.0086592404693, 55.2913328620665, 53.70065336601451, 51.53451041383285, 51.506865851333416, 50.25732986359385, 46.60009923234168, 45.04757478524874, 421.66516917218036, 314.9513936827246, 244.56087224927964, 363.7939812204665, 460.90262636698077, 211.0229455811046, 101.55239068338767, 142.88772334787674, 117.03104527471494, 317.58485886368476, 210.8678575142339, 125.93450699958527, 231.72083892660973, 115.66908013370173, 136.9235753495725, 152.45449592388135, 262.50627851935866, 306.2885317560719, 250.9770020137352, 163.139883929243, 250.88498567944725, 198.44938944721454, 156.1274988951918, 181.66613890260206, 129.88688178583104, 139.2854425093562, 932.7531365301531, 386.06756962280997, 536.1541896603138, 176.60209435503, 190.00990512059357, 167.00488162303785, 136.61319777021416, 243.9566758032569, 427.6398053468442, 110.84113870005109, 104.56391257221385, 96.15530412300306, 95.76253984245851, 587.2331031673207, 92.38026940718822, 87.4262664007703, 83.6660977590621, 81.26545297329453, 77.48798292312208, 77.07035716307948, 76.49106981850429, 73.52251497538943, 67.17369125679437, 63.52383148760475, 62.41250724241559, 459.4065297915664, 61.77633346170081, 52.35975685318017, 53.694233326236706, 51.76780638962335, 134.1136771701717, 364.67621230352125, 85.81610759972057, 169.01646780242334, 182.2968479936106, 171.66894970852996, 158.25043090792835, 290.93136307516323, 106.43869864656476, 221.7832353323011, 229.3439260440553, 166.24835399017675, 159.34242739774504, 202.66983895752819, 104.92268132022444, 199.49779426801337, 125.88507277291983, 107.51318303741297, 123.40462586028892, 109.26402112748677, 175.9469498339152, 144.73027517378168, 131.73552466504415, 121.98695154044195, 116.40953611993419, 93.51489932024263, 93.38708649976371, 91.52868697226691, 90.57883708295358, 86.04107212035242, 83.20217817800844, 81.16142043747155, 78.11408783482462, 76.32162526667558, 74.7172260094054, 73.65054503079992, 73.59912463468756, 65.50182571408781, 60.98027254379416, 59.99965704115611, 58.79348292747615, 55.48539242442788, 54.5194285444843, 53.84114596951822, 53.77566076077482, 53.755318011909786, 53.6791910492386, 47.90968847741714, 47.83185697122841, 46.51979624166124, 85.0564979783977, 173.78175110215267, 82.21151238872875, 118.35775484491519, 184.4010199586254, 177.93534176212646, 134.38331413006955, 151.56351070222334, 92.72256601795152, 106.86742699319932, 301.28577908547066, 231.08734917050543, 331.0982452071901, 235.30539579300032, 115.85760865473394, 154.40676380503842, 95.56640593083, 258.0421061700698, 101.73768244995853, 240.63866096934592, 114.90247747484989, 108.86108158309041, 165.06812464050432, 183.3902349671715, 117.83294173042286, 125.10163689814523, 127.19278578857215, 102.95003204097252, 107.58276708939229, 212.2470503371609, 198.688190782357, 125.69686326547456, 73.90894208908146, 68.51804470601049, 59.14513992237672, 55.57245749504478, 55.291240446684526, 48.60741332105999, 44.2485335927745, 41.479994472883824, 36.65524917062716, 33.84187444404998, 31.401824326817895, 28.702029215908805, 28.148145553881935, 27.910649645702126, 25.36813826406996, 21.42352585839563, 20.69226401683968, 18.52252775065032, 18.13225705893265, 16.630149692544016, 16.127466479249318, 15.724244758009247, 15.171817641790982, 15.132165852227768, 13.862427848091105, 13.684582211777538, 12.670351906789666, 679.3726401400813, 206.7269243712327, 23.359920699880515, 37.170228664371955, 294.0825983016482, 51.58910654319414, 70.1887290622707, 544.7991254516759, 206.03465492655724, 34.66627318023872, 56.27967936534312, 57.03342402078851, 145.74789885574575, 182.55335334546626, 77.42612408441207, 118.11080120543448, 174.55555782624614, 143.5449329132343, 66.5196019418012, 158.70474836990317, 168.42043209339533, 61.54440056548734, 115.9805480109623, 121.78929603603541, 78.78479496786146, 72.25553815514564, 93.71475170765727, 72.31378141304799, 75.89253149135733, 66.94355119218368, 79.97941019013953, 72.12983871622424, 517.1344692904036, 317.15427156958594, 209.77417472611924, 109.37414412857753, 99.23569844638787, 76.62782781373106, 71.89541076404892, 66.735007853533, 65.19992432914182, 60.36221984222991, 55.12033622159136, 41.468703405301014, 39.648339488085256, 35.346706275023735, 30.196483557903385, 28.115886135311158, 27.17196311254889, 26.804336073082872, 24.342091272011803, 23.523585446961405, 23.500050684841337, 23.036134985637332, 20.785089490636086, 20.159404665690065, 19.922179398218717, 19.805682652082357, 18.104108689773838, 17.43147509304193, 16.850268509939358, 16.174566060293483, 27.457428441564673, 45.63165623216181, 56.1960164898438, 34.86248023058622, 50.74813135796808, 60.28241008498776, 40.175351064286765, 96.42700941476278, 106.7445516559499, 87.53598227513318, 131.4167453263734, 53.40385857799205, 59.60010867689591, 96.48785994882714, 50.55818665956683, 40.17948493209005, 34.0391899974835, 40.067735606767776, 39.80358145413788, 38.940347179455934, 148.11090043715836, 88.91686298139058, 72.55529803355623, 61.94730003828508, 57.571029217992866, 28.60653079016142, 26.726337835462598, 26.33964660368477, 24.0296011028444, 23.597134336178964, 22.89817302643825, 21.901274708090487, 21.851980030189956, 22.42951551614664, 21.336752869357095, 20.81459002142005, 19.833701238808036, 19.14266877373317, 18.89169949948341, 17.568963421772505, 17.198027280404713, 16.97133291101959, 16.502119314572585, 14.915868166471395, 13.871954918262377, 13.610370759577723, 13.42929187076242, 13.032259693670529, 12.184578169016707, 11.796621892534818, 18.926320479608194, 224.64411461381474, 37.447880005355884, 53.89467592939123, 42.48235984370566, 104.03610273037545, 123.15272779383457, 142.11447773307023, 286.6771463110385, 149.97403119118522, 154.56522623256976, 38.26302023002696, 123.39371214102843, 102.5787219838139, 126.56619391744648, 88.59280633930744, 73.94603052060775, 64.56135229993788, 88.08090338353635, 102.26673918283167, 53.20495262655674, 37.66821324159812, 109.33586234056806, 62.18200943543024, 68.48308937749412, 45.76012863353069, 43.66692184966083, 53.36388656412105, 44.904786047396556, 97.58826422730192, 60.670619066391104, 54.72097721014847, 35.320591544008444, 30.773611551599224, 28.95657422446908, 28.90306934782792, 28.20995244663435, 26.623942928096017, 24.16851263955696, 20.600558910144795, 20.590092262743457, 17.608486983214878, 16.868334329933376, 16.80021464366119, 16.58787309243021, 16.300164426902352, 16.25818625256991, 15.938049670539696, 15.70023751054062, 15.066828202005503, 15.013740373281854, 14.751756171776227, 14.726049840272145, 14.310901652740299, 14.126136872001302, 13.902904651406033, 13.886961983522601, 13.413459168148307, 13.321269261433045, 50.0671018388022, 31.506594886164994, 17.084001106031728, 18.296046964999203, 35.149537736611016, 68.20013328118195, 27.29492699867066, 27.187671758988735, 17.47989953333092, 27.460395990477075, 16.87827931873555, 26.282939163374234, 23.22192837477357, 22.541511719798173, 21.70455661026385, 20.177048550226854, 19.6368394314892, 19.188486531477047, 18.69998439839982, 17.122008673210225, 15.887946368687876, 14.7443831675426, 14.200720383268356, 13.625923135789092, 13.498520591635419, 13.430381720647569, 13.112967189752313, 13.068108142808455, 13.054922049769505, 12.755040142544084, 12.561416110648299, 11.730267593844736, 11.66679003297778, 11.597319783329365, 11.590729211491414, 11.515872075098914, 11.487430065393326, 11.281217823515082, 10.744092157957843, 10.678425988749987, 10.184036093387974, 49.25708262639118, 16.56546863615138, 13.360003757815706, 38.024483385993065, 31.21779860031907, 26.73352323624952, 22.191118593025305, 13.702127488803919, 14.76382921496773, 18.193912026493578, 15.885613238945904, 15.07423346803836, 14.21116947854042, 16.332415998450664, 14.072031994594182, 36.88596783908594, 23.890573560696442, 20.156969072584413, 19.94202351121172, 18.421343959311443, 18.254400904073957, 15.922523229195143, 15.563267151663515, 13.693001329841305, 12.09874643556376, 12.088538545736995, 11.966263279982, 11.352769449666702, 10.27803206528804, 9.869917600036441, 9.702531367050593, 9.525847108181084, 9.081898805185514, 9.028262108068642, 8.788496851421147, 8.493695709755755, 8.472121921447364, 8.29764136175489, 8.006022567182368, 7.861060779990476, 7.830716599817106, 7.722161559914222, 7.511026978904181, 7.175080831980038, 6.9669692630374245, 60.43599456283396, 15.961012650696507, 12.955129533845081, 19.685098830075493, 40.29428856673054, 17.393209893166965, 13.061730760649086, 19.71892313099584, 13.607985210227282, 16.420519191777583, 10.62975847451347, 19.377354111971623, 17.119207631762727, 14.425678629871438, 13.482316892045223, 18.954841158655782, 15.55756591807552, 10.730803001140536, 11.323851448573532, 94.62468166372297, 24.940472441197134, 24.04339864987917, 22.87301909652292, 21.322751453414416, 20.930240032637542, 20.930240032637542, 15.726800651519813, 15.178752004474307, 13.914666710865882, 12.857704833538211, 12.670254720695986, 12.507561068460188, 12.390259554730617, 12.371841373024814, 12.265575830481415, 12.092464324465439, 10.801777661492979, 10.479601133546955, 10.369858680594845, 10.194183704336792, 10.133469980629505, 10.003292737934538, 9.730392186195736, 9.603197359984687, 9.585423050576793, 9.00693212128612, 8.958538679375234, 8.748152118288674, 8.601701217888142, 8.974636345319372, 17.81238200611757, 31.47328834242051, 45.21818309825557, 20.3051979947044, 48.884646077486444, 46.21178622447614, 25.632351857638877, 24.752853204564655, 14.023367807688173, 18.149523843259807, 11.153327643669638, 12.901314733523828, 13.486484764784816, 14.719097580471418, 11.406885799511706, 10.591053468256332, 10.315300291525398, 10.232038026769478, 9.118271554796767, 8.341874813202827, 8.310729025290945, 8.213495654495373, 6.469936139527907, 6.410263649746741, 6.208957742297847, 6.021777534202621, 5.828149408397102, 5.4061954286559075, 5.341128055758896, 5.315876932087624, 5.167531411559965, 4.994185187352575, 4.764687177261995, 4.560560471261459, 4.509745860715937, 4.497358806715796, 4.354439405624281, 4.319649292106124, 4.22054465395305, 4.097631057153981, 4.055330991035405, 3.9008790346041, 3.7301863093345524, 3.6955963200379656, 16.192824792588535, 5.320479789183715, 12.258408009138558, 12.116962538821774, 23.372884790621537, 13.955012452119336, 14.041218342991456, 10.866510164659015, 11.421367804688431, 9.465065653609805, 7.795045436919112, 6.1640399137095665, 5.594952276782438, 6.312501379222738, 5.4617399592953415], \"Total\": [1903.0, 1681.0, 4415.0, 1382.0, 1350.0, 933.0, 1560.0, 768.0, 778.0, 1623.0, 635.0, 1300.0, 1659.0, 1122.0, 518.0, 976.0, 998.0, 6549.0, 874.0, 1915.0, 1275.0, 3233.0, 1426.0, 858.0, 1375.0, 799.0, 592.0, 3749.0, 613.0, 2634.0, 276.66594404601375, 220.9219891040237, 179.31330635945787, 169.5453188194782, 164.42642191677123, 153.7210066890805, 149.51594206646212, 144.48253009778648, 114.07686852526781, 110.91931593964783, 103.83742802919886, 96.97730784441822, 91.75458869387269, 90.38029319491297, 89.8450367080392, 86.18437948545032, 85.08049739019536, 84.0134179363778, 84.30170190279634, 79.35731455569132, 79.12550475800388, 70.87988987470274, 69.02490495176619, 68.69612374654459, 68.32514058857348, 67.86420213537534, 67.3458357541203, 70.76198239265462, 64.08394564476625, 63.72275832870883, 271.8136947182374, 78.08299734268851, 437.4570820563093, 484.05510234923, 258.12098207460167, 120.82719054243601, 143.96848771016093, 851.8204347399504, 495.92280547755576, 564.8336726330089, 423.27192483244755, 384.31254943913245, 147.92879631766067, 241.12957996141432, 505.69787362680296, 382.40033134750695, 167.97718116214924, 1324.8093499688482, 510.69651919722446, 580.9019628582156, 828.6416832720747, 704.2867505073139, 3233.2165417974343, 760.6097063376549, 4415.367003333143, 656.2544155403324, 1160.0461996052231, 775.9551189450425, 875.6591081765306, 6549.815983274764, 1709.3747133687332, 2443.0763410572667, 1069.5116346171378, 980.8692626886882, 1554.509620682133, 3749.179285545548, 1379.5147789248103, 1426.185032335818, 2297.209879070292, 940.9240993865084, 2227.390099787142, 4240.478393940239, 1430.8837515888217, 1897.9874853349752, 2700.002180444904, 3188.0602352108644, 2665.847242266102, 1244.0806056363251, 2172.0614588374415, 1062.0906128773308, 1046.1960670581502, 1424.4570787986554, 2634.616680109168, 1954.4323049753077, 1305.0131420929126, 3635.259767423008, 1448.1615900112656, 1611.119554758694, 812.1575371978932, 384.11201351894806, 336.8690719887585, 316.6563293797906, 251.885736554443, 1122.844344617657, 175.54644801558672, 174.72507750875502, 149.95950866762598, 145.34571087974496, 117.40591569115637, 114.23732502926292, 110.14400777392095, 106.13604357203883, 99.03258799865078, 95.78017299040737, 89.86073816493108, 89.28673548555571, 89.21018923559518, 87.05175125253433, 86.65905070526922, 83.76097385993079, 81.44938858405834, 81.2498826103846, 81.24688819491641, 79.99939769182653, 79.47112070154208, 78.03683829574814, 76.14369823671493, 76.06707284902267, 298.1058081371939, 149.92142025054116, 274.64998363117496, 174.4054682041856, 109.01916330238359, 489.7185179123976, 379.2179398173898, 226.90877921199836, 443.98646049243814, 431.4120160514814, 541.7290142850443, 613.1276584760107, 718.8190948341836, 284.5844258228434, 359.00263315168013, 581.9581088812376, 281.0980175713189, 275.55695144022104, 344.70375480467777, 389.3029566827549, 291.64743051715095, 610.4929353835009, 856.5305114108323, 419.6432231303662, 431.7006779647899, 1693.2855317160443, 2095.760023411141, 1375.2216264109575, 2057.5717017781344, 4240.478393940239, 1758.938782927044, 1771.0275154098379, 1738.9854985467025, 3749.179285545548, 6549.815983274764, 3635.259767423008, 1155.341751183388, 836.0276044291901, 2634.616680109168, 1572.0738915971026, 2227.390099787142, 2700.002180444904, 1897.9874853349752, 403.1914837019387, 277.5035682745286, 255.84334881008857, 248.4167300961131, 207.14156733463616, 189.71080368950976, 187.70236915239929, 186.70647945549936, 177.9633106709645, 137.44143313919173, 124.95794640188, 124.28649620736941, 120.06943451974588, 119.48146423200639, 114.35091037612814, 109.58817351119056, 104.98214966286808, 101.67970031498294, 90.09749708787997, 87.26854882118624, 84.99753767924241, 83.97405598037747, 82.75969064558166, 81.33546833258524, 80.79898938667006, 77.16949870930884, 76.0118104938734, 75.60545134268186, 73.47662874291609, 71.62944197883233, 1903.1615166137876, 457.68028448769644, 926.8245137594706, 371.44073666886817, 94.49566407199232, 179.0381199178653, 655.3509918689518, 1300.722812858491, 634.2122177139386, 701.8883595724902, 371.26943116502554, 961.6701624498324, 321.4109833434267, 711.6630516024071, 1623.6699338510425, 1070.057729733898, 507.5615887504509, 565.2144270056376, 1491.8635656239026, 597.6112201971068, 577.8560254524875, 378.82064465806195, 747.5685924242507, 489.7407110261753, 1572.0738915971026, 635.1688527572219, 899.1052315988255, 627.9459971493194, 1052.6277631669664, 1001.3119646381464, 3635.259767423008, 2095.760023411141, 522.5032765639403, 1332.8718672138518, 1659.9406113391062, 263.1827460570922, 213.3919095320688, 199.0063045565333, 179.5706275638163, 175.80760007614182, 163.63708683130002, 160.00174256048547, 117.85447266054202, 111.32577231755533, 110.28316005203638, 102.43997983941796, 91.0666185578754, 90.25825583233438, 85.61116533485416, 80.36428573442926, 74.13365962619882, 73.3045003569712, 77.04187222025209, 72.35557262019432, 67.9739772722532, 67.71027255618394, 65.24819455583679, 63.37437734482353, 61.92217609825006, 61.355237703184066, 58.85351672379818, 58.74040560373229, 58.82293123188889, 58.537101374381606, 57.61898297725998, 673.4081930753272, 387.3180068733546, 288.4954453932128, 302.27989551689393, 162.6935020449852, 142.7734206217845, 325.767093949018, 318.35105619005446, 486.1443689025535, 190.2103192455613, 408.45888088725803, 297.8675615401944, 635.4181443320431, 333.1430747947738, 1275.6785602069729, 970.4503689244184, 341.29515929098, 614.9719561228685, 392.15075327309125, 238.00146936425986, 410.293318958044, 422.716495295781, 350.9013435522266, 782.8217576407594, 452.95754804596754, 447.8635867371078, 923.6813830713535, 366.50792231648865, 642.4299546535042, 1954.4323049753077, 4415.367003333143, 6549.815983274764, 1477.0491156343298, 144.4375349824867, 113.8121166054488, 107.18668597016618, 100.23962217555811, 87.38575563695181, 84.57330013677532, 84.33595871093624, 77.71539706655271, 71.8109592080838, 70.92237739196722, 64.8292504693894, 64.81777783177988, 62.55268419552637, 60.64625741102714, 59.720576496880945, 58.69822796960887, 57.78023371644649, 57.49393765427922, 56.929653027398025, 55.371892138119385, 55.05336491179743, 52.0758510622133, 51.361326524459415, 49.85296721858222, 49.09908067032154, 47.5706558304719, 47.09692828399361, 45.516383655308786, 45.43171708240066, 45.28660992245945, 209.51636012092305, 156.1647385503418, 72.41451816914973, 81.78913472395811, 178.53327020831205, 126.15877158310401, 119.89002246349887, 391.9885599828773, 117.74459138819314, 874.6020769762655, 1560.4232594952118, 98.93173196388159, 799.3742048668963, 115.10957404203609, 588.8472065488138, 1417.2587755892175, 324.852015059993, 285.8259395959517, 1567.317922187922, 276.9930909338595, 384.7359219834068, 363.494159812627, 744.8912191159302, 412.154198350702, 2634.616680109168, 772.7003341547662, 632.4509445569843, 225.9839956637104, 446.43552794648633, 3188.0602352108644, 2321.2593066765953, 909.7549667737867, 1254.870557737907, 1484.6829412190268, 1499.753316311136, 4240.478393940239, 622.9152420901688, 2665.847242266102, 3233.2165417974343, 6549.815983274764, 1954.4323049753077, 1115.8947305705321, 998.9850897860898, 2700.002180444904, 873.298807686111, 3635.259767423008, 2443.0763410572667, 2227.390099787142, 687.789700648428, 606.2057441350954, 485.1698584378052, 305.90417714921284, 236.47910431116463, 227.5863599163846, 212.92813093703845, 204.1029850389193, 199.75277243055874, 181.22283069729826, 181.20515519206103, 175.55655227844386, 135.84199938406022, 129.13130748138624, 128.61660616675383, 113.25497899395916, 106.13629019453735, 105.83942892944604, 101.03884557932525, 98.01224680341406, 96.85704625997552, 94.64619209272884, 93.56267154734891, 93.4523946086386, 93.15580209308806, 91.74714885374465, 84.87748381026131, 81.01322679418378, 77.42295411657793, 73.1140599194286, 123.692464781709, 211.22673157021646, 590.0592396169803, 396.033926490179, 211.9496316855856, 132.50674221074746, 396.4953290950316, 337.0308984301247, 1915.9340662156694, 219.82344289365855, 395.233376480412, 622.9152420901688, 356.0337889838005, 633.2739402051948, 4415.367003333143, 623.9584651149806, 480.07947067013976, 358.5636824111447, 501.11664982971246, 640.976842828495, 2321.2593066765953, 1195.1775863886492, 1275.6785602069729, 276.7937034126031, 233.48634578899694, 204.34244135983457, 196.1634056032809, 178.26488252686443, 137.6961445093651, 120.59967662607609, 116.41301120510433, 93.18742244289085, 89.03509170491438, 88.11144764341385, 84.86110059435194, 84.53099357850927, 84.86856496472708, 80.49457324487993, 72.17200321158096, 70.70395230549504, 69.54529128040562, 77.33387932109022, 66.86958878443589, 66.38250597320149, 70.93621117720701, 57.13441611188384, 55.964322597371854, 55.01791068466777, 53.3419838350471, 50.98370683760801, 50.55011041238342, 49.19201815406714, 49.145409100467006, 498.9971072357628, 1382.8391910049443, 178.74106691734906, 174.6637747170645, 97.76997377388169, 177.8599953123863, 195.06885504720114, 96.81403710577213, 136.38808384204188, 410.1120839172458, 166.7798438267387, 256.3928181376638, 292.27483112598617, 1332.8718672138518, 240.73660889046528, 907.3968986528499, 376.66377754704524, 239.93446735681525, 496.79777026127687, 261.3294941266985, 2095.760023411141, 3635.259767423008, 686.4338543777288, 539.6993250027782, 2321.2593066765953, 1491.8635656239026, 623.3099110420958, 1001.3119646381464, 3188.0602352108644, 1155.341751183388, 244.3523473425994, 203.22602649795905, 174.3051310057411, 120.26991476336308, 105.43712307083653, 98.24645486845324, 75.42697261431489, 63.063602367399405, 53.53372840950018, 48.1514546531559, 47.19271473703604, 46.690400662711674, 42.29703714986016, 41.251355618196854, 41.09543346009709, 39.54153208989132, 39.48037448367361, 38.21013163796008, 37.611969710328495, 33.72329548455288, 31.93720557073473, 31.791546715019813, 31.433746087109025, 31.401383611563126, 31.2478367116827, 30.679818307507148, 30.179248341008627, 31.18787287448827, 29.287813178719677, 28.52471681792744, 78.91869499860967, 496.2150656498061, 120.16329362949216, 1350.5415300097109, 708.33119815097, 976.8274453752801, 468.9641478375755, 150.03771786290278, 858.5913133781859, 445.20231128761566, 175.2736341873582, 1681.2159962887795, 310.85463436567636, 1084.8385655970371, 549.8043576185686, 74.80002272838121, 1659.9406113391062, 436.38584239876843, 166.80121279157927, 365.1382707908077, 694.1859948768562, 1375.2216264109575, 239.1606028776522, 857.1224055448812, 884.2898012245118, 574.8794173627306, 899.1052315988255, 643.7226471326326, 527.1538113114804, 1738.9854985467025, 539.6993250027782, 1192.01572499732, 650.2493087530011, 1453.9793274186516, 3749.179285545548, 6549.815983274764, 177.85488635760186, 126.03009716070878, 120.32471208744855, 118.56761784475549, 117.74093116892284, 116.77755060348441, 113.45105202087811, 83.89318053053745, 82.91346642572795, 79.59217384248826, 78.842171166796, 77.31880760749465, 72.40855256164579, 90.60037047699039, 68.4375073884621, 68.15598591331131, 217.76396142408444, 67.80880133574617, 64.95537018746005, 63.013074403177185, 62.610291237949156, 59.36142494280166, 57.08167208618573, 51.08088827401995, 50.58057294719131, 50.565349256796445, 50.46434419631283, 48.64618802200613, 48.7368368113074, 47.66593509214779, 332.55867731284127, 89.01157544158274, 460.53163022974275, 138.98722979010654, 191.08756406733883, 70.57113095107238, 632.3169926019445, 551.8840320934141, 103.45981824994213, 244.20318106926163, 172.56955649811155, 140.88611278404647, 344.7262262113554, 405.1150053840695, 502.44122418833075, 383.78714258281843, 136.14115967065416, 269.49965997549623, 568.5264893562431, 252.03596471202144, 497.03926320467997, 238.5672495291768, 499.17833830844796, 642.4299546535042, 233.7884755413328, 1623.6699338510425, 248.25268231540278, 490.0874019089373, 315.08631781997883, 1484.6829412190268, 1659.9406113391062, 1560.4232594952118, 1453.9793274186516, 336.8955977617359, 538.3891066375547, 403.8553030214598, 238.32863524545587, 237.52793457455633, 198.68440239356184, 182.00357228577113, 151.4258002516907, 150.3706485565394, 148.6178213491688, 103.5889188719439, 102.64395759669907, 99.89223733940635, 89.24719019628664, 73.94171404789583, 72.95107536538156, 72.26456212338785, 70.33974611694362, 67.0304280009737, 59.0763033740895, 58.75674494844474, 58.25795245334819, 57.19482053191718, 56.882339582905935, 56.16501320450313, 54.57433370845114, 52.408190756269484, 52.3805462035994, 51.13101020603049, 47.473779584729655, 45.921255140975276, 449.05741637464087, 342.7938239126133, 288.4413597469554, 506.4084224978826, 692.5308788454095, 275.2803306594737, 120.86985751166043, 219.56067637409745, 174.75249615007087, 923.6813830713535, 490.0874019089373, 210.30414265473735, 643.7226471326326, 184.64860032780496, 280.0326646474194, 373.3455599416908, 1275.6785602069729, 2095.760023411141, 1332.8718672138518, 527.1538113114804, 2057.5717017781344, 1453.9793274186516, 643.1120002250664, 1659.9406113391062, 376.45082752188927, 1572.0738915971026, 933.7588072733519, 386.95557345770106, 537.5547358617218, 177.4777935347188, 190.9582398045178, 167.88168811454713, 137.48887487660508, 245.6502526018759, 430.86321967923885, 111.71717448886143, 105.47101337333694, 97.03098122529899, 96.638301596672, 592.8779592728321, 93.28343974684624, 88.30206510630973, 84.54193766805412, 82.14260867306324, 78.36366002195744, 77.94639105313337, 77.36674692995967, 74.3981920742248, 68.04937245454447, 64.39951494719868, 63.28818434502874, 465.89935818937903, 62.7208279313408, 53.23546940662705, 54.594333703961894, 52.6434834884587, 137.72770665589252, 389.13444989389717, 90.46414739042055, 193.41625474768767, 219.3435013538827, 205.64870227396736, 187.4052779227547, 427.7670769089788, 118.87534923390305, 325.50327675992094, 561.5321211957455, 314.7045916513756, 316.6031657341176, 648.6034200411342, 144.82145350778478, 1426.185032335818, 444.69006303802996, 186.33761190312944, 703.3863277911985, 359.4551295731134, 176.82487801892208, 145.60820286008078, 132.61345234704405, 122.86487921814268, 117.28746379763491, 94.3928270006676, 94.26501418176363, 92.40661465426683, 91.45676476065431, 86.91899979805315, 84.08010586430757, 82.0393481409675, 78.99201551252534, 77.1995549693019, 75.5951617051236, 74.52847270850064, 74.47705231668748, 66.37975339178854, 61.858200221494855, 60.87758471885681, 59.671410605176845, 56.363320102128576, 55.397356222184996, 54.71907364721892, 54.653588438475516, 54.6333388791799, 54.557118726939294, 48.78761615511784, 48.70978464892911, 47.39772391936194, 87.82923019291127, 198.48051793668887, 88.99540192407146, 135.28720170448065, 231.1139710820633, 223.4237232010038, 162.88155019747896, 192.14773965728352, 107.43980624250983, 130.06645598064378, 514.9824378038059, 368.6569657696448, 622.8120491860441, 446.43552794648633, 158.20528048930103, 261.6882891806775, 115.20257895955675, 799.3742048668963, 136.6802909399505, 874.6020769762655, 179.25983567784994, 163.80698171385168, 588.8472065488138, 1155.341751183388, 263.34406595597574, 384.7359219834068, 2321.2593066765953, 276.9930909338595, 1021.4927564954568, 213.15045336771206, 199.57070271352603, 126.57935486411533, 74.79143368772223, 69.40053630465125, 60.02763152101748, 56.45494911275473, 56.17373205091744, 49.48990491970075, 45.131025195963325, 42.362486071524586, 37.53774076926792, 34.72436604961184, 32.28431592545866, 29.584520814549563, 29.030637152522694, 28.793141275615493, 26.250629862710717, 22.30601745703639, 21.574755615480438, 19.405019354883233, 19.01474865757341, 17.512641312088657, 17.009958084341317, 16.606736360953633, 16.054309240431742, 16.01465746395222, 14.74491948284266, 14.567073810418297, 13.552843554383506, 768.0361000237315, 231.34138533869336, 25.168520573515263, 40.965623766290626, 362.6622851621225, 59.46079439510914, 83.07843968458289, 778.6491994708291, 364.9926117336563, 42.14705236092047, 79.53963538761558, 81.47357280141541, 293.6212942824872, 412.9068774109007, 128.63505876462452, 242.98700692401096, 440.9083800281797, 399.8400712089387, 122.2388191524526, 577.8560254524875, 663.579989222336, 114.3066763877321, 534.1895452763512, 636.4382247822805, 222.29919235876937, 240.41946456269702, 1052.6277631669664, 280.0326646474194, 507.95282491994686, 288.5736733831544, 1623.6699338510425, 860.319988053787, 518.0202943078782, 318.03708072652785, 210.65728153359615, 110.25695335607013, 100.11850755507541, 77.51063690952098, 72.77821985983884, 67.61781695792133, 66.08273342493175, 61.24502893801982, 56.00314532597968, 42.35151250109092, 40.53114862926622, 36.229515397351165, 31.07929269643899, 28.99869524077074, 28.054772230581417, 27.687145541734967, 25.224900367801713, 24.406394542751315, 24.382859793461755, 23.918944106088592, 21.667898586425995, 21.042213764940524, 20.804988559107535, 20.68849176370719, 18.986917788586933, 18.314284188831838, 17.733077605729267, 17.057375204176637, 30.171324425274662, 55.1651924240264, 73.61797535614873, 41.89935817495284, 77.0574724372061, 109.02533741283102, 61.44345028019002, 259.183475731127, 358.5636824111447, 255.8274086414389, 590.0592396169803, 130.45626681960732, 184.50949881279922, 613.1276584760107, 147.74784757893264, 93.1944361821019, 56.25656716082074, 264.7260965873098, 568.5264893562431, 1028.3064676313566, 148.99809709455272, 89.80405950594698, 73.44249457399141, 62.83449656363037, 58.458225745950365, 29.493727337262793, 27.61353436995378, 27.226843124780608, 24.916797695186556, 24.48433088523558, 23.785369550557274, 22.788471270513252, 22.739176551285794, 23.351337016540775, 22.22394939604509, 21.70178657282904, 20.720897768375533, 20.02986531514862, 19.77889604332179, 18.456159964787552, 18.085223830764253, 17.858529455618356, 17.38934629842164, 15.803064719667734, 14.759151456168908, 14.497567337767908, 14.316488391858258, 13.919456238728682, 13.071774709066567, 12.683818433841651, 20.46803449069822, 288.47525736319454, 43.973617072166896, 67.14607662937796, 52.50134251790444, 146.68023964401308, 215.88583448105973, 261.2188689950154, 635.1688527572219, 298.8956946894266, 348.01236496592526, 53.033615354644375, 303.8252041583037, 241.84893378439205, 374.7676009338259, 232.5139501760817, 326.98573067429965, 266.1862137829409, 610.4929353835009, 998.9850897860898, 197.15991306466415, 83.6870158670251, 1560.4232594952118, 360.0569195533169, 572.5682301420666, 208.89443073790352, 189.88249573035276, 858.5913133781859, 588.8472065488138, 98.47472331368273, 61.55707815277189, 55.60743629955244, 36.207050640218576, 31.66007064403156, 29.843033327430206, 29.78982663491677, 29.096411533015143, 27.51045094079285, 25.054971730187205, 21.487018026000772, 21.47655136400145, 18.49494606959567, 17.754793435443034, 17.686673733443087, 17.474332178811004, 17.186623528826637, 17.14464535394881, 16.82450878978906, 16.586696609751918, 15.953287419118729, 15.900199459662646, 15.63821530356731, 15.61250893921072, 15.197360789041953, 15.012595993282435, 14.789363750063533, 14.773422192419078, 14.299918268728508, 14.207728347813838, 56.66144252959467, 36.3813389227747, 18.68122490932861, 20.493013946671088, 47.75504436928619, 123.2902274830985, 37.64181658338427, 39.26317882558295, 20.188866579662616, 50.09842786897393, 52.349560563307875, 27.174909135326796, 24.113958576216863, 23.43348170839413, 22.596526582216413, 21.069018526727486, 20.52880943578524, 20.080456563616007, 19.59195439843602, 18.01397869770676, 16.779916343364675, 15.636353192261463, 15.092690377929028, 14.517893126244687, 14.390490583375122, 14.322351692600131, 14.004937165165424, 13.960078136680226, 13.946892029512549, 13.647010120947886, 13.453386091099766, 12.622237603925223, 12.558760022550343, 12.489289755281927, 12.482699192528266, 12.40784205264363, 12.37940006806963, 12.17318784211628, 11.636062209435867, 11.57039596070255, 11.076006082338347, 55.97689514948284, 18.473881148766218, 14.726008194646008, 65.7136937781348, 56.52122147158245, 46.35915951109727, 40.25242226385839, 19.354900390982056, 24.370262480128357, 60.7407814205579, 49.23545149163536, 48.06337485867023, 31.74560394353499, 151.17551570294165, 41.99906479770338, 37.781542197025004, 24.786147910037094, 21.052543449677856, 20.837597886722822, 19.31691832745114, 19.14997525748188, 16.818097591607728, 16.4588414964561, 14.588575702598881, 12.994320780356341, 12.984112932793025, 12.861837624774582, 12.24834379875849, 11.173606410080621, 10.765491962983651, 10.598105868921234, 10.421421491286596, 9.977473221701993, 9.923836452861224, 9.68407119621373, 9.389270077340317, 9.367696273161046, 9.193215712599015, 8.90159691197495, 8.756635160664546, 8.726290944609689, 8.617735907431042, 8.406601323696764, 8.070655187123368, 7.862543607830008, 73.89876412003424, 19.925580999164367, 16.087864614536137, 27.507505878873733, 69.08869124293246, 26.653380828560138, 21.720660212344292, 53.94763207962995, 33.32849934234576, 56.64948691849184, 17.352502723839685, 120.83828624570431, 89.85031094372727, 50.24907535619756, 39.92327231616783, 216.34147898337497, 248.25268231540278, 19.599740557912504, 166.43902765214972, 95.52011992531449, 25.83591074294015, 24.93883691147068, 23.768457358114432, 22.218189786741984, 21.825678294229053, 21.825678294229053, 16.622238939038557, 16.074190266065816, 14.810104972457392, 13.753143099428925, 13.565692982287496, 13.402999345788956, 13.285697816322127, 13.26727965571198, 13.161014092072925, 12.987902592000514, 11.697215923084489, 11.375039395138465, 11.265297065356854, 11.089621983080036, 11.028908340258775, 10.898730999526048, 10.625830473563914, 10.49863572603004, 10.480861318652037, 9.90237038287763, 9.853976940966744, 9.643590452251658, 9.497139586702804, 9.913472753350806, 21.11087089552222, 39.858829919200076, 62.49091723886493, 29.612110536689645, 99.65972175399466, 191.46633050442614, 96.73278694638172, 146.7692862994241, 69.27015367838908, 376.66377754704524, 18.955133286581145, 72.1748510580051, 217.30340542856447, 1350.5415300097109, 12.30759394203004, 11.491761642870934, 11.216008434043733, 11.132746363149568, 10.018979705622076, 9.242582955721161, 9.211437177868591, 9.114203958874299, 7.370644319125394, 7.310971792265075, 7.109665888276731, 6.922486075906392, 6.7288575702568725, 6.306903776907291, 6.241836202526683, 6.216585086649354, 6.068239557944989, 5.894893349447932, 5.665395324328398, 5.461268623609137, 5.410454003234271, 5.398066956261992, 5.255147620819922, 5.220357434624458, 5.121252836404287, 4.998339203539005, 4.956039133553739, 4.801587184882189, 4.63089449691091, 4.596304504493363, 25.309406646287595, 7.01186401733691, 18.89348704884235, 20.01584758149553, 52.65270669484297, 49.04331911918363, 62.18581639644683, 41.743750313384496, 57.35148403559663, 63.309041766911704, 88.91020269833079, 35.32096762826475, 18.914758270949818, 217.30340542856447, 84.18842001734741], \"Category\": [\"Default\", \"Default\", \"Default\", \"Default\", \"Default\", \"Default\", \"Default\", \"Default\", \"Default\", \"Default\", \"Default\", \"Default\", \"Default\", \"Default\", \"Default\", \"Default\", \"Default\", \"Default\", \"Default\", \"Default\", \"Default\", \"Default\", \"Default\", \"Default\", \"Default\", \"Default\", \"Default\", \"Default\", \"Default\", \"Default\", \"Topic1\", \"Topic1\", \"Topic1\", \"Topic1\", \"Topic1\", \"Topic1\", \"Topic1\", \"Topic1\", \"Topic1\", \"Topic1\", \"Topic1\", \"Topic1\", \"Topic1\", \"Topic1\", \"Topic1\", \"Topic1\", \"Topic1\", \"Topic1\", \"Topic1\", \"Topic1\", \"Topic1\", \"Topic1\", \"Topic1\", \"Topic1\", \"Topic1\", \"Topic1\", \"Topic1\", \"Topic1\", \"Topic1\", \"Topic1\", \"Topic1\", \"Topic1\", \"Topic1\", \"Topic1\", \"Topic1\", \"Topic1\", \"Topic1\", \"Topic1\", \"Topic1\", \"Topic1\", \"Topic1\", \"Topic1\", \"Topic1\", \"Topic1\", \"Topic1\", \"Topic1\", \"Topic1\", \"Topic1\", \"Topic1\", \"Topic1\", \"Topic1\", \"Topic1\", \"Topic1\", \"Topic1\", \"Topic1\", \"Topic1\", \"Topic1\", \"Topic1\", \"Topic1\", \"Topic1\", \"Topic1\", \"Topic1\", \"Topic1\", \"Topic1\", \"Topic1\", \"Topic1\", \"Topic1\", \"Topic1\", \"Topic1\", \"Topic1\", \"Topic1\", \"Topic1\", \"Topic1\", \"Topic1\", \"Topic1\", \"Topic1\", \"Topic1\", \"Topic1\", \"Topic1\", \"Topic1\", \"Topic1\", \"Topic1\", \"Topic1\", \"Topic1\", \"Topic1\", \"Topic1\", \"Topic1\", \"Topic1\", \"Topic2\", \"Topic2\", \"Topic2\", \"Topic2\", \"Topic2\", \"Topic2\", \"Topic2\", \"Topic2\", \"Topic2\", \"Topic2\", \"Topic2\", \"Topic2\", \"Topic2\", \"Topic2\", \"Topic2\", \"Topic2\", \"Topic2\", \"Topic2\", \"Topic2\", \"Topic2\", \"Topic2\", \"Topic2\", \"Topic2\", \"Topic2\", \"Topic2\", \"Topic2\", \"Topic2\", \"Topic2\", \"Topic2\", \"Topic2\", \"Topic2\", \"Topic2\", \"Topic2\", \"Topic2\", \"Topic2\", \"Topic2\", \"Topic2\", \"Topic2\", \"Topic2\", \"Topic2\", \"Topic2\", \"Topic2\", \"Topic2\", \"Topic2\", \"Topic2\", \"Topic2\", \"Topic2\", \"Topic2\", \"Topic2\", \"Topic2\", \"Topic2\", \"Topic2\", \"Topic2\", \"Topic2\", \"Topic2\", \"Topic2\", \"Topic2\", \"Topic2\", \"Topic2\", \"Topic2\", \"Topic2\", \"Topic2\", \"Topic2\", \"Topic2\", \"Topic2\", \"Topic2\", \"Topic2\", \"Topic2\", \"Topic2\", \"Topic2\", \"Topic2\", \"Topic2\", \"Topic2\", \"Topic3\", \"Topic3\", \"Topic3\", \"Topic3\", \"Topic3\", \"Topic3\", \"Topic3\", \"Topic3\", \"Topic3\", \"Topic3\", \"Topic3\", \"Topic3\", \"Topic3\", \"Topic3\", \"Topic3\", \"Topic3\", \"Topic3\", \"Topic3\", \"Topic3\", \"Topic3\", \"Topic3\", \"Topic3\", \"Topic3\", \"Topic3\", \"Topic3\", \"Topic3\", \"Topic3\", \"Topic3\", \"Topic3\", \"Topic3\", \"Topic3\", \"Topic3\", \"Topic3\", \"Topic3\", \"Topic3\", \"Topic3\", \"Topic3\", \"Topic3\", \"Topic3\", \"Topic3\", \"Topic3\", \"Topic3\", \"Topic3\", \"Topic3\", \"Topic3\", \"Topic3\", \"Topic3\", \"Topic3\", \"Topic3\", \"Topic3\", \"Topic3\", \"Topic3\", \"Topic3\", \"Topic3\", \"Topic3\", \"Topic3\", \"Topic3\", \"Topic3\", \"Topic3\", \"Topic3\", \"Topic3\", \"Topic3\", \"Topic3\", \"Topic3\", \"Topic3\", \"Topic4\", \"Topic4\", \"Topic4\", \"Topic4\", \"Topic4\", \"Topic4\", \"Topic4\", \"Topic4\", \"Topic4\", \"Topic4\", \"Topic4\", \"Topic4\", \"Topic4\", \"Topic4\", \"Topic4\", \"Topic4\", \"Topic4\", \"Topic4\", \"Topic4\", \"Topic4\", \"Topic4\", \"Topic4\", \"Topic4\", \"Topic4\", \"Topic4\", \"Topic4\", \"Topic4\", \"Topic4\", \"Topic4\", \"Topic4\", \"Topic4\", \"Topic4\", \"Topic4\", \"Topic4\", \"Topic4\", \"Topic4\", \"Topic4\", \"Topic4\", \"Topic4\", \"Topic4\", \"Topic4\", \"Topic4\", \"Topic4\", \"Topic4\", \"Topic4\", \"Topic4\", \"Topic4\", \"Topic4\", \"Topic4\", \"Topic4\", \"Topic4\", \"Topic4\", \"Topic4\", \"Topic4\", \"Topic4\", \"Topic4\", \"Topic4\", \"Topic4\", \"Topic4\", \"Topic4\", \"Topic4\", \"Topic4\", \"Topic4\", \"Topic5\", \"Topic5\", \"Topic5\", \"Topic5\", \"Topic5\", \"Topic5\", \"Topic5\", \"Topic5\", \"Topic5\", \"Topic5\", \"Topic5\", \"Topic5\", \"Topic5\", \"Topic5\", \"Topic5\", \"Topic5\", \"Topic5\", \"Topic5\", \"Topic5\", \"Topic5\", \"Topic5\", \"Topic5\", \"Topic5\", \"Topic5\", \"Topic5\", \"Topic5\", \"Topic5\", \"Topic5\", \"Topic5\", \"Topic5\", \"Topic5\", \"Topic5\", \"Topic5\", \"Topic5\", \"Topic5\", \"Topic5\", \"Topic5\", \"Topic5\", \"Topic5\", \"Topic5\", \"Topic5\", \"Topic5\", \"Topic5\", \"Topic5\", \"Topic5\", \"Topic5\", \"Topic5\", \"Topic5\", \"Topic5\", \"Topic5\", \"Topic5\", \"Topic5\", \"Topic5\", \"Topic5\", \"Topic5\", \"Topic5\", \"Topic5\", \"Topic5\", \"Topic5\", \"Topic5\", \"Topic5\", \"Topic5\", \"Topic5\", \"Topic5\", \"Topic5\", \"Topic5\", \"Topic5\", \"Topic5\", \"Topic5\", \"Topic5\", \"Topic5\", \"Topic5\", \"Topic5\", \"Topic5\", \"Topic5\", \"Topic5\", \"Topic5\", \"Topic5\", \"Topic6\", \"Topic6\", \"Topic6\", \"Topic6\", \"Topic6\", \"Topic6\", \"Topic6\", \"Topic6\", \"Topic6\", \"Topic6\", \"Topic6\", \"Topic6\", \"Topic6\", \"Topic6\", \"Topic6\", \"Topic6\", \"Topic6\", \"Topic6\", \"Topic6\", \"Topic6\", \"Topic6\", \"Topic6\", \"Topic6\", \"Topic6\", \"Topic6\", \"Topic6\", \"Topic6\", \"Topic6\", \"Topic6\", \"Topic6\", \"Topic6\", \"Topic6\", \"Topic6\", \"Topic6\", \"Topic6\", \"Topic6\", \"Topic6\", \"Topic6\", \"Topic6\", \"Topic6\", \"Topic6\", \"Topic6\", \"Topic6\", \"Topic6\", \"Topic6\", \"Topic6\", \"Topic6\", \"Topic6\", \"Topic6\", \"Topic6\", \"Topic6\", \"Topic6\", \"Topic6\", \"Topic7\", \"Topic7\", \"Topic7\", \"Topic7\", \"Topic7\", \"Topic7\", \"Topic7\", \"Topic7\", \"Topic7\", \"Topic7\", \"Topic7\", \"Topic7\", \"Topic7\", \"Topic7\", \"Topic7\", \"Topic7\", \"Topic7\", \"Topic7\", \"Topic7\", \"Topic7\", \"Topic7\", \"Topic7\", \"Topic7\", \"Topic7\", \"Topic7\", \"Topic7\", \"Topic7\", \"Topic7\", \"Topic7\", \"Topic7\", \"Topic7\", \"Topic7\", \"Topic7\", \"Topic7\", \"Topic7\", \"Topic7\", \"Topic7\", \"Topic7\", \"Topic7\", \"Topic7\", \"Topic7\", \"Topic7\", \"Topic7\", \"Topic7\", \"Topic7\", \"Topic7\", \"Topic7\", \"Topic7\", \"Topic7\", \"Topic7\", \"Topic7\", \"Topic7\", \"Topic7\", \"Topic7\", \"Topic7\", \"Topic7\", \"Topic7\", \"Topic7\", \"Topic7\", \"Topic7\", \"Topic8\", \"Topic8\", \"Topic8\", \"Topic8\", \"Topic8\", \"Topic8\", \"Topic8\", \"Topic8\", \"Topic8\", \"Topic8\", \"Topic8\", \"Topic8\", \"Topic8\", \"Topic8\", \"Topic8\", \"Topic8\", \"Topic8\", \"Topic8\", \"Topic8\", \"Topic8\", \"Topic8\", \"Topic8\", \"Topic8\", \"Topic8\", \"Topic8\", \"Topic8\", \"Topic8\", \"Topic8\", \"Topic8\", \"Topic8\", \"Topic8\", \"Topic8\", \"Topic8\", \"Topic8\", \"Topic8\", \"Topic8\", \"Topic8\", \"Topic8\", \"Topic8\", \"Topic8\", \"Topic8\", \"Topic8\", \"Topic8\", \"Topic8\", \"Topic8\", \"Topic8\", \"Topic8\", \"Topic8\", \"Topic8\", \"Topic8\", \"Topic8\", \"Topic8\", \"Topic8\", \"Topic8\", \"Topic8\", \"Topic8\", \"Topic8\", \"Topic8\", \"Topic8\", \"Topic8\", \"Topic8\", \"Topic8\", \"Topic8\", \"Topic8\", \"Topic8\", \"Topic8\", \"Topic9\", \"Topic9\", \"Topic9\", \"Topic9\", \"Topic9\", \"Topic9\", \"Topic9\", \"Topic9\", \"Topic9\", \"Topic9\", \"Topic9\", \"Topic9\", \"Topic9\", \"Topic9\", \"Topic9\", \"Topic9\", \"Topic9\", \"Topic9\", \"Topic9\", \"Topic9\", \"Topic9\", \"Topic9\", \"Topic9\", \"Topic9\", \"Topic9\", \"Topic9\", \"Topic9\", \"Topic9\", \"Topic9\", \"Topic9\", \"Topic9\", \"Topic9\", \"Topic9\", \"Topic9\", \"Topic9\", \"Topic9\", \"Topic9\", \"Topic9\", \"Topic9\", \"Topic9\", \"Topic9\", \"Topic9\", \"Topic9\", \"Topic9\", \"Topic9\", \"Topic9\", \"Topic9\", \"Topic9\", \"Topic9\", \"Topic9\", \"Topic9\", \"Topic9\", \"Topic9\", \"Topic9\", \"Topic9\", \"Topic9\", \"Topic9\", \"Topic9\", \"Topic9\", \"Topic9\", \"Topic9\", \"Topic9\", \"Topic9\", \"Topic9\", \"Topic10\", \"Topic10\", \"Topic10\", \"Topic10\", \"Topic10\", \"Topic10\", \"Topic10\", \"Topic10\", \"Topic10\", \"Topic10\", \"Topic10\", \"Topic10\", \"Topic10\", \"Topic10\", \"Topic10\", \"Topic10\", \"Topic10\", \"Topic10\", \"Topic10\", \"Topic10\", \"Topic10\", \"Topic10\", \"Topic10\", \"Topic10\", \"Topic10\", \"Topic10\", \"Topic10\", \"Topic10\", \"Topic10\", \"Topic10\", \"Topic10\", \"Topic10\", \"Topic10\", \"Topic10\", \"Topic10\", \"Topic10\", \"Topic10\", \"Topic10\", \"Topic10\", \"Topic10\", \"Topic10\", \"Topic10\", \"Topic10\", \"Topic10\", \"Topic10\", \"Topic10\", \"Topic10\", \"Topic10\", \"Topic10\", \"Topic10\", \"Topic10\", \"Topic10\", \"Topic10\", \"Topic10\", \"Topic10\", \"Topic10\", \"Topic11\", \"Topic11\", \"Topic11\", \"Topic11\", \"Topic11\", \"Topic11\", \"Topic11\", \"Topic11\", \"Topic11\", \"Topic11\", \"Topic11\", \"Topic11\", \"Topic11\", \"Topic11\", \"Topic11\", \"Topic11\", \"Topic11\", \"Topic11\", \"Topic11\", \"Topic11\", \"Topic11\", \"Topic11\", \"Topic11\", \"Topic11\", \"Topic11\", \"Topic11\", \"Topic11\", \"Topic11\", \"Topic11\", \"Topic11\", \"Topic11\", \"Topic11\", \"Topic11\", \"Topic11\", \"Topic11\", \"Topic11\", \"Topic11\", \"Topic11\", \"Topic11\", \"Topic11\", \"Topic11\", \"Topic11\", \"Topic11\", \"Topic11\", \"Topic11\", \"Topic11\", \"Topic11\", \"Topic11\", \"Topic11\", \"Topic11\", \"Topic12\", \"Topic12\", \"Topic12\", \"Topic12\", \"Topic12\", \"Topic12\", \"Topic12\", \"Topic12\", \"Topic12\", \"Topic12\", \"Topic12\", \"Topic12\", \"Topic12\", \"Topic12\", \"Topic12\", \"Topic12\", \"Topic12\", \"Topic12\", \"Topic12\", \"Topic12\", \"Topic12\", \"Topic12\", \"Topic12\", \"Topic12\", \"Topic12\", \"Topic12\", \"Topic12\", \"Topic12\", \"Topic12\", \"Topic12\", \"Topic12\", \"Topic12\", \"Topic12\", \"Topic12\", \"Topic12\", \"Topic12\", \"Topic12\", \"Topic12\", \"Topic12\", \"Topic12\", \"Topic12\", \"Topic12\", \"Topic12\", \"Topic12\", \"Topic12\", \"Topic12\", \"Topic12\", \"Topic12\", \"Topic12\", \"Topic12\", \"Topic12\", \"Topic12\", \"Topic12\", \"Topic12\", \"Topic12\", \"Topic12\", \"Topic12\", \"Topic12\", \"Topic12\", \"Topic13\", \"Topic13\", \"Topic13\", \"Topic13\", \"Topic13\", \"Topic13\", \"Topic13\", \"Topic13\", \"Topic13\", \"Topic13\", \"Topic13\", \"Topic13\", \"Topic13\", \"Topic13\", \"Topic13\", \"Topic13\", \"Topic13\", \"Topic13\", \"Topic13\", \"Topic13\", \"Topic13\", \"Topic13\", \"Topic13\", \"Topic13\", \"Topic13\", \"Topic13\", \"Topic13\", \"Topic13\", \"Topic13\", \"Topic13\", \"Topic13\", \"Topic13\", \"Topic13\", \"Topic13\", \"Topic13\", \"Topic13\", \"Topic13\", \"Topic13\", \"Topic13\", \"Topic13\", \"Topic13\", \"Topic13\", \"Topic13\", \"Topic13\", \"Topic13\", \"Topic13\", \"Topic13\", \"Topic13\", \"Topic13\", \"Topic13\", \"Topic13\", \"Topic13\", \"Topic13\", \"Topic13\", \"Topic13\", \"Topic13\", \"Topic13\", \"Topic13\", \"Topic13\", \"Topic13\", \"Topic13\", \"Topic13\", \"Topic14\", \"Topic14\", \"Topic14\", \"Topic14\", \"Topic14\", \"Topic14\", \"Topic14\", \"Topic14\", \"Topic14\", \"Topic14\", \"Topic14\", \"Topic14\", \"Topic14\", \"Topic14\", \"Topic14\", \"Topic14\", \"Topic14\", \"Topic14\", \"Topic14\", \"Topic14\", \"Topic14\", \"Topic14\", \"Topic14\", \"Topic14\", \"Topic14\", \"Topic14\", \"Topic14\", \"Topic14\", \"Topic14\", \"Topic14\", \"Topic14\", \"Topic14\", \"Topic14\", \"Topic14\", \"Topic14\", \"Topic14\", \"Topic14\", \"Topic14\", \"Topic14\", \"Topic14\", \"Topic14\", \"Topic14\", \"Topic14\", \"Topic14\", \"Topic14\", \"Topic14\", \"Topic14\", \"Topic14\", \"Topic14\", \"Topic14\", \"Topic15\", \"Topic15\", \"Topic15\", \"Topic15\", \"Topic15\", \"Topic15\", \"Topic15\", \"Topic15\", \"Topic15\", \"Topic15\", \"Topic15\", \"Topic15\", \"Topic15\", \"Topic15\", \"Topic15\", \"Topic15\", \"Topic15\", \"Topic15\", \"Topic15\", \"Topic15\", \"Topic15\", \"Topic15\", \"Topic15\", \"Topic15\", \"Topic15\", \"Topic15\", \"Topic15\", \"Topic15\", \"Topic15\", \"Topic15\", \"Topic15\", \"Topic15\", \"Topic15\", \"Topic15\", \"Topic15\", \"Topic15\", \"Topic15\", \"Topic15\", \"Topic15\", \"Topic15\", \"Topic15\", \"Topic15\", \"Topic15\", \"Topic15\", \"Topic15\", \"Topic15\", \"Topic15\", \"Topic15\", \"Topic15\", \"Topic15\", \"Topic15\", \"Topic15\", \"Topic15\", \"Topic15\", \"Topic15\", \"Topic15\", \"Topic15\", \"Topic15\", \"Topic15\", \"Topic16\", \"Topic16\", \"Topic16\", \"Topic16\", \"Topic16\", \"Topic16\", \"Topic16\", \"Topic16\", \"Topic16\", \"Topic16\", \"Topic16\", \"Topic16\", \"Topic16\", \"Topic16\", \"Topic16\", \"Topic16\", \"Topic16\", \"Topic16\", \"Topic16\", \"Topic16\", \"Topic16\", \"Topic16\", \"Topic16\", \"Topic16\", \"Topic16\", \"Topic16\", \"Topic16\", \"Topic16\", \"Topic16\", \"Topic16\", \"Topic16\", \"Topic16\", \"Topic16\", \"Topic16\", \"Topic16\", \"Topic16\", \"Topic16\", \"Topic16\", \"Topic16\", \"Topic16\", \"Topic16\", \"Topic17\", \"Topic17\", \"Topic17\", \"Topic17\", \"Topic17\", \"Topic17\", \"Topic17\", \"Topic17\", \"Topic17\", \"Topic17\", \"Topic17\", \"Topic17\", \"Topic17\", \"Topic17\", \"Topic17\", \"Topic17\", \"Topic17\", \"Topic17\", \"Topic17\", \"Topic17\", \"Topic17\", \"Topic17\", \"Topic17\", \"Topic17\", \"Topic17\", \"Topic17\", \"Topic17\", \"Topic17\", \"Topic17\", \"Topic17\", \"Topic17\", \"Topic17\", \"Topic17\", \"Topic17\", \"Topic17\", \"Topic17\", \"Topic17\", \"Topic17\", \"Topic17\", \"Topic17\", \"Topic17\", \"Topic17\", \"Topic17\", \"Topic17\", \"Topic17\", \"Topic18\", \"Topic18\", \"Topic18\", \"Topic18\", \"Topic18\", \"Topic18\", \"Topic18\", \"Topic18\", \"Topic18\", \"Topic18\", \"Topic18\", \"Topic18\", \"Topic18\", \"Topic18\", \"Topic18\", \"Topic18\", \"Topic18\", \"Topic18\", \"Topic18\", \"Topic18\", \"Topic18\", \"Topic18\", \"Topic18\", \"Topic18\", \"Topic18\", \"Topic18\", \"Topic18\", \"Topic18\", \"Topic18\", \"Topic18\", \"Topic18\", \"Topic18\", \"Topic18\", \"Topic18\", \"Topic18\", \"Topic18\", \"Topic18\", \"Topic18\", \"Topic18\", \"Topic18\", \"Topic18\", \"Topic18\", \"Topic18\", \"Topic18\", \"Topic18\", \"Topic18\", \"Topic18\", \"Topic18\", \"Topic18\", \"Topic19\", \"Topic19\", \"Topic19\", \"Topic19\", \"Topic19\", \"Topic19\", \"Topic19\", \"Topic19\", \"Topic19\", \"Topic19\", \"Topic19\", \"Topic19\", \"Topic19\", \"Topic19\", \"Topic19\", \"Topic19\", \"Topic19\", \"Topic19\", \"Topic19\", \"Topic19\", \"Topic19\", \"Topic19\", \"Topic19\", \"Topic19\", \"Topic19\", \"Topic19\", \"Topic19\", \"Topic19\", \"Topic19\", \"Topic19\", \"Topic19\", \"Topic19\", \"Topic19\", \"Topic19\", \"Topic19\", \"Topic19\", \"Topic19\", \"Topic19\", \"Topic19\", \"Topic19\", \"Topic19\", \"Topic19\", \"Topic19\", \"Topic19\", \"Topic19\", \"Topic20\", \"Topic20\", \"Topic20\", \"Topic20\", \"Topic20\", \"Topic20\", \"Topic20\", \"Topic20\", \"Topic20\", \"Topic20\", \"Topic20\", \"Topic20\", \"Topic20\", \"Topic20\", \"Topic20\", \"Topic20\", \"Topic20\", \"Topic20\", \"Topic20\", \"Topic20\", \"Topic20\", \"Topic20\", \"Topic20\", \"Topic20\", \"Topic20\", \"Topic20\", \"Topic20\", \"Topic20\", \"Topic20\", \"Topic20\", \"Topic20\", \"Topic20\", \"Topic20\", \"Topic20\", \"Topic20\", \"Topic20\", \"Topic20\", \"Topic20\", \"Topic20\", \"Topic20\", \"Topic20\", \"Topic20\", \"Topic20\", \"Topic20\", \"Topic20\"], \"logprob\": [30.0, 29.0, 28.0, 27.0, 26.0, 25.0, 24.0, 23.0, 22.0, 21.0, 20.0, 19.0, 18.0, 17.0, 16.0, 15.0, 14.0, 13.0, 12.0, 11.0, 10.0, 9.0, 8.0, 7.0, 6.0, 5.0, 4.0, 3.0, 2.0, 1.0, -6.871, -7.0968, -7.3064, -7.3627, -7.3935, -7.4612, -7.4891, -7.5235, -7.7615, -7.7897, -7.8563, -7.9252, -7.9811, -7.9963, -8.0023, -8.0443, -8.0574, -8.0701, -8.0668, -8.1277, -8.1307, -8.2421, -8.2689, -8.2737, -8.2792, -8.2861, -8.2939, -8.2446, -8.3442, -8.3499, -6.909, -8.1471, -6.4495, -6.3522, -6.971, -7.7152, -7.5442, -5.8047, -6.3419, -6.2249, -6.5272, -6.622, -7.5303, -7.0674, -6.3641, -6.6326, -7.4137, -5.4749, -6.3701, -6.2519, -5.9278, -6.0936, -4.6942, -6.0242, -4.4295, -6.1676, -5.6503, -6.0189, -5.916, -4.1477, -5.3334, -5.031, -5.7502, -5.8273, -5.4532, -4.7263, -5.5604, -5.5443, -5.1951, -5.9148, -5.264, -4.7975, -5.6174, -5.4171, -5.1735, -5.0713, -5.2074, -5.7273, -5.3619, -5.842, -5.8547, -5.6851, -5.3605, -5.5935, -5.7638, -5.3751, -5.7283, -5.7002, -4.8589, -5.6089, -5.7404, -5.8025, -6.032, -4.5386, -6.3946, -6.3993, -6.553, -6.5844, -6.7993, -6.8269, -6.8637, -6.9011, -6.9709, -7.0046, -7.069, -7.0755, -7.0764, -7.1011, -7.1057, -7.14, -7.1683, -7.1708, -7.1708, -7.1865, -7.1932, -7.2116, -7.2364, -7.2375, -5.8911, -6.5683, -5.9769, -6.4304, -6.889, -5.4664, -5.7126, -6.2034, -5.5786, -5.608, -5.4236, -5.3118, -5.2086, -6.0413, -5.8426, -5.4335, -6.0726, -6.0995, -5.937, -5.8406, -6.0835, -5.547, -5.3126, -5.8767, -5.8811, -5.0914, -4.9825, -5.2379, -5.0486, -4.6957, -5.1476, -5.1712, -5.246, -4.9691, -4.7484, -5.1459, -5.5315, -5.6324, -5.3303, -5.4998, -5.4766, -5.5721, -5.6719, -5.3402, -5.7143, -5.7959, -5.8254, -6.0078, -6.0961, -6.1068, -6.1122, -6.1603, -6.4202, -6.516, -6.5215, -6.5562, -6.5612, -6.6054, -6.6483, -6.6916, -6.7238, -6.8459, -6.8781, -6.9047, -6.917, -6.9317, -6.9492, -6.9559, -7.0024, -7.0177, -7.0231, -7.052, -7.0778, -3.8226, -5.265, -4.5975, -5.483, -6.8072, -6.2, -4.9819, -4.3557, -5.0357, -4.9426, -5.5549, -4.6955, -5.7111, -5.018, -4.303, -4.7467, -5.404, -5.3438, -4.605, -5.3456, -5.4504, -5.7457, -5.3188, -5.5952, -4.9356, -5.4933, -5.3406, -5.5198, -5.3342, -5.403, -5.0267, -5.3205, -5.6258, -5.5255, -5.5636, -5.7189, -5.9294, -5.9995, -6.1028, -6.124, -6.1962, -6.2187, -6.5264, -6.5839, -6.5933, -6.6677, -6.7865, -6.7955, -6.8489, -6.9128, -6.9945, -7.0058, -6.9561, -7.019, -7.0822, -7.0862, -7.1237, -7.1533, -7.1768, -7.1861, -7.2283, -7.2303, -7.2289, -7.2338, -7.2499, -4.8027, -5.3568, -5.6501, -5.6372, -6.2426, -6.3826, -5.63, -5.6536, -5.2873, -6.1462, -5.4564, -5.7453, -5.0963, -5.6792, -4.5664, -4.8143, -5.6984, -5.2109, -5.6092, -6.0669, -5.6822, -5.6708, -5.8773, -5.4217, -5.7406, -5.7554, -5.5008, -5.8953, -5.7013, -5.3918, -5.1962, -5.2385, -5.6881, -6.2669, -6.5068, -6.5673, -6.6348, -6.7734, -6.8064, -6.8093, -6.8919, -6.9719, -6.9845, -7.0755, -7.0756, -7.1117, -7.1431, -7.1587, -7.1762, -7.1922, -7.1973, -7.2073, -7.2355, -7.2414, -7.2979, -7.3119, -7.3423, -7.3578, -7.39, -7.4002, -7.435, -7.4369, -7.4401, -5.9135, -6.235, -6.9828, -6.8699, -6.1223, -6.4584, -6.5244, -5.469, -6.5592, -4.8058, -4.3078, -6.7327, -4.9764, -6.6122, -5.3095, -4.6222, -5.8603, -6.0357, -4.8709, -6.0791, -5.8743, -5.9183, -5.4591, -5.8379, -4.6886, -5.4767, -5.6135, -6.256, -5.8851, -4.8534, -5.0696, -5.5545, -5.4078, -5.3315, -5.358, -4.9243, -5.7777, -5.1794, -5.1683, -4.9608, -5.4022, -5.6065, -5.6659, -5.4925, -5.7672, -5.6424, -5.6893, -5.7208, -4.4844, -4.6109, -4.8339, -5.2962, -5.5545, -5.593, -5.6598, -5.7023, -5.7239, -5.8217, -5.8218, -5.8537, -6.1116, -6.1626, -6.1666, -6.2947, -6.3602, -6.363, -6.4098, -6.4405, -6.4525, -6.4758, -6.4874, -6.4886, -6.4918, -6.5072, -6.5858, -6.6329, -6.6787, -6.7366, -6.211, -5.7718, -4.8902, -5.2536, -5.8206, -6.2153, -5.3743, -5.5013, -4.4998, -5.9223, -5.5677, -5.3107, -5.6779, -5.4043, -4.5549, -5.5086, -5.7117, -5.8307, -5.7572, -5.7295, -5.6123, -5.7284, -5.8134, -5.3262, -5.4969, -5.6308, -5.6718, -5.768, -6.0276, -6.1611, -6.1967, -6.4211, -6.4671, -6.4777, -6.5156, -6.5196, -6.516, -6.5699, -6.6794, -6.7002, -6.7169, -6.6111, -6.7567, -6.7641, -6.698, -6.9163, -6.9373, -6.9546, -6.986, -7.032, -7.0407, -7.0684, -7.0694, -4.7738, -3.7825, -5.7985, -5.8219, -6.3969, -5.8632, -5.7868, -6.4679, -6.2337, -5.4377, -6.0968, -5.7962, -5.8152, -4.9494, -6.0677, -5.4913, -5.906, -6.1375, -5.9037, -6.139, -5.4861, -5.3408, -5.8573, -5.9947, -5.6977, -5.8303, -6.0073, -5.9913, -6.0689, -6.0956, -5.3084, -5.4934, -5.6476, -6.0209, -6.1536, -6.2248, -6.4918, -6.6731, -6.8395, -6.9473, -6.9677, -6.9787, -7.0794, -7.105, -7.1089, -7.1483, -7.1499, -7.1833, -7.1994, -7.3113, -7.3672, -7.3719, -7.3835, -7.3846, -7.3896, -7.4085, -7.4255, -7.3929, -7.4563, -7.4836, -6.4757, -4.6616, -6.0612, -3.7664, -4.3995, -4.1157, -4.8309, -5.9023, -4.2736, -4.9542, -5.8203, -3.8107, -5.3279, -4.2628, -4.8581, -6.597, -4.0994, -5.2135, -5.9901, -5.3924, -4.915, -4.4778, -5.7488, -4.8353, -4.8592, -5.1587, -4.9257, -5.2069, -5.3427, -4.7921, -5.3961, -5.0615, -5.3679, -5.2894, -5.1905, -5.3511, -5.4819, -5.8284, -5.875, -5.8898, -5.8969, -5.9052, -5.9343, -6.2388, -6.2507, -6.292, -6.3016, -6.3213, -6.3877, -6.1641, -6.4448, -6.449, -5.2874, -6.4542, -6.4978, -6.5285, -6.535, -6.5891, -6.6289, -6.7418, -6.7518, -6.7521, -6.7542, -6.7915, -6.7899, -6.8122, -4.9064, -6.2173, -4.7036, -5.8181, -5.5339, -6.4488, -4.5437, -4.6695, -6.1286, -5.4718, -5.7607, -5.9155, -5.2476, -5.2098, -5.0627, -5.352, -6.0081, -5.6025, -5.1648, -5.6455, -5.2726, -5.6925, -5.3035, -5.1783, -5.7741, -4.9898, -5.7545, -5.5984, -5.7084, -5.3693, -5.4757, -5.4887, -5.6056, -5.8, -4.2546, -4.5426, -5.0715, -5.0749, -5.2542, -5.3425, -5.5272, -5.5342, -5.546, -5.9096, -5.9188, -5.9462, -6.0599, -6.2501, -6.2638, -6.2734, -6.3007, -6.3495, -6.4776, -6.4831, -6.492, -6.5105, -6.516, -6.5289, -6.5581, -6.5993, -6.5998, -6.6244, -6.6999, -6.7338, -4.4973, -4.7891, -5.0421, -4.6449, -4.4083, -5.1896, -5.9209, -5.5795, -5.7791, -4.7808, -5.1903, -5.7058, -5.096, -5.7908, -5.6221, -5.5147, -4.9712, -4.817, -5.0162, -5.4469, -5.0165, -5.251, -5.4908, -5.3394, -5.6749, -5.605, -3.3511, -4.2332, -3.9048, -5.0153, -4.9422, -5.0712, -5.2721, -4.6922, -4.1309, -5.4811, -5.5394, -5.6233, -5.6274, -3.8138, -5.6633, -5.7184, -5.7624, -5.7915, -5.8391, -5.8445, -5.8521, -5.8916, -5.9819, -6.0378, -6.0555, -4.0593, -6.0657, -6.2311, -6.2059, -6.2425, -5.2905, -4.2902, -5.737, -5.0592, -4.9836, -5.0437, -5.1251, -4.5161, -5.5217, -4.7875, -4.754, -5.0757, -5.1182, -4.8777, -5.536, -4.8934, -5.3539, -5.5116, -5.3738, -5.4955, -4.7334, -4.9287, -5.0228, -5.0997, -5.1465, -5.3655, -5.3669, -5.387, -5.3974, -5.4488, -5.4823, -5.5072, -5.5454, -5.5687, -5.5899, -5.6043, -5.605, -5.7215, -5.7931, -5.8093, -5.8296, -5.8875, -5.9051, -5.9176, -5.9188, -5.9192, -5.9206, -6.0343, -6.0359, -6.0637, -5.4603, -4.7458, -5.4943, -5.1299, -4.6865, -4.7222, -5.0029, -4.8826, -5.374, -5.232, -4.1956, -4.4608, -4.1012, -4.4427, -5.1513, -4.864, -5.3438, -4.3505, -5.2812, -4.4203, -5.1595, -5.2135, -4.7973, -4.692, -5.1344, -5.0745, -5.0579, -5.2694, -5.2254, -4.1375, -4.2035, -4.6614, -5.1924, -5.2681, -5.4152, -5.4775, -5.4826, -5.6115, -5.7054, -5.77, -5.8937, -5.9735, -6.0484, -6.1383, -6.1577, -6.1662, -6.2617, -6.4307, -6.4655, -6.5762, -6.5975, -6.684, -6.7147, -6.74, -6.7758, -6.7784, -6.866, -6.879, -6.956, -2.9741, -4.1638, -6.3442, -5.8797, -3.8114, -5.5519, -5.244, -3.1948, -4.1672, -5.9495, -5.4649, -5.4516, -4.5133, -4.2882, -5.1459, -4.7236, -4.333, -4.5286, -5.2977, -4.4282, -4.3688, -5.3755, -4.7418, -4.6929, -5.1285, -5.215, -4.955, -5.2142, -5.1659, -5.2914, -5.1135, -5.2168, -2.8943, -3.3832, -3.7965, -4.4478, -4.5451, -4.8036, -4.8673, -4.9418, -4.9651, -5.0422, -5.133, -5.4176, -5.4625, -5.5774, -5.7348, -5.8062, -5.8404, -5.854, -5.9504, -5.9846, -5.9856, -6.0055, -6.1083, -6.1389, -6.1507, -6.1566, -6.2464, -6.2843, -6.3182, -6.3591, -5.8299, -5.322, -5.1137, -5.5911, -5.2157, -5.0435, -5.4493, -4.5738, -4.4721, -4.6705, -4.2642, -5.1647, -5.0549, -4.5731, -5.2194, -5.4492, -5.615, -5.452, -5.4586, -5.4805, -4.086, -4.5963, -4.7997, -4.9577, -5.031, -5.7304, -5.7984, -5.8129, -5.9047, -5.9229, -5.9529, -5.9975, -5.9997, -5.9736, -6.0236, -6.0483, -6.0966, -6.1321, -6.1453, -6.2179, -6.2392, -6.2525, -6.2805, -6.3816, -6.4541, -6.4732, -6.4866, -6.5166, -6.5838, -6.6162, -6.1435, -3.6695, -5.4611, -5.097, -5.3349, -4.4393, -4.2706, -4.1274, -3.4256, -4.0735, -4.0434, -5.4395, -4.2686, -4.4534, -4.2432, -4.6, -4.7807, -4.9164, -4.6057, -4.4564, -5.1099, -5.4552, -4.3896, -4.9539, -4.8574, -5.2606, -5.3074, -5.1069, -5.2795, -4.1172, -4.5925, -4.6957, -5.1335, -5.2713, -5.3322, -5.334, -5.3583, -5.4161, -5.5129, -5.6726, -5.6731, -5.8296, -5.8725, -5.8766, -5.8893, -5.9068, -5.9094, -5.9292, -5.9443, -5.9855, -5.989, -6.0066, -6.0083, -6.0369, -6.0499, -6.0659, -6.067, -6.1017, -6.1086, -4.7846, -5.2478, -5.8598, -5.7913, -5.1383, -4.4755, -5.3913, -5.3952, -5.8369, -5.3852, -5.8719, -5.0861, -5.2099, -5.2397, -5.2775, -5.3505, -5.3776, -5.4007, -5.4265, -5.5147, -5.5895, -5.6642, -5.7017, -5.743, -5.7524, -5.7575, -5.7814, -5.7848, -5.7859, -5.8091, -5.8244, -5.8928, -5.8983, -5.9042, -5.9048, -5.9113, -5.9138, -5.9319, -5.9807, -5.9868, -6.0342, -4.458, -5.5477, -5.7628, -4.7168, -4.914, -5.0691, -5.2553, -5.7375, -5.6628, -5.4539, -5.5896, -5.642, -5.701, -5.5619, -5.7108, -4.6189, -5.0532, -5.2232, -5.2339, -5.3132, -5.3223, -5.459, -5.4818, -5.6098, -5.7336, -5.7345, -5.7446, -5.7973, -5.8967, -5.9372, -5.9543, -5.9727, -6.0204, -6.0264, -6.0533, -6.0874, -6.0899, -6.1108, -6.1465, -6.1648, -6.1687, -6.1826, -6.2103, -6.2561, -6.2855, -4.1251, -5.4566, -5.6652, -5.2469, -4.5305, -5.3706, -5.657, -5.2451, -5.6161, -5.4282, -5.8631, -5.2626, -5.3865, -5.5577, -5.6253, -5.2847, -5.4822, -5.8536, -5.7998, -3.6627, -4.9961, -5.0328, -5.0827, -5.1529, -5.1714, -5.1714, -5.4573, -5.4927, -5.5797, -5.6587, -5.6734, -5.6863, -5.6957, -5.6972, -5.7058, -5.72, -5.8329, -5.8632, -5.8737, -5.8908, -5.8968, -5.9097, -5.9374, -5.9505, -5.9524, -6.0146, -6.02, -6.0438, -6.0607, -6.0182, -5.3327, -4.7635, -4.4011, -5.2017, -4.3232, -4.3794, -4.9688, -5.0037, -5.5719, -5.314, -5.8009, -5.6553, -5.6109, -5.5235, -5.295, -5.3692, -5.3956, -5.4037, -5.519, -5.608, -5.6117, -5.6235, -5.8621, -5.8713, -5.9033, -5.9339, -5.9665, -6.0417, -6.0538, -6.0585, -6.0868, -6.121, -6.168, -6.2118, -6.223, -6.2258, -6.258, -6.2661, -6.2893, -6.3188, -6.3292, -6.368, -6.4128, -6.4221, -4.9447, -6.0577, -5.223, -5.2346, -4.5777, -5.0934, -5.0872, -5.3436, -5.2938, -5.4816, -5.6758, -5.9105, -6.0074, -5.8867, -6.0315], \"loglift\": [30.0, 29.0, 28.0, 27.0, 26.0, 25.0, 24.0, 23.0, 22.0, 21.0, 20.0, 19.0, 18.0, 17.0, 16.0, 15.0, 14.0, 13.0, 12.0, 11.0, 10.0, 9.0, 8.0, 7.0, 6.0, 5.0, 4.0, 3.0, 2.0, 1.0, 1.2757, 1.2749, 1.2739, 1.2737, 1.2735, 1.2731, 1.273, 1.2728, 1.2711, 1.2709, 1.2704, 1.2698, 1.2693, 1.2691, 1.2691, 1.2686, 1.2685, 1.2684, 1.2683, 1.2678, 1.2677, 1.2664, 1.2661, 1.266, 1.266, 1.2659, 1.2658, 1.2655, 1.2651, 1.265, 1.2553, 1.2646, 1.2389, 1.235, 1.2451, 1.2599, 1.2557, 1.2174, 1.2211, 1.2081, 1.1943, 1.196, 1.2425, 1.2167, 1.1795, 1.1904, 1.232, 1.1055, 1.1636, 1.153, 1.1218, 1.1187, 0.9941, 1.1112, 0.9471, 1.1153, 1.063, 1.0965, 1.0785, 0.8346, 0.9922, 0.9375, 1.0443, 1.0537, 0.9674, 0.8139, 0.9795, 0.9624, 0.8349, 1.0078, 0.7969, 0.6195, 0.886, 0.8038, 0.6949, 0.631, 0.6738, 0.916, 0.7242, 0.9594, 0.9618, 0.8229, 0.5325, 0.5982, 0.8317, 0.1959, 0.7631, 0.6846, 2.2109, 2.2097, 2.2094, 2.2092, 2.2085, 2.2073, 2.207, 2.2069, 2.2061, 2.2059, 2.2045, 2.2043, 2.204, 2.2037, 2.2031, 2.2028, 2.2022, 2.2021, 2.2021, 2.2019, 2.2018, 2.2015, 2.2012, 2.2011, 2.2011, 2.201, 2.2009, 2.2007, 2.2004, 2.2004, 2.1809, 2.191, 2.1771, 2.1777, 2.1889, 2.1092, 2.1188, 2.1415, 2.0951, 2.0944, 2.0511, 2.0391, 1.9833, 2.0771, 2.0435, 1.9696, 2.0581, 2.0512, 1.9898, 1.9645, 2.0105, 1.8082, 1.7039, 1.8534, 1.8206, 1.2437, 1.1393, 1.3052, 1.0916, 0.7213, 1.1494, 1.119, 1.0624, 0.5711, 0.2339, 0.4252, 1.1858, 1.4085, 0.5627, 0.9095, 0.5843, 0.2963, 0.549, 2.4299, 2.4293, 2.429, 2.4289, 2.4282, 2.4279, 2.4278, 2.4278, 2.4275, 2.4261, 2.4254, 2.4254, 2.4252, 2.4251, 2.4248, 2.4245, 2.4241, 2.4238, 2.4227, 2.4224, 2.4221, 2.422, 2.4218, 2.4217, 2.4216, 2.4211, 2.4209, 2.4208, 2.4205, 2.4202, 2.3956, 2.3783, 2.3403, 2.369, 2.4137, 2.3819, 2.3024, 2.2431, 2.2814, 2.2731, 2.2977, 2.2053, 2.2856, 2.1839, 2.074, 2.0473, 2.1359, 2.0885, 1.8567, 2.031, 1.9598, 2.0867, 1.8338, 1.9804, 1.4737, 1.8223, 1.6275, 1.8072, 1.4763, 1.4574, 0.5444, 0.8013, 1.8851, 1.0489, 0.7914, 2.4777, 2.4769, 2.4766, 2.4761, 2.476, 2.4757, 2.4755, 2.4736, 2.4731, 2.4731, 2.4725, 2.4714, 2.4713, 2.4708, 2.4701, 2.4691, 2.469, 2.469, 2.4689, 2.4681, 2.468, 2.4676, 2.4672, 2.4668, 2.4667, 2.4661, 2.4661, 2.466, 2.466, 2.4658, 2.4544, 2.4535, 2.4547, 2.4209, 2.435, 2.4256, 2.3533, 2.3527, 2.2956, 2.3751, 2.3006, 2.3276, 2.2189, 2.2817, 2.0519, 2.0774, 2.2383, 2.137, 2.1886, 2.2303, 2.0704, 2.052, 2.0316, 1.6848, 1.9131, 1.9096, 1.4403, 1.9702, 1.6029, 0.7999, 0.1804, -0.2562, 0.7836, 2.5298, 2.5281, 2.5276, 2.5271, 2.5258, 2.5254, 2.5254, 2.5245, 2.5236, 2.5234, 2.5222, 2.5222, 2.5217, 2.5213, 2.5211, 2.5208, 2.5206, 2.5205, 2.5203, 2.5199, 2.5198, 2.5189, 2.5187, 2.5181, 2.5179, 2.5173, 2.5171, 2.5164, 2.5164, 2.5163, 2.5112, 2.4835, 2.5042, 2.4954, 2.4624, 2.4735, 2.4585, 2.3292, 2.4417, 2.1899, 2.1089, 2.4423, 2.1093, 2.4114, 2.0819, 1.8908, 2.1258, 2.0784, 1.5414, 2.0664, 1.9426, 1.9554, 1.6972, 1.9102, 1.2044, 1.6428, 1.7064, 2.093, 1.7831, 0.8489, 0.95, 1.4018, 1.2269, 1.135, 1.0984, 0.4927, 1.5574, 0.7018, 0.52, 0.0215, 0.7894, 1.1455, 1.1968, 0.376, 1.23, -0.0714, 0.2791, 0.3401, 2.7516, 2.7514, 2.751, 2.75, 2.7491, 2.749, 2.7487, 2.7485, 2.7484, 2.748, 2.748, 2.7478, 2.7464, 2.746, 2.746, 2.7451, 2.7445, 2.7445, 2.7441, 2.7439, 2.7438, 2.7436, 2.7434, 2.7434, 2.7434, 2.7433, 2.7425, 2.742, 2.7415, 2.7408, 2.7406, 2.6448, 2.4991, 2.5343, 2.5925, 2.6675, 2.4125, 2.448, 1.7117, 2.4544, 2.2223, 2.0243, 2.2165, 1.9143, 0.8217, 1.8248, 1.8838, 2.0567, 1.7954, 1.577, 0.4073, 0.955, 0.8048, 2.82, 2.8194, 2.8189, 2.8187, 2.8182, 2.8168, 2.8159, 2.8156, 2.8138, 2.8133, 2.8132, 2.8128, 2.8128, 2.8124, 2.8114, 2.811, 2.8108, 2.8106, 2.8102, 2.81, 2.81, 2.8097, 2.8078, 2.8075, 2.8072, 2.8067, 2.8059, 2.8058, 2.8053, 2.8053, 2.7831, 2.755, 2.7851, 2.7847, 2.79, 2.7252, 2.7093, 2.7288, 2.6202, 2.3154, 2.556, 2.4265, 2.2765, 1.625, 2.2181, 1.4676, 1.9321, 2.1516, 1.6576, 2.0647, 0.6357, 0.2302, 1.3807, 1.4838, 0.3219, 0.6314, 1.3271, 0.8691, -0.3666, 0.6218, 2.9625, 2.9618, 2.9611, 2.9588, 2.9578, 2.9572, 2.9545, 2.9522, 2.9497, 2.9479, 2.9475, 2.9473, 2.9453, 2.9448, 2.9447, 2.9439, 2.9438, 2.9431, 2.9427, 2.94, 2.9385, 2.9384, 2.938, 2.938, 2.9379, 2.9373, 2.9369, 2.9366, 2.936, 2.9351, 2.9254, 2.9009, 2.9194, 2.7948, 2.8071, 2.7694, 2.788, 2.8562, 2.7406, 2.7167, 2.7828, 2.5315, 2.7023, 2.5175, 2.6018, 2.8576, 2.2555, 2.4774, 2.6626, 2.4768, 2.3118, 2.0653, 2.5435, 2.1806, 2.1255, 2.2566, 2.0424, 2.0953, 2.1593, 1.5163, 2.0823, 1.6246, 1.9242, 1.198, 0.3496, -0.3688, 3.1066, 3.1046, 3.1043, 3.1042, 3.1041, 3.104, 3.1038, 3.1011, 3.101, 3.1005, 3.1004, 3.1002, 3.0994, 3.0989, 3.0987, 3.0986, 3.0986, 3.0986, 3.098, 3.0976, 3.0975, 3.0967, 3.0961, 3.0943, 3.0941, 3.0941, 3.094, 3.0934, 3.0932, 3.093, 3.0563, 3.0634, 2.9334, 3.017, 2.9828, 3.064, 2.7763, 2.7867, 3.0017, 2.7997, 2.8579, 2.906, 2.6791, 2.5555, 2.4873, 2.4674, 2.8477, 2.5704, 2.2616, 2.5944, 2.2882, 2.6023, 2.253, 2.1259, 2.5409, 1.3872, 2.5005, 1.9765, 2.3082, 1.0972, 0.8792, 0.9281, 0.8818, 2.1497, 3.2263, 3.2258, 3.2243, 3.2243, 3.2235, 3.223, 3.2222, 3.2221, 3.2221, 3.2195, 3.2194, 3.2192, 3.2181, 3.2161, 3.2159, 3.2158, 3.2155, 3.2148, 3.2131, 3.213, 3.2126, 3.2126, 3.2125, 3.2123, 3.2118, 3.2111, 3.2111, 3.2107, 3.2094, 3.2087, 3.165, 3.1432, 3.0629, 2.8972, 2.8208, 2.9621, 3.0538, 2.7984, 2.827, 2.1603, 2.3846, 2.7152, 2.2062, 2.7602, 2.5125, 2.3323, 1.647, 1.3048, 1.5582, 2.0551, 1.1237, 1.2364, 1.8123, 1.0156, 2.1638, 0.8043, 3.5792, 3.5779, 3.5776, 3.5753, 3.5753, 3.575, 3.5739, 3.5733, 3.5727, 3.5724, 3.5716, 3.5712, 3.5711, 3.5707, 3.5705, 3.5703, 3.5698, 3.5695, 3.569, 3.5689, 3.5689, 3.5684, 3.5673, 3.5666, 3.5663, 3.5662, 3.5651, 3.5637, 3.5636, 3.5635, 3.5537, 3.5153, 3.5275, 3.4454, 3.3952, 3.3996, 3.4111, 3.1948, 3.4697, 3.1966, 2.6848, 2.9421, 2.8936, 2.417, 3.258, 1.6133, 2.3182, 3.0303, 1.8398, 2.3894, 3.8609, 3.8598, 3.8592, 3.8587, 3.8583, 3.8565, 3.8565, 3.8563, 3.8562, 3.8557, 3.8554, 3.8551, 3.8547, 3.8544, 3.8542, 3.854, 3.854, 3.8525, 3.8516, 3.8513, 3.851, 3.8502, 3.8499, 3.8497, 3.8497, 3.8497, 3.8496, 3.8477, 3.8477, 3.8472, 3.8338, 3.733, 3.7866, 3.7322, 3.6401, 3.6382, 3.6735, 3.6286, 3.7185, 3.6694, 3.3298, 3.3988, 3.234, 3.2254, 3.5543, 3.3383, 3.679, 2.7351, 3.5706, 2.5754, 3.4211, 3.4572, 2.594, 2.0253, 3.0617, 2.7424, 0.9617, 2.8761, 1.6151, 4.27, 4.2698, 4.2672, 4.2624, 4.2614, 4.2594, 4.2585, 4.2584, 4.2563, 4.2545, 4.2532, 4.2505, 4.2485, 4.2465, 4.244, 4.2434, 4.2431, 4.24, 4.2339, 4.2325, 4.2277, 4.2267, 4.2225, 4.221, 4.2196, 4.2177, 4.2176, 4.2125, 4.2118, 4.2069, 4.1516, 4.1617, 4.1997, 4.177, 4.0646, 4.1322, 4.1056, 3.9171, 3.7024, 4.0788, 3.9283, 3.9176, 3.5738, 3.4581, 3.7666, 3.5529, 3.3477, 3.2498, 3.6658, 2.982, 2.9031, 3.6551, 2.7469, 2.6206, 3.2369, 3.0721, 1.8555, 2.9204, 2.3732, 2.8131, 1.2636, 1.7954, 4.6252, 4.6241, 4.6227, 4.6189, 4.6181, 4.6155, 4.6147, 4.6138, 4.6135, 4.6124, 4.611, 4.6058, 4.6049, 4.6022, 4.5981, 4.596, 4.5949, 4.5945, 4.5913, 4.5901, 4.59, 4.5893, 4.5853, 4.5841, 4.5836, 4.5833, 4.5793, 4.5775, 4.5758, 4.5738, 4.5327, 4.4372, 4.3569, 4.4431, 4.2092, 4.0344, 4.202, 3.6382, 3.4152, 3.5545, 3.1251, 3.7338, 3.4969, 2.7778, 3.5545, 3.7856, 4.1245, 2.7388, 1.9678, 1.3533, 4.6795, 4.6755, 4.6733, 4.6712, 4.6702, 4.6549, 4.6528, 4.6523, 4.6492, 4.6486, 4.6475, 4.6458, 4.6457, 4.6452, 4.6447, 4.6437, 4.6417, 4.6402, 4.6396, 4.6362, 4.6352, 4.6345, 4.6331, 4.6277, 4.6235, 4.6223, 4.6215, 4.6196, 4.6152, 4.613, 4.6072, 4.4354, 4.5248, 4.4656, 4.4737, 4.342, 4.1241, 4.0767, 3.8899, 3.9958, 3.8738, 4.359, 3.7844, 3.8278, 3.5999, 3.7206, 3.1989, 3.2689, 2.7495, 2.4063, 3.3756, 3.8872, 2.0272, 2.9293, 2.5619, 3.1671, 3.2157, 1.9073, 2.1118, 5.0625, 5.057, 5.0554, 5.0467, 5.0431, 5.0414, 5.0413, 5.0406, 5.0388, 5.0355, 5.0294, 5.0294, 5.0224, 5.0203, 5.0201, 5.0195, 5.0186, 5.0184, 5.0174, 5.0166, 5.0143, 5.0141, 5.0132, 5.0131, 5.0114, 5.0107, 5.0097, 5.0096, 5.0075, 5.0071, 4.9478, 4.9277, 4.9821, 4.9581, 4.765, 4.4794, 4.7501, 4.704, 4.9274, 4.4703, 3.9396, 5.3811, 5.3768, 5.3756, 5.3742, 5.3712, 5.37, 5.369, 5.3679, 5.3637, 5.3598, 5.3557, 5.3535, 5.351, 5.3505, 5.3501, 5.3486, 5.3484, 5.3484, 5.3469, 5.3458, 5.3412, 5.3408, 5.3404, 5.3403, 5.3398, 5.3397, 5.3384, 5.3347, 5.3342, 5.3305, 5.2866, 5.3054, 5.3171, 4.8674, 4.8208, 4.864, 4.819, 5.0691, 4.9133, 4.2089, 4.2833, 4.2549, 4.6107, 3.1892, 4.321, 5.5188, 5.5059, 5.4993, 5.4988, 5.4953, 5.4949, 5.488, 5.4868, 5.4794, 5.4713, 5.4713, 5.4706, 5.4668, 5.4592, 5.4559, 5.4545, 5.4529, 5.4487, 5.4482, 5.4457, 5.4425, 5.4423, 5.4403, 5.4367, 5.4349, 5.4345, 5.433, 5.4301, 5.4251, 5.4218, 5.3416, 5.3209, 5.3262, 5.2082, 5.0036, 5.1159, 5.0342, 4.5363, 4.647, 4.3044, 5.0527, 3.7124, 3.8848, 4.2948, 4.4572, 3.1079, 2.7728, 4.9404, 2.855, 5.5474, 5.5216, 5.5203, 5.5184, 5.5157, 5.515, 5.515, 5.5015, 5.4995, 5.4945, 5.4895, 5.4886, 5.4877, 5.4871, 5.487, 5.4864, 5.4854, 5.4772, 5.4749, 5.474, 5.4727, 5.4722, 5.4711, 5.4688, 5.4677, 5.4675, 5.4621, 5.4616, 5.4594, 5.4578, 5.4574, 5.387, 5.3206, 5.2333, 5.1795, 4.8445, 4.1354, 4.2287, 3.7769, 3.9596, 2.5241, 5.0265, 3.8351, 2.7772, 1.0377, 5.9642, 5.9586, 5.9565, 5.9559, 5.946, 5.9377, 5.9373, 5.9362, 5.9099, 5.9088, 5.9048, 5.9008, 5.8965, 5.8861, 5.8844, 5.8837, 5.8796, 5.8744, 5.8671, 5.86, 5.8581, 5.8577, 5.8522, 5.8508, 5.8468, 5.8415, 5.8397, 5.8325, 5.8239, 5.8221, 5.5936, 5.7642, 5.6076, 5.5383, 5.2281, 4.7834, 4.5521, 4.6944, 4.4265, 4.1398, 3.6061, 4.2945, 4.8221, 2.5015, 3.3049]}, \"token.table\": {\"Topic\": [1, 20, 1, 11, 12, 14, 11, 12, 17, 14, 2, 2, 3, 4, 8, 9, 10, 8, 18, 17, 4, 6, 9, 10, 1, 5, 4, 9, 10, 1, 4, 5, 10, 14, 17, 1, 9, 19, 3, 10, 1, 14, 19, 13, 1, 2, 3, 4, 5, 6, 7, 8, 9, 10, 11, 7, 15, 4, 1, 4, 5, 6, 9, 7, 1, 3, 4, 5, 6, 9, 11, 4, 7, 9, 10, 5, 8, 3, 8, 10, 3, 7, 16, 1, 2, 3, 4, 5, 8, 10, 1, 2, 3, 4, 5, 6, 8, 6, 2, 3, 17, 3, 4, 7, 9, 13, 3, 4, 5, 6, 7, 9, 10, 12, 14, 16, 18, 14, 14, 13, 6, 1, 4, 13, 6, 6, 6, 4, 6, 1, 2, 3, 4, 5, 6, 7, 19, 1, 2, 3, 4, 7, 8, 9, 14, 1, 4, 6, 7, 8, 9, 14, 1, 2, 4, 8, 15, 4, 18, 9, 7, 11, 1, 11, 20, 11, 4, 5, 1, 8, 17, 4, 6, 10, 14, 15, 2, 3, 4, 5, 7, 8, 9, 10, 18, 1, 9, 5, 15, 3, 17, 20, 6, 6, 6, 6, 6, 19, 18, 1, 2, 3, 4, 5, 6, 7, 8, 10, 6, 5, 9, 2, 9, 10, 4, 5, 1, 2, 3, 4, 5, 6, 7, 8, 9, 10, 11, 4, 2, 1, 1, 11, 1, 11, 1, 2, 4, 5, 11, 18, 1, 2, 3, 5, 8, 12, 15, 18, 1, 2, 3, 4, 5, 7, 1, 11, 11, 1, 2, 1, 1, 4, 5, 8, 12, 3, 17, 2, 14, 18, 3, 2, 3, 10, 13, 1, 14, 12, 2, 4, 6, 7, 8, 9, 1, 2, 3, 6, 7, 8, 9, 11, 1, 6, 7, 8, 11, 2, 3, 4, 6, 9, 12, 1, 1, 2, 6, 11, 8, 16, 5, 16, 12, 10, 12, 13, 1, 2, 3, 4, 5, 7, 10, 13, 8, 6, 14, 2, 13, 2, 4, 2, 3, 10, 14, 8, 2, 11, 9, 12, 1, 2, 3, 4, 5, 6, 7, 8, 9, 10, 13, 15, 18, 1, 2, 3, 5, 6, 9, 2, 2, 2, 5, 10, 14, 4, 5, 1, 2, 6, 7, 19, 11, 8, 5, 6, 7, 9, 14, 18, 9, 4, 17, 1, 4, 5, 5, 19, 13, 15, 9, 1, 2, 3, 4, 5, 7, 8, 13, 4, 9, 12, 1, 4, 6, 9, 2, 10, 14, 11, 6, 11, 1, 11, 6, 11, 9, 11, 17, 11, 10, 10, 2, 4, 16, 2, 4, 6, 17, 4, 6, 14, 1, 5, 11, 1, 14, 14, 18, 5, 4, 9, 18, 3, 3, 9, 4, 8, 10, 10, 20, 2, 20, 16, 5, 2, 3, 4, 7, 8, 10, 13, 18, 19, 2, 3, 5, 7, 13, 14, 3, 17, 3, 7, 8, 9, 10, 2, 4, 7, 9, 10, 3, 8, 1, 16, 17, 15, 19, 10, 16, 2, 3, 7, 8, 9, 10, 4, 1, 2, 6, 15, 4, 9, 12, 19, 4, 10, 2, 4, 4, 1, 2, 3, 4, 7, 8, 9, 12, 15, 18, 4, 17, 15, 3, 1, 2, 3, 4, 7, 9, 13, 2, 1, 19, 10, 17, 1, 2, 4, 5, 7, 9, 1, 2, 3, 4, 5, 6, 7, 8, 10, 1, 3, 5, 13, 15, 17, 1, 4, 5, 6, 19, 1, 2, 3, 4, 5, 6, 7, 9, 10, 9, 4, 10, 4, 5, 16, 4, 6, 14, 1, 2, 3, 5, 6, 7, 12, 19, 10, 10, 10, 10, 10, 10, 8, 8, 5, 19, 13, 13, 6, 20, 20, 2, 3, 7, 8, 9, 10, 13, 1, 6, 3, 5, 8, 11, 12, 19, 20, 1, 2, 5, 6, 11, 10, 8, 4, 5, 9, 12, 12, 4, 11, 4, 4, 10, 2, 4, 6, 7, 9, 10, 4, 9, 1, 2, 7, 9, 10, 16, 7, 16, 12, 12, 8, 2, 15, 7, 3, 8, 10, 1, 10, 18, 10, 1, 9, 9, 2, 3, 10, 2, 3, 10, 15, 2, 3, 13, 16, 1, 11, 4, 5, 7, 9, 12, 18, 1, 11, 5, 15, 8, 12, 13, 11, 19, 2, 6, 2, 3, 4, 6, 12, 2, 3, 4, 6, 2, 19, 17, 1, 7, 11, 17, 3, 4, 12, 1, 4, 8, 9, 2, 2, 3, 8, 15, 10, 10, 4, 10, 7, 1, 2, 3, 5, 7, 10, 16, 3, 15, 3, 5, 15, 15, 10, 5, 1, 11, 6, 1, 2, 3, 4, 5, 6, 10, 1, 6, 7, 13, 1, 4, 6, 9, 13, 1, 6, 19, 1, 4, 6, 9, 11, 1, 18, 18, 1, 2, 5, 7, 9, 11, 15, 20, 4, 7, 20, 16, 7, 20, 5, 8, 13, 1, 2, 3, 10, 4, 13, 13, 16, 1, 2, 4, 5, 6, 7, 10, 1, 11, 11, 5, 1, 2, 5, 7, 8, 10, 6, 11, 4, 10, 1, 2, 5, 11, 20, 20, 3, 4, 6, 8, 10, 1, 3, 6, 8, 10, 16, 5, 5, 1, 2, 3, 5, 6, 7, 8, 10, 1, 17, 4, 4, 1, 2, 3, 4, 5, 6, 7, 8, 9, 10, 11, 12, 13, 15, 13, 1, 5, 6, 8, 12, 8, 14, 7, 11, 2, 12, 1, 3, 3, 3, 3, 20, 15, 20, 15, 1, 3, 7, 10, 13, 16, 17, 2, 5, 12, 5, 8, 12, 15, 16, 18, 14, 20, 6, 4, 5, 7, 15, 17, 1, 3, 6, 7, 14, 15, 4, 14, 8, 12, 1, 4, 7, 9, 10, 12, 12, 1, 4, 9, 12, 15, 1, 2, 4, 5, 6, 18, 1, 2, 3, 4, 5, 7, 8, 9, 9, 11, 4, 6, 10, 9, 2, 3, 7, 8, 4, 20, 16, 20, 7, 1, 2, 3, 4, 5, 6, 7, 8, 11, 13, 15, 6, 6, 11, 6, 12, 1, 2, 3, 4, 6, 8, 9, 11, 14, 16, 17, 8, 4, 6, 5, 4, 4, 13, 1, 2, 5, 6, 3, 18, 7, 18, 12, 16, 12, 4, 9, 15, 1, 6, 10, 1, 5, 1, 15, 19, 9, 1, 2, 4, 5, 7, 9, 10, 12, 20, 1, 4, 5, 6, 8, 9, 11, 5, 5, 5, 12, 19, 6, 11, 1, 2, 3, 4, 5, 6, 8, 12, 4, 1, 20, 1, 1, 20, 2, 1, 2, 4, 6, 7, 10, 16, 18, 1, 5, 3, 13, 9, 1, 1, 9, 3, 6, 7, 10, 7, 20, 15, 1, 14, 1, 3, 4, 5, 7, 8, 9, 13, 15, 18, 1, 2, 3, 4, 6, 7, 8, 9, 10, 11, 15, 8, 9, 9, 14, 2, 3, 8, 13, 13, 1, 2, 3, 4, 6, 7, 8, 9, 10, 18, 19, 5, 7, 8, 18, 19, 5, 5, 2, 3, 8, 13, 8, 9, 10, 2, 4, 15, 7, 9, 20, 1, 2, 7, 8, 9, 15, 16, 20, 19, 3, 4, 6, 7, 8, 9, 8, 9, 19, 17, 5, 17, 8, 1, 6, 12, 14, 14, 14, 12, 4, 12, 6, 11, 12, 6, 11, 14, 6, 14, 4, 1, 2, 3, 5, 8, 9, 10, 11, 12, 15, 15, 3, 4, 9, 11, 19, 15, 3, 10, 15, 2, 1, 6, 6, 19, 8, 3, 6, 10, 1, 4, 5, 6, 14, 19, 5, 12, 19, 1, 2, 3, 4, 5, 6, 8, 10, 20, 16, 17, 1, 2, 4, 6, 7, 14, 16, 10, 1, 2, 3, 4, 5, 6, 7, 8, 9, 10, 11, 20, 7, 7, 9, 7, 1, 4, 11, 15, 12, 4, 5, 11, 12, 14, 14, 14, 1, 2, 4, 5, 6, 11, 15, 4, 12, 9, 4, 1, 4, 5, 6, 7, 1, 2, 3, 4, 5, 6, 7, 8, 10, 12, 1, 2, 3, 4, 5, 6, 7, 8, 10, 12, 13, 9, 19, 18, 1, 2, 3, 5, 6, 7, 8, 9, 11, 2, 6, 8, 9, 16, 1, 6, 11, 18, 1, 2, 3, 4, 5, 6, 8, 12, 18, 5, 9, 12, 1, 5, 13, 10, 18, 7, 14, 2, 2, 3, 8, 10, 15, 19, 8, 8, 9, 1, 2, 3, 4, 5, 7, 8, 10, 1, 2, 20, 6, 2, 3, 5, 13, 1, 2, 3, 4, 5, 6, 7, 8, 9, 10, 11, 8, 9, 19, 19, 6, 17, 1, 6, 17, 1, 17, 7, 8, 12, 13, 6, 11, 1, 2, 3, 4, 5, 10, 11, 8, 6, 9, 4, 9, 19, 1, 2, 3, 5, 6, 13, 3, 1, 1, 2, 3, 8, 10, 15, 5, 1, 2, 3, 4, 5, 6, 7, 8, 10, 4, 6, 7, 4, 1, 2, 5, 8, 10, 1, 18, 19, 5, 9, 12, 7, 9, 11, 7, 19, 8, 1, 2, 7, 18, 19, 2, 3, 2, 7, 20, 2, 12, 5, 7, 11, 1, 1, 10, 10, 4, 2, 3, 13, 14, 3, 1, 2, 3, 4, 5, 7, 8, 10, 6, 6, 1, 2, 3, 4, 5, 6, 7, 9, 10, 11, 13, 15, 18, 13, 4, 13, 18, 1, 2, 3, 4, 5, 6, 7, 8, 9, 10, 11, 13, 18, 7, 9, 4, 5, 6, 7, 9, 10, 14, 4, 9, 18, 4, 8, 18, 6, 6, 1, 2, 3, 4, 5, 8, 9, 10, 18, 20, 15, 4, 8, 20, 1, 2, 4, 5, 6, 1, 4, 5, 6, 7, 8, 9, 1, 8, 8, 10, 9, 1, 2, 3, 4, 5, 6, 7, 8, 10, 11, 12, 1, 5, 6, 11, 8, 10, 19, 17, 8, 1, 2, 3, 4, 5, 6, 20, 2, 13, 1, 2, 3, 4, 5, 6, 7, 8, 9, 10, 13, 18, 18, 1, 7, 7, 6, 14, 14, 17, 1, 2, 7, 8, 15, 3, 7, 9, 11, 15, 5, 7, 18, 13, 18, 1, 2, 3, 4, 5, 6, 8, 10, 13, 15, 7, 7, 1, 2, 3, 7, 8, 10, 11, 15, 11, 16, 6, 1, 2, 3, 13, 4, 7, 2, 3, 6, 7, 9, 18, 1, 2, 4, 5, 7, 9, 15, 1, 5, 6, 14, 17, 14, 14, 14, 15, 17, 20, 15, 1, 14, 16, 3, 20, 11, 17, 10, 10, 9, 1, 3, 4, 5, 7, 10, 11, 15, 7, 1, 4, 6, 14, 12, 1, 2, 4, 5, 6, 8, 10, 1, 2, 3, 5, 10, 1, 2, 3, 4, 6, 7, 9, 12, 16, 2, 3, 9, 11, 12, 13, 5, 9, 12, 5, 1, 2, 6, 7, 8, 9, 10, 15, 19, 10, 1, 3, 5, 15, 19, 19, 5, 9, 5, 9, 4, 9, 12, 3, 10, 5, 7, 13, 19, 7, 19, 7, 1, 2, 4, 5, 10, 12, 2, 5, 12, 5, 12, 2, 5, 12, 12, 5, 12, 1, 2, 3, 8, 15, 1, 2, 3, 4, 5, 7, 8, 10, 18, 13, 20, 4, 6, 1, 4, 11, 13, 2, 3, 15, 6, 16, 1, 2, 5, 8, 9, 15, 8, 1, 2, 3, 4, 5, 8, 11, 1, 8, 10, 13, 3, 1, 2, 4, 5, 6, 7, 11, 12, 1, 5, 13, 4, 7, 15, 18, 4, 8, 9, 18, 4, 9, 10, 13, 1, 2, 6, 7, 8, 11, 14, 15, 11, 3, 8, 10, 1, 4, 8, 10, 15, 15, 18, 1, 2, 3, 4, 10, 13, 14, 8, 3, 4, 7, 9, 13, 13, 3, 4, 8, 9, 10, 18, 1, 3, 7, 8, 9, 10, 7, 10, 13, 6, 16, 3, 4, 6, 8, 9, 10, 15, 12, 1, 16, 2, 19, 20, 12, 16, 1, 2, 3, 4, 8, 10, 13, 7, 16, 1, 3, 10, 4, 12, 17, 5, 12, 1, 2, 3, 4, 5, 7, 10, 1, 16, 1, 7, 18, 1, 2, 3, 5, 10, 1, 2, 3, 4, 5, 8, 17, 12, 10, 16, 2, 16, 14, 20, 4, 8, 13, 1, 6, 11, 1, 11, 1, 6, 11, 19, 1, 2, 8, 11, 2, 3, 4, 5, 6, 7, 9, 2, 4, 5, 6, 9, 4, 3, 7, 8, 10, 3, 8, 10, 1, 7, 8, 9, 14, 18, 9, 17, 1, 6, 16, 11, 8, 1, 2, 3, 4, 5, 6, 7, 8, 11, 13, 14, 18, 11, 18, 1, 2, 3, 4, 5, 6, 10, 15, 4, 6, 8, 10, 10, 4, 3, 8, 9, 10, 11, 13, 18, 16, 15, 2, 5, 6, 7, 14, 20, 1, 5, 9, 16, 15, 5, 19, 18, 3, 1, 3, 4, 5, 7, 11, 15, 2, 3, 5, 7, 4, 5, 6, 7, 9, 11, 12, 1, 2, 4, 5, 6, 9, 2, 7, 15, 7, 7, 7, 20, 3, 7, 10, 1, 4, 6, 8, 9, 1, 7, 9, 1, 7, 9, 18, 1, 4, 8, 17, 5, 12, 12, 5, 6, 18, 2, 14, 17, 5, 12, 1, 2, 3, 4, 5, 6, 7, 10, 12, 13, 4, 6, 10, 3, 4, 5, 6, 7, 8, 15, 10, 4, 6, 8, 10, 14, 1, 2, 4, 7, 8, 10, 12, 15, 18, 4, 4, 1, 2, 3, 7, 8, 9, 1, 2, 6, 10, 6, 3, 8, 13, 1, 9, 20, 15, 9, 7, 15, 1, 6, 8, 13, 3, 12, 19, 4, 13, 3, 14, 19, 2, 15, 2, 6, 17, 7, 7, 17, 10, 2, 1, 2, 3, 4, 5, 6, 7, 8, 9, 10, 12, 1, 2, 3, 4, 5, 7, 13, 18, 9, 18, 15, 2, 1, 2, 3, 4, 5, 6, 7, 9, 15, 20, 3, 17, 17, 2, 3, 7, 8, 9, 18, 7, 8, 20, 6, 14, 1, 2, 3, 6, 7, 10, 13, 14, 1, 2, 3, 4, 5, 6, 10, 2, 13, 1, 2, 5, 1, 2, 3, 6, 7, 8, 9, 10, 11, 6, 7, 9, 1, 2, 3, 7, 9, 11, 7, 3, 1, 6, 7, 20, 7, 15, 2, 2, 5, 7, 10, 17, 2, 5, 5, 17, 1, 2, 3, 8, 9, 10, 5, 1, 3, 5, 6, 8, 1, 2, 3, 4, 6, 7, 8, 9, 13, 14, 1, 2, 4, 6, 9, 10, 2, 4, 5, 6, 7, 9, 17, 4, 5, 12, 15, 13, 14, 17, 9, 1, 2, 3, 4, 5, 6, 7, 10, 6, 10, 13, 3, 5, 7, 14, 15, 1, 4, 5, 6, 10, 11, 12, 1, 2, 4, 8, 9, 17, 1, 9, 1, 4, 9, 11, 1, 19, 1, 8, 6, 15, 3, 18, 1, 7, 9, 18, 16, 6, 14, 14, 1, 2, 3, 4, 7, 8, 9, 10, 18, 1, 2, 3, 7, 8, 9, 10, 1, 2, 3, 4, 5, 6, 7, 10, 13, 5, 12, 2, 3, 6, 10, 10, 15, 14, 10, 11, 5, 7, 12, 5, 12, 20, 2, 7, 9, 10, 16, 20, 7, 8, 8, 15, 3, 7, 14, 16, 16, 17, 11, 1, 2, 3, 5, 8, 13, 1, 2, 3, 4, 5, 11, 1, 2, 3, 5, 7, 10, 1, 2, 4, 5, 1, 2, 3, 4, 5, 6, 7, 9, 10, 14, 3, 1, 2, 3, 4, 5, 6, 7, 8, 9, 10, 13, 2, 15, 4, 1, 2, 4, 5, 6, 3, 7, 9, 12, 7, 10, 20, 20, 1, 2, 3, 5, 10, 11, 13, 14, 1, 11, 7, 6, 6, 6, 13, 8, 10, 18, 1, 2, 3, 5, 10, 4, 6, 9, 2, 5, 6, 7, 8, 9, 2, 3, 8, 13, 16, 19, 2, 1, 2, 3, 4, 5, 7, 8, 10, 13, 8, 3, 7, 8, 10, 13, 1, 2, 3, 4, 7, 9, 10, 13, 13, 8, 1, 3, 4, 5, 7, 13, 13, 13, 1, 2, 4, 7, 16, 7, 11, 1, 2, 3, 6, 7, 8, 10, 11, 3, 14, 5, 2, 3, 5, 10, 18, 18, 8, 17, 19, 2, 3, 7, 13, 18, 7, 18, 2, 2, 1, 2, 3, 4, 5, 6, 8, 4, 6, 7, 8, 9, 12, 1, 3, 4, 5, 6, 1, 5, 1, 2, 6, 7, 9, 13, 15, 1, 2, 6, 7, 18, 18, 4, 11, 4, 6, 19, 4, 1, 2, 3, 4, 5, 6, 7, 8, 9, 1, 2, 5, 6, 1, 2, 3, 4, 10, 3, 13, 13, 3, 6, 13, 2, 3, 6, 1, 10, 12, 12, 5, 2, 7, 10, 16, 17, 1, 6, 11, 1, 6, 9, 1, 2, 3, 5, 7, 11, 1, 2, 3, 4, 5, 6, 7, 9, 10, 18, 3, 1, 2, 3, 4, 5, 6, 7, 8, 9, 14, 11, 1, 2, 3, 4, 5, 6, 7, 8, 10, 1, 2, 3, 4, 6, 8, 9, 10, 13, 1, 2, 3, 5, 10, 13, 16, 13, 3, 8, 13, 18, 1, 2, 3, 4, 5, 6, 7, 9, 15, 1, 2, 4, 5, 6, 7, 9, 10, 15, 14], \"Freq\": [0.9965492504723491, 0.9241368648566444, 0.11006615787448816, 0.2935097543319684, 0.02751653946862204, 0.5503307893724408, 0.06585361443252997, 0.6256093371090347, 0.29634126494638485, 0.9934120408516698, 0.989168820007419, 0.055058989497858805, 0.024000072345220506, 0.057882527420825926, 0.8527084527360698, 0.004235306884450677, 0.004235306884450677, 0.9570310244207145, 0.04161004454003107, 0.9593029663351171, 0.6383560625115157, 0.019948626953484865, 0.07694470396344162, 0.2621819542458011, 0.9666812923490797, 0.027040036149624608, 0.2491218450523677, 0.11914523024243673, 0.6282203049146664, 0.9436952582757974, 0.0020164428595636696, 0.024197314314764035, 0.014115100016945686, 0.016131542876509357, 0.9282440789763048, 0.033703481655246795, 0.9549319802319925, 0.9403947120691745, 0.1490770950383924, 0.8493927508001426, 0.9830855351701527, 0.09473792009330206, 0.8526412808397186, 0.9791053218637221, 0.33862779519402575, 0.16752585481166668, 0.15129592799083197, 0.03190968663079365, 0.07372237945735086, 0.036586106223237554, 0.07482271347910235, 0.05831770315282978, 0.033560187663420914, 0.031084436114480026, 0.0027508350543787633, 0.048856669674582284, 0.9282767238170635, 0.9949433533838249, 0.043904441058130995, 0.7089754185683376, 0.11707850948834932, 0.0032521808191208145, 0.12358287112659094, 0.9827516822794838, 0.2233223976800609, 0.04828592382271587, 0.07041697224146064, 0.0020119134926131614, 0.1810722143351845, 0.43859714138966915, 0.034202529374423744, 0.1792156019670702, 0.512639977719759, 0.1792156019670702, 0.12503414090725828, 0.9904974517776283, 0.9943392582319569, 0.14500042340880953, 0.8358847937684314, 0.014926514174436275, 0.9882639226208311, 0.43913553649903353, 0.5389390675215412, 0.32605217264540204, 0.3168514058688122, 0.060955079894907616, 0.002300191694147457, 0.058654888200760154, 0.23461955280304062, 0.0005750479235368643, 0.7283529579141939, 0.16822850471508938, 0.02676362575012786, 0.027719469526918138, 0.020072719312595893, 0.01529350042864449, 0.01338181287506393, 0.9932523364048937, 0.889666769481876, 0.10811140489906342, 0.9671302994579356, 0.4762894277186982, 0.0181443591511885, 0.08164961618034826, 0.027216538726782754, 0.39690785643224846, 0.9935131925474733, 0.1952415623160991, 0.02638399490758096, 0.05276798981516192, 0.12488424256254987, 0.4274207175028116, 0.008794664969193653, 0.07387518574122669, 0.07035731975354922, 0.012312530956871116, 0.007035731975354923, 0.9968798537187459, 0.9888281639190425, 0.9856746634654111, 0.9897183546252054, 0.9848776543240548, 0.008276282809445838, 0.9919413776842472, 0.9979740099550859, 0.9988518283311257, 0.9980109984988418, 0.7773061254376483, 0.21848604606896063, 0.3710027376760987, 0.19267050386560683, 0.06093764773423844, 0.020611263204227705, 0.24912744220762184, 0.05914536397734907, 0.036741817016232, 0.00896141878444683, 0.35217261582201276, 0.05536338065324218, 0.050749765598805334, 0.1445599383723546, 0.006151486739249131, 0.35217261582201276, 0.018454460217747392, 0.018454460217747392, 0.10871355769788248, 0.029269034764814513, 0.020906453403438937, 0.025087744084126725, 0.6564626368679827, 0.15470775518544813, 0.008362581361375574, 0.27976612485286767, 0.12836328081484516, 0.05266185879583392, 0.12836328081484516, 0.40483803949297326, 0.9860593823719378, 0.9329926523784982, 0.9860291193100397, 0.9938558187845118, 0.9973078686341379, 0.07570955675841005, 0.8916903351546073, 0.016824345946313345, 0.994748157917345, 0.01380938553874164, 0.9666569877119148, 0.3465046694202255, 0.18900254695648666, 0.44100594289846884, 0.2436583719486499, 0.1421340503033791, 0.26396323627770407, 0.3451826935939207, 0.9669809817800845, 0.07306298143584988, 0.56238386628145, 0.024130892951289867, 0.0006703025819802741, 0.11194053119070578, 0.08780963823941591, 0.0697114685259485, 0.07038177110792879, 0.0013406051639605482, 0.028340200490574802, 0.9493967164342559, 0.990794654681619, 0.9491829759661569, 0.24980206207317718, 0.1498812372439063, 0.5995249489756252, 0.9933492223729304, 0.9938016269792992, 0.9896617598582108, 0.9939861534729247, 0.8036040137219939, 0.1801181410066538, 0.9500039768499344, 0.32093042061168375, 0.18183930392510908, 0.015950816133781496, 0.016588848779132758, 0.3700589343037307, 0.05423277485485709, 0.008294424389566379, 0.010846554970971417, 0.021055077296591576, 0.9918564351799565, 0.9477171439203621, 0.04482445950974685, 0.07345317187095729, 0.7712583046450516, 0.15425166092901033, 0.019091587872619525, 0.9736709815035959, 0.3026029955704144, 0.05992138526146821, 0.3775047271472497, 0.07190566231376185, 0.012982966806651446, 0.0009986897543578035, 0.1418139451188081, 0.013981656561009248, 0.009986897543578035, 0.003994759017431214, 0.004993448771789017, 0.98836485959025, 0.9892963452018282, 0.9892317545821934, 0.16412612991856368, 0.8297487679216276, 0.14940881233633735, 0.8430925838979036, 0.7285169711102051, 0.04557613390006095, 0.04487496260929078, 0.04066793486466977, 0.13953308686326352, 0.8980806042621841, 0.32633119686481565, 0.18919201290628881, 0.07407517965643054, 0.26226617662141627, 0.03203251012169969, 0.012012191295637385, 0.10210362601291778, 0.9318256512178924, 0.506028288005006, 0.16495725294021454, 0.047016801562669845, 0.0015937898834803338, 0.27014738524991655, 0.008765844359141836, 0.0018602756766656699, 0.997107762692799, 0.9935804455121362, 0.1532022189284675, 0.8440049515513754, 0.9917118498986413, 0.0331191239419318, 0.650554220287946, 0.13957345089814113, 0.14903605773869308, 0.028387820521655827, 0.9946328742204057, 0.9461936256183687, 0.9958501806432526, 0.3683129298000545, 0.5985085109250886, 0.99121252432738, 0.03928113177028746, 0.21068970676790547, 0.48922864113903475, 0.257112862496427, 0.9879374276006095, 0.9586604411243076, 0.9897883403680517, 0.7808828440204508, 0.038530403487851195, 0.023118242092710715, 0.017980854960997224, 0.08733558123912936, 0.04880517775127818, 0.3184594171789117, 0.04975928393420495, 0.0142169382669157, 0.07961485429472792, 0.11657889378870874, 0.22889270609734277, 0.017060325920298842, 0.17486834068306312, 0.1446633966852966, 0.027819883977941655, 0.19752117624338575, 0.3227106541441232, 0.303236735359564, 0.9965426299963951, 0.9835807383917133, 0.031225972320578194, 0.03643030104067456, 0.14051687544260186, 0.7910579654546476, 0.9905945087341304, 0.09435436073780344, 0.8528182605147618, 0.02903211099624721, 0.021774083247185407, 0.9837293894725103, 0.9466262536101229, 0.9876334113332246, 0.9734866991810214, 0.9942790779961602, 0.06741921346811876, 0.9213959173976229, 0.970727356145027, 0.11418383195160058, 0.06693534976473137, 0.48626562917319555, 0.013780807304503517, 0.0236242410934346, 0.1161525187093868, 0.027561614609007034, 0.14962019359175247, 0.9619123471719692, 0.32550255411760626, 0.6510051082352125, 0.44993890141727927, 0.5481073889992311, 0.9690063146537519, 0.028668825877329936, 0.09198484896546513, 0.4139318203445931, 0.08431944488500971, 0.4062664162641377, 0.9706547409522414, 0.9648644303429712, 0.03276898065315751, 0.9893182651576865, 0.9929607286993127, 0.290589552110197, 0.13250883576224984, 0.04649432833763152, 0.010461223875967091, 0.11274874621875643, 0.05579319400515782, 0.003487074625322364, 0.17900316409988135, 0.03254602983634206, 0.04300725371230916, 0.08368979100773673, 0.008136507459085516, 0.002324716416881576, 0.22918192154608963, 0.13302167474353455, 0.0016026707800425848, 0.24040061700638773, 0.39585968267051846, 0.9937071062580622, 0.9904214211622514, 0.9985747380959031, 0.8749600378869817, 0.08433349762766089, 0.010541687203457611, 0.03162506161037283, 0.06672782134506348, 0.9258485211627558, 0.09943512942520025, 0.8160538207999193, 0.05143196349579323, 0.02743038053108972, 0.9621694096697389, 0.9964442586569725, 0.9872176456767554, 0.19305740717573236, 0.003980565096406853, 0.2169407977541735, 0.5353860054667218, 0.0298542382230514, 0.019902825482034266, 0.9893533595354354, 0.05413047707448227, 0.9202181102661987, 0.9565026744950217, 0.004131761012937459, 0.03718584911643713, 0.3692931035708143, 0.5803177341827082, 0.9946026229382333, 0.9652091441001279, 0.9829432495365227, 0.10213088634366027, 0.1995480394714593, 0.2671115488988038, 0.034567376916315784, 0.08170470907492822, 0.004713733215861243, 0.11627208599124401, 0.1916918174450239, 0.14278669457106274, 0.05624930392193381, 0.7961439939719862, 0.39477386345472304, 0.014211859084370029, 0.43267215434637646, 0.15633044992807033, 0.330671175820766, 0.6656742884426774, 0.002887957867430271, 0.9975305344508612, 0.006746751059705476, 0.9900857180117787, 0.004070828299210808, 0.9932821050074373, 0.004641844345611406, 0.9933546899608409, 0.9907985686981987, 0.9851913120975484, 0.012878317805196712, 0.9845792486147403, 0.9860254402010459, 0.9844883387466873, 0.9805136567832733, 0.013340321860996917, 0.9728554903296294, 0.9867134763735728, 0.8990048525140174, 0.07360273646313593, 0.021029353275181694, 0.12876305165419966, 0.42921017218066554, 0.42921017218066554, 0.9600941834699519, 0.0068578155962139425, 0.032003139448998394, 0.9862576084840262, 0.9660631564108346, 0.40816866816996533, 0.5612319187337024, 0.9914088741451429, 0.3892663902097267, 0.2409744320345927, 0.3707298954378349, 0.9962580698604341, 0.9896489462119608, 0.9810504484775332, 0.8560851630887983, 0.0268575737439623, 0.1107874916938445, 0.9978821547840011, 0.8655589068906325, 0.9849797387938867, 0.9572074623409889, 0.9149949718739047, 0.9932212632610038, 0.03793930279112537, 0.7798634462620214, 0.05480121514273664, 0.008430956175805637, 0.012646434263708456, 0.07728376494488501, 0.014051593626342729, 0.012646434263708456, 0.9175380143279863, 0.2689244873052115, 0.7094652592723014, 0.014153920384484818, 0.005307720144181806, 0.0017692400480606022, 0.9480211691241339, 0.9854638487940769, 0.9076721671844334, 0.21811544919749895, 0.46684359301920825, 0.1377571258089467, 0.07270514973249964, 0.09949125752868372, 0.12838548808012173, 0.052305198847457, 0.18544570500462026, 0.038040144616332365, 0.5991322777072347, 0.7074588034712498, 0.29037488202178163, 0.9917760113732265, 0.930956564747209, 0.9662994811841675, 0.9654004315974682, 0.8876818730996533, 0.26566199263651286, 0.7172873801185847, 0.447353649590738, 0.044256911857907234, 0.058610504892904175, 0.24401108159494797, 0.07894476169248317, 0.12559393905622324, 0.9940926071306938, 0.23084976206062718, 0.20743022098201283, 0.056876028333777716, 0.5018473088274504, 0.049139409025947635, 0.7329961846370523, 0.21703238986460205, 0.9239367107196368, 0.9740188432333944, 0.024263814600120143, 0.9879180919694167, 0.996822266694961, 0.9856713214183104, 0.012970184833868314, 0.05743938997855968, 0.10932012931403293, 0.02038171902465021, 0.26125658022506176, 0.41319303113609057, 0.07782110900320988, 0.012970184833868314, 0.025940369667736628, 0.009264417738477367, 0.4098434958781308, 0.5824091783531332, 0.9933012762309351, 0.9967036516133371, 0.09325239019927707, 0.20566623043950147, 0.07920066016924901, 0.4509327909636275, 0.09452982020200688, 0.07025865015014025, 0.0038322900081894685, 0.9979273132450058, 0.9919352005813994, 0.9676690267888974, 0.42233483213912965, 0.5465509592388736, 0.07850276779521181, 0.41868142824112964, 0.10467035706028241, 0.02818048074699911, 0.31199817969891874, 0.05837385297592673, 0.5577773273323219, 0.14740728836538122, 0.02296294441872773, 0.02925923563031436, 0.11518509216490844, 0.046296258908725255, 0.0007407401425396041, 0.04592588883745546, 0.03444441662809159, 0.34188158397509316, 0.11246104736022801, 0.17094079198754658, 0.35537690965832053, 0.01799376757763648, 0.9538044086500365, 0.25900743761088807, 0.5649041527202989, 0.002232822738024897, 0.17192735082791707, 0.907855423010867, 0.7982715228059005, 0.03364362739794983, 0.021409581071422618, 0.005097519302719671, 0.08156030884351474, 0.008156030884351474, 0.02854610809523016, 0.012234046326527212, 0.010195038605439343, 0.984881316484281, 0.8194677321993749, 0.17710108498081728, 0.9779116216656147, 0.9879342005863159, 0.9791513211877184, 0.8809975142698576, 0.11664775450262922, 0.9380106732999735, 0.48050223638601164, 0.010445700791000254, 0.05222850395500127, 0.06267420474600152, 0.010445700791000254, 0.0783427559325019, 0.06789705514150164, 0.24025111819300582, 0.9943148468160776, 0.9922113175368364, 0.9908848663639032, 0.9872641030841423, 0.994485974790674, 0.9784071976378584, 0.9852132204283471, 0.9693350353296686, 0.9097182290597882, 0.08086384258309229, 0.9942286281060856, 0.9592082980840803, 0.9874930695359425, 0.8825509454792941, 0.8982509502867088, 0.1793120598303196, 0.25058672796371023, 0.3016043851539267, 0.021007270607736186, 0.04051402188634836, 0.18831517580506368, 0.01800623194948816, 0.008084566847016817, 0.9863171553360518, 0.018407442773900502, 0.3819544375584354, 0.21168559189985575, 0.17026884565857964, 0.12425023872382839, 0.05982418901517663, 0.02761116416085075, 0.2757864251512729, 0.04807286309976316, 0.08602512344168145, 0.589525110644464, 0.9877765784895338, 0.9817811319832588, 0.9600664608178725, 0.6002598759925974, 0.2892161220691606, 0.049112171672121605, 0.06002598759925974, 0.9928271627152874, 0.9892573081773368, 0.9767923638056012, 0.9860100267930415, 0.9864765459324052, 0.9894761205602735, 0.08534333587690328, 0.23747710852703519, 0.02226347892440955, 0.0037105798207349248, 0.5825610318553832, 0.06679043677322864, 0.09665588214974072, 0.8988997039925887, 0.02052862361389468, 0.2258148597528415, 0.5782228984580335, 0.05474299630371915, 0.11290742987642075, 0.9909502177574228, 0.28016070855762354, 0.6876671937323487, 0.9953350567625795, 0.9844616336223843, 0.9878325752996021, 0.9909149353826363, 0.9449265576413299, 0.9766934669701198, 0.9395846108046204, 0.03499885369759331, 0.02422997563679537, 0.9793809898445476, 0.013891928933965214, 0.9682827717767816, 0.9871207135604817, 0.009184256141010863, 0.9873075351586676, 0.9960242588072686, 0.7957495900021248, 0.15441993791999273, 0.05008214202810575, 0.5553044166387726, 0.16754874639962966, 0.05265817743988361, 0.22020692383951326, 0.10037102227078686, 0.6229925520255736, 0.275155043811295, 0.960768064787306, 0.044216411864658425, 0.9506528550901562, 0.14429791634778136, 0.15948717070017937, 0.11771672123108479, 0.10632478046678626, 0.4480830033957421, 0.022783881528597054, 0.9958266304419812, 0.9955341912600224, 0.980866475401003, 0.9485835127223881, 0.15747111690084833, 0.29744544303493575, 0.5424005137695886, 0.27015973718212133, 0.6753993429553034, 0.9956856490030178, 0.0035623815706726934, 0.8901003813351746, 0.016225788201422453, 0.039405485632025956, 0.018543757944482802, 0.03476954614590525, 0.9097670858244016, 0.05801413300909228, 0.026370060458678308, 0.0026370060458678307, 0.997420149069703, 0.9621694096697389, 0.9525896064256054, 0.39501396411593925, 0.6022743773866481, 0.994647825933357, 0.9697858423719445, 0.9923338496713197, 0.9927497646779756, 0.9758119269826852, 0.22635127037165173, 0.14251746653029923, 0.029341831344473372, 0.5994116974656704, 0.994071799952194, 0.0850229892412684, 0.05474082868958376, 0.7978184606886144, 0.06172901958612637, 0.9971880600863066, 0.9992772761693028, 0.34614577279998787, 0.6513005988210298, 0.9942378497528264, 0.7630796155270578, 0.11584356280285418, 0.018067344657325884, 0.08502279838741592, 0.002125569959685398, 0.015941774697640486, 0.9717510844765458, 0.4261511655970712, 0.5697455800917366, 0.5431626543121251, 0.004723153515757609, 0.451848353007478, 0.9485640174895282, 0.9965553290277606, 0.9955856004890036, 0.2692971176256257, 0.7250307012997614, 0.9875928061686046, 0.710988834367859, 0.08595719931908485, 0.014326199886514141, 0.013507559892999049, 0.104785919169932, 0.04052267967899714, 0.029880359763300925, 0.4815072274073867, 0.0041154463880973225, 0.024692678328583937, 0.48562267379548407, 0.44089608215709647, 0.02495638200889225, 0.22460743808003025, 0.0041593970014820415, 0.299476584106707, 0.4330869560256138, 0.346469564820491, 0.20210724614528644, 0.9312475963906628, 0.03894951924067411, 0.00885216346378957, 0.0070817307710316565, 0.012393028849305399, 0.9926759124232244, 0.9288939171924758, 0.913592933040832, 0.09510068802083066, 0.08269625045289622, 0.23568431379075425, 0.11577475063405472, 0.03307850018115849, 0.004134812522644811, 0.42588568983241554, 0.7810588791020252, 0.6511712884557219, 0.1415589757512439, 0.1698707709014927, 0.9773343129599721, 0.6932646609291309, 0.2854619192061127, 0.09629453839495476, 0.04814726919747738, 0.8425772109558541, 0.9685380785036121, 0.030993218512115586, 0.8649362168901297, 0.1337850982959553, 0.11772462966918879, 0.8745258203996882, 0.9494795828685633, 0.9402450796456979, 0.7910152378125833, 0.000935006191267829, 0.058905390049873226, 0.014960099060285264, 0.08228054483156895, 0.001870012382535658, 0.04955532813719494, 0.06167534127740149, 0.9379791485938144, 0.9796457370619778, 0.996970766757133, 0.09728963178377398, 0.6763945828776667, 0.06949259413126713, 0.09728963178377398, 0.041695556478760276, 0.013898518826253425, 0.4927303858073495, 0.5022059701497985, 0.8795321848495485, 0.11936508222958159, 0.5270249997865198, 0.047911363616956346, 0.023955681808478173, 0.11977840904239087, 0.2635124998932599, 0.8937571430948296, 0.9636596704956268, 0.01628868581535683, 0.002101765911658946, 0.004728973301232629, 0.012610595469953677, 0.997406609522969, 0.9117152033154944, 0.003236858709995838, 0.05934240968325703, 0.02481591677663476, 0.9623179809726342, 0.9881047862301673, 0.9893438204002076, 0.5973090337199669, 0.0883879263770587, 0.1215333987684557, 0.017263266870519278, 0.007595837423028481, 0.0055242453985661685, 0.12912923619148417, 0.03383600306621778, 0.6428714574967496, 0.3333407557390553, 0.9882874913468152, 0.9981634283468, 0.29552924054062846, 0.06418929568593826, 0.04954207385156308, 0.061604491832813225, 0.2046303050390649, 0.09563774256562613, 0.08185212201562596, 0.019816829540625233, 0.006892810275000081, 0.041356861650000486, 0.011200816696875131, 0.05471168155781314, 0.011200816696875131, 0.0012924019265625152, 0.9791395457421191, 0.195247306055211, 0.08367741688080471, 0.016735483376160945, 0.05020645012848283, 0.6415268627528362, 0.9560290428356258, 0.9652729324640437, 0.9622858527499661, 0.03356811114244068, 0.9964835779645206, 0.9865802366578506, 0.986130177125047, 0.9962160956729531, 0.994587026576812, 0.9970448688771921, 0.9967882091367261, 0.8982950624153592, 0.977781389309535, 0.8206843317803431, 0.9460873366006913, 0.11920116381725092, 0.25202531778504483, 0.03746322291399315, 0.09536093105380074, 0.49723914049481815, 0.9732388476433935, 0.9736009611899431, 0.016007279617265217, 0.7077504345062264, 0.27555388484006554, 0.6351392956281205, 0.006792933643081503, 0.280208512777112, 0.0764205034846669, 0.9814451990666592, 0.9513561158061087, 0.9820876966795233, 0.8637640098836725, 0.9945959387183437, 0.15534070447267967, 0.16728998943211656, 0.22703641422930107, 0.45407282845860214, 0.9567649286525326, 0.10297572819964752, 0.03793842617881751, 0.4606808893142126, 0.016259325505207502, 0.32518651010415006, 0.05419775168402501, 0.06628810760208427, 0.8948894526281376, 0.9683295611377096, 0.9868588117581287, 0.1987096945102409, 0.11846154865033591, 0.049677423627560224, 0.022928041674258565, 0.01910670139521547, 0.5884864029726364, 0.9854282942524831, 0.1831423769983497, 0.1159901720989548, 0.01220949179988998, 0.6654173030940039, 0.02441898359977996, 0.5145394232023301, 0.11035516576576293, 0.18347392590504144, 0.13540511136903427, 0.05551609566130405, 0.9516330907056786, 0.4740727595895454, 0.1920582997216253, 0.022773711429441734, 0.0011386855714720866, 0.26417505258152413, 0.017459845429238664, 0.02694889185817272, 0.0018978092857868112, 0.9918265780641649, 0.987858436544057, 0.651418018552553, 0.14266916892486722, 0.20616478806175867, 0.9888194333648263, 0.10248935322358967, 0.8593338077977902, 0.014190833523266262, 0.023651389205443768, 0.316088010746528, 0.632176021493056, 0.14261542972417737, 0.7130771486208868, 0.9827689757935685, 0.4034053271525097, 0.12091167843808193, 0.02528153276432622, 0.0153887590739377, 0.32206474347598185, 0.0153887590739377, 0.04396788306839343, 0.0153887590739377, 0.012091167843808192, 0.003297591230129507, 0.023083138610906547, 0.9889189949518591, 0.7358375779644336, 0.2611036566970571, 0.9847627129357023, 0.9880412529689377, 0.3091740436204522, 0.002333389008456243, 0.05600133620294983, 0.05483464169872171, 0.06883497574945917, 0.45617755115319547, 0.04200100215221237, 0.0011666945042281215, 0.007000167025368729, 0.002333389008456243, 0.9643272531529753, 0.989441126936344, 0.9733603739298173, 0.02581857755782009, 0.9734951058203078, 0.9928611492150154, 0.9822043619338694, 0.9749390759227758, 0.3117226957393631, 0.601262877549708, 0.08522755351675472, 0.001167500733106229, 0.12431730673522119, 0.8080624937789377, 0.2544759975994817, 0.7270742788556619, 0.9894269400224537, 0.9591887378976216, 0.9861263305685922, 0.15851245649203924, 0.8359903527319877, 0.004342807027179157, 0.952510328444857, 0.03571913731668214, 0.005953189552780356, 0.9152711734497345, 0.08368193585826145, 0.9899223038240438, 0.9656792532032815, 0.9945548652396882, 0.9830391139117021, 0.10800125077074199, 0.2942483056713073, 0.10028687571568899, 0.11902178656367485, 0.2578805375546288, 0.06612321475759714, 0.04959241106819785, 0.0044082143171731425, 0.8684855409122052, 0.3895188430760598, 0.018746896190826406, 0.03957678084730019, 0.41868068159512306, 0.008331953862589513, 0.11248137714495843, 0.008331953862589513, 0.9872086987989944, 0.9869945505792973, 0.3716191818428962, 0.6265987664650294, 0.9541200571181795, 0.12408471062221788, 0.8737631706314509, 0.05850256105778695, 0.10593707002356015, 0.055340260460068735, 0.05059680956349141, 0.43639748248511345, 0.2719578514037663, 0.01897380358630928, 0.0015811502988591066, 0.9812651248396591, 0.5317865264226281, 0.4368246467043017, 0.9857757020135782, 0.8371632000865366, 0.14215978869394016, 0.9895732503863793, 0.004415424819892909, 0.10817790808737628, 0.5673820893562388, 0.22960209063443127, 0.022077124099464544, 0.06623137229839364, 0.0022077124099464545, 0.8902971289124509, 0.9953096411179585, 0.9828903420163065, 0.9848450653578269, 0.9602185801791799, 0.9885218194780543, 0.9845590080221955, 0.9851516644248568, 0.9770654942310857, 0.8519873450590246, 0.004274184005312833, 0.128225520159385, 0.012822552015938498, 0.9921591919400119, 0.8070961290274944, 0.9339445289414079, 0.9873002929773671, 0.9842979947100209, 0.07643969420603866, 0.5350778594422706, 0.028664885327264498, 0.01592493629292472, 0.12102951582622788, 0.11306704767976553, 0.05414478339594405, 0.00796246814646236, 0.04458982162018922, 0.004777480887877416, 0.04893179884946449, 0.06728122341801367, 0.2507754691035055, 0.08257241055847132, 0.0397570865651899, 0.13456244683602733, 0.04893179884946449, 0.030582374280915304, 0.027524136852823775, 0.042815323993281425, 0.22630956967877325, 0.9751019753107562, 0.9852918983495458, 0.988072325128688, 0.9514408243465161, 0.15348592706395756, 0.44711117883848506, 0.3970614200132815, 0.0022244337255646024, 0.9791281138412619, 0.0006024311913142968, 0.01747050454811461, 0.1939828436032036, 0.037953165052800705, 0.00783160548708586, 0.033736146713600625, 0.49158385211246625, 0.10723275205394484, 0.10964247681920203, 0.0006024311913142968, 0.9623544227502101, 0.11940518223406432, 0.13930604593974172, 0.4378190015249025, 0.27861209187948344, 0.9676453928310397, 0.988654993788186, 0.9880040369318104, 0.2547996781585932, 0.15616754467784746, 0.02191825188461017, 0.5643949860287119, 0.16225341577154953, 0.7764984897638442, 0.05794764848983912, 0.21816162884423074, 0.0681755090138221, 0.7090252937437499, 0.9814985579786577, 0.9889828942739209, 0.8002658157269229, 0.15133608435507054, 0.25744529292586715, 0.008697476112360375, 0.49227714795959726, 0.0347899044494415, 0.05392435189663433, 0.9332359853284937, 0.8481917659236803, 0.9331729780296594, 0.15435048823872188, 0.1573187668586973, 0.19590638891837778, 0.10685803031911514, 0.002968278619975421, 0.3829079419768293, 0.9370936760879496, 0.04433561478265568, 0.018137296956540958, 0.9276013520076621, 0.258332510061877, 0.7233310281732557, 0.9696651031355475, 0.07546785796073184, 0.9207078671209284, 0.9950056755030677, 0.998030397034461, 0.9967391200920386, 0.9836154866965104, 0.988407465255226, 0.022771462252454317, 0.9677871457293085, 0.9945370966349195, 0.9991873626599918, 0.9935946402032806, 0.49921397168927667, 0.20080115062361967, 0.29841282106565703, 0.7761932518797559, 0.22201160697870745, 0.9955059893750193, 0.02315094632933439, 0.03205515645600147, 0.010685052152000489, 0.11397388962133854, 0.17274167645734123, 0.07301452303867001, 0.04630189265866878, 0.40781282380135203, 0.11041220557067172, 0.008904210126667074, 0.9606198424009221, 0.07097931657272874, 0.07807724823000162, 0.8162621405863805, 0.03548965828636437, 0.9699321520958237, 0.9549399422049046, 0.9981853628850262, 0.9958428851697586, 0.991046512703652, 0.9859719480577281, 0.9800160508953524, 0.9892940464335559, 0.9952058588301235, 0.9453005246104631, 0.9958541824918453, 0.05567216816466723, 0.0044537734531733784, 0.9397461986195829, 0.0075751085938199165, 0.1717024614599181, 0.010100144791759889, 0.8029615109449112, 0.005050072395879944, 0.9452384742902734, 0.1719040613627054, 0.8226837222358043, 0.9032269261203137, 0.6281374724007953, 0.19390910506810113, 0.03013992967358381, 0.008268476282133612, 0.05761260893357613, 0.008001751240774463, 0.07308266133240676, 0.0008001751240774462, 0.870264360442087, 0.9212125838385499, 0.9033743446535789, 0.1368109859137693, 0.02345331187093188, 0.06254216498915169, 0.3205285955694024, 0.10163101810737148, 0.34398190744033424, 0.007817770623643961, 0.9900201840073831, 0.12912250264523412, 0.06773639483028675, 0.032457022522845734, 0.07408668184562613, 0.5249570599347223, 0.06138610781494737, 0.01975644849216697, 0.03739613464588747, 0.019050861046018146, 0.010583811692232305, 0.02398997316905989, 0.8330578714875805, 0.9971325091473632, 0.9716684615228806, 0.0204561781373238, 0.9807054665377453, 0.16994088085073192, 0.7852440701378647, 0.04395022780622377, 0.9676622673219132, 0.9955997235069356, 0.10916578775249224, 0.5536264950304963, 0.010396741690713546, 0.32489817783479835, 0.9624031083940988, 0.9796713470528393, 0.9893069676431, 0.20271416298773595, 0.08457610773660507, 0.012082301105229294, 0.43227788398709255, 0.21211150829180317, 0.05101416022207925, 0.0053699116023241305, 0.9847078960904531, 0.9929091166195283, 0.9936071986669717, 0.9873952929653376, 0.9403390284297826, 0.009391650720896705, 0.001173956340112088, 0.023479126802241762, 0.02465308314235385, 0.5171586307653065, 0.22521043884216496, 0.06508699593763093, 0.0033015142866914234, 0.12970234697716307, 0.013206057146765694, 0.0004716448980987748, 0.033250965315963624, 0.012498589799617531, 0.9855844359970973, 0.08930032371290386, 0.14440052345065305, 0.3847513947204901, 0.010450037881297261, 0.15200055100068743, 0.010450037881297261, 0.007600027550034372, 0.05795021006901208, 0.03230011708764608, 0.021850079206348818, 0.08930032371290386, 0.2560372083968889, 0.7201046486162501, 0.9234803575220748, 0.004608980689443196, 0.031341068688213736, 0.14287840137273908, 0.04885519530809788, 0.06083854510065019, 0.029497476412436455, 0.6388047235568269, 0.016592330481995505, 0.026732087998770537, 0.11990320493047202, 0.13189352542351923, 0.7374047103224028, 0.990252541141683, 0.9611756430976233, 0.15074250241901102, 0.009725322736710389, 0.8363777553570934, 0.9598035295970214, 0.20908176362221687, 0.03851506171988205, 0.027510758371344323, 0.013755379185672162, 0.5584683949382898, 0.049519365068419786, 0.06602582009122637, 0.033012910045613186, 0.85203641327848, 0.17559225134035034, 0.08047978186432724, 0.7462670681964889, 0.9190309519205316, 0.07323897046153337, 0.004725094868486024, 0.9869628328216135, 0.906907327901916, 0.9929044772647591, 0.9655606835935631, 0.9923949004759967, 0.12143277074850174, 0.012587543309295911, 0.8426249579987498, 0.007404437240762301, 0.004442662344457381, 0.011106655861143452, 0.9900300534754933, 0.9939671777326642, 0.9839227904244884, 0.5741089852344395, 0.14364234434093437, 0.09069724947167972, 0.09714273928184984, 0.07642509346344585, 0.005064313422276532, 0.00046039212929786653, 0.012430587491042398, 0.7671989790654816, 0.0174363404333064, 0.1917997447663704, 0.9951590902455401, 0.017326597888786748, 0.5301938953968746, 0.21831513339871303, 0.23217641170974243, 0.6416479458100472, 0.040919204142567465, 0.08140309760276719, 0.048754796425186764, 0.03656609731889007, 0.053978524613599636, 0.01654180592997408, 0.04657824301334807, 0.009141524329722518, 0.02220084480075469, 0.001741242729470956, 0.9630164310413257, 0.025342537658982256, 0.9625658768761179, 0.9044808213440819, 0.10718708109796676, 0.8753611623000619, 0.10615481838121033, 0.318464455143631, 0.5484665616362533, 0.36930254679606545, 0.615504244660109, 0.9872576962452357, 0.15086817963800242, 0.12572348303166866, 0.7040515049773446, 0.9931725505438641, 0.9949819405253277, 0.854410313037, 0.048271769098135596, 0.004827176909813559, 0.04223779796086865, 0.043444592188322036, 0.004827176909813559, 0.0024135884549067797, 0.9785520521004779, 0.05111879845495034, 0.9472012654887858, 0.08633886737739836, 0.9065581074626828, 0.8791178344642799, 0.020620040887597436, 0.7852798904693357, 0.1512136331757145, 0.006873346962532478, 0.008591683703165598, 0.027493387850129912, 0.9933152801111985, 0.9966602875969856, 0.020195032842026887, 0.024855425036340785, 0.1739879752543855, 0.41788183342347945, 0.3604036630269414, 0.9674932577431439, 0.9911645007303157, 0.6398402997389514, 0.12490295671550788, 0.042911445251953624, 0.024520825858259217, 0.11494137121059007, 0.0022988274242118014, 0.01455924035334141, 0.0038313790403530024, 0.03218358393896522, 0.6629403585970025, 0.2461653537437399, 0.08774210628489738, 0.9937391771836062, 0.8909400845637736, 0.04112031159525109, 0.04112031159525109, 0.01762299068367904, 0.00783244030385735, 0.9872657143503812, 0.8987151495523158, 0.9017439922891398, 0.07391682194627583, 0.044350093167765496, 0.8722184989660547, 0.8919927271726537, 0.05639034482125971, 0.046137554853757944, 0.9873858882910213, 0.9067080522826583, 0.9862012600754925, 0.055752640024901524, 0.4752248840217797, 0.41150758113617797, 0.007964662860700219, 0.04778797716420131, 0.969454442387103, 0.026836109131822918, 0.08263264542165275, 0.9089590996381801, 0.891681825236041, 0.9971049759450098, 0.9958230178785654, 0.0057252856330391715, 0.9618479863505809, 0.022901142532156686, 0.9975929670407754, 0.9967836397768148, 0.9846274590256423, 0.9927349706870133, 0.9957049987699367, 0.9968871599410647, 0.9482602041418434, 0.050253420956825806, 0.9833488497434778, 0.9919919617973358, 0.617763363557868, 0.19619374264156128, 0.03187587123009348, 0.01122389832045545, 0.11134107133891806, 0.019305105111183374, 0.008530162723546142, 0.0035916474625457442, 0.9956411070113, 0.9962314794363095, 0.6339257345413055, 0.07511633842294539, 0.14110639273843015, 0.025974808613541865, 0.019656611923761412, 0.014742458942821059, 0.0035101092721002525, 0.010530327816300757, 0.049141529809403534, 0.0007020218544200505, 0.0035101092721002525, 0.019656611923761412, 0.0021060655632601515, 0.9678374383121856, 0.9954063415017778, 0.9343285827722483, 0.9242063791429661, 0.22399033368506974, 0.00419457553717359, 0.25335236244528486, 0.0008389151074347181, 0.08724717117321068, 0.09647523735499258, 0.015939387041259644, 0.26174151351963204, 0.0016778302148694362, 0.00419457553717359, 0.025167453223041543, 0.024328538115606823, 0.8949661938135018, 0.9599254044847304, 0.03807637303801644, 0.41560951208137076, 0.007782949664445145, 0.024905438926224464, 0.12452719463112231, 0.37358158389336693, 0.05292405771822699, 0.9613079066676465, 0.14474148836945824, 0.26053467906502487, 0.578965953477833, 0.09472418224247775, 0.08119215620783808, 0.8119215620783807, 0.9968297835015515, 0.9920688448724944, 0.36328723102952015, 0.3456629678653337, 0.1569127946230791, 0.0164872139277873, 0.0329744278555746, 0.029563280146377224, 0.001137049236399124, 0.05116721563796058, 0.001705573854598686, 0.8043000988980149, 0.9752841346380906, 0.1187811815204449, 0.8077120343390254, 0.05939059076022245, 0.6960963751677942, 0.12458999786490543, 0.004822838627028597, 0.13262806224328644, 0.041797934767581174, 0.046097155857597764, 0.09795645619739524, 0.16422111774269202, 0.03169179465209846, 0.00864321672329958, 0.5200335395185247, 0.13252932309059356, 0.2284025784105846, 0.768848116058165, 0.8931087589751446, 0.09997486107930724, 0.9952127076931014, 0.15529953164995638, 0.0880030679349753, 0.10482718386372057, 0.06988478924248039, 0.40895543334488516, 0.03364823185749055, 0.06600230095123147, 0.04141320843998837, 0.018118278692494914, 0.009059139346247457, 0.0012941627637496366, 0.13544628926458765, 0.6649181472988849, 0.1754645110927613, 0.02154827329209349, 0.07023900806465395, 0.43146819239716, 0.4916730564525777, 0.9555083446497074, 0.9733441560809734, 0.8338111112400873, 0.06959165379747251, 0.0012887343295828243, 0.003866202988748473, 0.030929623909987783, 0.059281779160809914, 0.7662310579481905, 0.9855887273898163, 0.9971403482286413, 0.0942241732165652, 0.07978105177460995, 0.21527128625390446, 0.1004140824059746, 0.04883150582756299, 0.0440171320135779, 0.0006877676877121547, 0.17056638655261439, 0.10729175928309614, 0.13617800216700665, 0.002063303063136464, 0.9167697995379898, 0.8673397435152991, 0.9414025439613201, 0.058060068790566, 0.9748418836615262, 0.3244331692863716, 0.661843665344198, 0.9504703366013224, 0.88857294695342, 0.14654651711870506, 0.30746033983728316, 0.02586115007977148, 0.07470998911933983, 0.4453864735960644, 0.5528507205430263, 0.08622442430487566, 0.07608037438665499, 0.010144049918220667, 0.26881732283284765, 0.9752240336180432, 0.34577144838922386, 0.6339143220469105, 0.9802423430072222, 0.8702069275972988, 0.22755357673904575, 0.07986979845807567, 0.18385123418651378, 0.05877211584650851, 0.04219536522313431, 0.06932095715229208, 0.04370234255253196, 0.03767443323494135, 0.25317219133880586, 0.003013954658795308, 0.9940692016449095, 0.990043664002637, 0.4663199701697587, 0.2148215592916866, 0.13098875566566254, 0.010479100453253004, 0.038423368328594346, 0.00873258371104417, 0.010479100453253004, 0.11876313847020072, 0.9823341812316732, 0.9433843920042405, 0.9896722416184954, 0.9898666226188694, 0.015624265577658671, 0.09895368199183825, 0.8840730272691865, 0.9854976087868501, 0.9891175230302038, 0.08728912964916494, 0.2459966381021921, 0.05157994024723383, 0.003967687711325679, 0.5951531566988519, 0.011903063133977038, 0.15799244624740044, 0.15799244624740044, 0.26858715862058075, 0.13692678674774705, 0.03686490412439344, 0.010532829749826696, 0.2317222544961873, 0.9786114723753566, 0.018394952488258582, 0.23092186273471216, 0.7606837831261106, 0.9028525197314461, 0.9282372068009463, 0.9885997815302329, 0.9908631040498423, 0.9421302079798016, 0.9312268794429157, 0.8667406382922038, 0.9519260834016622, 0.14320028423697337, 0.8353349913823447, 0.9325502402292359, 0.3175697521843981, 0.6351395043687962, 0.9862415049195307, 0.9437115634073752, 0.9778801513705063, 0.9792573145089241, 0.9951933490548975, 0.003072165693550184, 0.10138146788715607, 0.03072165693550184, 0.12595879343555755, 0.02457732554840147, 0.006144331387100368, 0.6820207839681408, 0.03072165693550184, 0.9869957509797295, 0.4205515019525201, 0.023149623960689182, 0.18133872102539858, 0.3703939833710269, 0.9871538474743277, 0.7177206328732662, 0.0027177808755062148, 0.1001049289144789, 0.0004529634792510358, 0.14494831336033145, 0.03102799832869595, 0.0029442626151317325, 0.8813879668796489, 0.025821913092177216, 0.013771686982494515, 0.041315060947483544, 0.0361506783290481, 0.12233426885132201, 0.011650882747744954, 0.019418137912908254, 0.14175240676423026, 0.033010834451944034, 0.029127206869362383, 0.046603530990979816, 0.5844859511785385, 0.009709068956454127, 0.01609980920845759, 0.1878311074320052, 0.03756622148640104, 0.5795931315044732, 0.17173129822354763, 0.9644982937471238, 0.19594794752818911, 0.0632090153316739, 0.7332245778474173, 0.9873834330775387, 0.9828961632170808, 0.18969795504506523, 0.015175836403605219, 0.0037939591009013046, 0.4457901943559033, 0.007587918201802609, 0.30920766672345634, 0.015175836403605219, 0.013278856853154566, 0.9910680012464355, 0.3182604740230002, 0.19783759196024334, 0.09891879598012167, 0.3827727322709056, 0.9332623616236847, 0.9133368236923272, 0.9836701441522818, 0.9943576753409348, 0.9928644099620416, 0.9889905235220028, 0.09846760981692008, 0.09846760981692008, 0.796692479427808, 0.9908205233773162, 0.9809532136394662, 0.020675513061652873, 0.661616417972892, 0.04135102612330575, 0.2687816698014874, 0.20070835035090642, 0.7777448576097624, 0.9897657635063338, 0.9905601500182372, 0.06422483324186837, 0.01926744997256051, 0.35323658283027604, 0.030506795789887475, 0.5314604950764608, 0.14694257651832404, 0.6332525321384918, 0.21691523200324025, 0.813799259891499, 0.18367882981877093, 0.04480957521623631, 0.9297986857369035, 0.022404787608118155, 0.9873311019100054, 0.13030552166484394, 0.8656009653450347, 0.13680574090879238, 0.19212284484147799, 0.014870189229216561, 0.6477454428246734, 0.008327305968361275, 0.7415650891375902, 0.04856780153687052, 0.05509183457913671, 0.014497851205035977, 0.10510942123651083, 0.004349355361510793, 0.013048066084532378, 0.015222743765287775, 0.0021746776807553964, 0.9901009120850881, 0.814040094762294, 0.8348453564267638, 0.16403119906332309, 0.04902873356619666, 0.9455541473480784, 0.9893747212253258, 0.9414499939510982, 0.8573521865512786, 0.1316266842423125, 0.007114955904989864, 0.053529680460120285, 0.9100045678220449, 0.39240529464378654, 0.054280847674068454, 0.11873935428702474, 0.4319850794061281, 0.002261701986419519, 0.9776100670065454, 0.9778415145522292, 0.2016564046080711, 0.034373250785466665, 0.11228595256585777, 0.011457750261822223, 0.01604085036655111, 0.6141354140336711, 0.0068746501570933335, 0.28919377919937767, 0.6947926015985049, 0.005456486399988258, 0.010912972799976516, 0.9962532250368139, 0.17224340745599234, 0.3583355310893509, 0.1367560722514914, 0.009520992371939275, 0.04933605138186715, 0.11078972941892974, 0.0034621790443415544, 0.15839469127862613, 0.9806053734078216, 0.9793406916974239, 0.9406254807134978, 0.22543242269134453, 0.25048046965704945, 0.15028828179422968, 0.3256246105541643, 0.09001305366870596, 0.2400348097832159, 0.2400348097832159, 0.4200609171206278, 0.9741491219525749, 0.00593993367044253, 0.019304784428938224, 0.9523581007674315, 0.05405467956688144, 0.6683124019178069, 0.03931249423045923, 0.03603645304458763, 0.029484370672844422, 0.02293228830110122, 0.006552082371743205, 0.1441458121783505, 0.9891136375583468, 0.9983224555932612, 0.078764546256478, 0.9189197063255766, 0.05089119046431789, 0.4848055512653442, 0.03214180450377972, 0.40712952371454314, 0.02410635337783479, 0.300149540182448, 0.6378177728877019, 0.4151692002515083, 0.37973512910628704, 0.18484773780757052, 0.010039653491146003, 0.004133974966942472, 0.005315110671783178, 0.97518178460473, 0.9873129786706077, 0.699033699113952, 0.03387387969274657, 0.039416878187923284, 0.17799184056734108, 0.0492710977349041, 0.9610715358624237, 0.6693314758515916, 0.09203307792959385, 0.04685320330961141, 0.17569951241104279, 0.010039972137773873, 0.0033466573792579578, 0.03323133958258914, 0.07477051406082558, 0.5441631856648972, 0.14954102812165115, 0.1952341200477112, 0.9825009370259703, 0.9868020696105654, 0.294574046218617, 0.6996133597692153, 0.10994647581527028, 0.8795718065221623, 0.05304859543349138, 0.35293555329220794, 0.012991492759222378, 0.11367556164319581, 0.12125393241940886, 0.344274558119393, 0.9832599206055922, 0.9953741318381587, 0.9957922996101282, 0.9578937170016387, 0.9864344056888031, 0.958299735735866, 0.9155381916913834, 0.9958383808055159, 0.9778106197813382, 0.8060023819035751, 0.09051363647045496, 0.009482380963571473, 0.018102727294090994, 0.0448258009187015, 0.024136969725454656, 0.006896277064415616, 0.43799091868333767, 0.5515441198234623, 0.2002832621626378, 0.1258923362165152, 0.6695183335151036, 0.5201465788349694, 0.14564104207379142, 0.3120879473009816, 0.16914430268841948, 0.8226563812573129, 0.8188117879491692, 0.027407925956457548, 0.028549922871309946, 0.007993978403966784, 0.022839938297047956, 0.023981935211900354, 0.07080380872084867, 0.9875861845121634, 0.9090961050056343, 0.7950394016360476, 0.115558052563379, 0.08782411994816805, 0.7320636584420979, 0.13316096423331655, 0.0006432896822865534, 0.13251767455103, 0.0012865793645731069, 0.8453744340130143, 0.0486451851609355, 0.035497837820142125, 0.022350490479348745, 0.04601571569277683, 0.001314734734079338, 0.9321073091045042, 0.9838562279285454, 0.10589211520455304, 0.8824342933712753, 0.09906450132345283, 0.8420482612493492, 0.9868952978825106, 0.8010463328044415, 0.9908245990701435, 0.07323213280273812, 0.9031963045671034, 0.264162452184333, 0.05376757876318282, 0.6802767573950521, 0.02178210959030478, 0.9729342283669469, 0.3400013944459151, 0.1271033250265103, 0.5274787988600178, 0.9411029118974821, 0.05751245947054168, 0.14515049294946233, 0.6134662343524445, 0.1834921325964901, 0.06982213684241746, 0.07934333732092892, 0.2602461464126469, 0.06030093636390599, 0.050779735885394514, 0.03173733492837157, 0.4474964224900392, 0.029941595640211233, 0.2566422483446677, 0.0042773708057444616, 0.14115323658956724, 0.564612946358269, 0.9808700522009289, 0.15723188812193217, 0.015723188812193215, 0.7794209311187208, 0.04492339660626633, 0.1312233874001507, 0.8329832417574783, 0.028526823347858846, 0.03986344724733074, 0.15401786436468695, 0.03986344724733074, 0.7229779750765893, 0.03261554774781606, 0.00905987437439335, 0.9788396734954647, 0.9453369878926847, 0.18846176605771053, 0.06282058868590351, 0.7329068680022076, 0.9852544206668086, 0.9760868147919923, 0.14046750774335445, 0.00726556074534592, 0.026640389399601706, 0.01453112149069184, 0.05812448596276736, 0.1356238005797905, 0.07023375387167723, 0.060546339544549334, 0.009687414327127894, 0.44319920546610114, 0.026640389399601706, 0.004843707163563947, 0.9935897179198567, 0.9596550263303614, 0.506029294277601, 0.08340017691329521, 0.010233150541508614, 0.1862433398554568, 0.17447521673272187, 0.024559561299620676, 0.0133030957039612, 0.0015349725812262923, 0.8310288585919646, 0.1049071083866094, 0.03291203400364216, 0.028798029753186894, 0.9944251967704699, 0.9851074985351472, 0.04806564970278275, 0.3124267230680879, 0.29440210442954434, 0.012016412425695688, 0.22230362987537022, 0.03604923727708706, 0.06609026834132628, 0.9476477296630732, 0.9921614838612834, 0.021996056513811396, 0.06598816954143419, 0.03666009418968566, 0.8138540910110216, 0.051324131865559924, 0.8915827817717392, 0.09551178550875039, 0.38204714203500156, 0.19102357101750078, 0.3247400707297513, 0.9632056371608434, 0.9767091331863693, 0.9088732951821379, 0.9595619952960401, 0.9959703855731841, 0.32820339776841745, 0.22947554640718618, 0.03201984368472365, 0.03201984368472365, 0.008004960921180913, 0.03201984368472365, 0.3388766789966587, 0.13587147777237876, 0.29600571943268233, 0.5337808055343451, 0.031541593054302215, 0.2836809401946833, 0.022469777441163033, 0.5842142134702388, 0.05617444360290758, 0.05055699924261683, 0.9825983112379469, 0.9916087970798221, 0.40137080579130774, 0.017223974760875366, 0.10438772582348706, 0.11795813018054038, 0.35283051328338627, 0.005741324920291788, 0.18719109740497852, 0.031198516234163087, 0.7799629058540772, 0.9979170268507416, 0.9950275436646865, 0.9883743399923152, 0.7927820332866794, 0.11582705802933049, 0.033093445151237286, 0.8438828513565507, 0.1641534929388758, 0.07816832997089324, 0.1511254379437269, 0.08337955196895278, 0.5263334218040144, 0.42670120807282486, 0.14824361219431473, 0.4246979160161449, 0.25780184690487484, 0.13695723116821476, 0.5438007708149704, 0.06445046172621871, 0.10652269865750782, 0.13695775541679578, 0.1826103405557277, 0.578266078426471, 0.9087466246940447, 0.08492959109290137, 0.9890230059040558, 0.9658984688691039, 0.02445312579415453, 0.9435648335354746, 0.8415865649945868, 0.1565742446501557, 0.9492611141154315, 0.47039267005911867, 0.526391797447109, 0.18208646005296197, 0.13118056799514466, 0.03132670280481066, 0.1830654195156123, 0.22809755479752764, 0.05580068937106899, 0.029368783879509995, 0.04796901366986633, 0.10572762196623599, 0.005873756775901999, 0.10534715622625969, 0.12351045902389067, 0.7664913780600274, 0.6370718075412858, 0.1756031264376621, 0.012251380914255495, 0.040837936380851654, 0.09188535685691622, 0.014293277733298079, 0.028586555466596157, 0.9977773790038552, 0.1895703067624263, 0.021721597649861348, 0.033569741822512995, 0.7187874131408665, 0.03554443251795494, 0.049992095756222724, 0.5193623281340917, 0.17219499649365605, 0.005554677306246969, 0.008332015959370455, 0.06110145036871666, 0.008332015959370455, 0.17219499649365605, 0.9399489951282007, 0.9880910566353531, 0.9895101211475028, 0.03071166779970491, 0.05220983525949835, 0.0675656691593508, 0.02764050101973442, 0.8210252525121113, 0.9933416089011443, 0.9211252677453007, 0.036428682905181385, 0.007806146336824582, 0.03382663412623986, 0.9911514309689446, 0.8773924311309819, 0.11902019065776798, 0.003051799760455589, 0.8547950369415459, 0.04498921247060768, 0.08997842494121536, 0.9802187412224674, 0.9925598986194275, 0.2639835113329486, 0.7165266736180034, 0.15547860895835444, 0.023321791343753166, 0.21767005254169622, 0.5985926444896646, 0.9906446032394832, 0.9921269868110718, 0.9525047121319072, 0.16608516154478528, 0.8304258077239264, 0.7835426804855373, 0.040880487677506294, 0.17033536532294288, 0.4517284698995144, 0.5436054468282292, 0.3655902292895198, 0.28434795611407093, 0.32496909270179536, 0.9934304329981523, 0.9757680575264508, 0.9036252576291205, 0.9791096375370141, 0.9936015483369404, 0.5517902115793948, 0.16261983738335367, 0.04655148016699056, 0.034137752122459744, 0.11358561160745696, 0.014275787251210438, 0.0068275504244919485, 0.0012413728044530815, 0.027930888100194333, 0.038482556938045524, 0.003103432011132704, 0.11606367168403804, 0.21340739632226352, 0.3856309091437393, 0.018719947045812587, 0.0074879788183250355, 0.041183883500787694, 0.21715138573142603, 0.902031987459922, 0.9823359389308807, 0.9283180740200717, 0.986719133449485, 0.9944826033458243, 0.32568068693245955, 0.17808155787932517, 0.09786463991566519, 0.036899782263283595, 0.025669413748371193, 0.10267765499348477, 0.22460737029824795, 0.009626030155639198, 0.9939749517420652, 0.7611584466538562, 0.06790706529442064, 0.8827918488274684, 0.9507030668055463, 0.2149416742750846, 0.6803371255315721, 0.007476232148698594, 0.06074438620817608, 0.033643044669143675, 0.0018690580371746486, 0.9949443427639489, 0.9747267190776796, 0.7410059994457509, 0.8995073615331673, 0.09941923469577113, 0.26820174102700656, 0.2190943799938927, 0.1699870189607788, 0.03777489310239529, 0.022664935861437176, 0.11332467930718587, 0.018887446551197645, 0.15109957240958116, 0.7505668534616032, 0.12109691244470137, 0.057330905408602584, 0.008775138582949375, 0.05206582225883296, 0.007605120105222792, 0.001755027716589875, 0.9814788222435437, 0.018345398546608292, 0.271659337542989, 0.698212157018384, 0.02859571974136726, 0.1618580572086576, 0.01471436883715069, 0.5497823265517212, 0.0963122323886227, 0.06420815492574847, 0.020065048414296394, 0.05885747534860276, 0.01471436883715069, 0.01872737852000997, 0.8539764780931656, 0.13210685848955048, 0.014154306266737552, 0.0021694496507723535, 0.007231498835907845, 0.0325417447615853, 0.9343096495992935, 0.023140796274905104, 0.0007231498835907845, 0.996452190345144, 0.988400512884538, 0.3537784220720954, 0.16080837366913428, 0.24121256050370143, 0.225131723136788, 0.17142418780873547, 0.7999795431074322, 0.9846530959816572, 0.8509789725928051, 0.08860518586649598, 0.040610710188810656, 0.018459413722186662, 0.9507021226723933, 0.9918545460292132, 0.9889287931665648, 0.9715896172254358, 0.9815016089461921, 0.15549391080403344, 0.3078779433919862, 0.2814439785553005, 0.006219756432161337, 0.004664817324121003, 0.24257050085429216, 0.9887070272138558, 0.21352313884673424, 0.03791532372044814, 0.3133003065321241, 0.38314432391189696, 0.04789304048898712, 0.16178055573723796, 0.028852583188806766, 0.03400483018680798, 0.6677312109409567, 0.0370961783856087, 0.016487190393603867, 0.019578538592404594, 0.009274044596402175, 0.007213145797201692, 0.016487190393603867, 0.018885201983985682, 0.017311435151986874, 0.7695719808474165, 0.028327802975978523, 0.1416390148798926, 0.022032735647983293, 0.07410503982915159, 0.05070344830415636, 0.10140689660831272, 0.07800530508331747, 0.6708456237165302, 0.01170079576249762, 0.007800530508331747, 0.02377955937866614, 0.9432558553537568, 0.03170607917155485, 0.9080439032376864, 0.913839966589169, 0.03973217246039865, 0.9535208443590912, 0.9867165743446575, 0.5054164519965274, 0.14002302759798252, 0.02467072391012073, 0.006000986897056394, 0.23737237059467514, 0.0680111848333058, 0.013335526437903098, 0.004667434253266084, 0.021613080567836115, 0.08212970615777723, 0.8947815355084151, 0.9495184605266657, 0.04468322167184309, 0.2488598346212306, 0.6043738840801314, 0.1244299173106153, 0.43564786689295826, 0.05312778864548271, 0.12750669274915852, 0.005312778864548271, 0.34533062619563765, 0.026563894322741356, 0.0026563894322741356, 0.17198552212045853, 0.08599276106022927, 0.02645931109545516, 0.21828931653750508, 0.38366001088409984, 0.10583724438182064, 0.1151304644411462, 0.8791780920960255, 0.17695201398050936, 0.06671961182871665, 0.6497910021579361, 0.10733154946358765, 0.9886577676851254, 0.9476537559373285, 0.09358285926488101, 0.8957216529638612, 0.9912390921810397, 0.9180084775846706, 0.9878187838358097, 0.9293611971294483, 0.02811199894174177, 0.905206365924085, 0.016867199365045063, 0.04497919830678683, 0.9890763476978109, 0.1631463537881213, 0.8338591415837311, 0.969175664000735, 0.12787723642318205, 0.342119322818737, 0.1956330855727785, 0.023380539495283282, 0.11213115880390963, 0.031015001371294152, 0.02004046242452853, 0.14600908337870785, 0.0014314616017520377, 0.03496331051701502, 0.1602485065363188, 0.27533607032149326, 0.23600234598985134, 0.10051951773641817, 0.0801242532681594, 0.11217395457542317, 0.6751072537705282, 0.09784163098123597, 0.015375113439908508, 0.030051358087093902, 0.1495579216427464, 0.022363801367139648, 0.00349434396361557, 0.005590950341784912, 0.000698868792723114, 0.9776150458355549, 0.9887482028936887, 0.8006875357548457, 0.16826042418036613, 0.017406250777279253, 0.011604167184852836, 0.17871483491486267, 0.804216757116882, 0.9615809083372258, 0.9799383719337139, 0.9937963050261133, 0.6530108137363754, 0.023768592837147762, 0.3227524711570591, 0.6245643146431729, 0.37185043010547286, 0.8239621973153036, 0.0836585471087424, 0.16323618948047297, 0.3223914742239341, 0.43053544975474745, 0.9646284836845103, 0.8439215139340822, 0.9898528231625451, 0.9831344495482035, 0.13644545069269956, 0.8414136126049807, 0.9910931993306755, 0.9837609715758465, 0.04879711703716677, 0.8783481066690019, 0.9574879066778509, 0.960823252172927, 0.9860899392955617, 0.01163448835643799, 0.40357131486394276, 0.15342981520052598, 0.021087510146043858, 0.4064799369530523, 0.003635777611386872, 0.7268683016683101, 0.1883078501731373, 0.001883078501731373, 0.0009415392508656865, 0.07532314006925493, 0.005649235505194119, 0.8408757079093643, 0.0852952917358691, 0.03019302362331649, 0.041515407482060174, 0.0007548255905829123, 0.0007548255905829123, 0.7521921184555069, 0.08196172343367981, 0.03247539985108069, 0.13330378415062644, 0.1202337608569598, 0.12366901116715866, 0.02290166873465901, 0.008015584057130654, 0.27138477450570925, 0.2015346848649993, 0.12137884429369275, 0.05954433871011343, 0.07099517307744294, 0.9667210267635373, 0.9901113938090682, 0.5232021596008757, 0.1107256368939503, 0.0639887533324812, 0.015369847614174406, 0.18506551208903876, 0.03324905810413239, 0.041090817090956064, 0.0031367035947294708, 0.0025093628757835765, 0.015369847614174406, 0.006587077548931888, 0.9875074347974918, 0.9399938955182733, 0.9961067087929961, 0.5023582421153971, 0.12012914485368194, 0.031202375286670633, 0.03588273157967123, 0.3089035153380393, 0.9881862735356923, 0.02519138932111662, 0.09572727942024316, 0.8766603483748584, 0.15860630926526523, 0.5286876975508841, 0.31721261853053045, 0.8777508201591843, 0.7274096036009323, 0.05640341846103486, 0.030146654694691046, 0.029174181962604236, 0.014587090981302118, 0.062238254853555705, 0.04084385474764593, 0.03792643655138551, 0.7151048031689536, 0.28334341257637785, 0.993718356356286, 0.9970442471311145, 0.9975887652180784, 0.9974235717966576, 0.9733598087633477, 0.986304726669158, 0.1505602270832561, 0.8029878777773658, 0.9056791097721656, 0.009887326525897005, 0.02966197957769101, 0.02570704896733221, 0.02966197957769101, 0.7471616401459688, 0.05355083427667353, 0.19635305901446962, 0.015814852545478226, 0.012651882036382582, 0.0347926756000521, 0.01897782305457387, 0.20243011258212132, 0.7148313350556159, 0.010773846873005928, 0.8726815967134801, 0.11312539216656224, 0.9466336013245569, 0.9666625527659579, 0.9451715104410126, 0.9907413100008272, 0.2677913967828343, 0.3261125721257383, 0.13997082082296966, 0.06998541041148483, 0.015552313424774407, 0.05005900883599262, 0.007776156712387203, 0.12198845842557425, 0.0004860097945242002, 0.9944655848110053, 0.7427670027752176, 0.01379142975975205, 0.16352695286563146, 0.04925510628482875, 0.029553063770897253, 0.12403997104862255, 0.27161573147570167, 0.383569756627279, 0.053432602913252795, 0.05534091016015468, 0.014630355559581122, 0.08841823577312069, 0.0076332289876075415, 0.963464443117179, 0.9925123775863024, 0.4951979910401076, 0.07252899868769253, 0.002500999954748018, 0.017506999683236126, 0.05001999909496036, 0.3601439934837146, 0.9366419502736081, 0.9724538122456547, 0.011991856774237808, 0.08993892580678356, 0.08993892580678356, 0.7674788335512197, 0.04197149870983233, 0.9801447850685591, 0.9885073594352123, 0.043674018015705064, 0.10086618446484265, 0.7965309000007162, 0.002079715143605003, 0.011438433289827517, 0.007279003002617511, 0.021837009007852532, 0.015597863577037524, 0.9841721407359724, 0.01058249613694594, 0.9864965288947177, 0.9025592944375168, 0.05921769126399997, 0.010209946769655167, 0.020419893539310334, 0.0061259680617931, 0.8539986531075341, 0.9609251917846402, 0.961330543572083, 0.9117838424949167, 0.14068388859333342, 0.5875621229486279, 0.09103075144274515, 0.016551045716862757, 0.1572349343101962, 0.688444011083698, 0.2824385686497223, 0.9896135268995376, 0.9846168071850869, 0.6217111593819293, 0.18967459099787673, 0.11169725914319407, 0.018440585235904684, 0.009483729549893837, 0.021601828419202627, 0.02687056705803254, 0.26905939930974043, 0.019747478848421315, 0.004936869712105329, 0.0024684348560526643, 0.5726768866042182, 0.12835861251473857, 0.24338006697538964, 0.07522656615602953, 0.004425092126825266, 0.6416383583896637, 0.030975644887776863, 0.11293587095763744, 0.8861122182830015, 0.3042982536505467, 0.0037567685635869963, 0.09391921408967491, 0.17281135392500183, 0.06010829701739194, 0.11645982547119688, 0.24418995663315474, 0.06677773217454713, 0.5342218573963771, 0.06677773217454713, 0.13355546434909427, 0.1892035744945502, 0.9721218837574385, 0.9527116820998917, 0.03687916188773774, 0.942834784009219, 0.04631469114431252, 0.009924576673781254, 0.9830237309774934, 0.5461678287171203, 0.10765808162212467, 0.04538894730410135, 0.07877420606496928, 0.15979910373179482, 0.032259912959939796, 0.015754841212993857, 0.00450138320371253, 0.009752996941377148, 0.07866238725445589, 0.061003483993251506, 0.37565303301107505, 0.483211807420229, 0.8487561939547326, 0.053332974485485886, 0.051809175214472, 0.03657118250433318, 0.009142795626083295, 0.1875022652813255, 0.810671558716319, 0.9828806918584206, 0.2568550768894648, 0.04238108768676169, 0.6999300845237915, 0.1629863010814004, 0.8272323583188057, 0.009225639683852852, 0.15624650214053903, 0.008680361230029946, 0.8333146780828748, 0.9874415723400798, 0.984159085503311, 0.9298890978689944, 0.06610586003808018, 0.9937262980522511, 0.9951792368873122, 0.9742406184129004, 0.21835705677315045, 0.7415041719588235, 0.03639284279552508, 0.18915733552569564, 0.7112315815766156, 0.09583971666635245, 0.4764082187238595, 0.046253225118821316, 0.12488370782081755, 0.0061670966825095085, 0.03237725758317492, 0.31298015663735756, 0.4065436554402618, 0.33539851573821594, 0.1507599388924304, 0.05081795693003272, 0.011857523283674301, 0.012422167249563553, 0.011292879317785049, 0.012422167249563553, 0.00451715172711402, 0.0033878637953355145, 0.9866887726091599, 0.573973280466896, 0.010040348929450077, 0.02844765530010855, 0.0008366957441208397, 0.09622001057389656, 0.16566575733592626, 0.03095774253247107, 0.03765130848543779, 0.050201744647250385, 0.006693565952966718, 0.9933949419006142, 0.6412393891255693, 0.1383244967970871, 0.01572563263807944, 0.06473464309267653, 0.08091830386584566, 0.004274929260837129, 0.0006107041801195898, 0.035573518491966105, 0.018473801448617592, 0.22392204077534117, 0.0459327263128905, 0.5779868061038721, 0.03827727192740875, 0.03253568113829743, 0.04019113552377918, 0.02870795394555656, 0.0019138635963704372, 0.009569317981852187, 0.8519257242420168, 0.08661244863127171, 0.02129814310605042, 0.03407702896968068, 0.002839752414140056, 0.004259628621210085, 0.9509935891685907, 0.995422990860261, 0.9944889509656362, 0.9816048369112059, 0.9894181238585863, 0.979314179581411, 0.0006408517650034866, 0.01473959059508019, 0.017302997655094136, 0.12240268711566593, 0.6523870967735493, 0.0025634070600139463, 0.007049369415038352, 0.11278991064061364, 0.06985284238538003, 0.28558285963187996, 0.05186292498031782, 0.12595281780934328, 0.24651727977657562, 0.10170521651984404, 0.047821658098734614, 0.13336180709224582, 0.0020206334407916033, 0.005388355842110943, 0.9680882117006775], \"Term\": [\"absolute\", \"actix\", \"adam\", \"adam\", \"adam\", \"adam\", \"adams\", \"adams\", \"adams\", \"adaptec\", \"adapter\", \"address\", \"address\", \"address\", \"address\", \"address\", \"address\", \"addresses\", \"addresses\", \"adjective\", \"administration\", \"administration\", \"administration\", \"administration\", \"admit\", \"admit\", \"agencies\", \"agencies\", \"agencies\", \"agree\", \"agree\", \"agree\", \"agree\", \"agree\", \"ahmet\", \"aids\", \"aids\", \"airplane\", \"algorithm\", \"algorithm\", \"allah\", \"allergic\", \"allergic\", \"allocation\", \"also\", \"also\", \"also\", \"also\", \"also\", \"also\", \"also\", \"also\", \"also\", \"also\", \"also\", \"amazed\", \"amazed\", \"amendment\", \"american\", \"american\", \"american\", \"american\", \"american\", \"ames\", \"among\", \"among\", \"among\", \"among\", \"among\", \"among\", \"among\", \"analysis\", \"analysis\", \"analysis\", \"analysis\", \"ankara\", \"anon\", \"anonymous\", \"anonymous\", \"anonymous\", \"ansi\", \"antenna\", \"antenna\", \"anyone\", \"anyone\", \"anyone\", \"anyone\", \"anyone\", \"anyone\", \"anyone\", \"anything\", \"anything\", \"anything\", \"anything\", \"anything\", \"anything\", \"anything\", \"apartment\", \"apple\", \"apple\", \"applelink\", \"application\", \"application\", \"application\", \"application\", \"application\", \"apps\", \"april\", \"april\", \"april\", \"april\", \"april\", \"april\", \"april\", \"april\", \"april\", \"april\", \"arab\", \"arabs\", \"argc\", \"argic\", \"argue\", \"argue\", \"argv\", \"armenia\", \"armenian\", \"armenians\", \"arms\", \"arms\", \"around\", \"around\", \"around\", \"around\", \"around\", \"around\", \"around\", \"around\", \"article\", \"article\", \"article\", \"article\", \"article\", \"article\", \"article\", \"article\", \"articles\", \"articles\", \"articles\", \"articles\", \"articles\", \"articles\", \"articles\", \"asking\", \"asking\", \"asking\", \"asking\", \"asking\", \"assault\", \"asshole\", \"astro\", \"astronomy\", \"atheism\", \"atheist\", \"atheist\", \"atheist\", \"atheists\", \"atlanta\", \"atlanta\", \"atoms\", \"atoms\", \"atoms\", \"attacks\", \"attacks\", \"attacks\", \"attacks\", \"auth\", \"available\", \"available\", \"available\", \"available\", \"available\", \"available\", \"available\", \"available\", \"available\", \"avenue\", \"avenue\", \"award\", \"awarded\", \"axis\", \"axis\", \"axis\", \"azerbaijan\", \"azerbaijani\", \"azerbaijanis\", \"azeri\", \"azeris\", \"azeris\", \"babies\", \"back\", \"back\", \"back\", \"back\", \"back\", \"back\", \"back\", \"back\", \"back\", \"baku\", \"ball\", \"ball\", \"banks\", \"banks\", \"banks\", \"baseball\", \"baseball\", \"based\", \"based\", \"based\", \"based\", \"based\", \"based\", \"based\", \"based\", \"based\", \"based\", \"based\", \"batf\", \"battery\", \"beings\", \"belief\", \"belief\", \"beliefs\", \"beliefs\", \"believe\", \"believe\", \"believe\", \"believe\", \"believe\", \"berryhill\", \"best\", \"best\", \"best\", \"best\", \"best\", \"best\", \"best\", \"bethesda\", \"better\", \"better\", \"better\", \"better\", \"better\", \"better\", \"bible\", \"bible\", \"biblical\", \"bike\", \"bike\", \"bikes\", \"bill\", \"bill\", \"bill\", \"bill\", \"bill\", \"binaries\", \"bindings\", \"bios\", \"bird\", \"bird\", \"bitmap\", \"bits\", \"bits\", \"bits\", \"bits\", \"blame\", \"bloom\", \"blues\", \"board\", \"board\", \"board\", \"board\", \"board\", \"board\", \"book\", \"book\", \"book\", \"book\", \"book\", \"book\", \"book\", \"book\", \"books\", \"books\", \"books\", \"books\", \"books\", \"boot\", \"borland\", \"boston\", \"boston\", \"boston\", \"boston\", \"bother\", \"bought\", \"bought\", \"bought\", \"bought\", \"bounced\", \"brave\", \"braves\", \"breaker\", \"bruins\", \"buffalo\", \"buffalo\", \"buffers\", \"build\", \"build\", \"build\", \"build\", \"build\", \"build\", \"build\", \"build\", \"bulletin\", \"burst\", \"burst\", \"button\", \"button\", \"buying\", \"buying\", \"byte\", \"byte\", \"byte\", \"byte\", \"cabinet\", \"cable\", \"cable\", \"cadre\", \"calgary\", \"call\", \"call\", \"call\", \"call\", \"call\", \"call\", \"call\", \"call\", \"call\", \"call\", \"call\", \"call\", \"call\", \"came\", \"came\", \"came\", \"came\", \"came\", \"cancer\", \"candida\", \"card\", \"cards\", \"cards\", \"cards\", \"cards\", \"career\", \"career\", \"cars\", \"cars\", \"cars\", \"cars\", \"catbyte\", \"catholic\", \"censorship\", \"center\", \"center\", \"center\", \"center\", \"center\", \"center\", \"centers\", \"ceremony\", \"ceremony\", \"certainly\", \"certainly\", \"certainly\", \"champs\", \"champs\", \"char\", \"chars\", \"chastity\", \"check\", \"check\", \"check\", \"check\", \"check\", \"check\", \"check\", \"check\", \"chicago\", \"chicago\", \"chicago\", \"children\", \"children\", \"children\", \"children\", \"chip\", \"chip\", \"chip\", \"christ\", \"christian\", \"christian\", \"christianity\", \"christianity\", \"christians\", \"christians\", \"chronic\", \"church\", \"church\", \"churches\", \"cipher\", \"ciphertext\", \"circuit\", \"circuit\", \"circuitry\", \"circuits\", \"civil\", \"civil\", \"civil\", \"civilians\", \"civilians\", \"civilians\", \"claim\", \"claim\", \"claim\", \"claiming\", \"cleaning\", \"cleansing\", \"cleansing\", \"clemens\", \"cleveland\", \"cleveland\", \"cleveland\", \"client\", \"clients\", \"clinical\", \"clinton\", \"clinton\", \"clinton\", \"clipper\", \"clockwise\", \"clone\", \"clubs\", \"clues\", \"coach\", \"code\", \"code\", \"code\", \"code\", \"code\", \"code\", \"code\", \"code\", \"coil\", \"color\", \"color\", \"color\", \"color\", \"color\", \"colored\", \"colormap\", \"combustion\", \"commercial\", \"commercial\", \"commercial\", \"commercial\", \"commercial\", \"communications\", \"communications\", \"communications\", \"communications\", \"communications\", \"comp\", \"comp\", \"compass\", \"compatibles\", \"compensate\", \"compiling\", \"compounds\", \"compress\", \"compress\", \"computer\", \"computer\", \"computer\", \"computer\", \"computer\", \"computer\", \"concealed\", \"condition\", \"condition\", \"condition\", \"condition\", \"conference\", \"conference\", \"conference\", \"configurations\", \"congress\", \"congress\", \"connector\", \"constitution\", \"constitutional\", \"contact\", \"contact\", \"contact\", \"contact\", \"contact\", \"contact\", \"contact\", \"contact\", \"contact\", \"contact\", \"contacts\", \"contacts\", \"contest\", \"contrib\", \"control\", \"control\", \"control\", \"control\", \"control\", \"control\", \"control\", \"controller\", \"convince\", \"corn\", \"correction\", \"correction\", \"cost\", \"cost\", \"cost\", \"cost\", \"cost\", \"cost\", \"could\", \"could\", \"could\", \"could\", \"could\", \"could\", \"could\", \"could\", \"could\", \"count\", \"count\", \"count\", \"count\", \"count\", \"countersteering\", \"country\", \"country\", \"country\", \"country\", \"courage\", \"course\", \"course\", \"course\", \"course\", \"course\", \"course\", \"course\", \"course\", \"course\", \"courses\", \"court\", \"court\", \"courts\", \"creative\", \"creed\", \"crime\", \"crime\", \"crohn\", \"cross\", \"cross\", \"cross\", \"cross\", \"cross\", \"cross\", \"cross\", \"cross\", \"crypt\", \"cryptanalysis\", \"crypto\", \"cryptographic\", \"cryptography\", \"cryptology\", \"cryptosystem\", \"cryptosystems\", \"cubs\", \"cubs\", \"cursor\", \"cyberspace\", \"cyprus\", \"daigle\", \"darken\", \"data\", \"data\", \"data\", \"data\", \"data\", \"data\", \"data\", \"daughter\", \"daughter\", \"dave\", \"dave\", \"dave\", \"dave\", \"dave\", \"dave\", \"dave\", \"dead\", \"dead\", \"dead\", \"dead\", \"decenso\", \"decrypt\", \"defamation\", \"defense\", \"defense\", \"defense\", \"defense\", \"defenseman\", \"deficit\", \"deity\", \"democracy\", \"democratic\", \"denning\", \"department\", \"department\", \"department\", \"department\", \"department\", \"department\", \"dept\", \"dept\", \"design\", \"design\", \"design\", \"design\", \"design\", \"detector\", \"detectors\", \"detectors\", \"detroit\", \"devils\", \"dial\", \"diamond\", \"diff\", \"digit\", \"directory\", \"directory\", \"directory\", \"disagree\", \"disagree\", \"disc\", \"disciples\", \"disease\", \"disease\", \"diseases\", \"disk\", \"disk\", \"disk\", \"disks\", \"disks\", \"disks\", \"disks\", \"display\", \"display\", \"display\", \"dithering\", \"divine\", \"divine\", \"division\", \"division\", \"division\", \"division\", \"division\", \"division\", \"doctor\", \"doctrine\", \"dodgers\", \"dortmund\", \"doug\", \"doug\", \"doug\", \"dragon\", \"dragon\", \"drive\", \"drive\", \"driver\", \"driver\", \"driver\", \"driver\", \"driver\", \"drivers\", \"drivers\", \"drivers\", \"drivers\", \"drives\", \"dtmedin\", \"duration\", \"earth\", \"earth\", \"easter\", \"echl\", \"echo\", \"economy\", \"edmonton\", \"education\", \"education\", \"education\", \"education\", \"eisa\", \"email\", \"email\", \"email\", \"email\", \"encrypted\", \"encryption\", \"enforcement\", \"enforcement\", \"engines\", \"enough\", \"enough\", \"enough\", \"enough\", \"enough\", \"enough\", \"entity\", \"entries\", \"entries\", \"entry\", \"entry\", \"entry\", \"epson\", \"escrow\", \"espn\", \"eternal\", \"eternal\", \"ethnic\", \"even\", \"even\", \"even\", \"even\", \"even\", \"even\", \"even\", \"event\", \"event\", \"event\", \"event\", \"events\", \"events\", \"events\", \"events\", \"events\", \"everywhere\", \"everywhere\", \"everywhere\", \"evidence\", \"evidence\", \"evidence\", \"evidence\", \"evidence\", \"evil\", \"evolutionary\", \"examiner\", \"excellent\", \"excellent\", \"excellent\", \"excellent\", \"excellent\", \"excellent\", \"excellent\", \"excessively\", \"exclusively\", \"exclusively\", \"exclusively\", \"execution\", \"exhaust\", \"exhaust\", \"exit\", \"exit\", \"exit\", \"explain\", \"explain\", \"export\", \"export\", \"expose\", \"expose\", \"extracted\", \"extracting\", \"fact\", \"fact\", \"fact\", \"fact\", \"fact\", \"fact\", \"fact\", \"faith\", \"faith\", \"fallacy\", \"fans\", \"fast\", \"fast\", \"fast\", \"fast\", \"fast\", \"fast\", \"father\", \"father\", \"federal\", \"federal\", \"female\", \"female\", \"female\", \"female\", \"female\", \"feustel\", \"file\", \"file\", \"file\", \"file\", \"file\", \"filename\", \"files\", \"files\", \"files\", \"files\", \"filters\", \"finals\", \"financial\", \"find\", \"find\", \"find\", \"find\", \"find\", \"find\", \"find\", \"find\", \"fingers\", \"fingers\", \"firearm\", \"firearms\", \"first\", \"first\", \"first\", \"first\", \"first\", \"first\", \"first\", \"first\", \"first\", \"first\", \"first\", \"first\", \"first\", \"first\", \"flags\", \"flames\", \"flames\", \"flames\", \"flames\", \"flames\", \"flaws\", \"fleet\", \"flight\", \"flight\", \"floppy\", \"flyers\", \"followers\", \"font\", \"fonts\", \"format\", \"formats\", \"fran\", \"franchise\", \"freenet\", \"frozen\", \"function\", \"function\", \"function\", \"function\", \"function\", \"functional\", \"gainey\", \"game\", \"game\", \"game\", \"games\", \"games\", \"games\", \"games\", \"gamma\", \"gangs\", \"gaza\", \"generals\", \"genocide\", \"georgia\", \"georgia\", \"georgia\", \"georgia\", \"gerard\", \"germany\", \"germany\", \"germany\", \"germany\", \"germany\", \"germany\", \"ghetto\", \"ghetto\", \"gifs\", \"gilmour\", \"goal\", \"goal\", \"goal\", \"goal\", \"goal\", \"goal\", \"goalie\", \"goals\", \"goals\", \"goals\", \"goals\", \"goals\", \"going\", \"going\", \"going\", \"going\", \"going\", \"goldin\", \"good\", \"good\", \"good\", \"good\", \"good\", \"good\", \"good\", \"good\", \"gordon\", \"gospel\", \"government\", \"government\", \"government\", \"graduate\", \"graphics\", \"graphics\", \"graphics\", \"graphics\", \"grass\", \"grass\", \"gravitational\", \"gravitational\", \"gravity\", \"great\", \"great\", \"great\", \"great\", \"great\", \"great\", \"great\", \"great\", \"great\", \"great\", \"great\", \"greece\", \"greek\", \"greek\", \"greeks\", \"gretzky\", \"group\", \"group\", \"group\", \"group\", \"group\", \"group\", \"group\", \"group\", \"group\", \"group\", \"guessing\", \"guidelines\", \"guns\", \"guns\", \"habs\", \"handgun\", \"handguns\", \"handler\", \"hard\", \"hard\", \"hard\", \"hard\", \"harddisk\", \"harddisk\", \"harley\", \"harley\", \"hartford\", \"hawaii\", \"hawks\", \"health\", \"health\", \"health\", \"heaven\", \"heaven\", \"heaven\", \"hell\", \"hell\", \"helmet\", \"helper\", \"henrik\", \"hicnet\", \"high\", \"high\", \"high\", \"high\", \"high\", \"high\", \"high\", \"high\", \"hillary\", \"history\", \"history\", \"history\", \"history\", \"history\", \"history\", \"history\", \"hitter\", \"hitting\", \"hockey\", \"hockey\", \"hollow\", \"holy\", \"holy\", \"home\", \"home\", \"home\", \"home\", \"home\", \"home\", \"home\", \"home\", \"homicide\", \"homosexual\", \"homosexual\", \"homosexuality\", \"homosexuals\", \"homosexuals\", \"honda\", \"house\", \"house\", \"house\", \"house\", \"house\", \"house\", \"house\", \"howell\", \"humans\", \"hung\", \"icon\", \"icons\", \"ieee\", \"ignorance\", \"ignorant\", \"illness\", \"image\", \"image\", \"image\", \"image\", \"imaging\", \"immorality\", \"imperfect\", \"imply\", \"imprisonment\", \"include\", \"include\", \"include\", \"include\", \"include\", \"include\", \"include\", \"include\", \"include\", \"include\", \"included\", \"included\", \"included\", \"included\", \"included\", \"included\", \"included\", \"included\", \"included\", \"included\", \"included\", \"incorporate\", \"infection\", \"infections\", \"inflammation\", \"info\", \"info\", \"info\", \"info\", \"informatik\", \"information\", \"information\", \"information\", \"information\", \"information\", \"information\", \"information\", \"information\", \"information\", \"information\", \"ingr\", \"inherent\", \"inherent\", \"inherent\", \"inherent\", \"init\", \"inning\", \"innings\", \"input\", \"input\", \"input\", \"input\", \"institute\", \"institute\", \"institute\", \"insurance\", \"insurance\", \"insurance\", \"integration\", \"intellect\", \"intercourse\", \"interested\", \"interested\", \"interested\", \"interested\", \"interested\", \"interested\", \"interfere\", \"interfered\", \"intergraph\", \"international\", \"international\", \"international\", \"international\", \"international\", \"international\", \"internet\", \"internet\", \"internet\", \"intervene\", \"invade\", \"invade\", \"invalid\", \"islamic\", \"islamic\", \"islanders\", \"israel\", \"israeli\", \"israelis\", \"jagr\", \"jersey\", \"jersey\", \"jerusalem\", \"jesus\", \"jets\", \"jewish\", \"jewish\", \"jewish\", \"jews\", \"jews\", \"jobs\", \"john\", \"john\", \"john\", \"john\", \"john\", \"john\", \"john\", \"john\", \"john\", \"john\", \"joshua\", \"journal\", \"journal\", \"journal\", \"journal\", \"journalist\", \"joystick\", \"jpeg\", \"judas\", \"judges\", \"jumper\", \"justified\", \"karabakh\", \"karina\", \"keller\", \"kent\", \"keys\", \"keys\", \"keys\", \"killed\", \"killed\", \"killed\", \"killed\", \"killed\", \"kingman\", \"kings\", \"kings\", \"kkeller\", \"know\", \"know\", \"know\", \"know\", \"know\", \"know\", \"know\", \"know\", \"kurd\", \"lamps\", \"lance\", \"land\", \"land\", \"land\", \"land\", \"land\", \"land\", \"land\", \"laptop\", \"last\", \"last\", \"last\", \"last\", \"last\", \"last\", \"last\", \"last\", \"last\", \"last\", \"last\", \"laughable\", \"launch\", \"launched\", \"launched\", \"launches\", \"laws\", \"laws\", \"laws\", \"lawsuit\", \"leafs\", \"league\", \"league\", \"league\", \"league\", \"leagues\", \"lebanese\", \"lebanon\", \"left\", \"left\", \"left\", \"left\", \"left\", \"left\", \"left\", \"legislation\", \"lemieux\", \"liar\", \"liberty\", \"life\", \"life\", \"life\", \"life\", \"life\", \"like\", \"like\", \"like\", \"like\", \"like\", \"like\", \"like\", \"like\", \"like\", \"lindros\", \"line\", \"line\", \"line\", \"line\", \"line\", \"line\", \"line\", \"line\", \"line\", \"line\", \"line\", \"linked\", \"linked\", \"lipman\", \"list\", \"list\", \"list\", \"list\", \"list\", \"list\", \"list\", \"list\", \"list\", \"lists\", \"lists\", \"lists\", \"listserv\", \"liturgy\", \"lord\", \"lord\", \"lord\", \"losses\", \"lost\", \"lost\", \"lost\", \"lost\", \"lost\", \"lost\", \"lost\", \"lost\", \"louder\", \"louis\", \"louis\", \"louis\", \"love\", \"love\", \"love\", \"luke\", \"luna\", \"lunar\", \"lyme\", \"macs\", \"mail\", \"mail\", \"mail\", \"mail\", \"mail\", \"mail\", \"mailer\", \"mailing\", \"maine\", \"make\", \"make\", \"make\", \"make\", \"make\", \"make\", \"make\", \"make\", \"male\", \"male\", \"male\", \"mamma\", \"manager\", \"manager\", \"manager\", \"manager\", \"many\", \"many\", \"many\", \"many\", \"many\", \"many\", \"many\", \"many\", \"many\", \"many\", \"many\", \"marc\", \"marc\", \"marginal\", \"marlins\", \"marriage\", \"marriage\", \"married\", \"married\", \"married\", \"marry\", \"marry\", \"mars\", \"mask\", \"mask\", \"mask\", \"massacre\", \"matthew\", \"mean\", \"mean\", \"mean\", \"mean\", \"mean\", \"mean\", \"mean\", \"mechanisms\", \"medical\", \"medical\", \"medicine\", \"medicine\", \"medin\", \"memory\", \"memory\", \"memory\", \"memory\", \"memory\", \"memory\", \"menu\", \"merely\", \"message\", \"message\", \"message\", \"message\", \"message\", \"methanol\", \"mets\", \"might\", \"might\", \"might\", \"might\", \"might\", \"might\", \"might\", \"might\", \"might\", \"military\", \"military\", \"military\", \"militia\", \"mind\", \"mind\", \"mind\", \"mind\", \"mind\", \"minds\", \"mindset\", \"minimize\", \"minnesota\", \"minnesota\", \"minnesota\", \"mission\", \"mission\", \"mission\", \"missions\", \"mitch\", \"mitre\", \"model\", \"model\", \"model\", \"model\", \"model\", \"modem\", \"modem\", \"module\", \"module\", \"mohammed\", \"monitor\", \"montreal\", \"moon\", \"moon\", \"moon\", \"moral\", \"morality\", \"mormon\", \"mormons\", \"morris\", \"motherboard\", \"motif\", \"motif\", \"mpeg\", \"msdos\", \"much\", \"much\", \"much\", \"much\", \"much\", \"much\", \"much\", \"much\", \"muslim\", \"muslims\", \"must\", \"must\", \"must\", \"must\", \"must\", \"must\", \"must\", \"must\", \"must\", \"must\", \"must\", \"must\", \"must\", \"mydisplay\", \"myers\", \"myhint\", \"nail\", \"name\", \"name\", \"name\", \"name\", \"name\", \"name\", \"name\", \"name\", \"name\", \"name\", \"name\", \"name\", \"nanao\", \"nasa\", \"nasa\", \"national\", \"national\", \"national\", \"national\", \"national\", \"national\", \"nationality\", \"naval\", \"naval\", \"naval\", \"navy\", \"navy\", \"navy\", \"nazi\", \"nazis\", \"need\", \"need\", \"need\", \"need\", \"need\", \"need\", \"need\", \"need\", \"need\", \"neptune\", \"nervous\", \"netcom\", \"netcom\", \"netcom\", \"never\", \"never\", \"never\", \"never\", \"never\", \"news\", \"news\", \"news\", \"news\", \"news\", \"news\", \"news\", \"newsgroup\", \"newsgroup\", \"newsgroups\", \"newsgroups\", \"newsletter\", \"next\", \"next\", \"next\", \"next\", \"next\", \"next\", \"next\", \"next\", \"next\", \"next\", \"next\", \"night\", \"night\", \"night\", \"night\", \"nist\", \"nist\", \"nist\", \"noisy\", \"nords\", \"nothing\", \"nothing\", \"nothing\", \"nothing\", \"nothing\", \"nothing\", \"nova\", \"nubus\", \"null\", \"number\", \"number\", \"number\", \"number\", \"number\", \"number\", \"number\", \"number\", \"number\", \"number\", \"number\", \"oasys\", \"objecting\", \"objective\", \"objective\", \"observatory\", \"occupied\", \"occupied\", \"occupying\", \"occurrence\", \"offer\", \"offer\", \"offer\", \"offer\", \"offer\", \"offers\", \"offers\", \"offers\", \"offers\", \"offers\", \"offset\", \"oklahoma\", \"oklahoma\", \"olwm\", \"omniscient\", \"open\", \"open\", \"open\", \"open\", \"open\", \"open\", \"open\", \"open\", \"open\", \"open\", \"orbit\", \"orbital\", \"original\", \"original\", \"original\", \"original\", \"original\", \"original\", \"original\", \"original\", \"orthodox\", \"oscillator\", \"ottoman\", \"outlets\", \"output\", \"output\", \"output\", \"ownership\", \"packaging\", \"page\", \"page\", \"page\", \"page\", \"page\", \"page\", \"paid\", \"paid\", \"paid\", \"paid\", \"paid\", \"paid\", \"paid\", \"pain\", \"pain\", \"palestine\", \"palestine\", \"palestinean\", \"palestineans\", \"palestinian\", \"palestinians\", \"panasonic\", \"panicking\", \"panther\", \"paperback\", \"paradox\", \"paradox\", \"parish\", \"partition\", \"partition\", \"passages\", \"paste\", \"patent\", \"patents\", \"patients\", \"paul\", \"paul\", \"paul\", \"paul\", \"paul\", \"paul\", \"paul\", \"paul\", \"payload\", \"peace\", \"peace\", \"peace\", \"peace\", \"pens\", \"people\", \"people\", \"people\", \"people\", \"people\", \"people\", \"people\", \"perhaps\", \"perhaps\", \"perhaps\", \"perhaps\", \"perhaps\", \"period\", \"period\", \"period\", \"period\", \"period\", \"period\", \"period\", \"period\", \"period\", \"peter\", \"peter\", \"peter\", \"peter\", \"peter\", \"phigs\", \"philadelphia\", \"philadelphia\", \"philadelphia\", \"phillies\", \"philosophy\", \"phone\", \"phone\", \"phone\", \"phone\", \"phone\", \"phone\", \"phone\", \"phone\", \"phones\", \"picture\", \"picture\", \"picture\", \"picture\", \"pierce\", \"pinouts\", \"pirates\", \"pitcher\", \"pitching\", \"pitt\", \"pittsburgh\", \"pittsburgh\", \"pittsburgh\", \"pixmap\", \"plaintext\", \"plane\", \"plane\", \"plane\", \"plane\", \"planes\", \"planes\", \"planetary\", \"plastic\", \"play\", \"play\", \"play\", \"play\", \"play\", \"player\", \"player\", \"player\", \"players\", \"players\", \"playing\", \"playing\", \"playing\", \"playoff\", \"playoffs\", \"playoffs\", \"please\", \"please\", \"please\", \"please\", \"please\", \"point\", \"point\", \"point\", \"point\", \"point\", \"point\", \"point\", \"point\", \"point\", \"pointer\", \"poland\", \"police\", \"police\", \"politics\", \"politics\", \"pope\", \"popup\", \"port\", \"port\", \"port\", \"pose\", \"pose\", \"post\", \"post\", \"post\", \"post\", \"post\", \"postage\", \"postal\", \"posted\", \"posted\", \"posted\", \"posted\", \"posted\", \"posted\", \"posted\", \"posting\", \"posting\", \"posting\", \"posting\", \"postscript\", \"power\", \"power\", \"power\", \"power\", \"power\", \"power\", \"power\", \"power\", \"pray\", \"predictions\", \"prefix\", \"presentation\", \"presentation\", \"presentation\", \"presentation\", \"presentations\", \"presentations\", \"presentations\", \"presentations\", \"president\", \"president\", \"president\", \"previewer\", \"price\", \"price\", \"price\", \"price\", \"price\", \"price\", \"price\", \"price\", \"priests\", \"printf\", \"privacy\", \"privacy\", \"private\", \"private\", \"private\", \"private\", \"private\", \"prize\", \"prize\", \"problem\", \"problem\", \"problem\", \"problem\", \"problem\", \"problem\", \"profile\", \"prog\", \"program\", \"program\", \"program\", \"program\", \"program\", \"programmable\", \"programs\", \"programs\", \"programs\", \"programs\", \"programs\", \"programs\", \"project\", \"project\", \"project\", \"project\", \"project\", \"prophecy\", \"propulsion\", \"protocol\", \"protocol\", \"pseudo\", \"pseudo\", \"public\", \"public\", \"public\", \"public\", \"public\", \"public\", \"publisher\", \"puck\", \"punishment\", \"qemm\", \"quadra\", \"quakers\", \"quayle\", \"quebec\", \"queen\", \"question\", \"question\", \"question\", \"question\", \"question\", \"question\", \"question\", \"radar\", \"radar\", \"random\", \"random\", \"random\", \"randy\", \"randy\", \"randy\", \"rangers\", \"rangers\", \"rather\", \"rather\", \"rather\", \"rather\", \"rather\", \"rather\", \"rather\", \"rational\", \"rationale\", \"reality\", \"reality\", \"reality\", \"really\", \"really\", \"really\", \"really\", \"really\", \"reason\", \"reason\", \"reason\", \"reason\", \"reason\", \"reason\", \"rebuild\", \"recchi\", \"receiver\", \"receiver\", \"receivers\", \"receivers\", \"recognition\", \"refered\", \"regulated\", \"reilly\", \"reilly\", \"religion\", \"religion\", \"religion\", \"religions\", \"religions\", \"religious\", \"religious\", \"religious\", \"replacements\", \"reply\", \"reply\", \"reply\", \"reply\", \"report\", \"report\", \"report\", \"report\", \"report\", \"report\", \"report\", \"reported\", \"reported\", \"reported\", \"reported\", \"reported\", \"republicans\", \"request\", \"request\", \"request\", \"request\", \"requests\", \"requests\", \"requests\", \"research\", \"research\", \"research\", \"research\", \"research\", \"research\", \"researchers\", \"resembles\", \"reserve\", \"reserve\", \"reserve\", \"resurrection\", \"retail\", \"return\", \"return\", \"return\", \"return\", \"return\", \"return\", \"return\", \"return\", \"return\", \"return\", \"return\", \"return\", \"revelation\", \"reviewed\", \"right\", \"right\", \"right\", \"right\", \"right\", \"right\", \"right\", \"right\", \"rights\", \"rights\", \"rights\", \"rights\", \"ripem\", \"rkba\", \"robert\", \"robert\", \"robert\", \"robert\", \"robert\", \"robert\", \"robert\", \"robertson\", \"rockefeller\", \"rocket\", \"rocket\", \"rocket\", \"rocket\", \"rocket\", \"rocketry\", \"roll\", \"roll\", \"roll\", \"roll\", \"rolling\", \"rookie\", \"rosicrucian\", \"ross\", \"routines\", \"rules\", \"rules\", \"rules\", \"rules\", \"rules\", \"rules\", \"rules\", \"runs\", \"runs\", \"runs\", \"runs\", \"russian\", \"russian\", \"russian\", \"russian\", \"russian\", \"sabbath\", \"sabres\", \"said\", \"said\", \"said\", \"said\", \"said\", \"said\", \"sale\", \"sale\", \"sale\", \"satellite\", \"satellites\", \"saturn\", \"scam\", \"scheme\", \"scheme\", \"scheme\", \"school\", \"school\", \"school\", \"school\", \"school\", \"science\", \"science\", \"science\", \"scientific\", \"scientific\", \"scientific\", \"scientific\", \"scope\", \"scope\", \"scope\", \"scope\", \"score\", \"score\", \"scorer\", \"scores\", \"scores\", \"scrolling\", \"scsi\", \"scsi\", \"seal\", \"season\", \"season\", \"second\", \"second\", \"second\", \"second\", \"second\", \"second\", \"second\", \"second\", \"second\", \"second\", \"secret\", \"secret\", \"secret\", \"section\", \"section\", \"section\", \"section\", \"section\", \"section\", \"section\", \"secure\", \"security\", \"security\", \"security\", \"security\", \"security\", \"sell\", \"sell\", \"sell\", \"sell\", \"sell\", \"sell\", \"sell\", \"sell\", \"seminar\", \"senate\", \"senator\", \"send\", \"send\", \"send\", \"send\", \"send\", \"senior\", \"sense\", \"sense\", \"sense\", \"sense\", \"serdar\", \"server\", \"server\", \"server\", \"sexual\", \"sexual\", \"sexual\", \"shack\", \"shameful\", \"shar\", \"shar\", \"shared\", \"shared\", \"shared\", \"shared\", \"shareware\", \"sharks\", \"sheesh\", \"sheets\", \"sheets\", \"shell\", \"shell\", \"shell\", \"shipping\", \"shipping\", \"shock\", \"shock\", \"shock\", \"shuttle\", \"siggraph\", \"similarity\", \"simm\", \"simms\", \"since\", \"since\", \"since\", \"since\", \"since\", \"since\", \"since\", \"since\", \"since\", \"since\", \"since\", \"size\", \"size\", \"size\", \"size\", \"size\", \"size\", \"size\", \"skated\", \"skepticism\", \"slack\", \"sleeve\", \"slots\", \"small\", \"small\", \"small\", \"small\", \"small\", \"small\", \"small\", \"small\", \"smokeless\", \"smyrna\", \"snail\", \"snail\", \"snapped\", \"software\", \"software\", \"software\", \"software\", \"software\", \"software\", \"solar\", \"solaris\", \"soldering\", \"soldiers\", \"soldiers\", \"solution\", \"solution\", \"solution\", \"solution\", \"solution\", \"solution\", \"solution\", \"solution\", \"something\", \"something\", \"something\", \"something\", \"something\", \"something\", \"something\", \"sony\", \"sony\", \"sound\", \"sound\", \"sound\", \"source\", \"source\", \"source\", \"source\", \"source\", \"source\", \"source\", \"source\", \"source\", \"soviet\", \"soviet\", \"soviet\", \"space\", \"space\", \"space\", \"space\", \"space\", \"space\", \"spacecraft\", \"sparc\", \"spare\", \"spare\", \"spare\", \"spare\", \"speakers\", \"speakers\", \"specs\", \"speed\", \"speed\", \"speed\", \"speed\", \"speedometer\", \"speeds\", \"sports\", \"stadium\", \"stalin\", \"standard\", \"standard\", \"standard\", \"standard\", \"standard\", \"standard\", \"stanley\", \"started\", \"started\", \"started\", \"started\", \"started\", \"state\", \"state\", \"state\", \"state\", \"state\", \"state\", \"state\", \"state\", \"state\", \"state\", \"states\", \"states\", \"states\", \"states\", \"states\", \"states\", \"station\", \"station\", \"station\", \"station\", \"station\", \"station\", \"station\", \"stats\", \"stats\", \"stats\", \"statutes\", \"steam\", \"steam\", \"steer\", \"stewart\", \"still\", \"still\", \"still\", \"still\", \"still\", \"still\", \"still\", \"still\", \"stream\", \"stream\", \"stream\", \"string\", \"string\", \"strip\", \"strip\", \"strip\", \"strong\", \"strong\", \"strong\", \"strong\", \"strong\", \"strong\", \"strong\", \"student\", \"student\", \"student\", \"student\", \"student\", \"student\", \"studies\", \"studies\", \"study\", \"study\", \"study\", \"study\", \"subjective\", \"submarines\", \"subscribe\", \"subscribe\", \"sumgait\", \"sunlight\", \"sunos\", \"sunroof\", \"surface\", \"surface\", \"surface\", \"surface\", \"symbol\", \"syria\", \"syria\", \"syrian\", \"system\", \"system\", \"system\", \"system\", \"system\", \"system\", \"system\", \"system\", \"system\", \"systems\", \"systems\", \"systems\", \"systems\", \"systems\", \"systems\", \"systems\", \"take\", \"take\", \"take\", \"take\", \"take\", \"take\", \"take\", \"take\", \"take\", \"talent\", \"tampa\", \"tape\", \"tape\", \"tape\", \"tape\", \"tapes\", \"tapes\", \"targa\", \"teaches\", \"teachings\", \"team\", \"team\", \"team\", \"teams\", \"teams\", \"techno\", \"technology\", \"technology\", \"technology\", \"technology\", \"teel\", \"teenagers\", \"telescope\", \"telnet\", \"temp\", \"temp\", \"terminal\", \"terminals\", \"terminated\", \"terminated\", \"terminator\", \"tesla\", \"testament\", \"thanks\", \"thanks\", \"thanks\", \"thanks\", \"thanks\", \"thanks\", \"thing\", \"thing\", \"thing\", \"thing\", \"thing\", \"thing\", \"things\", \"things\", \"things\", \"things\", \"things\", \"things\", \"think\", \"think\", \"think\", \"think\", \"three\", \"three\", \"three\", \"three\", \"three\", \"three\", \"three\", \"three\", \"three\", \"thumbs\", \"tiff\", \"time\", \"time\", \"time\", \"time\", \"time\", \"time\", \"time\", \"time\", \"time\", \"time\", \"time\", \"tires\", \"titled\", \"tobacco\", \"told\", \"told\", \"told\", \"told\", \"told\", \"toolkit\", \"toronto\", \"toronto\", \"toronto\", \"trans\", \"trans\", \"trans\", \"trends\", \"true\", \"true\", \"true\", \"true\", \"true\", \"true\", \"true\", \"true\", \"truth\", \"truth\", \"tube\", \"turkey\", \"turkish\", \"turks\", \"tvtwm\", \"ultrix\", \"unclear\", \"unclear\", \"understand\", \"understand\", \"understand\", \"understand\", \"understand\", \"united\", \"united\", \"united\", \"university\", \"university\", \"university\", \"university\", \"university\", \"university\", \"unix\", \"unix\", \"unix\", \"unsigned\", \"unto\", \"upenn\", \"upgrade\", \"used\", \"used\", \"used\", \"used\", \"used\", \"used\", \"used\", \"used\", \"used\", \"usenet\", \"user\", \"user\", \"user\", \"user\", \"user\", \"using\", \"using\", \"using\", \"using\", \"using\", \"using\", \"using\", \"using\", \"util\", \"uuencode\", \"value\", \"value\", \"value\", \"value\", \"value\", \"value\", \"vanilla\", \"variables\", \"vehicle\", \"vehicle\", \"vehicle\", \"vehicle\", \"vehicle\", \"venus\", \"verse\", \"version\", \"version\", \"version\", \"version\", \"version\", \"version\", \"version\", \"version\", \"vesa\", \"vesa\", \"victory\", \"video\", \"video\", \"video\", \"video\", \"video\", \"videotape\", \"viewers\", \"violating\", \"viper\", \"virtual\", \"virtual\", \"virtual\", \"virtual\", \"virtual\", \"visualization\", \"visualization\", \"voltage\", \"vram\", \"want\", \"want\", \"want\", \"want\", \"want\", \"want\", \"want\", \"washington\", \"washington\", \"washington\", \"washington\", \"washington\", \"washington\", \"watch\", \"watch\", \"watch\", \"watch\", \"watch\", \"watching\", \"watching\", \"water\", \"water\", \"water\", \"water\", \"water\", \"water\", \"water\", \"wave\", \"wave\", \"wave\", \"wave\", \"wave\", \"waves\", \"weapon\", \"weapon\", \"weapons\", \"weapons\", \"weapons\", \"weaver\", \"well\", \"well\", \"well\", \"well\", \"well\", \"well\", \"well\", \"well\", \"well\", \"went\", \"went\", \"went\", \"went\", \"whether\", \"whether\", \"whether\", \"whether\", \"whether\", \"widget\", \"widget\", \"width\", \"window\", \"window\", \"window\", \"windows\", \"windows\", \"windows\", \"wings\", \"wings\", \"wings\", \"winnipeg\", \"wins\", \"wire\", \"wire\", \"wiretap\", \"wiring\", \"witnessed\", \"woman\", \"woman\", \"woman\", \"women\", \"women\", \"women\", \"word\", \"word\", \"word\", \"word\", \"word\", \"word\", \"work\", \"work\", \"work\", \"work\", \"work\", \"work\", \"work\", \"work\", \"work\", \"work\", \"workstation\", \"world\", \"world\", \"world\", \"world\", \"world\", \"world\", \"world\", \"world\", \"world\", \"world\", \"worship\", \"would\", \"would\", \"would\", \"would\", \"would\", \"would\", \"would\", \"would\", \"would\", \"write\", \"write\", \"write\", \"write\", \"write\", \"write\", \"write\", \"write\", \"write\", \"wrong\", \"wrong\", \"wrong\", \"wrong\", \"wrong\", \"wrong\", \"wysiwyg\", \"xlib\", \"xterm\", \"xtpointer\", \"xview\", \"yankees\", \"year\", \"year\", \"year\", \"year\", \"year\", \"year\", \"year\", \"year\", \"year\", \"years\", \"years\", \"years\", \"years\", \"years\", \"years\", \"years\", \"years\", \"years\", \"zionism\"]}, \"R\": 30, \"lambda.step\": 0.01, \"plot.opts\": {\"xlab\": \"PC1\", \"ylab\": \"PC2\"}, \"topic.order\": [19, 14, 6, 16, 9, 5, 10, 18, 8, 11, 4, 3, 12, 17, 7, 13, 20, 1, 15, 2]};\n",
       "\n",
       "function LDAvis_load_lib(url, callback){\n",
       "  var s = document.createElement('script');\n",
       "  s.src = url;\n",
       "  s.async = true;\n",
       "  s.onreadystatechange = s.onload = callback;\n",
       "  s.onerror = function(){console.warn(\"failed to load library \" + url);};\n",
       "  document.getElementsByTagName(\"head\")[0].appendChild(s);\n",
       "}\n",
       "\n",
       "if(typeof(LDAvis) !== \"undefined\"){\n",
       "   // already loaded: just create the visualization\n",
       "   !function(LDAvis){\n",
       "       new LDAvis(\"#\" + \"ldavis_el2169216608140220164087636482\", ldavis_el2169216608140220164087636482_data);\n",
       "   }(LDAvis);\n",
       "}else if(typeof define === \"function\" && define.amd){\n",
       "   // require.js is available: use it to load d3/LDAvis\n",
       "   require.config({paths: {d3: \"https://d3js.org/d3.v5\"}});\n",
       "   require([\"d3\"], function(d3){\n",
       "      window.d3 = d3;\n",
       "      LDAvis_load_lib(\"https://cdn.jsdelivr.net/gh/bmabey/pyLDAvis@3.3.1/pyLDAvis/js/ldavis.v3.0.0.js\", function(){\n",
       "        new LDAvis(\"#\" + \"ldavis_el2169216608140220164087636482\", ldavis_el2169216608140220164087636482_data);\n",
       "      });\n",
       "    });\n",
       "}else{\n",
       "    // require.js not available: dynamically load d3 & LDAvis\n",
       "    LDAvis_load_lib(\"https://d3js.org/d3.v5.js\", function(){\n",
       "         LDAvis_load_lib(\"https://cdn.jsdelivr.net/gh/bmabey/pyLDAvis@3.3.1/pyLDAvis/js/ldavis.v3.0.0.js\", function(){\n",
       "                 new LDAvis(\"#\" + \"ldavis_el2169216608140220164087636482\", ldavis_el2169216608140220164087636482_data);\n",
       "            })\n",
       "         });\n",
       "}\n",
       "</script>"
      ],
      "text/plain": [
       "<IPython.core.display.HTML object>"
      ]
     },
     "execution_count": 104,
     "metadata": {},
     "output_type": "execute_result"
    }
   ],
   "source": [
    "import pyLDAvis.gensim_models\n",
    "pyLDAvis.enable_notebook()\n",
    "vis = pyLDAvis.gensim_models.prepare(ldamodel, corpus, dictionary)\n",
    "pyLDAvis.display(vis)"
   ]
  },
  {
   "cell_type": "markdown",
   "id": "89d991d4",
   "metadata": {},
   "source": [
    "좌측의 원들은 각각의 20개의 토픽을 나타냅니다. 각 원과의 거리는 각 토픽들이 서로 얼마나 다른지를 보여줍니다. 만약 두 개의 원이 겹친다면, 이 두 개의 토픽은 유사한 토픽이라는 의미입니다. 위의 그림에서는 10번 토픽을 클릭하였고, 이에 따라 우측에는 10번 토픽에 대한 정보가 나타납니다. 한 가지 주의할 점은 LDA 모델의 출력 결과에서는 토픽 번호가 0부터 할당되어 0 ~ 19의 숫자가 사용된 것과는 달리 위의 LDA 시각화에서는 토픽의 번호가 1부터 시작하므로 각 토픽 번호는 이제 +1이 된 값인 1~20까지의 값을 가집니다.\n",
    "\n"
   ]
  },
  {
   "cell_type": "markdown",
   "id": "cb356a24",
   "metadata": {},
   "source": [
    "### 2.4.4 문서 별 토픽 분포 보기\n",
    "위에서 토픽 별 단어 분포는 확인하였으나, 아직 문서 별 토픽 분포에 대해서는 확인하지 못 하였습니다. 우선 문서 별 토픽 분포를 확인하는 방법을 보겠습니다. 각 문서의 토픽 분포는 이미 훈련된 LDA 모델인 ldamodel[]에 전체 데이터가 정수 인코딩 된 결과를 넣은 후에 확인이 가능합니다. 여기서는 책의 지면의 한계로 상위 5개의 문서에 대해서만 토픽 분포를 확인해보겠습니다."
   ]
  },
  {
   "cell_type": "code",
   "execution_count": 105,
   "id": "d47353da",
   "metadata": {
    "ExecuteTime": {
     "end_time": "2021-08-01T14:38:48.664450Z",
     "start_time": "2021-08-01T14:38:48.646531Z"
    }
   },
   "outputs": [
    {
     "name": "stdout",
     "output_type": "stream",
     "text": [
      "0 번째 문서의 topic 비율은 [(4, 0.21487129), (7, 0.10829783), (8, 0.10703037), (9, 0.1546572), (16, 0.044215005), (18, 0.3435771), (19, 0.016843127)]\n",
      "1 번째 문서의 topic 비율은 [(3, 0.15489624), (8, 0.052288078), (11, 0.02891601), (18, 0.7428298)]\n",
      "2 번째 문서의 topic 비율은 [(8, 0.23474331), (15, 0.088546336), (16, 0.17177132), (18, 0.49200287)]\n",
      "3 번째 문서의 topic 비율은 [(1, 0.01565064), (7, 0.13385539), (10, 0.33060008), (13, 0.12909013), (15, 0.034595374), (18, 0.34522727)]\n",
      "4 번째 문서의 topic 비율은 [(2, 0.23024769), (14, 0.25502455), (18, 0.48323593)]\n"
     ]
    },
    {
     "name": "stderr",
     "output_type": "stream",
     "text": [
      "C:\\Users\\mrjjo\\anaconda3\\envs\\nlp38\\lib\\site-packages\\ipykernel\\ipkernel.py:287: DeprecationWarning: `should_run_async` will not call `transform_cell` automatically in the future. Please pass the result to `transformed_cell` argument and any exception that happen during thetransform in `preprocessing_exc_tuple` in IPython 7.17 and above.\n",
      "  and should_run_async(code)\n"
     ]
    }
   ],
   "source": [
    "for i, topic_list in enumerate(ldamodel[corpus]):\n",
    "    if i==5:\n",
    "        break\n",
    "    print(i,'번째 문서의 topic 비율은',topic_list)"
   ]
  },
  {
   "cell_type": "markdown",
   "id": "7cb85071",
   "metadata": {},
   "source": [
    "위의 출력 결과에서 (숫자, 확률)은 각각 토픽 번호와 해당 토픽이 해당 문서에서 차지하는 분포도를 의미합니다. 예를 들어 0번째 문서의 토픽 비율에서 (4, 0.21487129)은 4번 토픽이 21.5%의 분포도를 가지는 것을 의미합니다. 위의 코드를 응용하여 좀 더 깔끔한 형태인 데이터프레임 형식으로 출력해보겠습니다."
   ]
  },
  {
   "cell_type": "code",
   "execution_count": 106,
   "id": "774e164a",
   "metadata": {
    "ExecuteTime": {
     "end_time": "2021-08-01T14:40:03.887554Z",
     "start_time": "2021-08-01T14:40:03.870463Z"
    }
   },
   "outputs": [
    {
     "name": "stderr",
     "output_type": "stream",
     "text": [
      "C:\\Users\\mrjjo\\anaconda3\\envs\\nlp38\\lib\\site-packages\\ipykernel\\ipkernel.py:287: DeprecationWarning: `should_run_async` will not call `transform_cell` automatically in the future. Please pass the result to `transformed_cell` argument and any exception that happen during thetransform in `preprocessing_exc_tuple` in IPython 7.17 and above.\n",
      "  and should_run_async(code)\n"
     ]
    }
   ],
   "source": [
    "def make_topictable_per_doc(ldamodel, corpus):\n",
    "    topic_table = pd.DataFrame()\n",
    "\n",
    "    # 몇 번째 문서인지를 의미하는 문서 번호와 해당 문서의 토픽 비중을 한 줄씩 꺼내온다.\n",
    "    for i, topic_list in enumerate(ldamodel[corpus]):\n",
    "        doc = topic_list[0] if ldamodel.per_word_topics else topic_list            \n",
    "        doc = sorted(doc, key=lambda x: (x[1]), reverse=True)\n",
    "        # 각 문서에 대해서 비중이 높은 토픽순으로 토픽을 정렬한다.\n",
    "        # EX) 정렬 전 0번 문서 : (2번 토픽, 48.5%), (8번 토픽, 25%), (10번 토픽, 5%), (12번 토픽, 21.5%), \n",
    "        # Ex) 정렬 후 0번 문서 : (2번 토픽, 48.5%), (8번 토픽, 25%), (12번 토픽, 21.5%), (10번 토픽, 5%)\n",
    "        # 48 > 25 > 21 > 5 순으로 정렬이 된 것.\n",
    "\n",
    "        # 모든 문서에 대해서 각각 아래를 수행\n",
    "        for j, (topic_num, prop_topic) in enumerate(doc): #  몇 번 토픽인지와 비중을 나눠서 저장한다.\n",
    "            if j == 0:  # 정렬을 한 상태이므로 가장 앞에 있는 것이 가장 비중이 높은 토픽\n",
    "                topic_table = topic_table.append(pd.Series([int(topic_num), round(prop_topic,4), topic_list]), ignore_index=True)\n",
    "                # 가장 비중이 높은 토픽과, 가장 비중이 높은 토픽의 비중과, 전체 토픽의 비중을 저장한다.\n",
    "            else:\n",
    "                break\n",
    "    return(topic_table)"
   ]
  },
  {
   "cell_type": "code",
   "execution_count": 107,
   "id": "7d6d7913",
   "metadata": {
    "ExecuteTime": {
     "end_time": "2021-08-01T14:40:46.478248Z",
     "start_time": "2021-08-01T14:40:21.575015Z"
    }
   },
   "outputs": [
    {
     "name": "stderr",
     "output_type": "stream",
     "text": [
      "C:\\Users\\mrjjo\\anaconda3\\envs\\nlp38\\lib\\site-packages\\ipykernel\\ipkernel.py:287: DeprecationWarning: `should_run_async` will not call `transform_cell` automatically in the future. Please pass the result to `transformed_cell` argument and any exception that happen during thetransform in `preprocessing_exc_tuple` in IPython 7.17 and above.\n",
      "  and should_run_async(code)\n"
     ]
    },
    {
     "data": {
      "text/html": [
       "<div>\n",
       "<style scoped>\n",
       "    .dataframe tbody tr th:only-of-type {\n",
       "        vertical-align: middle;\n",
       "    }\n",
       "\n",
       "    .dataframe tbody tr th {\n",
       "        vertical-align: top;\n",
       "    }\n",
       "\n",
       "    .dataframe thead th {\n",
       "        text-align: right;\n",
       "    }\n",
       "</style>\n",
       "<table border=\"1\" class=\"dataframe\">\n",
       "  <thead>\n",
       "    <tr style=\"text-align: right;\">\n",
       "      <th></th>\n",
       "      <th>문서 번호</th>\n",
       "      <th>가장 비중이 높은 토픽</th>\n",
       "      <th>가장 높은 토픽의 비중</th>\n",
       "      <th>각 토픽의 비중</th>\n",
       "    </tr>\n",
       "  </thead>\n",
       "  <tbody>\n",
       "    <tr>\n",
       "      <th>0</th>\n",
       "      <td>0</td>\n",
       "      <td>18.0</td>\n",
       "      <td>0.3436</td>\n",
       "      <td>[(4, 0.21486965), (7, 0.10829331), (8, 0.10702...</td>\n",
       "    </tr>\n",
       "    <tr>\n",
       "      <th>1</th>\n",
       "      <td>1</td>\n",
       "      <td>18.0</td>\n",
       "      <td>0.7436</td>\n",
       "      <td>[(3, 0.15486766), (8, 0.05158137), (11, 0.0289...</td>\n",
       "    </tr>\n",
       "    <tr>\n",
       "      <th>2</th>\n",
       "      <td>2</td>\n",
       "      <td>18.0</td>\n",
       "      <td>0.4920</td>\n",
       "      <td>[(8, 0.23471017), (15, 0.08854245), (16, 0.171...</td>\n",
       "    </tr>\n",
       "    <tr>\n",
       "      <th>3</th>\n",
       "      <td>3</td>\n",
       "      <td>18.0</td>\n",
       "      <td>0.3452</td>\n",
       "      <td>[(1, 0.015650645), (7, 0.13385467), (10, 0.330...</td>\n",
       "    </tr>\n",
       "    <tr>\n",
       "      <th>4</th>\n",
       "      <td>4</td>\n",
       "      <td>18.0</td>\n",
       "      <td>0.4832</td>\n",
       "      <td>[(2, 0.23024766), (14, 0.25502458), (18, 0.483...</td>\n",
       "    </tr>\n",
       "    <tr>\n",
       "      <th>5</th>\n",
       "      <td>5</td>\n",
       "      <td>18.0</td>\n",
       "      <td>0.3133</td>\n",
       "      <td>[(3, 0.2316008), (4, 0.23341742), (8, 0.146657...</td>\n",
       "    </tr>\n",
       "    <tr>\n",
       "      <th>6</th>\n",
       "      <td>6</td>\n",
       "      <td>13.0</td>\n",
       "      <td>0.6502</td>\n",
       "      <td>[(5, 0.08380517), (13, 0.6502454), (18, 0.2252...</td>\n",
       "    </tr>\n",
       "    <tr>\n",
       "      <th>7</th>\n",
       "      <td>7</td>\n",
       "      <td>18.0</td>\n",
       "      <td>0.6990</td>\n",
       "      <td>[(8, 0.050303496), (15, 0.0916617), (16, 0.096...</td>\n",
       "    </tr>\n",
       "    <tr>\n",
       "      <th>8</th>\n",
       "      <td>8</td>\n",
       "      <td>18.0</td>\n",
       "      <td>0.3900</td>\n",
       "      <td>[(8, 0.32762647), (9, 0.2139524), (10, 0.04484...</td>\n",
       "    </tr>\n",
       "    <tr>\n",
       "      <th>9</th>\n",
       "      <td>9</td>\n",
       "      <td>13.0</td>\n",
       "      <td>0.5242</td>\n",
       "      <td>[(3, 0.012976287), (6, 0.014931572), (9, 0.161...</td>\n",
       "    </tr>\n",
       "  </tbody>\n",
       "</table>\n",
       "</div>"
      ],
      "text/plain": [
       "   문서 번호  가장 비중이 높은 토픽  가장 높은 토픽의 비중  \\\n",
       "0      0          18.0        0.3436   \n",
       "1      1          18.0        0.7436   \n",
       "2      2          18.0        0.4920   \n",
       "3      3          18.0        0.3452   \n",
       "4      4          18.0        0.4832   \n",
       "5      5          18.0        0.3133   \n",
       "6      6          13.0        0.6502   \n",
       "7      7          18.0        0.6990   \n",
       "8      8          18.0        0.3900   \n",
       "9      9          13.0        0.5242   \n",
       "\n",
       "                                            각 토픽의 비중  \n",
       "0  [(4, 0.21486965), (7, 0.10829331), (8, 0.10702...  \n",
       "1  [(3, 0.15486766), (8, 0.05158137), (11, 0.0289...  \n",
       "2  [(8, 0.23471017), (15, 0.08854245), (16, 0.171...  \n",
       "3  [(1, 0.015650645), (7, 0.13385467), (10, 0.330...  \n",
       "4  [(2, 0.23024766), (14, 0.25502458), (18, 0.483...  \n",
       "5  [(3, 0.2316008), (4, 0.23341742), (8, 0.146657...  \n",
       "6  [(5, 0.08380517), (13, 0.6502454), (18, 0.2252...  \n",
       "7  [(8, 0.050303496), (15, 0.0916617), (16, 0.096...  \n",
       "8  [(8, 0.32762647), (9, 0.2139524), (10, 0.04484...  \n",
       "9  [(3, 0.012976287), (6, 0.014931572), (9, 0.161...  "
      ]
     },
     "execution_count": 107,
     "metadata": {},
     "output_type": "execute_result"
    }
   ],
   "source": [
    "topictable = make_topictable_per_doc(ldamodel, corpus)\n",
    "topictable = topictable.reset_index() # 문서 번호을 의미하는 열(column)로 사용하기 위해서 인덱스 열을 하나 더 만든다.\n",
    "topictable.columns = ['문서 번호', '가장 비중이 높은 토픽', '가장 높은 토픽의 비중', '각 토픽의 비중']\n",
    "topictable[:10]"
   ]
  },
  {
   "cell_type": "markdown",
   "id": "6db248ea",
   "metadata": {},
   "source": [
    "http://s-space.snu.ac.kr/bitstream/10371/95582/1/22_1_%EB%82%A8%EC%B6%98%ED%98%B8.pdf  \n",
    "https://bab2min.tistory.com/568  \n",
    "https://annalyzin.wordpress.com/2015/06/21/laymans-explanation-of-topic-modeling-with-lda-2/  \n",
    "https://towardsdatascience.com/latent-dirichlet-allocation-15800c852699  \n",
    "https://radimrehurek.com/gensim/wiki.html#latent-dirichlet-allocation  \n",
    "https://www.machinelearningplus.com/nlp/topic-modeling-gensim-python/  \n",
    "  \n",
    "모델 저장 및 로드 하기 : https://stackabuse.com/python-for-nlp-working-with-the-gensim-library-part-2/  \n",
    "\n",
    "전반적으로 참고하기 좋은 글 : https://shichaoji.com/2017/04/25/topicmodeling/  \n",
    "\n",
    "동영상 강의 : https://blog.naver.com/chunjein/220946362463  \n",
    "\n",
    "뉴스를 가지고 할 수 있는 다양한 일들 : https://www.slideshare.net/koorukuroo/20160813-pycon2016apac  "
   ]
  },
  {
   "cell_type": "code",
   "execution_count": null,
   "id": "d882e545",
   "metadata": {},
   "outputs": [],
   "source": []
  }
 ],
 "metadata": {
  "hide_input": false,
  "kernelspec": {
   "display_name": "Python 3",
   "language": "python",
   "name": "python3"
  },
  "language_info": {
   "codemirror_mode": {
    "name": "ipython",
    "version": 3
   },
   "file_extension": ".py",
   "mimetype": "text/x-python",
   "name": "python",
   "nbconvert_exporter": "python",
   "pygments_lexer": "ipython3",
   "version": "3.8.10"
  },
  "latex_envs": {
   "LaTeX_envs_menu_present": true,
   "autoclose": false,
   "autocomplete": true,
   "bibliofile": "biblio.bib",
   "cite_by": "apalike",
   "current_citInitial": 1,
   "eqLabelWithNumbers": true,
   "eqNumInitial": 1,
   "hotkeys": {
    "equation": "Ctrl-E",
    "itemize": "Ctrl-I"
   },
   "labels_anchors": false,
   "latex_user_defs": false,
   "report_style_numbering": false,
   "user_envs_cfg": false
  },
  "toc": {
   "base_numbering": 1,
   "nav_menu": {},
   "number_sections": true,
   "sideBar": true,
   "skip_h1_title": false,
   "title_cell": "Table of Contents",
   "title_sidebar": "Contents",
   "toc_cell": false,
   "toc_position": {},
   "toc_section_display": true,
   "toc_window_display": false
  }
 },
 "nbformat": 4,
 "nbformat_minor": 5
}
