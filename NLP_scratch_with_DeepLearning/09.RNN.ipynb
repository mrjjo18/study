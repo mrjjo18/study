{
 "cells": [
  {
   "cell_type": "markdown",
   "id": "9b6d21f2",
   "metadata": {
    "ExecuteTime": {
     "end_time": "2021-08-03T15:22:42.120837Z",
     "start_time": "2021-08-03T15:22:41.995912Z"
    }
   },
   "source": [
    "![python image2](https://wikidocs.net/images/page/22886/rnn_image2_ver3.PNG)"
   ]
  },
  {
   "cell_type": "markdown",
   "id": "e7ff9400",
   "metadata": {},
   "source": [
    "# 1. RNN?\n",
    "  1. 내부적으로 순환(Recurrent)되는 구조를 이용하여\n",
    "  2. 순서(Sequence)가 있는 데이터를 처리하는 데 강점을 가진 NN  "
   ]
  },
  {
   "cell_type": "markdown",
   "id": "4faab603",
   "metadata": {},
   "source": [
    "## 1.1 순서가 있는 데이터\n",
    "- 문장이나 음성, 시계열 데이터처럼 Sequence에 따른 데이터\n",
    "- 예를 들어, I work at google / I google at work 두 문장이 있을 때, 동사로 활용된 work 또는 google을 동사로 제대로 해석하려면 첫 번째 단어가 주어 'I'라는 것을 메모리 상에 기억하고 있어야함. 또한 I, work(or google)까지 기억한다면 at google과 at work를 올바르게 해석하여 결국 문장 전체를 올바르게 해석할 수 있음.  \n",
    "<br><br>\n",
    "  \n",
    "**RNN은**\n",
    "  1. 은닉층 내의 순환구조를 이용하여 메모리 cell이 각 sequence의 데이터를 기억하고 있다가, \n",
    "  2. 새롭게 입력으로 주어지는 데이터(입력)와 메모리 cell이 옆 층으로 전달해준 과거의(t-1로 가정) 데이터를 연결시켜 출력값(의미)을 알아내는 기능을 가짐"
   ]
  },
  {
   "cell_type": "markdown",
   "id": "f86821ab",
   "metadata": {},
   "source": [
    "## 1.2 DNN Review"
   ]
  },
  {
   "cell_type": "markdown",
   "id": "4b330c3f",
   "metadata": {},
   "source": [
    "![python image2](image_source/DNN_principle.png)"
   ]
  },
  {
   "cell_type": "markdown",
   "id": "3b3c2071",
   "metadata": {},
   "source": [
    "## 1.3. RNN 구조\n",
    "\n",
    "![python image2](image_source/RNN_architecture.png)"
   ]
  },
  {
   "cell_type": "markdown",
   "id": "ae49bfd3",
   "metadata": {},
   "source": [
    "## 1.4 RNN 동작 원리 - 1\n",
    "\n",
    "![python image2](image_source/RNN_principle_00.png)"
   ]
  },
  {
   "cell_type": "markdown",
   "id": "f7b101ae",
   "metadata": {},
   "source": [
    "![python image2](image_source/RNN_principle_01.png)"
   ]
  },
  {
   "cell_type": "markdown",
   "id": "fc320a0c",
   "metadata": {},
   "source": [
    "1. 'I'의 품사: (t1) 참고할만한 과거의 data가 없어서\n",
    "2. 'work'의 품사: (t2) 은닉층으로 들어오긴 하는데, t1시점의 출력값을 I(주어)를 우리가 기억하고 있으므로 I를 활용해 은닉층 계산을 하고 출력층에서 가장 확률이 높은 품사 기준으로 값 출력\n",
    "3. 'at'의 품사: (t3) t1 시점의 I, 그리고 t1시점 I의 영향을 받은 t2 시점의 work 출력값을 기준(softmax)으로 출력한다.\n",
    "4. 'google'의 품사: (t4) t1, t2, t3 I, work, at를 토대로 주어, 동사, 전치사 다음에는 명사가 올 확률이 높기 때문에 softmax기준으로 명사로 분류\n"
   ]
  },
  {
   "cell_type": "markdown",
   "id": "d5050e39",
   "metadata": {},
   "source": [
    "## 1.5 RNN 동작원리 - 2\n",
    "![python image2](image_source/RNN_principle_02.png)\n",
    "\n",
    "첫 번째 데이터라 $H_{cur} = 0$"
   ]
  },
  {
   "cell_type": "markdown",
   "id": "a092d151",
   "metadata": {},
   "source": [
    "## 1.6 RNN 동작원리 - 3\n",
    "\n",
    "![python image2](image_source/RNN_principle_03.png)"
   ]
  },
  {
   "cell_type": "markdown",
   "id": "48cc2fdc",
   "metadata": {},
   "source": [
    "Embedding을 사용하며, 단어 집합(Vocabulary)의 크기가 5,000이고 임베딩 벡터의 차원은 100입니다.\n",
    "은닉층에서는 Simple RNN을 사용하며, 은닉 상태의 크기는 128입니다.\n",
    "훈련에 사용하는 모든 샘플의 길이는 30으로 가정합니다.\n",
    "이진 분류를 수행하는 모델로, 출력층의 뉴런은 1개로 시그모이드 함수를 사용합니다.\n",
    "은닉층은 1개입니다.\n"
   ]
  },
  {
   "cell_type": "code",
   "execution_count": 1,
   "id": "400ccd12",
   "metadata": {
    "ExecuteTime": {
     "end_time": "2021-08-11T15:02:33.437850Z",
     "start_time": "2021-08-11T15:02:25.296969Z"
    }
   },
   "outputs": [
    {
     "name": "stdout",
     "output_type": "stream",
     "text": [
      "Model: \"sequential\"\n",
      "_________________________________________________________________\n",
      "Layer (type)                 Output Shape              Param #   \n",
      "=================================================================\n",
      "embedding (Embedding)        (None, None, 100)         500000    \n",
      "_________________________________________________________________\n",
      "simple_rnn (SimpleRNN)       (None, 128)               29312     \n",
      "_________________________________________________________________\n",
      "dense (Dense)                (None, 1)                 129       \n",
      "=================================================================\n",
      "Total params: 529,441\n",
      "Trainable params: 529,441\n",
      "Non-trainable params: 0\n",
      "_________________________________________________________________\n"
     ]
    }
   ],
   "source": [
    "from keras.models import Sequential\n",
    "from keras.layers import SimpleRNN, Embedding, Dense\n",
    "\n",
    "vocab_size = 5000\n",
    "embedding_dim = 100\n",
    "hidden_size = 128\n",
    "\n",
    "model = Sequential()\n",
    "model.add(Embedding(vocab_size, embedding_dim))\n",
    "model.add(SimpleRNN(hidden_size))\n",
    "model.add(Dense(1, activation='sigmoid'))\n",
    "model.summary()"
   ]
  },
  {
   "cell_type": "code",
   "execution_count": 2,
   "id": "548d1e5b",
   "metadata": {
    "ExecuteTime": {
     "end_time": "2021-08-11T15:02:33.453065Z",
     "start_time": "2021-08-11T15:02:33.437850Z"
    }
   },
   "outputs": [
    {
     "data": {
      "text/plain": [
       "529441"
      ]
     },
     "execution_count": 2,
     "metadata": {},
     "output_type": "execute_result"
    }
   ],
   "source": [
    "5000 * 100 + 100*128 + 128*128 + 128 + 128 + 1"
   ]
  },
  {
   "cell_type": "markdown",
   "id": "e737c494",
   "metadata": {},
   "source": [
    "# 2. 장단기 메모리(Long Short-Term Memory, LSTM)\n",
    "- 앞서 배운 RNN(vanilla)의 한계를 극복하기 위한 변형\n",
    "\n",
    "![python image](https://wikidocs.net/images/page/22888/lstm_image1_ver2.PNG)\n",
    "\n",
    "음영을 정보량으로 가정했을 때 1에서 t로 갈수록 음영이 옅어지는 것을 볼 수 있음. 이는 곧 과거의 정보량이 점차 소실되어가는 과정을 표현한 것.\n",
    "\n",
    "예)\n",
    "  - 모스크바에 여행을 왔는데, 건물도 예쁘고 음식도 맛있었어. 그런데 직장 상사한테 전화가 왔어 어디냐고 묻더라고~ (중량)\n",
    "  - 만약 이 문장을 임베딩해서 다음 단어를 예측한다라고 했을 때, 모스크바라는 벡터의 정보량이 소실된다면 예측에 어떤 영향을 줄 것인가?\n",
    "  \n",
    " ***= 장기 의존성 문제(the problem of Long-Term Dependencies)***\n",
    " \n",
    " \n",
    " \n",
    "**그림이 뭔가 어렵네요!**\n",
    " ![python image](https://wikidocs.net/images/page/22888/vaniila_rnn_and_different_lstm_ver2.PNG)\n",
    " \n",
    " \n",
    " 각각의 요소에 대한 설명도 읽어보았으나... 넘어가야할 것 같네요..."
   ]
  },
  {
   "cell_type": "markdown",
   "id": "5bfe7998",
   "metadata": {},
   "source": [
    "# 3. 게이트 순환 유닛(Gated Recurrent Unit, GRU)\n",
    "- GRU는 LSTM의 장기 의존성 문제에 대한 해결책을 유지하면서, 은닉 상태를 업데이트하는 계산을 줄였습니다. 다시 말해서, GRU는 성능은 LSTM과 유사하면서 복잡했던 LSTM의 구조를 간단화 시켰습니다.\n",
    "\n",
    "![python image2](https://wikidocs.net/images/page/22889/GRU.PNG)\n",
    "\n",
    "  \n",
    "- LSTM에서는 출력, 입력, 삭제 게이트라는 3개의 게이트가 존재했습니다. 반면, GRU에서는 업데이트 게이트와 리셋 게이트 두 가지 게이트만이 존재합니다.\n",
    "- 데이터 양이 적을 때는, 매개 변수의 양이 적은 GRU가 조금 더 낫고, 데이터 양이 더 많으면 LSTM이 더 낫다고 알려져 있습니다."
   ]
  },
  {
   "cell_type": "markdown",
   "id": "d43572a0",
   "metadata": {},
   "source": [
    "# 4. 케라스의 SimpleRNN과 LSTM 이해하기"
   ]
  },
  {
   "cell_type": "markdown",
   "id": "ca7ff7f4",
   "metadata": {},
   "source": [
    "## 4.1 임의의 입력 생성하기"
   ]
  },
  {
   "cell_type": "code",
   "execution_count": 2,
   "id": "caecfb0e",
   "metadata": {
    "ExecuteTime": {
     "end_time": "2021-08-17T15:08:43.512929Z",
     "start_time": "2021-08-17T15:08:33.633210Z"
    }
   },
   "outputs": [],
   "source": [
    "import numpy as np\n",
    "import tensorflow as tf\n",
    "from tensorflow.keras.layers import SimpleRNN, LSTM, Bidirectional\n",
    "import pprint"
   ]
  },
  {
   "cell_type": "code",
   "execution_count": 3,
   "id": "e260ae82",
   "metadata": {
    "ExecuteTime": {
     "end_time": "2021-08-17T15:08:43.528854Z",
     "start_time": "2021-08-17T15:08:43.514890Z"
    }
   },
   "outputs": [
    {
     "name": "stdout",
     "output_type": "stream",
     "text": [
      "[[0.1, 4.2, 1.5, 1.1, 2.8],\n",
      " [1.0, 3.1, 2.5, 0.7, 1.1],\n",
      " [0.3, 2.1, 1.5, 2.1, 0.1],\n",
      " [2.2, 1.4, 0.5, 0.9, 1.1]]\n",
      "(4, 5)\n",
      "5개의 단어 벡터를 사용한 4번의 기록(시점)\n"
     ]
    }
   ],
   "source": [
    "# 우선 RNN과 LSTM을 테스트하기 위한 임의의 입력을 만듭니다.\n",
    "\n",
    "train_X = [[0.1, 4.2, 1.5, 1.1, 2.8], [1.0, 3.1, 2.5, 0.7, 1.1], [0.3, 2.1, 1.5, 2.1, 0.1], [2.2, 1.4, 0.5, 0.9, 1.1]]\n",
    "pprint.pprint(train_X)\n",
    "print(np.shape(train_X))\n",
    "print(\"5개의 단어 벡터를 사용한 4번의 기록(시점)\")"
   ]
  },
  {
   "cell_type": "code",
   "execution_count": 4,
   "id": "141f40ba",
   "metadata": {
    "ExecuteTime": {
     "end_time": "2021-08-17T15:08:43.544838Z",
     "start_time": "2021-08-17T15:08:43.531847Z"
    }
   },
   "outputs": [
    {
     "name": "stdout",
     "output_type": "stream",
     "text": [
      "(1, 4, 5)\n"
     ]
    }
   ],
   "source": [
    "# 앞서 RNN은 2D 텐서가 아니라 3D 텐서를 입력을 받는다고 언급한 바 있습니다. \n",
    "# 즉, 위에서 만든 2D 텐서를 3D 텐서로 변경합니다. 이는 배치 크기 1을 추가해주므로서 해결합니다.\n",
    "# 한 번 더 []로 싸서 차원추가\n",
    "train_X = [[[0.1, 4.2, 1.5, 1.1, 2.8], [1.0, 3.1, 2.5, 0.7, 1.1], [0.3, 2.1, 1.5, 2.1, 0.1], [2.2, 1.4, 0.5, 0.9, 1.1]]]\n",
    "train_X = np.array(train_X, dtype=np.float32)\n",
    "print(train_X.shape)\n",
    "#(batch_size(timesteps와 input 한 세트를 몇 개씩 넣을 것인지), timesteps: sequence legnth(Series의 길이), input_dim: 입력하는 데이터의 차원(5개니까 5))"
   ]
  },
  {
   "cell_type": "markdown",
   "id": "46dacbcd",
   "metadata": {},
   "source": [
    "![python image2](image_source/rnn_hello.png)"
   ]
  },
  {
   "cell_type": "markdown",
   "id": "8ded21e6",
   "metadata": {
    "ExecuteTime": {
     "end_time": "2021-08-17T14:50:36.989285Z",
     "start_time": "2021-08-17T14:50:36.923468Z"
    }
   },
   "source": [
    "![python image2](image_source/rnn_shape.png)"
   ]
  },
  {
   "cell_type": "markdown",
   "id": "cb95eba4",
   "metadata": {},
   "source": [
    "## 4.2 SimpleRNN 이해하기"
   ]
  },
  {
   "cell_type": "code",
   "execution_count": 9,
   "id": "9f5ba0c1",
   "metadata": {
    "ExecuteTime": {
     "end_time": "2021-08-17T15:09:58.755515Z",
     "start_time": "2021-08-17T15:09:58.724059Z"
    }
   },
   "outputs": [
    {
     "name": "stdout",
     "output_type": "stream",
     "text": [
      "hidden state : [[0.9334026  0.00360336 0.9851538 ]], shape: (1, 3)\n"
     ]
    }
   ],
   "source": [
    "rnn = SimpleRNN(3)\n",
    "# rnn = SimpleRNN(3, return_sequences=False, return_state=False)와 동일. \n",
    "# return sequence = RNN 계산과정 상에 있는 hidden state를 출력할 것인가(== 마지막만 출력할래?), To one, To many를 결정\n",
    "\n",
    "hidden_state = rnn(train_X)\n",
    "\n",
    "print('hidden state : {}, shape: {}'.format(hidden_state, hidden_state.shape))"
   ]
  },
  {
   "cell_type": "code",
   "execution_count": 10,
   "id": "5b7b0736",
   "metadata": {
    "ExecuteTime": {
     "end_time": "2021-08-17T15:10:23.792412Z",
     "start_time": "2021-08-17T15:10:23.756977Z"
    }
   },
   "outputs": [
    {
     "name": "stdout",
     "output_type": "stream",
     "text": [
      "hidden states \n",
      ": [[[ 0.35987827  0.9998444   0.9696535 ]\n",
      "  [-0.7668005   0.98996025  0.99939626]\n",
      "  [-0.8133425   0.6670614   0.98648685]\n",
      "  [-0.9896994   0.6764782   0.9983962 ]]], shape: (1, 4, 3)\n"
     ]
    }
   ],
   "source": [
    "# 기본적으로 return_sequences가 False인 경우에는 SimpleRNN은 마지막 시점의 은닉 상태만 출력합니다. == To one\n",
    "# 이번에는 return_sequences를 True로 지정하여 모든 시점의 은닉 상태를 출력해봅시다.== time step별 hidden state를 모두 출력 == To many \n",
    "\n",
    "rnn = SimpleRNN(3, return_sequences=True)\n",
    "hidden_states = rnn(train_X)\n",
    "\n",
    "print('hidden states \\n: {}, shape: {}'.format(hidden_states, hidden_states.shape))\n",
    "# (batch_size, timesteps, input_dim)\n",
    "# ()"
   ]
  },
  {
   "cell_type": "code",
   "execution_count": 11,
   "id": "e11f2e8e",
   "metadata": {
    "ExecuteTime": {
     "end_time": "2021-08-17T15:10:46.549556Z",
     "start_time": "2021-08-17T15:10:46.515109Z"
    }
   },
   "outputs": [
    {
     "name": "stdout",
     "output_type": "stream",
     "text": [
      "hidden state : [[ 0.9517502  -0.52132624  0.9982433 ]], shape: (1, 3)\n",
      "last hidden state : [[ 0.9517502  -0.52132624  0.9982433 ]], shape: (1, 3)\n",
      "두 개의 출력 모두 마지막 시점의 은닉 상태를 출력하게 됩니다.\n"
     ]
    }
   ],
   "source": [
    "# 그렇다면 return_sequences는 False인데, retun_state가 True인 경우는 어떨까요?\n",
    "# return state = LSTM 레이어에서 주로 사용되는 값\n",
    "# 마지막 time step에서의 output(hidden state), hidden state와 cell state가 출력된다. \n",
    "# 즉 마지막 output값이 2번 출력이 되고 cell state가 나온다.\n",
    "\n",
    "rnn = SimpleRNN(3, return_sequences=False, return_state=True)\n",
    "hidden_state, last_state = rnn(train_X)\n",
    "\n",
    "print('hidden state : {}, shape: {}'.format(hidden_state, hidden_state.shape))\n",
    "print('last hidden state : {}, shape: {}'.format(last_state, last_state.shape))\n",
    "\n",
    "print(\"두 개의 출력 모두 마지막 시점의 은닉 상태를 출력하게 됩니다.\")"
   ]
  },
  {
   "cell_type": "markdown",
   "id": "087c62af",
   "metadata": {},
   "source": [
    "## 4.3 LSTM 이해하기\n",
    "\n",
    "- 실제로 SimpleRNN이 사용되는 경우는 거의 없습니다.\n",
    "- 이보다는 LSTM이나 GRU을 주로 사용하는데, 이번에는 임의의 입력에 대해서 LSTM을 사용할 경우를 보겠습니다. 우선 return_sequences를 False로 두고, return_state가 True인 경우를 봅시다."
   ]
  },
  {
   "cell_type": "code",
   "execution_count": 12,
   "id": "5ae51948",
   "metadata": {
    "ExecuteTime": {
     "end_time": "2021-08-17T15:16:50.802690Z",
     "start_time": "2021-08-17T15:16:50.762266Z"
    }
   },
   "outputs": [
    {
     "name": "stdout",
     "output_type": "stream",
     "text": [
      "hidden state : [[-0.20158324 -0.61441725  0.11092292]], shape: (1, 3)\n",
      "last hidden state : [[-0.20158324 -0.61441725  0.11092292]], shape: (1, 3)\n",
      "last cell state : [[-0.5716053  -1.4566205   0.19124356]], shape: (1, 3)\n"
     ]
    }
   ],
   "source": [
    "lstm = LSTM(3, return_sequences=False, return_state=True)\n",
    "hidden_state, last_state, last_cell_state = lstm(train_X)\n",
    "\n",
    "\n",
    "\n",
    "print('hidden state : {}, shape: {}'.format(hidden_state, hidden_state.shape))\n",
    "print('last hidden state : {}, shape: {}'.format(last_state, last_state.shape))\n",
    "print('last cell state : {}, shape: {}'.format(last_cell_state, last_cell_state.shape))"
   ]
  },
  {
   "cell_type": "markdown",
   "id": "eb6d4faf",
   "metadata": {},
   "source": [
    "- 이번에는 SimpleRNN 때와는 달리, 세 개의 결과를 반환합니다. return_sequences가 False이므로 우선 첫번째 결과는 마지막 시점의 은닉 상태입니다. 그런데 LSTM이 SimpleRNN과 다른 점은 return_state를 True로 둔 경우에는 마지막 시점의 은닉 상태뿐만 아니라 셀 상태까지 반환한다는 점입니다. 이번에는 return_sequences를 True로 바꿔보겠습니다."
   ]
  },
  {
   "cell_type": "code",
   "execution_count": 13,
   "id": "a9fd434f",
   "metadata": {
    "ExecuteTime": {
     "end_time": "2021-08-17T15:18:10.340614Z",
     "start_time": "2021-08-17T15:18:10.307579Z"
    }
   },
   "outputs": [
    {
     "name": "stdout",
     "output_type": "stream",
     "text": [
      "hidden states : [[[ 0.30427808 -0.0732515   0.2798049 ]\n",
      "  [ 0.39632452 -0.17029493  0.2101612 ]\n",
      "  [ 0.5335901  -0.11439174  0.29666686]\n",
      "  [ 0.60747755 -0.45178524  0.43473914]]], shape: (1, 4, 3)\n",
      "last hidden state : [[ 0.60747755 -0.45178524  0.43473914]], shape: (1, 3)\n",
      "last cell state : [[ 0.99897736 -0.8454615   0.6353362 ]], shape: (1, 3)\n"
     ]
    }
   ],
   "source": [
    "lstm = LSTM(3, return_sequences=True, return_state=True)\n",
    "hidden_states, last_hidden_state, last_cell_state = lstm(train_X)\n",
    "\n",
    "print('hidden states : {}, shape: {}'.format(hidden_states, hidden_states.shape))\n",
    "print('last hidden state : {}, shape: {}'.format(last_hidden_state, last_hidden_state.shape))\n",
    "print('last cell state : {}, shape: {}'.format(last_cell_state, last_cell_state.shape))"
   ]
  },
  {
   "cell_type": "markdown",
   "id": "7846f552",
   "metadata": {},
   "source": [
    "return_state가 True이므로 두번째 출력값이 마지막 은닉 상태, 세번째 출력값이 마지막 셀 상태인 것은 변함없지만 return_sequences가 True이므로 첫번째 출력값은 모든 시점의 은닉 상태가 출력됩니다."
   ]
  },
  {
   "cell_type": "markdown",
   "id": "0cbb4d70",
   "metadata": {},
   "source": [
    "## 4.4 Bidirectional(LSTM) 이해하기(양방향순환)\n",
    "\n",
    "\n",
    "\n",
    "난이도를 조금 올려서 양방향 LSTM의 출력값을 확인해보겠습니다. return_sequences가 True인 경우와 False인 경우에 대해서 은닉 상태의 값이 어떻게 바뀌는지 직접 비교하기 위해서 이번에는 출력되는 은닉 상태의 값을 고정시켜주겠습니다."
   ]
  },
  {
   "cell_type": "code",
   "execution_count": 14,
   "id": "a247cd4f",
   "metadata": {
    "ExecuteTime": {
     "end_time": "2021-08-17T15:19:29.001459Z",
     "start_time": "2021-08-17T15:19:28.988897Z"
    }
   },
   "outputs": [],
   "source": [
    "k_init = tf.keras.initializers.Constant(value=0.1) # kernel\n",
    "b_init = tf.keras.initializers.Constant(value=0) # bias\n",
    "r_init = tf.keras.initializers.Constant(value=0.1) # recurrent"
   ]
  },
  {
   "cell_type": "markdown",
   "id": "e3895d37",
   "metadata": {},
   "source": [
    "우선 return_sequences가 False이고, return_state가 True인 경우입니다."
   ]
  },
  {
   "cell_type": "code",
   "execution_count": 15,
   "id": "f5f63a9f",
   "metadata": {
    "ExecuteTime": {
     "end_time": "2021-08-17T15:19:38.692715Z",
     "start_time": "2021-08-17T15:19:38.643747Z"
    }
   },
   "outputs": [
    {
     "name": "stdout",
     "output_type": "stream",
     "text": [
      "hidden states : [[0.6303138 0.6303138 0.6303138 0.7038734 0.7038734 0.7038734]], shape: (1, 6)\n",
      "forward state : [[0.6303138 0.6303138 0.6303138]], shape: (1, 3)\n",
      "backward state : [[0.7038734 0.7038734 0.7038734]], shape: (1, 3)\n"
     ]
    }
   ],
   "source": [
    "bilstm = Bidirectional(LSTM(3, return_sequences=False, return_state=True, \\\n",
    "                            kernel_initializer=k_init, bias_initializer=b_init, recurrent_initializer=r_init))\n",
    "hidden_states, forward_h, forward_c, backward_h, backward_c = bilstm(train_X)\n",
    "\n",
    "print('hidden states : {}, shape: {}'.format(hidden_states, hidden_states.shape))\n",
    "print('forward state : {}, shape: {}'.format(forward_h, forward_h.shape))\n",
    "print('backward state : {}, shape: {}'.format(backward_h, backward_h.shape))"
   ]
  },
  {
   "cell_type": "markdown",
   "id": "01af1b56",
   "metadata": {},
   "source": [
    "이번에는 무려 5개의 값(hidden_states, forward_h, forward_c, backward_h, backward_c)을 반환합니다. return_state가 True인 경우에는 정방향 LSTM의 은닉 상태와 셀 상태, 역방향 LSTM의 은닉 상태와 셀 상태 4가지를 반환하기 때문입니다. 다만, 셀 상태는 각각 forward_c와 backward_c에 저장만 하고 출력하지 않았습니다. 첫번째 출력값의 크기가 (1, 6)인 것에 주목합시다. 이는 return_sequences가 False인 경우 정방향 LSTM의 마지막 시점의 은닉 상태와 역방향 LSTM의 첫번째 시점의 은닉 상태가 연결된 채 반환되기 때문입니다. 그림으로 표현하면 아래와 같이 연결되어 다음층에서 사용됩니다.\n",
    "\n",
    "![python image2](https://wikidocs.net/images/page/94748/bilstm3.PNG)"
   ]
  },
  {
   "cell_type": "markdown",
   "id": "a4faaede",
   "metadata": {},
   "source": [
    "마찬가지로 return_state가 True인 경우에 반환한 은닉 상태의 값인 forward_h와 backward_h는 각각 정방향 LSTM의 마지막 시점의 은닉 상태와 역방향 LSTM의 첫번째 시점의 은닉 상태값입니다. 그리고 이 두 값을 연결한 값이 hidden_states에 출력되는 값입니다.\n",
    "\n",
    "이를 이용한 실습은 11챕터의 BiLSTM으로 한국어 스팀 리뷰 분류하기(https://wikidocs.net/94748)에 준비되어 있습니다.\n",
    "\n",
    "정방향 LSTM의 마지막 시점의 은닉 상태값과 역방향 LSTM의 첫번째 은닉 상태값을 기억해둡시다.\n",
    "\n",
    "- 정방향 LSTM의 마지막 시점의 은닉 상태값 : [0.6303139 0.6303139 0.6303139]\n",
    "- 역방향 LSTM의 첫번째 시점의 은닉 상태값 : [0.70387346 0.70387346 0.70387346]  \n",
    "\n",
    "현재 은닉 상태의 값을 고정시켜두었기 때문에 return_sequences를 True로 할 경우, 출력이 어떻게 바뀌는지 비교가 가능합니다."
   ]
  },
  {
   "cell_type": "code",
   "execution_count": 12,
   "id": "ff7e0d3b",
   "metadata": {
    "ExecuteTime": {
     "end_time": "2021-08-11T15:02:33.763264Z",
     "start_time": "2021-08-11T15:02:33.720931Z"
    }
   },
   "outputs": [
    {
     "name": "stdout",
     "output_type": "stream",
     "text": [
      "hidden states : [[[0.35906473 0.35906473 0.35906473 0.7038734  0.7038734  0.7038734 ]\n",
      "  [0.55111325 0.55111325 0.55111325 0.58863586 0.58863586 0.58863586]\n",
      "  [0.59115744 0.59115744 0.59115744 0.3951699  0.3951699  0.3951699 ]\n",
      "  [0.6303138  0.6303138  0.6303138  0.21942244 0.21942244 0.21942244]]], shape: (1, 4, 6)\n",
      "forward state : [[0.6303138 0.6303138 0.6303138]], shape: (1, 3)\n",
      "backward state : [[0.7038734 0.7038734 0.7038734]], shape: (1, 3)\n"
     ]
    }
   ],
   "source": [
    "bilstm = Bidirectional(LSTM(3, return_sequences=True, return_state=True, \\\n",
    "                            kernel_initializer=k_init, bias_initializer=b_init, recurrent_initializer=r_init))\n",
    "hidden_states, forward_h, forward_c, backward_h, backward_c = bilstm(train_X)\n",
    "\n",
    "print('hidden states : {}, shape: {}'.format(hidden_states, hidden_states.shape))\n",
    "print('forward state : {}, shape: {}'.format(forward_h, forward_h.shape))\n",
    "print('backward state : {}, shape: {}'.format(backward_h, backward_h.shape))"
   ]
  },
  {
   "cell_type": "markdown",
   "id": "54e20fed",
   "metadata": {},
   "source": [
    "hidden states의 출력값에서는 이제 모든 시점의 은닉 상태가 출력됩니다. 역방향 LSTM의 첫번째 시점의 은닉 상태는 더 이상 정방향 LSTM의 마지막 시점의 은닉 상태와 연결되는 것이 아니라 정방향 LSTM의 첫번째 시점의 은닉 상태와 연결됩니다.\n",
    "\n",
    "그림으로 표현하면 다음과 같이 연결되어 다음층의 입력으로 사용됩니다.\n",
    "\n",
    "![python image2](https://wikidocs.net/images/page/94748/bilstm1.PNG)"
   ]
  },
  {
   "cell_type": "markdown",
   "id": "b958f296",
   "metadata": {},
   "source": [
    "# 5. RNN 언어 모델(Recurrent Neural Network Language Model, RNNLM)\n",
    "\n",
    "앞서 n-gram 언어 모델과 NNLM은 고정된 개수의 단어만을 입력으로 받아야한다는 단점이 있었습니다. 하지만 시점(time step)이라는 개념이 도입된 RNN으로 언어 모델을 만들면 입력의 길이를 고정하지 않을 수 있습니다. 이처럼 RNN으로 만든 언어 모델을 RNNLM(Recurrent Neural Network Language Model)이라고 합니다.\n",
    "\n",
    "\n",
    "\n",
    "\n",
    "아래 그림은 RNNLM이 어떻게 이전 시점의 단어들과 현재 시점의 단어로 다음 단어를 예측하는지를 보여줍니다.\n",
    "(주어진 단어 시퀀스로부터 다음 단어를 예측하는 모델)\n",
    "\n",
    "**예문 : \"what will the fat cat sit on\"**\n",
    "\n",
    "\n",
    "\n",
    "![python image2](https://wikidocs.net/images/page/46496/rnnlm1_final_final.PNG)\n",
    "\n",
    "RNNLM은 기본적으로 예측 과정에서 이전 시점의 출력을 현재 시점의 입력으로 합니다. RNNLM은 what을 입력받으면, will을 예측하고 이 will은 다음 시점의 입력이 되어 the를 예측합니다. (h, e, l, o voca를 가지고 있을 때, h -> e -> l -> l -> o를 예측하는 식)\n",
    "\n",
    "**사실 위 과정은 훈련이 끝난 모델의 테스트 과정 동안(실제 사용할 때)의 이야기입니다.** 훈련 과정에서는 이전 시점의 예측 결과를 다음 시점의 입력으로 넣으면서 예측하는 것이 아니라, what will the fat cat sit on라는 훈련 샘플이 있다면, what will the fat cat sit 시퀀스를 모델의 입력으로 넣으면, will the fat cat sit on를 예측하도록 훈련됩니다. will, the, fat, cat, sit, on는 각 시점의 레이블입니다.\n",
    "\n",
    "RNN 훈련 기법을 **교사 강요(teacher forcing)**라고 합니다.  \n",
    "\n",
    "**교사 강요(teacher forcing)란,**  \n",
    "**테스트 과정**에서 t 시점의 출력이 t+1 시점의 입력으로 사용되는 RNN 모델을 훈련시킬 때 사용하는 훈련 기법입니다.  \n",
    "**훈련할 때** 교사 강요를 사용할 경우, **모델이 t 시점에서 예측한 값을 t+1 시점에 입력으로 사용하지 않고, t 시점의 레이블. 즉, 실제 알고있는 정답을 t+1 시점의 입력으로 사용**합니다.  \n",
    "\n",
    "훈련 과정에서도 이전 시점의 출력을 다음 시점의 입력으로 사용하면서 훈련 시킬 수도 있지만 이는 한 번 잘못 예측하면 뒤에서의 예측까지 영향을 미쳐 훈련 시간이 느려지게 되므로 교사 강요를 사용하여 RNN을 좀 더 빠르고 효과적으로 훈련시킬 수 있습니다.\n",
    "\n",
    "**activation function: softmax  \n",
    "loss function: cross entropy**\n",
    "\n",
    "![python image2](https://wikidocs.net/images/page/46496/rnnlm2_final_final.PNG)"
   ]
  },
  {
   "cell_type": "markdown",
   "id": "7226c63a",
   "metadata": {},
   "source": [
    "RNN 구조 \n",
    "\n",
    "총 4개의 층(layer)으로 이루어진 인공 신경망입니다. 우선 입력층(input layer)을 봅시다. RNNLM의 현 시점(timestep)은 4로 가정합니다. 그래서 4번째 입력 단어인 fat의 원-핫 벡터가 입력이 됩니다.\n",
    "\n",
    "이제 출력층(Output layer)를 봅시다. 모델이 예측해야하는 정답에 해당되는 단어 cat의 원-핫 벡터는 출력층에서 모델\n",
    "\n",
    "\n",
    "![python image2](https://wikidocs.net/images/page/46496/rnnlm3_final.PNG)\n",
    "\n",
    "\n",
    "![python image2](https://wikidocs.net/images/page/46496/rnnlm4_final.PNG)"
   ]
  },
  {
   "cell_type": "markdown",
   "id": "65216827",
   "metadata": {},
   "source": [
    "***NNLM 투사층**\n",
    "\n",
    "![python image2](https://wikidocs.net/images/page/45609/nnlm1.PNG)"
   ]
  },
  {
   "cell_type": "markdown",
   "id": "1b834786",
   "metadata": {},
   "source": [
    "현 시점의 입력 단어의 원-핫 벡터 $x_{t}$를 입력 받은 RNNLM은 우선 임베딩층(embedding layer)을 지납니다. 이 임베딩층은 기본적으로 NNLM 챕터에서 배운 투사층(projection layer)입니다. NNLM 챕터에서는 룩업 테이블을 수행하는 층을 투사층라고 표현했지만, 이미 투사층의 결과로 얻는 벡터를 임베딩 벡터라고 부른다고 NNLM 챕터에서 학습하였으므로, 앞으로는 임베딩 벡터를 얻는 투사층을 임베딩층(embedding layer)이라는 표현을 사용할 겁니다."
   ]
  },
  {
   "cell_type": "markdown",
   "id": "08be6f12",
   "metadata": {},
   "source": [
    "단어 집합의 크기가 V일 때, 임베딩 벡터의 크기를 M으로 설정하면, 각 입력 단어들은 임베딩층에서 V × M 크기의 임베딩 행렬과 곱해집니다. 여기서 V는 단어 집합의 크기를 의미합니다. 만약 원-핫 벡터의 차원이 7이고, M이 5라면 임베딩 행렬은 7 × 5 행렬이 됩니다. 그리고 이 임베딩 행렬은 역전파 과정에서 다른 가중치들과 함께 학습됩니다. 이는 NNLM 챕터에서 이미 배운 개념입니다."
   ]
  },
  {
   "cell_type": "markdown",
   "id": "9063af3f",
   "metadata": {},
   "source": [
    "임베딩층: $e_{t} = lookup(x_{t})$"
   ]
  },
  {
   "cell_type": "markdown",
   "id": "0ea04a22",
   "metadata": {},
   "source": [
    "이 임베딩 벡터는 은닉층에서 이전 시점의 은닉 상태인 $h_{t-1}$과 함께 다음의 연산을 하여 현재 시점의 은닉 상태 $h_{t}$를 계산하게 됩니다\n",
    "\n",
    "은닉층: $h_{t} = tanh(W_{x} e_{t} + W_{h}h_{t−1} + b)$"
   ]
  },
  {
   "cell_type": "markdown",
   "id": "9680df58",
   "metadata": {},
   "source": [
    "출력층에서는 활성화 함수로 소프트맥스(softmax) 함수를 사용하는데, V차원의 벡터는 소프트맥스 함수를 지나면서 각 원소는 0과 1사이의 실수값을 가지며 총 합은 1이 되는 상태로 바뀝니다. 이렇게 나온 벡터를 RNNLM의 t시점의 예측값이라는 의미에서 $\\hat{y_{t}}$\n",
    "라고 합시다. 이를 식으로 표현하면 아래와 같습니다."
   ]
  },
  {
   "cell_type": "markdown",
   "id": "69ca294c",
   "metadata": {},
   "source": [
    "출력층: $\\hat{y_{t}} = softmax(W_{y}h_{t} + b)$"
   ]
  },
  {
   "cell_type": "markdown",
   "id": "ba1ee8af",
   "metadata": {},
   "source": [
    "벡터 $\\hat{y_{t}}$의 각 차원 안에서의 값이 의미하는 것은 이와 같습니다. \n",
    "$\\hat{y_{t}}$의 j번째 인덱스가 가진 0과 1사이의 값은 j번째 단어가 다음 단어일 확률을 나타냅니다. 그리고 $\\hat{y_{t}}$\n",
    "는 실제값. 즉, 실제 정답에 해당되는 단어인 원-핫 벡터의 값에 가까워져야 합니다. 실제값에 해당되는 다음 단어를 라고 했을 때, 이 두 벡터가 가까워지게 하기위해서 RNNLM는 손실 함수로 cross-entropy 함수를 사용합니다. 그리고 역전파가 이루어지면서 가중치 행렬들이 학습되는데, 이 과정에서 임베딩 벡터값들도 학습이 됩니다.\n",
    "\n",
    "룩업 테이블의 대상이 되는 테이블인 임베딩 행렬을 라고 하였을 때, 결과적으로 RNNLM에서 학습 과정에서 학습되는 가중치 행렬은 다음의  $E, W_{x}, W_{h}, W_{y}$ 4개 입니다. 뒤의 글자 단위 RNN 챕터에서 RNN 언어 모델을 구현해보면서 훈련 과정과 테스트 과정의 차이를 이해해보겠습니다."
   ]
  },
  {
   "cell_type": "markdown",
   "id": "a2b1f13b",
   "metadata": {},
   "source": [
    "# 6. RNN을 이용한 텍스트 생성(Text Generation using RNN)\n",
    "\n",
    "이번 챕터에서는 다 대 일(many-to-one) 구조의 RNN을 사용하여 문맥을 반영해서 텍스트를 생성하는 모델을 만들어봅시다.\n",
    "\n"
   ]
  },
  {
   "cell_type": "markdown",
   "id": "8ad43163",
   "metadata": {},
   "source": [
    "## 6.1 RNN을 이용하여 텍스트 생성하기\n",
    "\n",
    "예를 들어서 '경마장에 있는 말이 뛰고 있다'와 '그의 말이 법이다'와 '가는 말이 고와야 오는 말이 곱다'라는 세 가지 문장이 있다고 해봅시다. 모델이 문맥을 학습할 수 있도록 전체 문장의 앞의 단어들을 전부 고려하여 학습하도록 데이터를 재구성한다면 아래와 같이 총 11개의 샘플이 구성됩니다."
   ]
  },
  {
   "cell_type": "code",
   "execution_count": 20,
   "id": "8be4691a",
   "metadata": {
    "ExecuteTime": {
     "end_time": "2021-08-17T16:15:46.935440Z",
     "start_time": "2021-08-17T16:15:46.896852Z"
    }
   },
   "outputs": [
    {
     "data": {
      "text/html": [
       "<div>\n",
       "<style scoped>\n",
       "    .dataframe tbody tr th:only-of-type {\n",
       "        vertical-align: middle;\n",
       "    }\n",
       "\n",
       "    .dataframe tbody tr th {\n",
       "        vertical-align: top;\n",
       "    }\n",
       "\n",
       "    .dataframe thead th {\n",
       "        text-align: right;\n",
       "    }\n",
       "</style>\n",
       "<table border=\"1\" class=\"dataframe\">\n",
       "  <thead>\n",
       "    <tr style=\"text-align: right;\">\n",
       "      <th></th>\n",
       "      <th>X</th>\n",
       "      <th>Y</th>\n",
       "    </tr>\n",
       "  </thead>\n",
       "  <tbody>\n",
       "    <tr>\n",
       "      <th>0</th>\n",
       "      <td>경마장에</td>\n",
       "      <td>있는</td>\n",
       "    </tr>\n",
       "    <tr>\n",
       "      <th>1</th>\n",
       "      <td>경마장에 있는</td>\n",
       "      <td>말이</td>\n",
       "    </tr>\n",
       "    <tr>\n",
       "      <th>2</th>\n",
       "      <td>경마장에 있는 말이</td>\n",
       "      <td>뛰고</td>\n",
       "    </tr>\n",
       "    <tr>\n",
       "      <th>3</th>\n",
       "      <td>경마장에 있는 말이 뛰고</td>\n",
       "      <td>있다</td>\n",
       "    </tr>\n",
       "    <tr>\n",
       "      <th>4</th>\n",
       "      <td>그의</td>\n",
       "      <td>말이</td>\n",
       "    </tr>\n",
       "    <tr>\n",
       "      <th>5</th>\n",
       "      <td>그의 말이</td>\n",
       "      <td>법이다</td>\n",
       "    </tr>\n",
       "    <tr>\n",
       "      <th>6</th>\n",
       "      <td>가는</td>\n",
       "      <td>말이</td>\n",
       "    </tr>\n",
       "    <tr>\n",
       "      <th>7</th>\n",
       "      <td>가는 말이</td>\n",
       "      <td>고와야</td>\n",
       "    </tr>\n",
       "    <tr>\n",
       "      <th>8</th>\n",
       "      <td>가는 말이 고와야</td>\n",
       "      <td>오는</td>\n",
       "    </tr>\n",
       "    <tr>\n",
       "      <th>9</th>\n",
       "      <td>가는 말이 고와야 오는</td>\n",
       "      <td>말이</td>\n",
       "    </tr>\n",
       "    <tr>\n",
       "      <th>10</th>\n",
       "      <td>가는 말이 고와야 오는 말이</td>\n",
       "      <td>곱다</td>\n",
       "    </tr>\n",
       "  </tbody>\n",
       "</table>\n",
       "</div>"
      ],
      "text/plain": [
       "                  X    Y\n",
       "0              경마장에   있는\n",
       "1           경마장에 있는   말이\n",
       "2        경마장에 있는 말이   뛰고\n",
       "3     경마장에 있는 말이 뛰고   있다\n",
       "4                그의   말이\n",
       "5             그의 말이  법이다\n",
       "6                가는   말이\n",
       "7             가는 말이  고와야\n",
       "8         가는 말이 고와야   오는\n",
       "9      가는 말이 고와야 오는   말이\n",
       "10  가는 말이 고와야 오는 말이   곱다"
      ]
     },
     "execution_count": 20,
     "metadata": {},
     "output_type": "execute_result"
    }
   ],
   "source": [
    "import pandas as pd\n",
    "pd.DataFrame({\"X\":[\"경마장에\"\n",
    ", \"경마장에 있는\"\n",
    ", \"경마장에 있는 말이\"\n",
    ", \"경마장에 있는 말이 뛰고\"\n",
    ", \"그의\"\n",
    ", \"그의 말이\"\n",
    ", \"가는\"\n",
    ", \"가는 말이\"\n",
    ", \"가는 말이 고와야\"\n",
    ", \"가는 말이 고와야 오는\"\n",
    ", \"가는 말이 고와야 오는 말이\"]\n",
    ", \"Y\":[\"있는\"\n",
    ",\"말이\"\n",
    ",\"뛰고\"\n",
    ",\"있다\"\n",
    ",\"말이\"\n",
    ",\"법이다\"\n",
    ",\"말이\"\n",
    ",\"고와야\"\n",
    ",\"오는\"\n",
    ",\"말이\"\n",
    ",\"곱다\"]})"
   ]
  },
  {
   "cell_type": "markdown",
   "id": "f4c5d82a",
   "metadata": {},
   "source": [
    "### 6.1.1 데이터에 대한 이해와 전처리"
   ]
  },
  {
   "cell_type": "code",
   "execution_count": 21,
   "id": "59d9dbfc",
   "metadata": {
    "ExecuteTime": {
     "end_time": "2021-08-17T16:16:56.987772Z",
     "start_time": "2021-08-17T16:16:56.968682Z"
    }
   },
   "outputs": [],
   "source": [
    "from tensorflow.keras.preprocessing.text import Tokenizer\n",
    "from tensorflow.keras.preprocessing.sequence import pad_sequences\n",
    "import numpy as np\n",
    "from tensorflow.keras.utils import to_categorical"
   ]
  },
  {
   "cell_type": "markdown",
   "id": "65b40bf3",
   "metadata": {},
   "source": [
    "우선 예제로 언급한 3개의 한국어 문장을 저장합니다.\n",
    "\n"
   ]
  },
  {
   "cell_type": "code",
   "execution_count": 22,
   "id": "b9a12ebb",
   "metadata": {
    "ExecuteTime": {
     "end_time": "2021-08-17T16:17:00.189343Z",
     "start_time": "2021-08-17T16:17:00.169401Z"
    }
   },
   "outputs": [
    {
     "name": "stdout",
     "output_type": "stream",
     "text": [
      "경마장에 있는 말이 뛰고 있다\n",
      "\n",
      "그의 말이 법이다\n",
      "\n",
      "가는 말이 고와야 오는 말이 곱다\n",
      "\n"
     ]
    }
   ],
   "source": [
    "text=\"\"\"경마장에 있는 말이 뛰고 있다\\n\n",
    "그의 말이 법이다\\n\n",
    "가는 말이 고와야 오는 말이 곱다\\n\"\"\"\n",
    "print(text)"
   ]
  },
  {
   "cell_type": "markdown",
   "id": "dde1a37b",
   "metadata": {},
   "source": [
    "단어 집합을 생성하고 크기를 확인해보겠습니다."
   ]
  },
  {
   "cell_type": "code",
   "execution_count": 26,
   "id": "afd8d470",
   "metadata": {
    "ExecuteTime": {
     "end_time": "2021-08-17T16:18:02.109009Z",
     "start_time": "2021-08-17T16:18:02.099039Z"
    }
   },
   "outputs": [
    {
     "name": "stdout",
     "output_type": "stream",
     "text": [
      "단어 집합의 크기 : 12\n"
     ]
    }
   ],
   "source": [
    "t = Tokenizer()\n",
    "t.fit_on_texts([text])\n",
    "vocab_size = len(t.word_index) + 1\n",
    "# 케라스 토크나이저의 정수 인코딩은 인덱스가 1부터 시작하지만,\n",
    "# 케라스 원-핫 인코딩에서 배열의 인덱스가 0부터 시작하기 때문에\n",
    "# 배열의 크기를 실제 단어 집합의 크기보다 +1로 생성해야하므로 미리 +1 선언 \n",
    "print('단어 집합의 크기 : %d' % vocab_size)"
   ]
  },
  {
   "cell_type": "code",
   "execution_count": 27,
   "id": "df8baced",
   "metadata": {
    "ExecuteTime": {
     "end_time": "2021-08-17T16:18:02.310802Z",
     "start_time": "2021-08-17T16:18:02.290887Z"
    }
   },
   "outputs": [
    {
     "name": "stdout",
     "output_type": "stream",
     "text": [
      "{'말이': 1, '경마장에': 2, '있는': 3, '뛰고': 4, '있다': 5, '그의': 6, '법이다': 7, '가는': 8, '고와야': 9, '오는': 10, '곱다': 11}\n"
     ]
    }
   ],
   "source": [
    "print(t.word_index)\n"
   ]
  },
  {
   "cell_type": "code",
   "execution_count": 28,
   "id": "c3db1f8a",
   "metadata": {
    "ExecuteTime": {
     "end_time": "2021-08-17T16:18:23.052488Z",
     "start_time": "2021-08-17T16:18:23.041892Z"
    }
   },
   "outputs": [
    {
     "name": "stdout",
     "output_type": "stream",
     "text": [
      "학습에 사용할 샘플의 개수: 11\n"
     ]
    }
   ],
   "source": [
    "sequences = list()\n",
    "for line in text.split('\\n'): # Wn을 기준으로 문장 토큰화\n",
    "    encoded = t.texts_to_sequences([line])[0]\n",
    "    for i in range(1, len(encoded)):\n",
    "        sequence = encoded[:i+1]\n",
    "        sequences.append(sequence)\n",
    "\n",
    "print('학습에 사용할 샘플의 개수: %d' % len(sequences))"
   ]
  },
  {
   "cell_type": "code",
   "execution_count": 29,
   "id": "ea982869",
   "metadata": {
    "ExecuteTime": {
     "end_time": "2021-08-17T16:18:24.391129Z",
     "start_time": "2021-08-17T16:18:24.385378Z"
    }
   },
   "outputs": [
    {
     "name": "stdout",
     "output_type": "stream",
     "text": [
      "[[2, 3], [2, 3, 1], [2, 3, 1, 4], [2, 3, 1, 4, 5], [6, 1], [6, 1, 7], [8, 1], [8, 1, 9], [8, 1, 9, 10], [8, 1, 9, 10, 1], [8, 1, 9, 10, 1, 11]]\n"
     ]
    }
   ],
   "source": [
    "print(sequences)\n"
   ]
  },
  {
   "cell_type": "markdown",
   "id": "cb4db43d",
   "metadata": {},
   "source": [
    "**위의 데이터는 아직 레이블로 사용될 단어를 분리하지 않은 훈련 데이터입니다.** [2, 3]은 [경마장에, 있는]에 해당되며 [2, 3, 1]은 [경마장에, 있는, 말이]에 해당됩니다. 전체 훈련 데이터에 대해서 맨 우측에 있는 단어에 대해서만 레이블로 분리해야 합니다.\n",
    "\n",
    "우선 전체 샘플에 대해서 길이를 일치시켜 줍니다. 가장 긴 샘플의 길이를 기준으로 합니다. 현재 육안으로 봤을 때, 길이가 가장 긴 샘플은 [8, 1, 9, 10, 1, 11]이고 길이는 6입니다. 이를 코드로는 다음과 같이 구할 수 있습니다."
   ]
  },
  {
   "cell_type": "code",
   "execution_count": 30,
   "id": "4638a875",
   "metadata": {
    "ExecuteTime": {
     "end_time": "2021-08-17T16:18:56.666385Z",
     "start_time": "2021-08-17T16:18:56.656378Z"
    }
   },
   "outputs": [
    {
     "name": "stdout",
     "output_type": "stream",
     "text": [
      "샘플의 최대 길이 : 6\n"
     ]
    }
   ],
   "source": [
    "max_len=max(len(l) for l in sequences) # 모든 샘플에서 길이가 가장 긴 샘플의 길이 출력\n",
    "print('샘플의 최대 길이 : {}'.format(max_len))"
   ]
  },
  {
   "cell_type": "code",
   "execution_count": 33,
   "id": "a2d0e168",
   "metadata": {
    "ExecuteTime": {
     "end_time": "2021-08-17T16:19:29.215518Z",
     "start_time": "2021-08-17T16:19:29.206544Z"
    }
   },
   "outputs": [
    {
     "data": {
      "text/plain": [
       "array([[ 0,  0,  0,  0,  2,  3],\n",
       "       [ 0,  0,  0,  2,  3,  1],\n",
       "       [ 0,  0,  2,  3,  1,  4],\n",
       "       [ 0,  2,  3,  1,  4,  5],\n",
       "       [ 0,  0,  0,  0,  6,  1],\n",
       "       [ 0,  0,  0,  6,  1,  7],\n",
       "       [ 0,  0,  0,  0,  8,  1],\n",
       "       [ 0,  0,  0,  8,  1,  9],\n",
       "       [ 0,  0,  8,  1,  9, 10],\n",
       "       [ 0,  8,  1,  9, 10,  1],\n",
       "       [ 8,  1,  9, 10,  1, 11]])"
      ]
     },
     "execution_count": 33,
     "metadata": {},
     "output_type": "execute_result"
    }
   ],
   "source": [
    "sequences = pad_sequences(sequences, maxlen=max_len, padding='pre') # padding = \"pre\" 앞을 채워서 길이 6 맞추기\n",
    "sequences"
   ]
  },
  {
   "cell_type": "code",
   "execution_count": 34,
   "id": "989f0a5b",
   "metadata": {
    "ExecuteTime": {
     "end_time": "2021-08-17T16:19:33.111885Z",
     "start_time": "2021-08-17T16:19:33.105871Z"
    }
   },
   "outputs": [],
   "source": [
    "sequences = np.array(sequences)\n",
    "X = sequences[:,:-1]\n",
    "y = sequences[:,-1]\n",
    "# 리스트의 마지막 값을 제외하고 저장한 것은 X\n",
    "# 리스트의 마지막 값만 저장한 것은 y. 이는 레이블에 해당됨."
   ]
  },
  {
   "cell_type": "code",
   "execution_count": 35,
   "id": "3e3b2b86",
   "metadata": {
    "ExecuteTime": {
     "end_time": "2021-08-17T16:19:34.301813Z",
     "start_time": "2021-08-17T16:19:34.288832Z"
    }
   },
   "outputs": [
    {
     "data": {
      "text/plain": [
       "array([[ 0,  0,  0,  0,  2],\n",
       "       [ 0,  0,  0,  2,  3],\n",
       "       [ 0,  0,  2,  3,  1],\n",
       "       [ 0,  2,  3,  1,  4],\n",
       "       [ 0,  0,  0,  0,  6],\n",
       "       [ 0,  0,  0,  6,  1],\n",
       "       [ 0,  0,  0,  0,  8],\n",
       "       [ 0,  0,  0,  8,  1],\n",
       "       [ 0,  0,  8,  1,  9],\n",
       "       [ 0,  8,  1,  9, 10],\n",
       "       [ 8,  1,  9, 10,  1]])"
      ]
     },
     "execution_count": 35,
     "metadata": {},
     "output_type": "execute_result"
    }
   ],
   "source": [
    "X"
   ]
  },
  {
   "cell_type": "code",
   "execution_count": 37,
   "id": "badbb795",
   "metadata": {
    "ExecuteTime": {
     "end_time": "2021-08-17T16:19:49.881481Z",
     "start_time": "2021-08-17T16:19:49.873473Z"
    }
   },
   "outputs": [
    {
     "data": {
      "text/plain": [
       "array([ 3,  1,  4,  5,  1,  7,  1,  9, 10,  1, 11])"
      ]
     },
     "execution_count": 37,
     "metadata": {},
     "output_type": "execute_result"
    }
   ],
   "source": [
    "y"
   ]
  },
  {
   "cell_type": "code",
   "execution_count": 38,
   "id": "6fd89e79",
   "metadata": {
    "ExecuteTime": {
     "end_time": "2021-08-17T16:19:50.416924Z",
     "start_time": "2021-08-17T16:19:50.401452Z"
    }
   },
   "outputs": [
    {
     "data": {
      "text/plain": [
       "array([[0., 0., 0., 1., 0., 0., 0., 0., 0., 0., 0., 0.],\n",
       "       [0., 1., 0., 0., 0., 0., 0., 0., 0., 0., 0., 0.],\n",
       "       [0., 0., 0., 0., 1., 0., 0., 0., 0., 0., 0., 0.],\n",
       "       [0., 0., 0., 0., 0., 1., 0., 0., 0., 0., 0., 0.],\n",
       "       [0., 1., 0., 0., 0., 0., 0., 0., 0., 0., 0., 0.],\n",
       "       [0., 0., 0., 0., 0., 0., 0., 1., 0., 0., 0., 0.],\n",
       "       [0., 1., 0., 0., 0., 0., 0., 0., 0., 0., 0., 0.],\n",
       "       [0., 0., 0., 0., 0., 0., 0., 0., 0., 1., 0., 0.],\n",
       "       [0., 0., 0., 0., 0., 0., 0., 0., 0., 0., 1., 0.],\n",
       "       [0., 1., 0., 0., 0., 0., 0., 0., 0., 0., 0., 0.],\n",
       "       [0., 0., 0., 0., 0., 0., 0., 0., 0., 0., 0., 1.]], dtype=float32)"
      ]
     },
     "execution_count": 38,
     "metadata": {},
     "output_type": "execute_result"
    }
   ],
   "source": [
    "y = to_categorical(y, num_classes=vocab_size)\n",
    "y"
   ]
  },
  {
   "cell_type": "markdown",
   "id": "b4cf9f9e",
   "metadata": {},
   "source": [
    "# 여기부터 다시"
   ]
  },
  {
   "cell_type": "markdown",
   "id": "56b05086",
   "metadata": {},
   "source": [
    "### 6.1.2 모델 설계하기"
   ]
  },
  {
   "cell_type": "code",
   "execution_count": 25,
   "id": "068ed10d",
   "metadata": {
    "ExecuteTime": {
     "end_time": "2021-08-11T15:02:35.575047Z",
     "start_time": "2021-08-11T15:02:33.951133Z"
    }
   },
   "outputs": [
    {
     "name": "stdout",
     "output_type": "stream",
     "text": [
      "Epoch 1/200\n",
      "1/1 - 1s - loss: 2.4753 - accuracy: 0.0909\n",
      "Epoch 2/200\n",
      "1/1 - 0s - loss: 2.4612 - accuracy: 0.0909\n",
      "Epoch 3/200\n",
      "1/1 - 0s - loss: 2.4473 - accuracy: 0.0909\n",
      "Epoch 4/200\n",
      "1/1 - 0s - loss: 2.4336 - accuracy: 0.3636\n",
      "Epoch 5/200\n",
      "1/1 - 0s - loss: 2.4198 - accuracy: 0.3636\n",
      "Epoch 6/200\n",
      "1/1 - 0s - loss: 2.4060 - accuracy: 0.4545\n",
      "Epoch 7/200\n",
      "1/1 - 0s - loss: 2.3920 - accuracy: 0.4545\n",
      "Epoch 8/200\n",
      "1/1 - 0s - loss: 2.3777 - accuracy: 0.4545\n",
      "Epoch 9/200\n",
      "1/1 - 0s - loss: 2.3630 - accuracy: 0.5455\n",
      "Epoch 10/200\n",
      "1/1 - 0s - loss: 2.3479 - accuracy: 0.5455\n",
      "Epoch 11/200\n",
      "1/1 - 0s - loss: 2.3323 - accuracy: 0.6364\n",
      "Epoch 12/200\n",
      "1/1 - 0s - loss: 2.3161 - accuracy: 0.6364\n",
      "Epoch 13/200\n",
      "1/1 - 0s - loss: 2.2992 - accuracy: 0.5455\n",
      "Epoch 14/200\n",
      "1/1 - 0s - loss: 2.2816 - accuracy: 0.5455\n",
      "Epoch 15/200\n",
      "1/1 - 0s - loss: 2.2633 - accuracy: 0.5455\n",
      "Epoch 16/200\n",
      "1/1 - 0s - loss: 2.2441 - accuracy: 0.5455\n",
      "Epoch 17/200\n",
      "1/1 - 0s - loss: 2.2241 - accuracy: 0.5455\n",
      "Epoch 18/200\n",
      "1/1 - 0s - loss: 2.2032 - accuracy: 0.5455\n",
      "Epoch 19/200\n",
      "1/1 - 0s - loss: 2.1814 - accuracy: 0.5455\n",
      "Epoch 20/200\n",
      "1/1 - 0s - loss: 2.1587 - accuracy: 0.4545\n",
      "Epoch 21/200\n",
      "1/1 - 0s - loss: 2.1352 - accuracy: 0.4545\n",
      "Epoch 22/200\n",
      "1/1 - 0s - loss: 2.1108 - accuracy: 0.4545\n",
      "Epoch 23/200\n",
      "1/1 - 0s - loss: 2.0858 - accuracy: 0.4545\n",
      "Epoch 24/200\n",
      "1/1 - 0s - loss: 2.0601 - accuracy: 0.4545\n",
      "Epoch 25/200\n",
      "1/1 - 0s - loss: 2.0340 - accuracy: 0.4545\n",
      "Epoch 26/200\n",
      "1/1 - 0s - loss: 2.0077 - accuracy: 0.3636\n",
      "Epoch 27/200\n",
      "1/1 - 0s - loss: 1.9814 - accuracy: 0.3636\n",
      "Epoch 28/200\n",
      "1/1 - 0s - loss: 1.9554 - accuracy: 0.3636\n",
      "Epoch 29/200\n",
      "1/1 - 0s - loss: 1.9298 - accuracy: 0.3636\n",
      "Epoch 30/200\n",
      "1/1 - 0s - loss: 1.9052 - accuracy: 0.3636\n",
      "Epoch 31/200\n",
      "1/1 - 0s - loss: 1.8815 - accuracy: 0.3636\n",
      "Epoch 32/200\n",
      "1/1 - 0s - loss: 1.8591 - accuracy: 0.3636\n",
      "Epoch 33/200\n",
      "1/1 - 0s - loss: 1.8381 - accuracy: 0.3636\n",
      "Epoch 34/200\n",
      "1/1 - 0s - loss: 1.8182 - accuracy: 0.3636\n",
      "Epoch 35/200\n",
      "1/1 - 0s - loss: 1.7993 - accuracy: 0.3636\n",
      "Epoch 36/200\n",
      "1/1 - 0s - loss: 1.7812 - accuracy: 0.3636\n",
      "Epoch 37/200\n",
      "1/1 - 0s - loss: 1.7633 - accuracy: 0.3636\n",
      "Epoch 38/200\n",
      "1/1 - 0s - loss: 1.7455 - accuracy: 0.3636\n",
      "Epoch 39/200\n",
      "1/1 - 0s - loss: 1.7274 - accuracy: 0.4545\n",
      "Epoch 40/200\n",
      "1/1 - 0s - loss: 1.7087 - accuracy: 0.4545\n",
      "Epoch 41/200\n",
      "1/1 - 0s - loss: 1.6895 - accuracy: 0.4545\n",
      "Epoch 42/200\n",
      "1/1 - 0s - loss: 1.6698 - accuracy: 0.4545\n",
      "Epoch 43/200\n",
      "1/1 - 0s - loss: 1.6496 - accuracy: 0.4545\n",
      "Epoch 44/200\n",
      "1/1 - 0s - loss: 1.6291 - accuracy: 0.4545\n",
      "Epoch 45/200\n",
      "1/1 - 0s - loss: 1.6085 - accuracy: 0.4545\n",
      "Epoch 46/200\n",
      "1/1 - 0s - loss: 1.5878 - accuracy: 0.4545\n",
      "Epoch 47/200\n",
      "1/1 - 0s - loss: 1.5670 - accuracy: 0.4545\n",
      "Epoch 48/200\n",
      "1/1 - 0s - loss: 1.5463 - accuracy: 0.4545\n",
      "Epoch 49/200\n",
      "1/1 - 0s - loss: 1.5255 - accuracy: 0.4545\n",
      "Epoch 50/200\n",
      "1/1 - 0s - loss: 1.5046 - accuracy: 0.4545\n",
      "Epoch 51/200\n",
      "1/1 - 0s - loss: 1.4837 - accuracy: 0.4545\n",
      "Epoch 52/200\n",
      "1/1 - 0s - loss: 1.4627 - accuracy: 0.4545\n",
      "Epoch 53/200\n",
      "1/1 - 0s - loss: 1.4417 - accuracy: 0.5455\n",
      "Epoch 54/200\n",
      "1/1 - 0s - loss: 1.4208 - accuracy: 0.5455\n",
      "Epoch 55/200\n",
      "1/1 - 0s - loss: 1.4000 - accuracy: 0.5455\n",
      "Epoch 56/200\n",
      "1/1 - 0s - loss: 1.3793 - accuracy: 0.5455\n",
      "Epoch 57/200\n",
      "1/1 - 0s - loss: 1.3587 - accuracy: 0.5455\n",
      "Epoch 58/200\n",
      "1/1 - 0s - loss: 1.3381 - accuracy: 0.5455\n",
      "Epoch 59/200\n",
      "1/1 - 0s - loss: 1.3176 - accuracy: 0.5455\n",
      "Epoch 60/200\n",
      "1/1 - 0s - loss: 1.2969 - accuracy: 0.5455\n",
      "Epoch 61/200\n",
      "1/1 - 0s - loss: 1.2762 - accuracy: 0.5455\n",
      "Epoch 62/200\n",
      "1/1 - 0s - loss: 1.2552 - accuracy: 0.5455\n",
      "Epoch 63/200\n",
      "1/1 - 0s - loss: 1.2341 - accuracy: 0.5455\n",
      "Epoch 64/200\n",
      "1/1 - 0s - loss: 1.2129 - accuracy: 0.6364\n",
      "Epoch 65/200\n",
      "1/1 - 0s - loss: 1.1915 - accuracy: 0.6364\n",
      "Epoch 66/200\n",
      "1/1 - 0s - loss: 1.1702 - accuracy: 0.6364\n",
      "Epoch 67/200\n",
      "1/1 - 0s - loss: 1.1489 - accuracy: 0.6364\n",
      "Epoch 68/200\n",
      "1/1 - 0s - loss: 1.1276 - accuracy: 0.6364\n",
      "Epoch 69/200\n",
      "1/1 - 0s - loss: 1.1064 - accuracy: 0.6364\n",
      "Epoch 70/200\n",
      "1/1 - 0s - loss: 1.0853 - accuracy: 0.6364\n",
      "Epoch 71/200\n",
      "1/1 - 0s - loss: 1.0642 - accuracy: 0.6364\n",
      "Epoch 72/200\n",
      "1/1 - 0s - loss: 1.0433 - accuracy: 0.6364\n",
      "Epoch 73/200\n",
      "1/1 - 0s - loss: 1.0224 - accuracy: 0.6364\n",
      "Epoch 74/200\n",
      "1/1 - 0s - loss: 1.0017 - accuracy: 0.6364\n",
      "Epoch 75/200\n",
      "1/1 - 0s - loss: 0.9811 - accuracy: 0.6364\n",
      "Epoch 76/200\n",
      "1/1 - 0s - loss: 0.9607 - accuracy: 0.6364\n",
      "Epoch 77/200\n",
      "1/1 - 0s - loss: 0.9406 - accuracy: 0.6364\n",
      "Epoch 78/200\n",
      "1/1 - 0s - loss: 0.9207 - accuracy: 0.7273\n",
      "Epoch 79/200\n",
      "1/1 - 0s - loss: 0.9011 - accuracy: 0.8182\n",
      "Epoch 80/200\n",
      "1/1 - 0s - loss: 0.8817 - accuracy: 0.8182\n",
      "Epoch 81/200\n",
      "1/1 - 0s - loss: 0.8626 - accuracy: 0.8182\n",
      "Epoch 82/200\n",
      "1/1 - 0s - loss: 0.8438 - accuracy: 0.8182\n",
      "Epoch 83/200\n",
      "1/1 - 0s - loss: 0.8252 - accuracy: 0.8182\n",
      "Epoch 84/200\n",
      "1/1 - 0s - loss: 0.8070 - accuracy: 0.8182\n",
      "Epoch 85/200\n",
      "1/1 - 0s - loss: 0.7890 - accuracy: 0.8182\n",
      "Epoch 86/200\n",
      "1/1 - 0s - loss: 0.7713 - accuracy: 0.8182\n",
      "Epoch 87/200\n",
      "1/1 - 0s - loss: 0.7540 - accuracy: 0.8182\n",
      "Epoch 88/200\n",
      "1/1 - 0s - loss: 0.7369 - accuracy: 0.9091\n",
      "Epoch 89/200\n",
      "1/1 - 0s - loss: 0.7202 - accuracy: 0.9091\n",
      "Epoch 90/200\n",
      "1/1 - 0s - loss: 0.7037 - accuracy: 0.9091\n",
      "Epoch 91/200\n",
      "1/1 - 0s - loss: 0.6876 - accuracy: 0.9091\n",
      "Epoch 92/200\n",
      "1/1 - 0s - loss: 0.6717 - accuracy: 0.9091\n",
      "Epoch 93/200\n",
      "1/1 - 0s - loss: 0.6562 - accuracy: 0.9091\n",
      "Epoch 94/200\n",
      "1/1 - 0s - loss: 0.6410 - accuracy: 0.9091\n",
      "Epoch 95/200\n",
      "1/1 - 0s - loss: 0.6261 - accuracy: 0.9091\n",
      "Epoch 96/200\n",
      "1/1 - 0s - loss: 0.6115 - accuracy: 0.9091\n",
      "Epoch 97/200\n",
      "1/1 - 0s - loss: 0.5972 - accuracy: 0.9091\n",
      "Epoch 98/200\n",
      "1/1 - 0s - loss: 0.5832 - accuracy: 0.9091\n",
      "Epoch 99/200\n",
      "1/1 - 0s - loss: 0.5695 - accuracy: 0.9091\n",
      "Epoch 100/200\n",
      "1/1 - 0s - loss: 0.5561 - accuracy: 0.9091\n",
      "Epoch 101/200\n",
      "1/1 - 0s - loss: 0.5431 - accuracy: 0.9091\n",
      "Epoch 102/200\n",
      "1/1 - 0s - loss: 0.5303 - accuracy: 0.9091\n",
      "Epoch 103/200\n",
      "1/1 - 0s - loss: 0.5177 - accuracy: 0.9091\n",
      "Epoch 104/200\n",
      "1/1 - 0s - loss: 0.5055 - accuracy: 0.9091\n",
      "Epoch 105/200\n",
      "1/1 - 0s - loss: 0.4935 - accuracy: 0.9091\n",
      "Epoch 106/200\n",
      "1/1 - 0s - loss: 0.4819 - accuracy: 0.9091\n",
      "Epoch 107/200\n",
      "1/1 - 0s - loss: 0.4704 - accuracy: 0.9091\n",
      "Epoch 108/200\n",
      "1/1 - 0s - loss: 0.4592 - accuracy: 0.9091\n",
      "Epoch 109/200\n",
      "1/1 - 0s - loss: 0.4483 - accuracy: 0.9091\n",
      "Epoch 110/200\n",
      "1/1 - 0s - loss: 0.4376 - accuracy: 1.0000\n",
      "Epoch 111/200\n",
      "1/1 - 0s - loss: 0.4272 - accuracy: 1.0000\n",
      "Epoch 112/200\n",
      "1/1 - 0s - loss: 0.4170 - accuracy: 1.0000\n",
      "Epoch 113/200\n",
      "1/1 - 0s - loss: 0.4070 - accuracy: 1.0000\n",
      "Epoch 114/200\n",
      "1/1 - 0s - loss: 0.3972 - accuracy: 1.0000\n",
      "Epoch 115/200\n",
      "1/1 - 0s - loss: 0.3876 - accuracy: 1.0000\n",
      "Epoch 116/200\n",
      "1/1 - 0s - loss: 0.3783 - accuracy: 1.0000\n",
      "Epoch 117/200\n",
      "1/1 - 0s - loss: 0.3692 - accuracy: 1.0000\n",
      "Epoch 118/200\n",
      "1/1 - 0s - loss: 0.3602 - accuracy: 1.0000\n",
      "Epoch 119/200\n",
      "1/1 - 0s - loss: 0.3515 - accuracy: 1.0000\n",
      "Epoch 120/200\n",
      "1/1 - 0s - loss: 0.3429 - accuracy: 1.0000\n",
      "Epoch 121/200\n",
      "1/1 - 0s - loss: 0.3346 - accuracy: 1.0000\n",
      "Epoch 122/200\n",
      "1/1 - 0s - loss: 0.3264 - accuracy: 1.0000\n",
      "Epoch 123/200\n",
      "1/1 - 0s - loss: 0.3184 - accuracy: 1.0000\n",
      "Epoch 124/200\n",
      "1/1 - 0s - loss: 0.3106 - accuracy: 1.0000\n",
      "Epoch 125/200\n",
      "1/1 - 0s - loss: 0.3030 - accuracy: 1.0000\n",
      "Epoch 126/200\n",
      "1/1 - 0s - loss: 0.2956 - accuracy: 1.0000\n",
      "Epoch 127/200\n",
      "1/1 - 0s - loss: 0.2883 - accuracy: 1.0000\n",
      "Epoch 128/200\n",
      "1/1 - 0s - loss: 0.2812 - accuracy: 1.0000\n",
      "Epoch 129/200\n",
      "1/1 - 0s - loss: 0.2743 - accuracy: 1.0000\n",
      "Epoch 130/200\n",
      "1/1 - 0s - loss: 0.2675 - accuracy: 1.0000\n",
      "Epoch 131/200\n",
      "1/1 - 0s - loss: 0.2610 - accuracy: 1.0000\n",
      "Epoch 132/200\n",
      "1/1 - 0s - loss: 0.2545 - accuracy: 1.0000\n",
      "Epoch 133/200\n",
      "1/1 - 0s - loss: 0.2483 - accuracy: 1.0000\n",
      "Epoch 134/200\n",
      "1/1 - 0s - loss: 0.2421 - accuracy: 1.0000\n",
      "Epoch 135/200\n",
      "1/1 - 0s - loss: 0.2362 - accuracy: 1.0000\n",
      "Epoch 136/200\n",
      "1/1 - 0s - loss: 0.2304 - accuracy: 1.0000\n",
      "Epoch 137/200\n",
      "1/1 - 0s - loss: 0.2248 - accuracy: 1.0000\n",
      "Epoch 138/200\n",
      "1/1 - 0s - loss: 0.2193 - accuracy: 1.0000\n",
      "Epoch 139/200\n",
      "1/1 - 0s - loss: 0.2139 - accuracy: 1.0000\n",
      "Epoch 140/200\n",
      "1/1 - 0s - loss: 0.2087 - accuracy: 1.0000\n",
      "Epoch 141/200\n",
      "1/1 - 0s - loss: 0.2037 - accuracy: 1.0000\n",
      "Epoch 142/200\n",
      "1/1 - 0s - loss: 0.1988 - accuracy: 1.0000\n",
      "Epoch 143/200\n",
      "1/1 - 0s - loss: 0.1940 - accuracy: 1.0000\n",
      "Epoch 144/200\n",
      "1/1 - 0s - loss: 0.1893 - accuracy: 1.0000\n",
      "Epoch 145/200\n",
      "1/1 - 0s - loss: 0.1848 - accuracy: 1.0000\n",
      "Epoch 146/200\n",
      "1/1 - 0s - loss: 0.1804 - accuracy: 1.0000\n"
     ]
    },
    {
     "name": "stdout",
     "output_type": "stream",
     "text": [
      "Epoch 147/200\n",
      "1/1 - 0s - loss: 0.1762 - accuracy: 1.0000\n",
      "Epoch 148/200\n",
      "1/1 - 0s - loss: 0.1721 - accuracy: 1.0000\n",
      "Epoch 149/200\n",
      "1/1 - 0s - loss: 0.1680 - accuracy: 1.0000\n",
      "Epoch 150/200\n",
      "1/1 - 0s - loss: 0.1642 - accuracy: 1.0000\n",
      "Epoch 151/200\n",
      "1/1 - 0s - loss: 0.1604 - accuracy: 1.0000\n",
      "Epoch 152/200\n",
      "1/1 - 0s - loss: 0.1567 - accuracy: 1.0000\n",
      "Epoch 153/200\n",
      "1/1 - 0s - loss: 0.1532 - accuracy: 1.0000\n",
      "Epoch 154/200\n",
      "1/1 - 0s - loss: 0.1497 - accuracy: 1.0000\n",
      "Epoch 155/200\n",
      "1/1 - 0s - loss: 0.1464 - accuracy: 1.0000\n",
      "Epoch 156/200\n",
      "1/1 - 0s - loss: 0.1431 - accuracy: 1.0000\n",
      "Epoch 157/200\n",
      "1/1 - 0s - loss: 0.1400 - accuracy: 1.0000\n",
      "Epoch 158/200\n",
      "1/1 - 0s - loss: 0.1369 - accuracy: 1.0000\n",
      "Epoch 159/200\n",
      "1/1 - 0s - loss: 0.1339 - accuracy: 1.0000\n",
      "Epoch 160/200\n",
      "1/1 - 0s - loss: 0.1311 - accuracy: 1.0000\n",
      "Epoch 161/200\n",
      "1/1 - 0s - loss: 0.1283 - accuracy: 1.0000\n",
      "Epoch 162/200\n",
      "1/1 - 0s - loss: 0.1256 - accuracy: 1.0000\n",
      "Epoch 163/200\n",
      "1/1 - 0s - loss: 0.1229 - accuracy: 1.0000\n",
      "Epoch 164/200\n",
      "1/1 - 0s - loss: 0.1204 - accuracy: 1.0000\n",
      "Epoch 165/200\n",
      "1/1 - 0s - loss: 0.1179 - accuracy: 1.0000\n",
      "Epoch 166/200\n",
      "1/1 - 0s - loss: 0.1155 - accuracy: 1.0000\n",
      "Epoch 167/200\n",
      "1/1 - 0s - loss: 0.1132 - accuracy: 1.0000\n",
      "Epoch 168/200\n",
      "1/1 - 0s - loss: 0.1109 - accuracy: 1.0000\n",
      "Epoch 169/200\n",
      "1/1 - 0s - loss: 0.1087 - accuracy: 1.0000\n",
      "Epoch 170/200\n",
      "1/1 - 0s - loss: 0.1066 - accuracy: 1.0000\n",
      "Epoch 171/200\n",
      "1/1 - 0s - loss: 0.1045 - accuracy: 1.0000\n",
      "Epoch 172/200\n",
      "1/1 - 0s - loss: 0.1025 - accuracy: 1.0000\n",
      "Epoch 173/200\n",
      "1/1 - 0s - loss: 0.1005 - accuracy: 1.0000\n",
      "Epoch 174/200\n",
      "1/1 - 0s - loss: 0.0986 - accuracy: 1.0000\n",
      "Epoch 175/200\n",
      "1/1 - 0s - loss: 0.0968 - accuracy: 1.0000\n",
      "Epoch 176/200\n",
      "1/1 - 0s - loss: 0.0950 - accuracy: 1.0000\n",
      "Epoch 177/200\n",
      "1/1 - 0s - loss: 0.0932 - accuracy: 1.0000\n",
      "Epoch 178/200\n",
      "1/1 - 0s - loss: 0.0915 - accuracy: 1.0000\n",
      "Epoch 179/200\n",
      "1/1 - 0s - loss: 0.0899 - accuracy: 1.0000\n",
      "Epoch 180/200\n",
      "1/1 - 0s - loss: 0.0883 - accuracy: 1.0000\n",
      "Epoch 181/200\n",
      "1/1 - 0s - loss: 0.0867 - accuracy: 1.0000\n",
      "Epoch 182/200\n",
      "1/1 - 0s - loss: 0.0852 - accuracy: 1.0000\n",
      "Epoch 183/200\n",
      "1/1 - 0s - loss: 0.0837 - accuracy: 1.0000\n",
      "Epoch 184/200\n",
      "1/1 - 0s - loss: 0.0822 - accuracy: 1.0000\n",
      "Epoch 185/200\n",
      "1/1 - 0s - loss: 0.0808 - accuracy: 1.0000\n",
      "Epoch 186/200\n",
      "1/1 - 0s - loss: 0.0795 - accuracy: 1.0000\n",
      "Epoch 187/200\n",
      "1/1 - 0s - loss: 0.0781 - accuracy: 1.0000\n",
      "Epoch 188/200\n",
      "1/1 - 0s - loss: 0.0768 - accuracy: 1.0000\n",
      "Epoch 189/200\n",
      "1/1 - 0s - loss: 0.0756 - accuracy: 1.0000\n",
      "Epoch 190/200\n",
      "1/1 - 0s - loss: 0.0743 - accuracy: 1.0000\n",
      "Epoch 191/200\n",
      "1/1 - 0s - loss: 0.0731 - accuracy: 1.0000\n",
      "Epoch 192/200\n",
      "1/1 - 0s - loss: 0.0719 - accuracy: 1.0000\n",
      "Epoch 193/200\n",
      "1/1 - 0s - loss: 0.0708 - accuracy: 1.0000\n",
      "Epoch 194/200\n",
      "1/1 - 0s - loss: 0.0697 - accuracy: 1.0000\n",
      "Epoch 195/200\n",
      "1/1 - 0s - loss: 0.0686 - accuracy: 1.0000\n",
      "Epoch 196/200\n",
      "1/1 - 0s - loss: 0.0675 - accuracy: 1.0000\n",
      "Epoch 197/200\n",
      "1/1 - 0s - loss: 0.0665 - accuracy: 1.0000\n",
      "Epoch 198/200\n",
      "1/1 - 0s - loss: 0.0655 - accuracy: 1.0000\n",
      "Epoch 199/200\n",
      "1/1 - 0s - loss: 0.0645 - accuracy: 1.0000\n",
      "Epoch 200/200\n",
      "1/1 - 0s - loss: 0.0635 - accuracy: 1.0000\n"
     ]
    },
    {
     "data": {
      "text/plain": [
       "<tensorflow.python.keras.callbacks.History at 0x264da5d61c0>"
      ]
     },
     "execution_count": 25,
     "metadata": {},
     "output_type": "execute_result"
    }
   ],
   "source": [
    "from tensorflow.keras.models import Sequential\n",
    "from tensorflow.keras.layers import Embedding, Dense, SimpleRNN\n",
    "\n",
    "model = Sequential()\n",
    "model.add(Embedding(vocab_size, 10, input_length=max_len-1)) # 레이블을 분리하였으므로 이제 X의 길이는 5\n",
    "model.add(SimpleRNN(32))\n",
    "model.add(Dense(vocab_size, activation='softmax'))\n",
    "model.compile(loss='categorical_crossentropy', optimizer='adam', metrics=['accuracy'])\n",
    "model.fit(X, y, epochs=200, verbose=2)"
   ]
  },
  {
   "cell_type": "code",
   "execution_count": 26,
   "id": "5a2821cb",
   "metadata": {
    "ExecuteTime": {
     "end_time": "2021-08-11T15:03:06.644870Z",
     "start_time": "2021-08-11T15:03:06.624398Z"
    }
   },
   "outputs": [],
   "source": [
    "def sentence_generation(model, t, current_word, n): # 모델, 토크나이저, 현재 단어, 반복할 횟수\n",
    "    init_word = current_word # 처음 들어온 단어도 마지막에 같이 출력하기위해 저장\n",
    "    sentence = ''\n",
    "    for _ in range(n): # n번 반복\n",
    "        encoded = t.texts_to_sequences([current_word])[0] # 현재 단어에 대한 정수 인코딩\n",
    "        encoded = pad_sequences([encoded], maxlen=5, padding='pre') # 데이터에 대한 패딩\n",
    "        result = model.predict_classes(encoded, verbose=0)\n",
    "    # 입력한 X(현재 단어)에 대해서 Y를 예측하고 Y(예측한 단어)를 result에 저장.\n",
    "        for word, index in t.word_index.items(): \n",
    "            if index == result: # 만약 예측한 단어와 인덱스와 동일한 단어가 있다면\n",
    "                break # 해당 단어가 예측 단어이므로 break\n",
    "        current_word = current_word + ' '  + word # 현재 단어 + ' ' + 예측 단어를 현재 단어로 변경\n",
    "        sentence = sentence + ' ' + word # 예측 단어를 문장에 저장\n",
    "    # for문이므로 이 행동을 다시 반복\n",
    "    sentence = init_word + sentence\n",
    "    return sentence"
   ]
  },
  {
   "cell_type": "code",
   "execution_count": 27,
   "id": "eed5ac60",
   "metadata": {
    "ExecuteTime": {
     "end_time": "2021-08-11T15:03:14.421934Z",
     "start_time": "2021-08-11T15:03:14.125759Z"
    }
   },
   "outputs": [
    {
     "name": "stderr",
     "output_type": "stream",
     "text": [
      "C:\\Users\\mrjjo\\anaconda3\\envs\\nlp38\\lib\\site-packages\\tensorflow\\python\\keras\\engine\\sequential.py:450: UserWarning: `model.predict_classes()` is deprecated and will be removed after 2021-01-01. Please use instead:* `np.argmax(model.predict(x), axis=-1)`,   if your model does multi-class classification   (e.g. if it uses a `softmax` last-layer activation).* `(model.predict(x) > 0.5).astype(\"int32\")`,   if your model does binary classification   (e.g. if it uses a `sigmoid` last-layer activation).\n",
      "  warnings.warn('`model.predict_classes()` is deprecated and '\n"
     ]
    },
    {
     "name": "stdout",
     "output_type": "stream",
     "text": [
      "경마장에 있는 말이 뛰고 있다\n"
     ]
    }
   ],
   "source": [
    "print(sentence_generation(model, t, '경마장에', 4))\n",
    "# '경마장에' 라는 단어 뒤에는 총 4개의 단어가 있으므로 4번 예측"
   ]
  },
  {
   "cell_type": "code",
   "execution_count": 28,
   "id": "0a0024fb",
   "metadata": {
    "ExecuteTime": {
     "end_time": "2021-08-11T15:03:34.074319Z",
     "start_time": "2021-08-11T15:03:33.992772Z"
    }
   },
   "outputs": [
    {
     "name": "stdout",
     "output_type": "stream",
     "text": [
      "그의 말이 법이다\n"
     ]
    }
   ],
   "source": [
    "print(sentence_generation(model, t, '그의', 2)) # 2번 예측\n"
   ]
  },
  {
   "cell_type": "code",
   "execution_count": 31,
   "id": "1cf6f7b9",
   "metadata": {
    "ExecuteTime": {
     "end_time": "2021-08-11T15:04:13.142084Z",
     "start_time": "2021-08-11T15:04:12.960573Z"
    }
   },
   "outputs": [
    {
     "name": "stdout",
     "output_type": "stream",
     "text": [
      "가는 말이 고와야 오는 말이 곱다\n"
     ]
    }
   ],
   "source": [
    "print(sentence_generation(model, t, '가는 말이', 4)) # 5번 예측\n"
   ]
  },
  {
   "cell_type": "markdown",
   "id": "9327cd16",
   "metadata": {},
   "source": [
    "## 6.2 LSTM을 이용한 텍스트 생성하기"
   ]
  },
  {
   "cell_type": "markdown",
   "id": "0898b5f7",
   "metadata": {},
   "source": [
    "### 6.2.1 데이터 전처리"
   ]
  },
  {
   "cell_type": "code",
   "execution_count": 32,
   "id": "cf7c1d47",
   "metadata": {
    "ExecuteTime": {
     "end_time": "2021-08-11T15:04:51.467643Z",
     "start_time": "2021-08-11T15:04:51.453336Z"
    }
   },
   "outputs": [],
   "source": [
    "import pandas as pd\n",
    "from string import punctuation\n",
    "from tensorflow.keras.preprocessing.text import Tokenizer\n",
    "from tensorflow.keras.preprocessing.sequence import pad_sequences\n",
    "import numpy as np\n",
    "from tensorflow.keras.utils import to_categorical"
   ]
  },
  {
   "cell_type": "code",
   "execution_count": 39,
   "id": "c13686ce",
   "metadata": {
    "ExecuteTime": {
     "end_time": "2021-08-11T15:09:08.670325Z",
     "start_time": "2021-08-11T15:09:08.630434Z"
    }
   },
   "outputs": [
    {
     "data": {
      "text/html": [
       "<div>\n",
       "<style scoped>\n",
       "    .dataframe tbody tr th:only-of-type {\n",
       "        vertical-align: middle;\n",
       "    }\n",
       "\n",
       "    .dataframe tbody tr th {\n",
       "        vertical-align: top;\n",
       "    }\n",
       "\n",
       "    .dataframe thead th {\n",
       "        text-align: right;\n",
       "    }\n",
       "</style>\n",
       "<table border=\"1\" class=\"dataframe\">\n",
       "  <thead>\n",
       "    <tr style=\"text-align: right;\">\n",
       "      <th></th>\n",
       "      <th>articleID</th>\n",
       "      <th>articleWordCount</th>\n",
       "      <th>byline</th>\n",
       "      <th>documentType</th>\n",
       "      <th>headline</th>\n",
       "      <th>keywords</th>\n",
       "      <th>multimedia</th>\n",
       "      <th>newDesk</th>\n",
       "      <th>printPage</th>\n",
       "      <th>pubDate</th>\n",
       "      <th>sectionName</th>\n",
       "      <th>snippet</th>\n",
       "      <th>source</th>\n",
       "      <th>typeOfMaterial</th>\n",
       "      <th>webURL</th>\n",
       "    </tr>\n",
       "  </thead>\n",
       "  <tbody>\n",
       "    <tr>\n",
       "      <th>0</th>\n",
       "      <td>5adf6684068401528a2aa69b</td>\n",
       "      <td>781</td>\n",
       "      <td>By JOHN BRANCH</td>\n",
       "      <td>article</td>\n",
       "      <td>Former N.F.L. Cheerleaders’ Settlement Offer: ...</td>\n",
       "      <td>['Workplace Hazards and Violations', 'Football...</td>\n",
       "      <td>68</td>\n",
       "      <td>Sports</td>\n",
       "      <td>0</td>\n",
       "      <td>2018-04-24 17:16:49</td>\n",
       "      <td>Pro Football</td>\n",
       "      <td>“I understand that they could meet with us, pa...</td>\n",
       "      <td>The New York Times</td>\n",
       "      <td>News</td>\n",
       "      <td>https://www.nytimes.com/2018/04/24/sports/foot...</td>\n",
       "    </tr>\n",
       "    <tr>\n",
       "      <th>1</th>\n",
       "      <td>5adf653f068401528a2aa697</td>\n",
       "      <td>656</td>\n",
       "      <td>By LISA FRIEDMAN</td>\n",
       "      <td>article</td>\n",
       "      <td>E.P.A. to Unveil a New Rule. Its Effect: Less ...</td>\n",
       "      <td>['Environmental Protection Agency', 'Pruitt, S...</td>\n",
       "      <td>68</td>\n",
       "      <td>Climate</td>\n",
       "      <td>0</td>\n",
       "      <td>2018-04-24 17:11:21</td>\n",
       "      <td>Unknown</td>\n",
       "      <td>The agency plans to publish a new regulation T...</td>\n",
       "      <td>The New York Times</td>\n",
       "      <td>News</td>\n",
       "      <td>https://www.nytimes.com/2018/04/24/climate/epa...</td>\n",
       "    </tr>\n",
       "    <tr>\n",
       "      <th>2</th>\n",
       "      <td>5adf4626068401528a2aa628</td>\n",
       "      <td>2427</td>\n",
       "      <td>By PETE WELLS</td>\n",
       "      <td>article</td>\n",
       "      <td>The New Noma, Explained</td>\n",
       "      <td>['Restaurants', 'Noma (Copenhagen, Restaurant)...</td>\n",
       "      <td>66</td>\n",
       "      <td>Dining</td>\n",
       "      <td>0</td>\n",
       "      <td>2018-04-24 14:58:44</td>\n",
       "      <td>Unknown</td>\n",
       "      <td>What’s it like to eat at the second incarnatio...</td>\n",
       "      <td>The New York Times</td>\n",
       "      <td>News</td>\n",
       "      <td>https://www.nytimes.com/2018/04/24/dining/noma...</td>\n",
       "    </tr>\n",
       "  </tbody>\n",
       "</table>\n",
       "</div>"
      ],
      "text/plain": [
       "                  articleID  articleWordCount            byline documentType  \\\n",
       "0  5adf6684068401528a2aa69b               781    By JOHN BRANCH      article   \n",
       "1  5adf653f068401528a2aa697               656  By LISA FRIEDMAN      article   \n",
       "2  5adf4626068401528a2aa628              2427     By PETE WELLS      article   \n",
       "\n",
       "                                            headline  \\\n",
       "0  Former N.F.L. Cheerleaders’ Settlement Offer: ...   \n",
       "1  E.P.A. to Unveil a New Rule. Its Effect: Less ...   \n",
       "2                            The New Noma, Explained   \n",
       "\n",
       "                                            keywords  multimedia  newDesk  \\\n",
       "0  ['Workplace Hazards and Violations', 'Football...          68   Sports   \n",
       "1  ['Environmental Protection Agency', 'Pruitt, S...          68  Climate   \n",
       "2  ['Restaurants', 'Noma (Copenhagen, Restaurant)...          66   Dining   \n",
       "\n",
       "   printPage              pubDate   sectionName  \\\n",
       "0          0  2018-04-24 17:16:49  Pro Football   \n",
       "1          0  2018-04-24 17:11:21       Unknown   \n",
       "2          0  2018-04-24 14:58:44       Unknown   \n",
       "\n",
       "                                             snippet              source  \\\n",
       "0  “I understand that they could meet with us, pa...  The New York Times   \n",
       "1  The agency plans to publish a new regulation T...  The New York Times   \n",
       "2  What’s it like to eat at the second incarnatio...  The New York Times   \n",
       "\n",
       "  typeOfMaterial                                             webURL  \n",
       "0           News  https://www.nytimes.com/2018/04/24/sports/foot...  \n",
       "1           News  https://www.nytimes.com/2018/04/24/climate/epa...  \n",
       "2           News  https://www.nytimes.com/2018/04/24/dining/noma...  "
      ]
     },
     "execution_count": 39,
     "metadata": {},
     "output_type": "execute_result"
    }
   ],
   "source": [
    "df=pd.read_csv('source/ArticlesApril2018.csv')\n",
    "df.head(3)"
   ]
  },
  {
   "cell_type": "markdown",
   "id": "85207356",
   "metadata": {},
   "source": [
    "\"열의 개수가 굉장히 많기 때문에 한 눈에 보기 어렵습니다. 어떤 열이 있고, 열이 총 몇 개가 있는지 출력해봅시다."
   ]
  },
  {
   "cell_type": "code",
   "execution_count": 37,
   "id": "6a4486b1",
   "metadata": {
    "ExecuteTime": {
     "end_time": "2021-08-11T15:08:56.627078Z",
     "start_time": "2021-08-11T15:08:56.608609Z"
    }
   },
   "outputs": [
    {
     "name": "stdout",
     "output_type": "stream",
     "text": [
      "열의 개수:  15\n",
      "Index(['articleID', 'articleWordCount', 'byline', 'documentType', 'headline',\n",
      "       'keywords', 'multimedia', 'newDesk', 'printPage', 'pubDate',\n",
      "       'sectionName', 'snippet', 'source', 'typeOfMaterial', 'webURL'],\n",
      "      dtype='object')\n"
     ]
    }
   ],
   "source": [
    "print('열의 개수: ',len(df.columns))\n",
    "print(df.columns)"
   ]
  },
  {
   "cell_type": "code",
   "execution_count": 40,
   "id": "c41b7a86",
   "metadata": {
    "ExecuteTime": {
     "end_time": "2021-08-11T15:09:17.935185Z",
     "start_time": "2021-08-11T15:09:17.925212Z"
    }
   },
   "outputs": [
    {
     "data": {
      "text/plain": [
       "False"
      ]
     },
     "execution_count": 40,
     "metadata": {},
     "output_type": "execute_result"
    }
   ],
   "source": [
    "df['headline'].isnull().values.any()"
   ]
  },
  {
   "cell_type": "code",
   "execution_count": 63,
   "id": "9f166310",
   "metadata": {
    "ExecuteTime": {
     "end_time": "2021-08-11T15:18:34.989884Z",
     "start_time": "2021-08-11T15:18:34.975909Z"
    }
   },
   "outputs": [
    {
     "data": {
      "text/plain": [
       "['Former N.F.L. Cheerleaders’ Settlement Offer: $1 and a Meeting With Goodell',\n",
       " 'E.P.A. to Unveil a New Rule. Its Effect: Less Science in Policymaking.',\n",
       " 'The New Noma, Explained',\n",
       " 'Unknown',\n",
       " 'Unknown']"
      ]
     },
     "execution_count": 63,
     "metadata": {},
     "output_type": "execute_result"
    }
   ],
   "source": [
    "# Null 값은 별도로 없는 것으로 보입니다. headline 열에서 모든 신문 기사의 제목을 뽑아서 하나의 리스트로 저장해보도록 하겠습니다.\n",
    "\n",
    "headline = [] # 리스트 선언\n",
    "headline.extend(list(df.headline.values)) # 헤드라인의 값들을 리스트로 저장\n",
    "headline[:5] # 상위 5개만 출력\n",
    "# 근데 null이어야 할 값에 unknow이 들어있다? 이런 경우 의심은 해봐야함(물론 다 검사는 함)"
   ]
  },
  {
   "cell_type": "code",
   "execution_count": 64,
   "id": "037c0b94",
   "metadata": {
    "ExecuteTime": {
     "end_time": "2021-08-11T15:18:35.940134Z",
     "start_time": "2021-08-11T15:18:35.921680Z"
    }
   },
   "outputs": [
    {
     "name": "stdout",
     "output_type": "stream",
     "text": [
      "노이즈값 제거 후 샘플의 개수 : 1214\n"
     ]
    }
   ],
   "source": [
    "headline = [n for n in headline if n != \"Unknown\"] # Unknown 값을 가진 샘플 제거\n",
    "print('노이즈값 제거 후 샘플의 개수 : {}'.format(len(headline))) # 제거 후 샘플의 개수"
   ]
  },
  {
   "cell_type": "code",
   "execution_count": 65,
   "id": "ec1f5146",
   "metadata": {
    "ExecuteTime": {
     "end_time": "2021-08-11T15:18:36.438468Z",
     "start_time": "2021-08-11T15:18:36.424396Z"
    }
   },
   "outputs": [
    {
     "data": {
      "text/plain": [
       "['Former N.F.L. Cheerleaders’ Settlement Offer: $1 and a Meeting With Goodell',\n",
       " 'E.P.A. to Unveil a New Rule. Its Effect: Less Science in Policymaking.',\n",
       " 'The New Noma, Explained',\n",
       " 'How a Bag of Texas Dirt  Became a Times Tradition',\n",
       " 'Is School a Place for Self-Expression?']"
      ]
     },
     "execution_count": 65,
     "metadata": {},
     "output_type": "execute_result"
    }
   ],
   "source": [
    "# 샘플의 수가 1,324에서 1,214로 110개의 샘플이 제거되었는데, 기존에 출력했던 5개의 샘플을 출력해보겠습니다.\n",
    "\n",
    "headline[:5]\n"
   ]
  },
  {
   "cell_type": "markdown",
   "id": "5abe69dc",
   "metadata": {},
   "source": [
    "<!-- 현재는 제거가 된 것을 확인하였습니다. 이제 데이터 전처리를 수행합니다. 여기서 선택한 전처리는 구두점 제거와 단어의 소문자화입니다. 전처리를 수행하고, 다시 샘플 5개를 출력합니다.\n",
    " -->\n",
    "def repreprocessing(s):\n",
    "    s=s.encode(\"utf8\").decode(\"ascii\",'ignore')\n",
    "    return ''.join(c for c in s if c not in punctuation).lower() # 구두점 제거와 동시에 소문자화\n",
    "\n",
    "text = [repreprocessing(x) for x in headline]\n",
    "text[:5]"
   ]
  },
  {
   "cell_type": "code",
   "execution_count": 66,
   "id": "eaa0ffe2",
   "metadata": {
    "ExecuteTime": {
     "end_time": "2021-08-11T15:18:38.883826Z",
     "start_time": "2021-08-11T15:18:38.876606Z"
    }
   },
   "outputs": [
    {
     "name": "stdout",
     "output_type": "stream",
     "text": [
      "단어 집합의 크기 : 20\n"
     ]
    }
   ],
   "source": [
    "t = Tokenizer()\n",
    "t.fit_on_texts(text)\n",
    "vocab_size = len(t.word_index) + 1\n",
    "print('단어 집합의 크기 : %d' % vocab_size)"
   ]
  },
  {
   "cell_type": "code",
   "execution_count": 67,
   "id": "184571f4",
   "metadata": {
    "ExecuteTime": {
     "end_time": "2021-08-11T15:18:40.244034Z",
     "start_time": "2021-08-11T15:18:40.233036Z"
    }
   },
   "outputs": [],
   "source": [
    "# 각 단어의 임베딩 벡터는 10차원을 가지고, 128의 은닉 상태 크기를 가지는 LSTM을 사용합니다. \n",
    "# 문장을 생성하는 함수 sentence_generation을 만들어서 문장을 생성해봅시다.\n",
    "\n",
    "def sentence_generation(model, t, current_word, n): # 모델, 토크나이저, 현재 단어, 반복할 횟수\n",
    "    init_word = current_word # 처음 들어온 단어도 마지막에 같이 출력하기위해 저장\n",
    "    sentence = ''\n",
    "    for _ in range(n): # n번 반복\n",
    "        encoded = t.texts_to_sequences([current_word])[0] # 현재 단어에 대한 정수 인코딩\n",
    "        encoded = pad_sequences([encoded], maxlen=23, padding='pre') # 데이터에 대한 패딩\n",
    "        result = model.predict_classes(encoded, verbose=0)\n",
    "    # 입력한 X(현재 단어)에 대해서 y를 예측하고 y(예측한 단어)를 result에 저장.\n",
    "        for word, index in t.word_index.items(): \n",
    "            if index == result: # 만약 예측한 단어와 인덱스와 동일한 단어가 있다면\n",
    "                break # 해당 단어가 예측 단어이므로 break\n",
    "        current_word = current_word + ' '  + word # 현재 단어 + ' ' + 예측 단어를 현재 단어로 변경\n",
    "        sentence = sentence + ' ' + word # 예측 단어를 문장에 저장\n",
    "    # for문이므로 이 행동을 다시 반복\n",
    "    sentence = init_word + sentence\n",
    "    return sentence"
   ]
  },
  {
   "cell_type": "code",
   "execution_count": 68,
   "id": "8c0c540d",
   "metadata": {
    "ExecuteTime": {
     "end_time": "2021-08-11T15:18:40.856423Z",
     "start_time": "2021-08-11T15:18:40.557051Z"
    }
   },
   "outputs": [
    {
     "name": "stderr",
     "output_type": "stream",
     "text": [
      "C:\\Users\\mrjjo\\anaconda3\\envs\\nlp38\\lib\\site-packages\\tensorflow\\python\\keras\\engine\\sequential.py:450: UserWarning: `model.predict_classes()` is deprecated and will be removed after 2021-01-01. Please use instead:* `np.argmax(model.predict(x), axis=-1)`,   if your model does multi-class classification   (e.g. if it uses a `softmax` last-layer activation).* `(model.predict(x) > 0.5).astype(\"int32\")`,   if your model does binary classification   (e.g. if it uses a `sigmoid` last-layer activation).\n",
      "  warnings.warn('`model.predict_classes()` is deprecated and '\n"
     ]
    },
    {
     "name": "stdout",
     "output_type": "stream",
     "text": [
      "i 이 이 이 이 이 이 이 에 이 뛰\n"
     ]
    }
   ],
   "source": [
    "print(sentence_generation(model, t, 'i', 10))\n",
    "# 임의의 단어 'i'에 대해서 10개의 단어를 추가 생성"
   ]
  },
  {
   "cell_type": "code",
   "execution_count": 69,
   "id": "bb17dc36",
   "metadata": {
    "ExecuteTime": {
     "end_time": "2021-08-11T15:18:41.389278Z",
     "start_time": "2021-08-11T15:18:41.088712Z"
    }
   },
   "outputs": [
    {
     "name": "stdout",
     "output_type": "stream",
     "text": [
      "how 이 이 이 이 이 이 이 에 이 뛰\n",
      "None\n"
     ]
    }
   ],
   "source": [
    "print(print(sentence_generation(model, t, 'how', 10)))\n",
    "# 임의의 단어 'how'에 대해서 10개의 단어를 추가 생성)/"
   ]
  },
  {
   "cell_type": "markdown",
   "id": "03373490",
   "metadata": {},
   "source": [
    "# 7. 글자 단위 RNN(Char RNN)\n",
    "\n",
    "지금까지 배운 RNN은 전부 입력과 출력의 단위가 단어 벡터였습니다. 하지만 입출력의 단위를 단어 레벨(word-level)에서 글자 레벨(character-level)로 변경하여 RNN을 구현할 수 있습니다. 어려운 내용이 아니라 입, 출력의 단위를 단어에서 글자로 바꿨을 뿐입니다.\n",
    "\n",
    "\n",
    "\n",
    "![python image2](https://wikidocs.net/images/page/48649/char_rnn1.PNG)\n",
    "\n",
    "앞서 배운 단어 단위 RNN 언어 모델과 다른 점은 단어 단위가 아니라 글자 단위를 입, 출력으로 사용하므로 임베딩층(embedding layer)을 여기서는 사용하지 않겠습니다. 여기서는 언어 모델의 훈련 과정과 테스트 과정의 차이를 이해하는데 초점을 둡니다."
   ]
  },
  {
   "cell_type": "markdown",
   "id": "3f389dfe",
   "metadata": {},
   "source": [
    "## 7.1 글자단위 RNN 언어모델"
   ]
  },
  {
   "cell_type": "code",
   "execution_count": 70,
   "id": "95b90be0",
   "metadata": {
    "ExecuteTime": {
     "end_time": "2021-08-11T15:25:43.382197Z",
     "start_time": "2021-08-11T15:25:43.370152Z"
    }
   },
   "outputs": [],
   "source": [
    "import numpy as np\n",
    "import urllib.request\n",
    "from tensorflow.keras.utils import to_categorical"
   ]
  },
  {
   "cell_type": "code",
   "execution_count": 71,
   "id": "8e4ca37c",
   "metadata": {
    "ExecuteTime": {
     "end_time": "2021-08-11T15:25:54.817278Z",
     "start_time": "2021-08-11T15:25:47.336061Z"
    }
   },
   "outputs": [],
   "source": [
    "urllib.request.urlretrieve(\"http://www.gutenberg.org/files/11/11-0.txt\", filename=\"11-0.txt\")\n",
    "f = open('11-0.txt', 'rb')\n",
    "lines=[]\n",
    "for line in f: # 데이터를 한 줄씩 읽는다.\n",
    "    line=line.strip() # strip()을 통해 \\r, \\n을 제거한다.\n",
    "    line=line.lower() # 소문자화.\n",
    "    line=line.decode('ascii', 'ignore') # \\xe2\\x80\\x99 등과 같은 바이트 열 제거\n",
    "    if len(line) > 0:\n",
    "        lines.append(line)\n",
    "f.close()"
   ]
  },
  {
   "cell_type": "code",
   "execution_count": 74,
   "id": "334b8e04",
   "metadata": {
    "ExecuteTime": {
     "end_time": "2021-08-11T15:26:33.411891Z",
     "start_time": "2021-08-11T15:26:33.401281Z"
    }
   },
   "outputs": [
    {
     "data": {
      "text/plain": [
       "['the project gutenberg ebook of alices adventures in wonderland, by lewis carroll',\n",
       " 'this ebook is for the use of anyone anywhere in the united states and',\n",
       " 'most other parts of the world at no cost and with almost no restrictions',\n",
       " 'whatsoever. you may copy it, give it away or re-use it under the terms',\n",
       " 'of the project gutenberg license included with this ebook or online at']"
      ]
     },
     "execution_count": 74,
     "metadata": {},
     "output_type": "execute_result"
    }
   ],
   "source": [
    "# 간단한 전처리가 수행된 결과가 lines란 이름의 리스트에 저장되었습니다. 리스트에서 5개의 원소만 출력해보겠습니다.\n",
    "\n",
    "\n",
    "lines[:5]"
   ]
  },
  {
   "cell_type": "code",
   "execution_count": 81,
   "id": "62357800",
   "metadata": {
    "ExecuteTime": {
     "end_time": "2021-08-11T15:27:51.149185Z",
     "start_time": "2021-08-11T15:27:51.137547Z"
    }
   },
   "outputs": [
    {
     "name": "stdout",
     "output_type": "stream",
     "text": [
      "문자열의 길이 또는 총 글자의 개수: 159484\n"
     ]
    }
   ],
   "source": [
    "# 각 원소는 문자열로 구성되어져 있는데, 특별히 의미있게 문장 토큰화가 된 상태는 아닙니다. 이를 하나의 문자열로 통합하겠습니다.\n",
    "text = ' '.join(lines)\n",
    "print('문자열의 길이 또는 총 글자의 개수: %d' % len(text))"
   ]
  },
  {
   "cell_type": "code",
   "execution_count": 89,
   "id": "7c37e355",
   "metadata": {
    "ExecuteTime": {
     "end_time": "2021-08-11T15:28:58.930490Z",
     "start_time": "2021-08-11T15:28:58.912000Z"
    }
   },
   "outputs": [
    {
     "name": "stdout",
     "output_type": "stream",
     "text": [
      "the project gutenberg ebook of alices adventures in wonderland, by lewis carroll this ebook is for the use of anyone anywhere in the united states and most other parts of the world at no cost and with\n",
      "the project gutenberg ebook of alices adventures in wonderland, by lewis carroll this ebook is for the use of anyone anywhere in the united states and\n"
     ]
    }
   ],
   "source": [
    "print(text[:200])\n",
    "print(text[:150])\n"
   ]
  },
  {
   "cell_type": "code",
   "execution_count": 90,
   "id": "0f79e26a",
   "metadata": {
    "ExecuteTime": {
     "end_time": "2021-08-11T15:29:00.004722Z",
     "start_time": "2021-08-11T15:28:59.991310Z"
    }
   },
   "outputs": [
    {
     "data": {
      "text/plain": [
       "'the project'"
      ]
     },
     "execution_count": 90,
     "metadata": {},
     "output_type": "execute_result"
    }
   ],
   "source": [
    "text[:11]"
   ]
  },
  {
   "cell_type": "code",
   "execution_count": 94,
   "id": "f7e85fc3",
   "metadata": {
    "ExecuteTime": {
     "end_time": "2021-08-11T15:30:26.271865Z",
     "start_time": "2021-08-11T15:30:26.253390Z"
    }
   },
   "outputs": [
    {
     "name": "stdout",
     "output_type": "stream",
     "text": [
      "글자 집합의 크기 : 56\n"
     ]
    }
   ],
   "source": [
    "char_vocab = sorted(list(set(text))) # list(set())으로 유니크한 원소만 담은 리스트를 만들고, 정렬\n",
    "vocab_size=len(char_vocab) # 그 리스트의 length\n",
    "print ('글자 집합의 크기 : {}'.format(vocab_size))"
   ]
  },
  {
   "cell_type": "code",
   "execution_count": 95,
   "id": "a39c317f",
   "metadata": {
    "ExecuteTime": {
     "end_time": "2021-08-11T15:30:35.202953Z",
     "start_time": "2021-08-11T15:30:35.185753Z"
    }
   },
   "outputs": [
    {
     "data": {
      "text/plain": [
       "[' ',\n",
       " '!',\n",
       " '\"',\n",
       " '#',\n",
       " '$',\n",
       " '%',\n",
       " \"'\",\n",
       " '(',\n",
       " ')',\n",
       " '*',\n",
       " ',',\n",
       " '-',\n",
       " '.',\n",
       " '/',\n",
       " '0',\n",
       " '1',\n",
       " '2',\n",
       " '3',\n",
       " '4',\n",
       " '5',\n",
       " '6',\n",
       " '7',\n",
       " '8',\n",
       " '9',\n",
       " ':',\n",
       " ';',\n",
       " '?',\n",
       " '[',\n",
       " ']',\n",
       " '_',\n",
       " 'a',\n",
       " 'b',\n",
       " 'c',\n",
       " 'd',\n",
       " 'e',\n",
       " 'f',\n",
       " 'g',\n",
       " 'h',\n",
       " 'i',\n",
       " 'j',\n",
       " 'k',\n",
       " 'l',\n",
       " 'm',\n",
       " 'n',\n",
       " 'o',\n",
       " 'p',\n",
       " 'q',\n",
       " 'r',\n",
       " 's',\n",
       " 't',\n",
       " 'u',\n",
       " 'v',\n",
       " 'w',\n",
       " 'x',\n",
       " 'y',\n",
       " 'z']"
      ]
     },
     "execution_count": 95,
     "metadata": {},
     "output_type": "execute_result"
    }
   ],
   "source": [
    "sorted(list(set(text)))"
   ]
  },
  {
   "cell_type": "code",
   "execution_count": 102,
   "id": "d388012e",
   "metadata": {
    "ExecuteTime": {
     "end_time": "2021-08-11T15:33:33.476595Z",
     "start_time": "2021-08-11T15:33:33.457525Z"
    }
   },
   "outputs": [
    {
     "name": "stdout",
     "output_type": "stream",
     "text": [
      "{' ': 0, '!': 1, '\"': 2, '#': 3, '$': 4, '%': 5, \"'\": 6, '(': 7, ')': 8, '*': 9, ',': 10, '-': 11, '.': 12, '/': 13, '0': 14, '1': 15, '2': 16, '3': 17, '4': 18, '5': 19, '6': 20, '7': 21, '8': 22, '9': 23, ':': 24, ';': 25, '?': 26, '[': 27, ']': 28, '_': 29, 'a': 30, 'b': 31, 'c': 32, 'd': 33, 'e': 34, 'f': 35, 'g': 36, 'h': 37, 'i': 38, 'j': 39, 'k': 40, 'l': 41, 'm': 42, 'n': 43, 'o': 44, 'p': 45, 'q': 46, 'r': 47, 's': 48, 't': 49, 'u': 50, 'v': 51, 'w': 52, 'x': 53, 'y': 54, 'z': 55}\n"
     ]
    }
   ],
   "source": [
    "# 어떤 방대한 양의 텍스트라도 집합의 크기를 적게 가져갈 수 있다는 것은 \n",
    "#구현과 테스트를 굉장히 쉽게 할 수 있다는 이점을 가지므로, RNN의 동작 메커니즘 이해를 위한 토이 프로젝트로 굉장히 많이 사용됩니다. \n",
    "#글자 집합에 인덱스를 부여하고 전부 출력해보겠습니다.\n",
    "\n",
    "char_to_index = dict((c, i) for i, c in enumerate(char_vocab)) # 글자에 고유한 정수 인덱스 부여\n",
    "print(char_to_index)"
   ]
  },
  {
   "cell_type": "code",
   "execution_count": 118,
   "id": "e9e674c2",
   "metadata": {
    "ExecuteTime": {
     "end_time": "2021-08-11T15:36:54.026989Z",
     "start_time": "2021-08-11T15:36:54.004928Z"
    }
   },
   "outputs": [
    {
     "name": "stdout",
     "output_type": "stream",
     "text": [
      "  0\n",
      "! 1\n",
      "\" 2\n",
      "# 3\n",
      "$ 4\n",
      "% 5\n",
      "' 6\n",
      "( 7\n",
      ") 8\n",
      "* 9\n",
      ", 10\n",
      "- 11\n",
      ". 12\n",
      "/ 13\n",
      "0 14\n",
      "1 15\n",
      "2 16\n",
      "3 17\n",
      "4 18\n",
      "5 19\n",
      "6 20\n",
      "7 21\n",
      "8 22\n",
      "9 23\n",
      ": 24\n",
      "; 25\n",
      "? 26\n",
      "[ 27\n",
      "] 28\n",
      "_ 29\n",
      "a 30\n",
      "b 31\n",
      "c 32\n",
      "d 33\n",
      "e 34\n",
      "f 35\n",
      "g 36\n",
      "h 37\n",
      "i 38\n",
      "j 39\n",
      "k 40\n",
      "l 41\n",
      "m 42\n",
      "n 43\n",
      "o 44\n",
      "p 45\n",
      "q 46\n",
      "r 47\n",
      "s 48\n",
      "t 49\n",
      "u 50\n",
      "v 51\n",
      "w 52\n",
      "x 53\n",
      "y 54\n",
      "z 55\n"
     ]
    }
   ],
   "source": [
    "for i, c in enumerate(char_vocab):\n",
    "    print(c, i)"
   ]
  },
  {
   "cell_type": "code",
   "execution_count": 120,
   "id": "cadc0dd3",
   "metadata": {
    "ExecuteTime": {
     "end_time": "2021-08-11T15:38:29.428831Z",
     "start_time": "2021-08-11T15:38:29.410849Z"
    }
   },
   "outputs": [],
   "source": [
    "# 이제 반대로 인덱스로부터 글자를 리턴하는 index_to_char을 만듭니다.\n",
    "index_to_char={}\n",
    "for key, value in char_to_index.items():\n",
    "    index_to_char[value] = key"
   ]
  },
  {
   "cell_type": "code",
   "execution_count": 121,
   "id": "32e7129e",
   "metadata": {
    "ExecuteTime": {
     "end_time": "2021-08-11T15:39:08.765873Z",
     "start_time": "2021-08-11T15:39:08.754271Z"
    }
   },
   "outputs": [
    {
     "name": "stdout",
     "output_type": "stream",
     "text": [
      "문장 샘플의 수 : 2658\n"
     ]
    }
   ],
   "source": [
    "# 분리하는 방법은 문장 샘플의 길이를 정하고, 해당 길이만큼 문자열 전체를 전부 등분하는 것입니다.\n",
    "\n",
    "seq_length = 60 # 문장의 길이를 60으로 한다.\n",
    "n_samples = int(np.floor((len(text) - 1) / seq_length)) # 문자열을 60등분한다. 그러면 즉, 총 샘플의 개수\n",
    "print ('문장 샘플의 수 : {}'.format(n_samples))"
   ]
  },
  {
   "cell_type": "code",
   "execution_count": 122,
   "id": "bba4e605",
   "metadata": {
    "ExecuteTime": {
     "end_time": "2021-08-11T15:39:33.542041Z",
     "start_time": "2021-08-11T15:39:33.493313Z"
    }
   },
   "outputs": [],
   "source": [
    "# <!-- 만약 문장의 길이를 60으로 한다면 15만 8천을 60으로 나눈 수가 샘플의 수가 됩니다. 여기서는 총 샘플의 수가 2,646개입니다. -->\n",
    "\n",
    "train_X = []\n",
    "train_y = []\n",
    "\n",
    "for i in range(n_samples): # 2,646번 수행\n",
    "    X_sample = text[i * seq_length: (i + 1) * seq_length]\n",
    "    # 0:60 -> 60:120 -> 120:180로 loop를 돌면서 문장 샘플을 1개씩 가져온다.\n",
    "    X_encoded = [char_to_index[c] for c in X_sample] # 하나의 문장 샘플에 대해서 정수 인코딩\n",
    "    train_X.append(X_encoded)\n",
    "\n",
    "    y_sample = text[i * seq_length + 1: (i + 1) * seq_length + 1] # 오른쪽으로 1칸 쉬프트한다.\n",
    "    y_encoded = [char_to_index[c] for c in y_sample]\n",
    "    train_y.append(y_encoded)"
   ]
  },
  {
   "cell_type": "code",
   "execution_count": 123,
   "id": "c69e66d9",
   "metadata": {
    "ExecuteTime": {
     "end_time": "2021-08-11T15:40:31.329818Z",
     "start_time": "2021-08-11T15:40:31.266420Z"
    }
   },
   "outputs": [],
   "source": [
    "# 글자 단위 RNN에서는 입력 시퀀스에 대해서 워드 임베딩을 하지 않습니다. \n",
    "# 다시 말해 임베딩층(embedding layer)을 사용하지 않을 것이므로, 입력 시퀀스인 train_X에 대해서도 원-핫 인코딩을 합니다.\n",
    "\n",
    "train_X = to_categorical(train_X)\n",
    "train_y = to_categorical(train_y)"
   ]
  },
  {
   "cell_type": "code",
   "execution_count": 124,
   "id": "e81b1da5",
   "metadata": {
    "ExecuteTime": {
     "end_time": "2021-08-11T15:40:36.122781Z",
     "start_time": "2021-08-11T15:40:36.116798Z"
    }
   },
   "outputs": [
    {
     "name": "stdout",
     "output_type": "stream",
     "text": [
      "train_X의 크기(shape) : (2658, 60, 56)\n",
      "train_y의 크기(shape) : (2658, 60, 56)\n"
     ]
    }
   ],
   "source": [
    "print('train_X의 크기(shape) : {}'.format(train_X.shape)) # 원-핫 인코딩\n",
    "print('train_y의 크기(shape) : {}'.format(train_y.shape)) # 원-핫 인코딩"
   ]
  },
  {
   "cell_type": "markdown",
   "id": "cb094cb6",
   "metadata": {},
   "source": [
    "![python image2](https://wikidocs.net/images/page/22886/rnn_image6between7.PNG)\n",
    "이는 샘플의 수(No. of samples)가 2,646개, 입력 시퀀스의 길이(input_length)가 60, 각 벡터의 차원(input_dim)이 55임을 의미합니다.   \n",
    "원-핫 벡터의 차원은 글자 집합의 크기인 55이어야 하므로 원-핫 인코딩이 수행되었음을 알 수 있습니다."
   ]
  },
  {
   "cell_type": "code",
   "execution_count": 125,
   "id": "ee0f127b",
   "metadata": {
    "ExecuteTime": {
     "end_time": "2021-08-11T15:43:27.404311Z",
     "start_time": "2021-08-11T15:43:27.399349Z"
    }
   },
   "outputs": [],
   "source": [
    "from tensorflow.keras.models import Sequential\n",
    "from tensorflow.keras.layers import Dense, LSTM, TimeDistributed"
   ]
  },
  {
   "cell_type": "code",
   "execution_count": 127,
   "id": "cbd5ab3f",
   "metadata": {
    "ExecuteTime": {
     "end_time": "2021-08-11T15:44:00.098267Z",
     "start_time": "2021-08-11T15:43:59.711862Z"
    }
   },
   "outputs": [],
   "source": [
    "model = Sequential()\n",
    "model.add(LSTM(256, input_shape=(None, train_X.shape[2]), return_sequences=True))\n",
    "model.add(LSTM(256, return_sequences=True))\n",
    "model.add(TimeDistributed(Dense(vocab_size, activation='softmax')))"
   ]
  },
  {
   "cell_type": "code",
   "execution_count": 129,
   "id": "012bd5f9",
   "metadata": {
    "ExecuteTime": {
     "end_time": "2021-08-11T16:16:16.775684Z",
     "start_time": "2021-08-11T15:44:02.967341Z"
    }
   },
   "outputs": [
    {
     "name": "stdout",
     "output_type": "stream",
     "text": [
      "Epoch 1/80\n",
      "84/84 - 22s - loss: 3.0703 - accuracy: 0.1811\n",
      "Epoch 2/80\n",
      "84/84 - 24s - loss: 2.7933 - accuracy: 0.2288\n",
      "Epoch 3/80\n",
      "84/84 - 24s - loss: 2.4522 - accuracy: 0.3161\n",
      "Epoch 4/80\n",
      "84/84 - 24s - loss: 2.2950 - accuracy: 0.3506\n",
      "Epoch 5/80\n",
      "84/84 - 24s - loss: 2.1898 - accuracy: 0.3779\n",
      "Epoch 6/80\n",
      "84/84 - 24s - loss: 2.1078 - accuracy: 0.3977\n",
      "Epoch 7/80\n",
      "84/84 - 24s - loss: 2.0292 - accuracy: 0.4165\n",
      "Epoch 8/80\n",
      "84/84 - 24s - loss: 1.9647 - accuracy: 0.4321\n",
      "Epoch 9/80\n",
      "84/84 - 24s - loss: 1.9130 - accuracy: 0.4459\n",
      "Epoch 10/80\n",
      "84/84 - 24s - loss: 1.8655 - accuracy: 0.4600\n",
      "Epoch 11/80\n",
      "84/84 - 24s - loss: 1.8226 - accuracy: 0.4712\n",
      "Epoch 12/80\n",
      "84/84 - 24s - loss: 1.7820 - accuracy: 0.4841\n",
      "Epoch 13/80\n",
      "84/84 - 24s - loss: 1.7444 - accuracy: 0.4939\n",
      "Epoch 14/80\n",
      "84/84 - 24s - loss: 1.7078 - accuracy: 0.5028\n",
      "Epoch 15/80\n",
      "84/84 - 24s - loss: 1.6740 - accuracy: 0.5116\n",
      "Epoch 16/80\n",
      "84/84 - 24s - loss: 1.6406 - accuracy: 0.5201\n",
      "Epoch 17/80\n",
      "84/84 - 24s - loss: 1.6092 - accuracy: 0.5287\n",
      "Epoch 18/80\n",
      "84/84 - 24s - loss: 1.5780 - accuracy: 0.5359\n",
      "Epoch 19/80\n",
      "84/84 - 25s - loss: 1.5491 - accuracy: 0.5427\n",
      "Epoch 20/80\n",
      "84/84 - 24s - loss: 1.5162 - accuracy: 0.5517\n",
      "Epoch 21/80\n",
      "84/84 - 24s - loss: 1.4906 - accuracy: 0.5592\n",
      "Epoch 22/80\n",
      "84/84 - 24s - loss: 1.4621 - accuracy: 0.5667\n",
      "Epoch 23/80\n",
      "84/84 - 24s - loss: 1.4325 - accuracy: 0.5762\n",
      "Epoch 24/80\n",
      "84/84 - 24s - loss: 1.4092 - accuracy: 0.5823\n",
      "Epoch 25/80\n",
      "84/84 - 24s - loss: 1.3825 - accuracy: 0.5893\n",
      "Epoch 26/80\n",
      "84/84 - 26s - loss: 1.3553 - accuracy: 0.5973\n",
      "Epoch 27/80\n",
      "84/84 - 31s - loss: 1.3326 - accuracy: 0.6035\n",
      "Epoch 28/80\n",
      "84/84 - 24s - loss: 1.3036 - accuracy: 0.6124\n",
      "Epoch 29/80\n",
      "84/84 - 24s - loss: 1.2816 - accuracy: 0.6180\n",
      "Epoch 30/80\n",
      "84/84 - 24s - loss: 1.2541 - accuracy: 0.6256\n",
      "Epoch 31/80\n",
      "84/84 - 24s - loss: 1.2310 - accuracy: 0.6332\n",
      "Epoch 32/80\n",
      "84/84 - 24s - loss: 1.2031 - accuracy: 0.6412\n",
      "Epoch 33/80\n",
      "84/84 - 24s - loss: 1.1767 - accuracy: 0.6473\n",
      "Epoch 34/80\n",
      "84/84 - 25s - loss: 1.1544 - accuracy: 0.6555\n",
      "Epoch 35/80\n",
      "84/84 - 26s - loss: 1.1256 - accuracy: 0.6636\n",
      "Epoch 36/80\n",
      "84/84 - 24s - loss: 1.0998 - accuracy: 0.6716\n",
      "Epoch 37/80\n",
      "84/84 - 24s - loss: 1.0754 - accuracy: 0.6783\n",
      "Epoch 38/80\n",
      "84/84 - 24s - loss: 1.0459 - accuracy: 0.6877\n",
      "Epoch 39/80\n",
      "84/84 - 24s - loss: 1.0233 - accuracy: 0.6958\n",
      "Epoch 40/80\n",
      "84/84 - 24s - loss: 0.9944 - accuracy: 0.7026\n",
      "Epoch 41/80\n",
      "84/84 - 24s - loss: 0.9732 - accuracy: 0.7088\n",
      "Epoch 42/80\n",
      "84/84 - 24s - loss: 0.9444 - accuracy: 0.7179\n",
      "Epoch 43/80\n",
      "84/84 - 24s - loss: 0.9197 - accuracy: 0.7260\n",
      "Epoch 44/80\n",
      "84/84 - 24s - loss: 0.8932 - accuracy: 0.7335\n",
      "Epoch 45/80\n",
      "84/84 - 24s - loss: 0.8675 - accuracy: 0.7424\n",
      "Epoch 46/80\n",
      "84/84 - 24s - loss: 0.8511 - accuracy: 0.7467\n",
      "Epoch 47/80\n",
      "84/84 - 24s - loss: 0.8215 - accuracy: 0.7559\n",
      "Epoch 48/80\n",
      "84/84 - 24s - loss: 0.7928 - accuracy: 0.7658\n",
      "Epoch 49/80\n",
      "84/84 - 24s - loss: 0.7643 - accuracy: 0.7743\n",
      "Epoch 50/80\n",
      "84/84 - 24s - loss: 0.7577 - accuracy: 0.7747\n",
      "Epoch 51/80\n",
      "84/84 - 25s - loss: 0.7220 - accuracy: 0.7868\n",
      "Epoch 52/80\n",
      "84/84 - 24s - loss: 0.7010 - accuracy: 0.7933\n",
      "Epoch 53/80\n",
      "84/84 - 25s - loss: 0.6719 - accuracy: 0.8031\n",
      "Epoch 54/80\n",
      "84/84 - 24s - loss: 0.6528 - accuracy: 0.8097\n",
      "Epoch 55/80\n",
      "84/84 - 24s - loss: 0.6275 - accuracy: 0.8182\n",
      "Epoch 56/80\n",
      "84/84 - 25s - loss: 0.6108 - accuracy: 0.8227\n",
      "Epoch 57/80\n",
      "84/84 - 24s - loss: 0.5841 - accuracy: 0.8319\n",
      "Epoch 58/80\n",
      "84/84 - 25s - loss: 0.5715 - accuracy: 0.8353\n",
      "Epoch 59/80\n",
      "84/84 - 24s - loss: 0.5516 - accuracy: 0.8412\n",
      "Epoch 60/80\n",
      "84/84 - 24s - loss: 0.5280 - accuracy: 0.8505\n",
      "Epoch 61/80\n",
      "84/84 - 24s - loss: 0.5147 - accuracy: 0.8547\n",
      "Epoch 62/80\n",
      "84/84 - 24s - loss: 0.5017 - accuracy: 0.8574\n",
      "Epoch 63/80\n",
      "84/84 - 24s - loss: 0.4793 - accuracy: 0.8650\n",
      "Epoch 64/80\n",
      "84/84 - 24s - loss: 0.4571 - accuracy: 0.8732\n",
      "Epoch 65/80\n",
      "84/84 - 24s - loss: 0.4356 - accuracy: 0.8805\n",
      "Epoch 66/80\n",
      "84/84 - 25s - loss: 0.4211 - accuracy: 0.8854\n",
      "Epoch 67/80\n",
      "84/84 - 24s - loss: 0.4069 - accuracy: 0.8893\n",
      "Epoch 68/80\n",
      "84/84 - 25s - loss: 0.4189 - accuracy: 0.8825\n",
      "Epoch 69/80\n",
      "84/84 - 25s - loss: 0.3821 - accuracy: 0.8967\n",
      "Epoch 70/80\n",
      "84/84 - 24s - loss: 0.3572 - accuracy: 0.9063\n",
      "Epoch 71/80\n",
      "84/84 - 24s - loss: 0.3494 - accuracy: 0.9077\n",
      "Epoch 72/80\n",
      "84/84 - 24s - loss: 0.3529 - accuracy: 0.9047\n",
      "Epoch 73/80\n",
      "84/84 - 24s - loss: 0.3317 - accuracy: 0.9128\n",
      "Epoch 74/80\n",
      "84/84 - 24s - loss: 0.3159 - accuracy: 0.9179\n",
      "Epoch 75/80\n",
      "84/84 - 24s - loss: 0.2940 - accuracy: 0.9264\n",
      "Epoch 76/80\n",
      "84/84 - 24s - loss: 0.2796 - accuracy: 0.9302\n",
      "Epoch 77/80\n",
      "84/84 - 24s - loss: 0.2901 - accuracy: 0.9254\n",
      "Epoch 78/80\n",
      "84/84 - 24s - loss: 0.2675 - accuracy: 0.9327\n",
      "Epoch 79/80\n",
      "84/84 - 25s - loss: 0.2600 - accuracy: 0.9351\n",
      "Epoch 80/80\n",
      "84/84 - 24s - loss: 0.2710 - accuracy: 0.9291\n"
     ]
    },
    {
     "data": {
      "text/plain": [
       "<tensorflow.python.keras.callbacks.History at 0x264e88ac0a0>"
      ]
     },
     "execution_count": 129,
     "metadata": {},
     "output_type": "execute_result"
    }
   ],
   "source": [
    "model.compile(loss='categorical_crossentropy', optimizer='adam', metrics=['accuracy'])\n",
    "model.fit(train_X, train_y, epochs=80, verbose=2)"
   ]
  },
  {
   "cell_type": "code",
   "execution_count": 130,
   "id": "eaf551b6",
   "metadata": {
    "ExecuteTime": {
     "end_time": "2021-08-11T16:16:22.411953Z",
     "start_time": "2021-08-11T16:16:16.778676Z"
    }
   },
   "outputs": [
    {
     "name": "stdout",
     "output_type": "stream",
     "text": [
      "3 번 글자 # 로 예측을 시작!\n",
      "# the production, promotion and distribution of project gutenberg-tm work. 1.e.9. you may for a reel"
     ]
    },
    {
     "data": {
      "text/plain": [
       "'# the production, promotion and distribution of project gutenberg-tm work. 1.e.9. you may for a reely'"
      ]
     },
     "execution_count": 130,
     "metadata": {},
     "output_type": "execute_result"
    }
   ],
   "source": [
    "def sentence_generation(model, length):\n",
    "    ix = [np.random.randint(vocab_size)] # 글자에 대한 랜덤 인덱스 생성\n",
    "    y_char = [index_to_char[ix[-1]]] # 랜덤 익덱스로부터 글자 생성\n",
    "    print(ix[-1],'번 글자',y_char[-1],'로 예측을 시작!')\n",
    "    X = np.zeros((1, length, vocab_size)) # (1, length, 55) 크기의 X 생성. 즉, LSTM의 입력 시퀀스 생성\n",
    "\n",
    "    for i in range(length):\n",
    "        X[0][i][ix[-1]] = 1 # X[0][i][예측한 글자의 인덱스] = 1, 즉, 예측 글자를 다음 입력 시퀀스에 추가\n",
    "        print(index_to_char[ix[-1]], end=\"\")\n",
    "        ix = np.argmax(model.predict(X[:, :i+1, :])[0], 1)\n",
    "        y_char.append(index_to_char[ix[-1]])\n",
    "    return ('').join(y_char)\n",
    "sentence_generation(model, 100)"
   ]
  },
  {
   "cell_type": "markdown",
   "id": "3bd6c8f6",
   "metadata": {},
   "source": [
    "## 7.2 글자 단위 RNN(Char RNN)으로 텍스트 생성하기\n",
    "이번에는 다 대 일(many-to-one) 구조의 RNN을 글자 단위로 학습시키고, 텍스트 생성을 해보겠습니다.\n",
    "\n"
   ]
  },
  {
   "cell_type": "code",
   "execution_count": 131,
   "id": "4e4ed671",
   "metadata": {
    "ExecuteTime": {
     "end_time": "2021-08-11T16:17:28.549856Z",
     "start_time": "2021-08-11T16:17:28.542880Z"
    }
   },
   "outputs": [],
   "source": [
    "import numpy as np\n",
    "from tensorflow.keras.utils import to_categorical\n",
    "\n",
    "# 다음과 같이 제가 임의로 만든 엉터리 노래 가사가 있습니다.\n",
    "\n",
    "text='''\n",
    "I get on with life as a programmer,\n",
    "I like to contemplate beer.\n",
    "But when I start to daydream,\n",
    "My mind turns straight to wine.\n",
    "\n",
    "Do I love wine more than beer?\n",
    "\n",
    "I like to use words about beer.\n",
    "But when I stop my talking,\n",
    "My mind turns straight to wine.\n",
    "\n",
    "I hate bugs and errors.\n",
    "But I just think back to wine,\n",
    "And I'm happy once again.\n",
    "\n",
    "I like to hang out with programming and deep learning.\n",
    "But when left alone,\n",
    "My mind turns straight to wine.\n",
    "'''"
   ]
  },
  {
   "cell_type": "code",
   "execution_count": 132,
   "id": "2c2949fd",
   "metadata": {
    "ExecuteTime": {
     "end_time": "2021-08-11T16:17:58.911098Z",
     "start_time": "2021-08-11T16:17:58.895167Z"
    }
   },
   "outputs": [
    {
     "name": "stdout",
     "output_type": "stream",
     "text": [
      "I get on with life as a programmer, I like to contemplate beer. But when I start to daydream, My mind turns straight to wine. Do I love wine more than beer? I like to use words about beer. But when I stop my talking, My mind turns straight to wine. I hate bugs and errors. But I just think back to wine, And I'm happy once again. I like to hang out with programming and deep learning. But when left alone, My mind turns straight to wine.\n"
     ]
    }
   ],
   "source": [
    "# 우선 위의 텍스트에 존재하는 단락 구분을 없애고 하나의 문자열로 재저장하겠습니다.\n",
    "\n",
    "tokens = text.split() # '\\n 제거'\n",
    "text = ' '.join(tokens)\n",
    "print(text)"
   ]
  },
  {
   "cell_type": "code",
   "execution_count": 133,
   "id": "5b56a2dd",
   "metadata": {
    "ExecuteTime": {
     "end_time": "2021-08-11T16:19:02.894580Z",
     "start_time": "2021-08-11T16:19:02.875910Z"
    }
   },
   "outputs": [
    {
     "name": "stdout",
     "output_type": "stream",
     "text": [
      "[' ', \"'\", ',', '.', '?', 'A', 'B', 'D', 'I', 'M', 'a', 'b', 'c', 'd', 'e', 'f', 'g', 'h', 'i', 'j', 'k', 'l', 'm', 'n', 'o', 'p', 'r', 's', 't', 'u', 'v', 'w', 'y']\n"
     ]
    }
   ],
   "source": [
    "char_vocab = sorted(list(set(text))) # 중복을 제거한 글자 집합 생성\n",
    "print(char_vocab)"
   ]
  },
  {
   "cell_type": "code",
   "execution_count": 134,
   "id": "832f1b4c",
   "metadata": {
    "ExecuteTime": {
     "end_time": "2021-08-11T16:19:21.444328Z",
     "start_time": "2021-08-11T16:19:21.439337Z"
    }
   },
   "outputs": [
    {
     "name": "stdout",
     "output_type": "stream",
     "text": [
      "글자 집합의 크기 : 33\n"
     ]
    }
   ],
   "source": [
    "#기존의 단어 단위의 집합이 아니라 알파벳 또는 구두점 등의 단위의 집합인 글자 집합이 생성되었습니다.\n",
    "\n",
    "\n",
    "vocab_size=len(char_vocab)\n",
    "print ('글자 집합의 크기 : {}'.format(vocab_size))"
   ]
  },
  {
   "cell_type": "code",
   "execution_count": 135,
   "id": "698cd3b8",
   "metadata": {
    "ExecuteTime": {
     "end_time": "2021-08-11T16:19:32.419152Z",
     "start_time": "2021-08-11T16:19:32.405669Z"
    }
   },
   "outputs": [
    {
     "name": "stdout",
     "output_type": "stream",
     "text": [
      "{' ': 0, \"'\": 1, ',': 2, '.': 3, '?': 4, 'A': 5, 'B': 6, 'D': 7, 'I': 8, 'M': 9, 'a': 10, 'b': 11, 'c': 12, 'd': 13, 'e': 14, 'f': 15, 'g': 16, 'h': 17, 'i': 18, 'j': 19, 'k': 20, 'l': 21, 'm': 22, 'n': 23, 'o': 24, 'p': 25, 'r': 26, 's': 27, 't': 28, 'u': 29, 'v': 30, 'w': 31, 'y': 32}\n"
     ]
    }
   ],
   "source": [
    "char_to_index = dict((c, i) for i, c in enumerate(char_vocab)) # 글자에 고유한 정수 인덱스 부여\n",
    "print(char_to_index)"
   ]
  },
  {
   "cell_type": "code",
   "execution_count": 136,
   "id": "a73b0b65",
   "metadata": {
    "ExecuteTime": {
     "end_time": "2021-08-11T16:31:41.568042Z",
     "start_time": "2021-08-11T16:31:41.553928Z"
    }
   },
   "outputs": [
    {
     "name": "stdout",
     "output_type": "stream",
     "text": [
      "총 훈련 샘플의 수: 426\n"
     ]
    }
   ],
   "source": [
    "# 여기서는 입력 시퀀스의 길이. 즉, 모든 샘플들의 길이가 10가 되도록 데이터를 구성해보겠습니다. \n",
    "# 예측 대상이 되는 글자도 필요하므로 우선 길이가 11이 되도록 데이터를 구성합니다.\n",
    "\n",
    "length = 11\n",
    "sequences = []\n",
    "for i in range(length, len(text)):\n",
    "    seq = text[i-length:i] # 길이 11의 문자열을 지속적으로 만든다.\n",
    "    sequences.append(seq)\n",
    "print('총 훈련 샘플의 수: %d' % len(sequences))"
   ]
  },
  {
   "cell_type": "code",
   "execution_count": 137,
   "id": "71fe03f7",
   "metadata": {
    "ExecuteTime": {
     "end_time": "2021-08-11T16:40:53.679848Z",
     "start_time": "2021-08-11T16:40:53.668877Z"
    }
   },
   "outputs": [
    {
     "data": {
      "text/plain": [
       "['I get on wi',\n",
       " ' get on wit',\n",
       " 'get on with',\n",
       " 'et on with ',\n",
       " 't on with l',\n",
       " ' on with li',\n",
       " 'on with lif',\n",
       " 'n with life',\n",
       " ' with life ',\n",
       " 'with life a']"
      ]
     },
     "execution_count": 137,
     "metadata": {},
     "output_type": "execute_result"
    }
   ],
   "source": [
    "# 총 샘플의 수는 426개가 완성되었습니다. 이 중 10개만 출력해보겠습니다.\n",
    "\n",
    "sequences[:10]"
   ]
  },
  {
   "cell_type": "code",
   "execution_count": 138,
   "id": "ffa81412",
   "metadata": {
    "ExecuteTime": {
     "end_time": "2021-08-11T16:49:30.569183Z",
     "start_time": "2021-08-11T16:49:30.548245Z"
    }
   },
   "outputs": [
    {
     "name": "stdout",
     "output_type": "stream",
     "text": [
      "[8, 0, 16, 14, 28, 0, 24, 23, 0, 31, 18]\n",
      "[0, 16, 14, 28, 0, 24, 23, 0, 31, 18, 28]\n",
      "[16, 14, 28, 0, 24, 23, 0, 31, 18, 28, 17]\n",
      "[14, 28, 0, 24, 23, 0, 31, 18, 28, 17, 0]\n",
      "[28, 0, 24, 23, 0, 31, 18, 28, 17, 0, 21]\n"
     ]
    }
   ],
   "source": [
    "X = []\n",
    "for line in sequences: # 전체 데이터에서 문장 샘플을 1개씩 꺼낸다.\n",
    "    temp_X = [char_to_index[char] for char in line] # 문장 샘플에서 각 글자에 대해서 정수 인코딩을 수행.\n",
    "    X.append(temp_X)\n",
    "# 정수 인코딩 된 결과가 X에 저장되었습니다. 5개만 출력해보겠습니다.\n",
    "\n",
    "for line in X[:5]:\n",
    "    print(line)"
   ]
  },
  {
   "cell_type": "code",
   "execution_count": 139,
   "id": "0dd30db0",
   "metadata": {
    "ExecuteTime": {
     "end_time": "2021-08-11T16:50:11.064533Z",
     "start_time": "2021-08-11T16:50:11.051567Z"
    }
   },
   "outputs": [],
   "source": [
    "# 정상적으로 정수 인코딩이 수행되었습니다. 이제 예측 대상인 글자를 분리시켜주는 작업을 합니다. \n",
    "# 모든 샘플 문장에 대해서 맨 마지막 글자를 분리시켜줍니다.\n",
    "\n",
    "sequences = np.array(X)\n",
    "X = sequences[:,:-1]\n",
    "y = sequences[:,-1] # 맨 마지막 위치의 글자를 분리"
   ]
  },
  {
   "cell_type": "code",
   "execution_count": 140,
   "id": "9993bcf1",
   "metadata": {
    "ExecuteTime": {
     "end_time": "2021-08-11T16:57:41.246739Z",
     "start_time": "2021-08-11T16:57:41.229188Z"
    }
   },
   "outputs": [
    {
     "name": "stdout",
     "output_type": "stream",
     "text": [
      "[ 8  0 16 14 28  0 24 23  0 31]\n",
      "[ 0 16 14 28  0 24 23  0 31 18]\n",
      "[16 14 28  0 24 23  0 31 18 28]\n",
      "[14 28  0 24 23  0 31 18 28 17]\n",
      "[28  0 24 23  0 31 18 28 17  0]\n"
     ]
    }
   ],
   "source": [
    "# 정상적으로 분리가 되었는지 X와 y 둘 다 5개씩 출력해보겠습니다.\n",
    "\n",
    "for line in X[:5]:\n",
    "    print(line)"
   ]
  },
  {
   "cell_type": "code",
   "execution_count": 141,
   "id": "e722cbf2",
   "metadata": {
    "ExecuteTime": {
     "end_time": "2021-08-11T16:57:45.307787Z",
     "start_time": "2021-08-11T16:57:45.295748Z"
    }
   },
   "outputs": [
    {
     "name": "stdout",
     "output_type": "stream",
     "text": [
      "[18 28 17  0 21]\n"
     ]
    }
   ],
   "source": [
    "print(y[:5])\n"
   ]
  },
  {
   "cell_type": "code",
   "execution_count": 142,
   "id": "ff349d8e",
   "metadata": {
    "ExecuteTime": {
     "end_time": "2021-08-11T16:57:54.627730Z",
     "start_time": "2021-08-11T16:57:54.600303Z"
    }
   },
   "outputs": [
    {
     "name": "stdout",
     "output_type": "stream",
     "text": [
      "(426, 10, 33)\n"
     ]
    }
   ],
   "source": [
    "# 앞서 출력한 5개의 샘플에서 각각 맨 뒤의 글자였던 18, 28, 17, 0, 21이 별도로 분리되어 y에 저장되었습니다. 이제 X와 y에 대해서 원-핫 인코딩을 수행해보겠습니다.\n",
    "\n",
    "sequences = [to_categorical(x, num_classes=vocab_size) for x in X] # X에 대한 원-핫 인코딩\n",
    "X = np.array(sequences)\n",
    "y = to_categorical(y, num_classes=vocab_size) # y에 대한 원-핫 인코딩\n",
    "# 원-핫 인코딩이 수행되었는지 확인하기 위해 수행한 후의 X의 크기(shape)를 보겠습니다.\n",
    "\n",
    "print(X.shape)"
   ]
  },
  {
   "cell_type": "code",
   "execution_count": 143,
   "id": "1305db86",
   "metadata": {
    "ExecuteTime": {
     "end_time": "2021-08-11T17:00:03.328860Z",
     "start_time": "2021-08-11T17:00:03.116918Z"
    }
   },
   "outputs": [],
   "source": [
    "from tensorflow.keras.models import Sequential\n",
    "from tensorflow.keras.layers import Dense, LSTM\n",
    "from tensorflow.keras.preprocessing.sequence import pad_sequences\n",
    "model = Sequential()\n",
    "model.add(LSTM(80, input_shape=(X.shape[1], X.shape[2])))\n",
    "model.add(Dense(vocab_size, activation='softmax'))"
   ]
  },
  {
   "cell_type": "code",
   "execution_count": 144,
   "id": "a4e63baf",
   "metadata": {
    "ExecuteTime": {
     "end_time": "2021-08-11T17:00:44.025298Z",
     "start_time": "2021-08-11T17:00:35.900527Z"
    }
   },
   "outputs": [
    {
     "name": "stdout",
     "output_type": "stream",
     "text": [
      "Epoch 1/100\n",
      "14/14 - 1s - loss: 3.4529 - accuracy: 0.1455\n",
      "Epoch 2/100\n",
      "14/14 - 0s - loss: 3.2846 - accuracy: 0.1972\n",
      "Epoch 3/100\n",
      "14/14 - 0s - loss: 3.0269 - accuracy: 0.1972\n",
      "Epoch 4/100\n",
      "14/14 - 0s - loss: 2.9736 - accuracy: 0.1972\n",
      "Epoch 5/100\n",
      "14/14 - 0s - loss: 2.9455 - accuracy: 0.1972\n",
      "Epoch 6/100\n",
      "14/14 - 0s - loss: 2.9342 - accuracy: 0.1972\n",
      "Epoch 7/100\n",
      "14/14 - 0s - loss: 2.9181 - accuracy: 0.1972\n",
      "Epoch 8/100\n",
      "14/14 - 0s - loss: 2.8938 - accuracy: 0.1972\n",
      "Epoch 9/100\n",
      "14/14 - 0s - loss: 2.8652 - accuracy: 0.1972\n",
      "Epoch 10/100\n",
      "14/14 - 0s - loss: 2.8380 - accuracy: 0.1972\n",
      "Epoch 11/100\n",
      "14/14 - 0s - loss: 2.8144 - accuracy: 0.1972\n",
      "Epoch 12/100\n",
      "14/14 - 0s - loss: 2.7794 - accuracy: 0.1972\n",
      "Epoch 13/100\n",
      "14/14 - 0s - loss: 2.7180 - accuracy: 0.2019\n",
      "Epoch 14/100\n",
      "14/14 - 0s - loss: 2.6812 - accuracy: 0.2371\n",
      "Epoch 15/100\n",
      "14/14 - 0s - loss: 2.6227 - accuracy: 0.2371\n",
      "Epoch 16/100\n",
      "14/14 - 0s - loss: 2.5753 - accuracy: 0.2394\n",
      "Epoch 17/100\n",
      "14/14 - 0s - loss: 2.5408 - accuracy: 0.2629\n",
      "Epoch 18/100\n",
      "14/14 - 0s - loss: 2.4812 - accuracy: 0.2770\n",
      "Epoch 19/100\n",
      "14/14 - 0s - loss: 2.4372 - accuracy: 0.3216\n",
      "Epoch 20/100\n",
      "14/14 - 0s - loss: 2.3699 - accuracy: 0.3427\n",
      "Epoch 21/100\n",
      "14/14 - 0s - loss: 2.3165 - accuracy: 0.3239\n",
      "Epoch 22/100\n",
      "14/14 - 0s - loss: 2.2751 - accuracy: 0.3709\n",
      "Epoch 23/100\n",
      "14/14 - 0s - loss: 2.2148 - accuracy: 0.3638\n",
      "Epoch 24/100\n",
      "14/14 - 0s - loss: 2.1395 - accuracy: 0.4085\n",
      "Epoch 25/100\n",
      "14/14 - 0s - loss: 2.1342 - accuracy: 0.3803\n",
      "Epoch 26/100\n",
      "14/14 - 0s - loss: 2.0382 - accuracy: 0.4085\n",
      "Epoch 27/100\n",
      "14/14 - 0s - loss: 2.0078 - accuracy: 0.4413\n",
      "Epoch 28/100\n",
      "14/14 - 0s - loss: 1.9450 - accuracy: 0.4531\n",
      "Epoch 29/100\n",
      "14/14 - 0s - loss: 1.9213 - accuracy: 0.4437\n",
      "Epoch 30/100\n",
      "14/14 - 0s - loss: 1.8467 - accuracy: 0.4601\n",
      "Epoch 31/100\n",
      "14/14 - 0s - loss: 1.8125 - accuracy: 0.5000\n",
      "Epoch 32/100\n",
      "14/14 - 0s - loss: 1.7611 - accuracy: 0.5141\n",
      "Epoch 33/100\n",
      "14/14 - 0s - loss: 1.7108 - accuracy: 0.5446\n",
      "Epoch 34/100\n",
      "14/14 - 0s - loss: 1.6468 - accuracy: 0.5540\n",
      "Epoch 35/100\n",
      "14/14 - 0s - loss: 1.6016 - accuracy: 0.5563\n",
      "Epoch 36/100\n",
      "14/14 - 0s - loss: 1.5611 - accuracy: 0.5728\n",
      "Epoch 37/100\n",
      "14/14 - 0s - loss: 1.5160 - accuracy: 0.5798\n",
      "Epoch 38/100\n",
      "14/14 - 0s - loss: 1.4741 - accuracy: 0.6056\n",
      "Epoch 39/100\n",
      "14/14 - 0s - loss: 1.4309 - accuracy: 0.6221\n",
      "Epoch 40/100\n",
      "14/14 - 0s - loss: 1.3947 - accuracy: 0.6244\n",
      "Epoch 41/100\n",
      "14/14 - 0s - loss: 1.3578 - accuracy: 0.6291\n",
      "Epoch 42/100\n",
      "14/14 - 0s - loss: 1.3020 - accuracy: 0.6432\n",
      "Epoch 43/100\n",
      "14/14 - 0s - loss: 1.2788 - accuracy: 0.6878\n",
      "Epoch 44/100\n",
      "14/14 - 0s - loss: 1.2350 - accuracy: 0.6737\n",
      "Epoch 45/100\n",
      "14/14 - 0s - loss: 1.1891 - accuracy: 0.7113\n",
      "Epoch 46/100\n",
      "14/14 - 0s - loss: 1.1542 - accuracy: 0.6878\n",
      "Epoch 47/100\n",
      "14/14 - 0s - loss: 1.1222 - accuracy: 0.7230\n",
      "Epoch 48/100\n",
      "14/14 - 0s - loss: 1.0734 - accuracy: 0.7207\n",
      "Epoch 49/100\n",
      "14/14 - 0s - loss: 1.0488 - accuracy: 0.7559\n",
      "Epoch 50/100\n",
      "14/14 - 0s - loss: 1.0096 - accuracy: 0.7488\n",
      "Epoch 51/100\n",
      "14/14 - 0s - loss: 0.9644 - accuracy: 0.7700\n",
      "Epoch 52/100\n",
      "14/14 - 0s - loss: 0.9419 - accuracy: 0.8005\n",
      "Epoch 53/100\n",
      "14/14 - 0s - loss: 0.9193 - accuracy: 0.7864\n",
      "Epoch 54/100\n",
      "14/14 - 0s - loss: 0.8730 - accuracy: 0.8146\n",
      "Epoch 55/100\n",
      "14/14 - 0s - loss: 0.8515 - accuracy: 0.8075\n",
      "Epoch 56/100\n",
      "14/14 - 0s - loss: 0.8048 - accuracy: 0.8263\n",
      "Epoch 57/100\n",
      "14/14 - 0s - loss: 0.7820 - accuracy: 0.8427\n",
      "Epoch 58/100\n",
      "14/14 - 0s - loss: 0.7445 - accuracy: 0.8592\n",
      "Epoch 59/100\n",
      "14/14 - 0s - loss: 0.7072 - accuracy: 0.8615\n",
      "Epoch 60/100\n",
      "14/14 - 0s - loss: 0.6816 - accuracy: 0.8850\n",
      "Epoch 61/100\n",
      "14/14 - 0s - loss: 0.6648 - accuracy: 0.8803\n",
      "Epoch 62/100\n",
      "14/14 - 0s - loss: 0.6396 - accuracy: 0.8873\n",
      "Epoch 63/100\n",
      "14/14 - 0s - loss: 0.6428 - accuracy: 0.8732\n",
      "Epoch 64/100\n",
      "14/14 - 0s - loss: 0.5976 - accuracy: 0.9085\n",
      "Epoch 65/100\n",
      "14/14 - 0s - loss: 0.5595 - accuracy: 0.9155\n",
      "Epoch 66/100\n",
      "14/14 - 0s - loss: 0.5436 - accuracy: 0.9108\n",
      "Epoch 67/100\n",
      "14/14 - 0s - loss: 0.5214 - accuracy: 0.9272\n",
      "Epoch 68/100\n",
      "14/14 - 0s - loss: 0.5033 - accuracy: 0.9390\n",
      "Epoch 69/100\n",
      "14/14 - 0s - loss: 0.4853 - accuracy: 0.9225\n",
      "Epoch 70/100\n",
      "14/14 - 0s - loss: 0.4761 - accuracy: 0.9366\n",
      "Epoch 71/100\n",
      "14/14 - 0s - loss: 0.4487 - accuracy: 0.9343\n",
      "Epoch 72/100\n",
      "14/14 - 0s - loss: 0.4306 - accuracy: 0.9507\n",
      "Epoch 73/100\n",
      "14/14 - 0s - loss: 0.4128 - accuracy: 0.9390\n",
      "Epoch 74/100\n",
      "14/14 - 0s - loss: 0.3905 - accuracy: 0.9531\n",
      "Epoch 75/100\n",
      "14/14 - 0s - loss: 0.3795 - accuracy: 0.9577\n",
      "Epoch 76/100\n",
      "14/14 - 0s - loss: 0.3678 - accuracy: 0.9554\n",
      "Epoch 77/100\n",
      "14/14 - 0s - loss: 0.3492 - accuracy: 0.9601\n",
      "Epoch 78/100\n",
      "14/14 - 0s - loss: 0.3384 - accuracy: 0.9577\n",
      "Epoch 79/100\n",
      "14/14 - 0s - loss: 0.3200 - accuracy: 0.9718\n",
      "Epoch 80/100\n",
      "14/14 - 0s - loss: 0.3372 - accuracy: 0.9577\n",
      "Epoch 81/100\n",
      "14/14 - 0s - loss: 0.3255 - accuracy: 0.9648\n",
      "Epoch 82/100\n",
      "14/14 - 0s - loss: 0.3034 - accuracy: 0.9671\n",
      "Epoch 83/100\n",
      "14/14 - 0s - loss: 0.2865 - accuracy: 0.9624\n",
      "Epoch 84/100\n",
      "14/14 - 0s - loss: 0.2676 - accuracy: 0.9742\n",
      "Epoch 85/100\n",
      "14/14 - 0s - loss: 0.2608 - accuracy: 0.9765\n",
      "Epoch 86/100\n",
      "14/14 - 0s - loss: 0.2600 - accuracy: 0.9695\n",
      "Epoch 87/100\n",
      "14/14 - 0s - loss: 0.2518 - accuracy: 0.9765\n",
      "Epoch 88/100\n",
      "14/14 - 0s - loss: 0.2371 - accuracy: 0.9695\n",
      "Epoch 89/100\n",
      "14/14 - 0s - loss: 0.2533 - accuracy: 0.9695\n",
      "Epoch 90/100\n",
      "14/14 - 0s - loss: 0.2312 - accuracy: 0.9695\n",
      "Epoch 91/100\n",
      "14/14 - 0s - loss: 0.2217 - accuracy: 0.9695\n",
      "Epoch 92/100\n",
      "14/14 - 0s - loss: 0.2130 - accuracy: 0.9812\n",
      "Epoch 93/100\n",
      "14/14 - 0s - loss: 0.2026 - accuracy: 0.9695\n",
      "Epoch 94/100\n",
      "14/14 - 0s - loss: 0.2019 - accuracy: 0.9718\n",
      "Epoch 95/100\n",
      "14/14 - 0s - loss: 0.1979 - accuracy: 0.9718\n",
      "Epoch 96/100\n",
      "14/14 - 0s - loss: 0.2028 - accuracy: 0.9624\n",
      "Epoch 97/100\n",
      "14/14 - 0s - loss: 0.1895 - accuracy: 0.9765\n",
      "Epoch 98/100\n",
      "14/14 - 0s - loss: 0.1806 - accuracy: 0.9812\n",
      "Epoch 99/100\n",
      "14/14 - 0s - loss: 0.1751 - accuracy: 0.9742\n",
      "Epoch 100/100\n",
      "14/14 - 0s - loss: 0.1867 - accuracy: 0.9765\n"
     ]
    },
    {
     "data": {
      "text/plain": [
       "<tensorflow.python.keras.callbacks.History at 0x264eec94a30>"
      ]
     },
     "execution_count": 144,
     "metadata": {},
     "output_type": "execute_result"
    }
   ],
   "source": [
    "# LSTM을 사용하고, 은닉 상태의 크기는 80, 그리고 출력층에 단어 집합의 크기만큼의 뉴런을 배치하여 모델을 설계합니다.\n",
    "\n",
    "model.compile(loss='categorical_crossentropy', optimizer='adam', metrics=['accuracy'])\n",
    "model.fit(X, y, epochs=100, verbose=2)"
   ]
  },
  {
   "cell_type": "code",
   "execution_count": 145,
   "id": "18ebfb61",
   "metadata": {
    "ExecuteTime": {
     "end_time": "2021-08-11T17:01:49.163504Z",
     "start_time": "2021-08-11T17:01:46.888549Z"
    }
   },
   "outputs": [
    {
     "name": "stdout",
     "output_type": "stream",
     "text": [
      "I get on with life as a programmer, I like to hang out with programming and deep learning.\n"
     ]
    }
   ],
   "source": [
    "# 문장을 생성하는 함수 sentence_generation을 만들어서 문장을 생성해봅시다.\n",
    "\n",
    "def sentence_generation(model, char_to_index, seq_length, seed_text, n):\n",
    "# 모델, 인덱스 정보, 문장 길이, 초기 시퀀스, 반복 횟수\n",
    "    init_text = seed_text # 문장 생성에 사용할 초기 시퀀스\n",
    "    sentence = ''\n",
    "\n",
    "    for _ in range(n): # n번 반복\n",
    "        encoded = [char_to_index[char] for char in seed_text] # 현재 시퀀스에 대한 정수 인코딩\n",
    "        encoded = pad_sequences([encoded], maxlen=seq_length, padding='pre') # 데이터에 대한 패딩\n",
    "        encoded = to_categorical(encoded, num_classes=len(char_to_index))\n",
    "        result = model.predict_classes(encoded, verbose=0)\n",
    "        # 입력한 X(현재 시퀀스)에 대해서 y를 예측하고 y(예측한 글자)를 result에 저장.\n",
    "        for char, index in char_to_index.items(): # 만약 예측한 글자와 인덱스와 동일한 글자가 있다면\n",
    "            if index == result: # 해당 글자가 예측 글자이므로 break\n",
    "                break\n",
    "        seed_text=seed_text + char # 현재 시퀀스 + 예측 글자를 현재 시퀀스로 변경\n",
    "        sentence=sentence + char # 예측 글자를 문장에 저장\n",
    "        # for문이므로 이 작업을 다시 반복\n",
    "\n",
    "    sentence = init_text + sentence\n",
    "    return sentence\n",
    "print(sentence_generation(model, char_to_index, 10, 'I get on w', 80))"
   ]
  },
  {
   "cell_type": "code",
   "execution_count": null,
   "id": "37bcf083",
   "metadata": {},
   "outputs": [],
   "source": []
  }
 ],
 "metadata": {
  "hide_input": false,
  "kernelspec": {
   "display_name": "Python 3",
   "language": "python",
   "name": "python3"
  },
  "language_info": {
   "codemirror_mode": {
    "name": "ipython",
    "version": 3
   },
   "file_extension": ".py",
   "mimetype": "text/x-python",
   "name": "python",
   "nbconvert_exporter": "python",
   "pygments_lexer": "ipython3",
   "version": "3.8.10"
  },
  "latex_envs": {
   "LaTeX_envs_menu_present": true,
   "autoclose": false,
   "autocomplete": true,
   "bibliofile": "biblio.bib",
   "cite_by": "apalike",
   "current_citInitial": 1,
   "eqLabelWithNumbers": true,
   "eqNumInitial": 1,
   "hotkeys": {
    "equation": "Ctrl-E",
    "itemize": "Ctrl-I"
   },
   "labels_anchors": false,
   "latex_user_defs": false,
   "report_style_numbering": false,
   "user_envs_cfg": false
  },
  "toc": {
   "base_numbering": 1,
   "nav_menu": {},
   "number_sections": true,
   "sideBar": true,
   "skip_h1_title": false,
   "title_cell": "Table of Contents",
   "title_sidebar": "Contents",
   "toc_cell": false,
   "toc_position": {},
   "toc_section_display": true,
   "toc_window_display": true
  }
 },
 "nbformat": 4,
 "nbformat_minor": 5
}
