{
 "cells": [
  {
   "cell_type": "code",
   "execution_count": 76,
   "id": "0874cb69",
   "metadata": {
    "ExecuteTime": {
     "end_time": "2021-07-29T03:49:32.540314Z",
     "start_time": "2021-07-29T03:49:32.538220Z"
    }
   },
   "outputs": [],
   "source": [
    "import pprint\n",
    "import pandas as pd"
   ]
  },
  {
   "cell_type": "markdown",
   "id": "de49b52e",
   "metadata": {},
   "source": [
    "**1. 자연어 처리(natural language processing)란?**  \n",
    "\n",
    "자연어(natural language)란 우리가 일상 생활에서 사용하는 언어를 말합니다. 자연어 처리(natural language processing)란 이러한 자연어의 의미를 분석하여 컴퓨터가 처리할 수 있도록 하는 일을 말합니다.\n",
    "\n",
    "자연어 처리는 음성 인식, 내용 요약, 번역, 사용자의 감성 분석, 텍스트 분류 작업(스팸 메일 분류, 뉴스 기사 카테고리 분류), 질의 응답 시스템, 챗봇과 같은 곳에서 사용되는 분야입니다.\n",
    "\n",
    "최근 딥 러닝이 주목을 받으면서, 인공지능이 IT 분야에서 중요 키워드로 떠오르고 있습니다. 자연어 처리는 기계에게 인간의 언어를 이해시킨다는 점에서 인공지능에 있어서 가장 중요한 연구 분야이면서도, 아직도 정복되어야 할 산이 많은 분야입니다.\n",
    "\n",
    "이 책에서는 자연어 처리에 필요한 전처리 방법(preprocessing), 딥 러닝 이전에 주류로 사용되었던 통계 기반의 언어 모델, 그리고 자연어 처리의 비약적인 성능을 이루어낸 딥 러닝을 이용한 자연어 처리에 대한 전반적인 지식을 다룹니다."
   ]
  },
  {
   "cell_type": "markdown",
   "id": "b174209b",
   "metadata": {},
   "source": [
    "**2. 텍스트 전처리**\n",
    "- 자연어 처리에 있어서 매우 중요한 작업\n",
    "- 텍스트 전처리는 용도에 맞게 텍스트를 사전에 처리하는 작업\n",
    "- 이 작업을 제대로 안하면 자연어처리 곤란함"
   ]
  },
  {
   "cell_type": "markdown",
   "id": "97e210a1",
   "metadata": {},
   "source": [
    "# 1. 토큰화(Tokenization)\n",
    "\n",
    "자연어 처리에서 크롤링 등으로 얻어낸 코퍼스 데이터가 필요에 맞게 전처리되지 않은 상태라면, 해당 데이터를 사용하고자하는 용도에 맞게 토큰화(tokenization) & 정제(cleaning) & 정규화(normalization)하는 일을 하게 됩니다. 이번 챕터에서는 그 중에서도 토큰화에 대해서 배우도록 합니다.\n",
    "\n",
    "주어진 코퍼스(corpus)에서 토큰(token)이라 불리는 단위로 나누는 작업을 토큰화(tokenization)라고 부릅니다.   \n",
    "토큰의 단위가 상황에 따라 다르지만, **보통 의미있는 단위로 토큰을 정의합니다.**\n",
    "\n",
    "이 챕터에서는 토큰화에 대한 발생할 수 있는 여러가지 상황에 대해서 언급하여 토큰화에 대한 개념을 이해합니다. 뒤에서 파이썬과 NLTK 패키지, KoNLPY를 통해 실습을 진행하며 직접 토큰화를 수행해보겠습니다."
   ]
  },
  {
   "cell_type": "markdown",
   "id": "2aca33d9",
   "metadata": {},
   "source": [
    "## 1.1 단어 토큰화(Word Tokenization)\n",
    "토큰의 기준을 단어(word)로 하는 경우, 단어 토큰화(word tokenization)라고 합니다. 다만, 여기서 단어(word)는 단어 단위 외에도 단어구, 의미를 갖는 문자열로도 간주되기도 합니다.\n",
    "\n",
    "예를 들어보겠습니다. 아래의 입력으로부터 구두점(punctuation)과 같은 문자는 제외시키는 간단한 단어 토큰화 작업을 해봅시다. 구두점이란, 마침표(.), 컴마(,), 물음표(?), 세미콜론(;), 느낌표(!) 등과 같은 기호를 말합니다.\n",
    "\n",
    "**입력: Time is an illusion. Lunchtime double so!**\n",
    "\n",
    "이러한 입력으로부터 구두점을 제외시킨 토큰화 작업의 결과는 다음과 같습니다.\n",
    "\n",
    "출력 : \"Time\", \"is\", \"an\", \"illustion\", \"Lunchtime\", \"double\", \"so\"\n",
    "\n",
    "이 예제에서 토큰화 작업은 굉장히 간단합니다. 구두점을 지운 뒤에 띄어쓰기(whitespace)를 기준으로 잘라냈습니다. 하지만 이 예제는 토큰화의 가장 기초적인 예제를 보여준 것에 불과합니다.\n",
    "\n",
    "보통 토큰화 작업은 단순히 구두점이나 특수문자를 전부 제거하는 정제(cleaning) 작업을 수행하는 것만으로 해결되지 않습니다. 구두점이나 특수문자를 전부 제거하면 토큰이 의미를 잃어버리는 경우가 발생하기도 합니다. 심지어 띄어쓰기 단위로 자르면 사실상 단어 토큰이 구분되는 영어와 달리, 한국어는 띄어쓰기만으로는 단어 토큰을 구분하기 어렵습니다. 그 이유는 뒤에서 언급하도록 하겠습니다."
   ]
  },
  {
   "cell_type": "markdown",
   "id": "0c7ccce7",
   "metadata": {},
   "source": [
    "## 1.2 토큰화중 생기는 선택의 순간\n",
    "\n",
    "\n",
    "토큰화를 하다보면, 예상하지 못한 경우가 있어서 토큰화의 기준을 생각해봐야 하는 경우가 발생합니다. 물론, 이러한 선택은 해당 데이터를 가지고 어떤 용도로 사용할 것인지에 따라, 그 용도에 영향이 없는 기준으로 정하면 됩니다. 예를 들어 영어권 언어에서 아포스트로피를(')가 들어가있는 단어는 어떻게 토큰으로 분류해야할까라는 문제를 보여드리겠습니다.\n",
    "\n",
    "예를 들어봅시다.\n",
    "**Don't be fooled by the dark sounding name, Mr. Jone's Orphanage is as cheery as cheery goes for a pastry shop.**\n",
    "\n",
    "아포스트로피가 들어간 상황에서 Don't와 Jone's는 어떻게 토큰화할 수 있을까요?\n",
    "\n",
    "Don't  \n",
    "Don t  \n",
    "Dont  \n",
    "Do n't  \n",
    "Jone's  \n",
    "Jone s  \n",
    "Jone  \n",
    "Jones    \n",
    "\n",
    "원하는 결과가 나오도록 토큰화 도구를 직접 설계할 수도 있겠지만, 기존에 공개된 도구들을 사용하였을 때의 결과가 사용자의 목적과 일치한다면 해당 도구를 사용할 수도 있을 것입니다. NLTK는 영어 코퍼스를 토큰화하기 위한 도구들을 제공합니다. 그 중 word_tokenize와 WordPunctTokenizer를 사용해서 NLTK에서는 아포스트로피를 어떻게 처리하는지 확인해보겠습니다."
   ]
  },
  {
   "cell_type": "code",
   "execution_count": 2,
   "id": "43e9ce72",
   "metadata": {
    "ExecuteTime": {
     "end_time": "2021-07-29T02:44:10.781774Z",
     "start_time": "2021-07-29T02:44:09.891815Z"
    }
   },
   "outputs": [
    {
     "name": "stdout",
     "output_type": "stream",
     "text": [
      "['Don',\n",
      " \"'\",\n",
      " 't',\n",
      " 'be',\n",
      " 'fooled',\n",
      " 'by',\n",
      " 'the',\n",
      " 'dark',\n",
      " 'sounding',\n",
      " 'name',\n",
      " ',',\n",
      " 'Mr',\n",
      " '.',\n",
      " 'Jone',\n",
      " \"'\",\n",
      " 's',\n",
      " 'Orphanage',\n",
      " 'is',\n",
      " 'as',\n",
      " 'cheery',\n",
      " 'as',\n",
      " 'cheery',\n",
      " 'goes',\n",
      " 'for',\n",
      " 'a',\n",
      " 'pastry',\n",
      " 'shop',\n",
      " '.']\n",
      "\n",
      "WordPunctTokenizer는 구두점을 별도로 분류하는 특징을 갖고 있기때문에, 앞서 확인했던 word_tokenize와는 달리 Don't를 Don과 '와 t로 분리하였으며, 이와 마찬가지로 Jone's를 Jone과 '와 s로 분리한 것을 확인할 수 있습니다.\n"
     ]
    }
   ],
   "source": [
    "from nltk.tokenize import WordPunctTokenizer\n",
    "pprint.pprint(WordPunctTokenizer().tokenize(\"Don't be fooled by the dark sounding name, Mr. Jone's Orphanage is as cheery as cheery goes for a pastry shop.\"))\n",
    "print(\"\\nWordPunctTokenizer는 구두점을 별도로 분류하는 특징을 갖고 있기때문에, 앞서 확인했던 word_tokenize와는 달리 Don't를 Don과 '와 t로 분리하였으며, 이와 마찬가지로 Jone's를 Jone과 '와 s로 분리한 것을 확인할 수 있습니다.\")"
   ]
  },
  {
   "cell_type": "markdown",
   "id": "a20544ce",
   "metadata": {},
   "source": [
    "케라스 또한 토큰화 도구로서 text_to_word_sequence를 지원합니다. 이번에는 케라스로 토큰화를 수행해봅시다."
   ]
  },
  {
   "cell_type": "code",
   "execution_count": 3,
   "id": "78683177",
   "metadata": {
    "ExecuteTime": {
     "end_time": "2021-07-29T02:44:37.203903Z",
     "start_time": "2021-07-29T02:44:10.783695Z"
    }
   },
   "outputs": [
    {
     "name": "stdout",
     "output_type": "stream",
     "text": [
      "[\"don't\",\n",
      " 'be',\n",
      " 'fooled',\n",
      " 'by',\n",
      " 'the',\n",
      " 'dark',\n",
      " 'sounding',\n",
      " 'name',\n",
      " 'mr',\n",
      " \"jone's\",\n",
      " 'orphanage',\n",
      " 'is',\n",
      " 'as',\n",
      " 'cheery',\n",
      " 'as',\n",
      " 'cheery',\n",
      " 'goes',\n",
      " 'for',\n",
      " 'a',\n",
      " 'pastry',\n",
      " 'shop']\n",
      "\n",
      "케라스의 text_to_word_sequence는 기본적으로 모든 알파벳을 소문자로 바꾸면서 마침표나 컴마, 느낌표 등의 구두점을 제거합니다. 하지만 don't나 jone's와 같은 경우 아포스트로피는 보존하는 것을 볼 수 있습니다.\n"
     ]
    }
   ],
   "source": [
    "from tensorflow.keras.preprocessing.text import text_to_word_sequence\n",
    "pprint.pprint(text_to_word_sequence(\"Don't be fooled by the dark sounding name, Mr. Jone's Orphanage is as cheery as cheery goes for a pastry shop.\"))\n",
    "print(\"\\n케라스의 text_to_word_sequence는 기본적으로 모든 알파벳을 소문자로 바꾸면서 마침표나 컴마, 느낌표 등의 구두점을 제거합니다. 하지만 don't나 jone's와 같은 경우 아포스트로피는 보존하는 것을 볼 수 있습니다.\")"
   ]
  },
  {
   "cell_type": "markdown",
   "id": "d69c2c4d",
   "metadata": {},
   "source": [
    "## 1.3 토큰화에서 고려해야할 사항\n",
    "토큰화 작업을 단순하게 코퍼스에서 구두점을 제외하고 공백 기준으로 잘라내는 작업이라고 간주할 수는 없습니다. 이러한 일은 보다 섬세한 알고리즘이 필요한데, 왜 섬세해야하는지 지금부터 그 이유를 정리해봅니다."
   ]
  },
  {
   "cell_type": "markdown",
   "id": "83a4398f",
   "metadata": {},
   "source": [
    "### 1.3.1 구두점이나 특수 문자를 단순 제외해서는 안 된다.\n",
    "갖고있는 코퍼스에서 단어들을 걸러낼 때, 구두점이나 특수 문자를 단순히 제외하는 것은 옳지 않습니다. 코퍼스에 대한 정제 작업을 진행하다보면, 구두점조차도 하나의 토큰으로 분류하기도 합니다. 가장 기본적인 예를 들어보자면, 마침표(.)와 같은 경우는 문장의 경계를 알 수 있는데 도움이 되므로 단어를 뽑아낼 때, 마침표(.)를 제외하지 않을 수 있습니다.\n",
    "\n",
    "또 다른 예를 들어보면, 단어 자체에서 구두점을 갖고 있는 경우도 있는데, m.p.h나 Ph.D나 AT&T 같은 경우가 있습니다. 또 특수 문자의 달러()나 슬래시(/)로 예를 들어보면, $45.55와 같은 가격을 의미 하기도 하고, 01/02/06은 날짜를 의미하기도 합니다. 보통 이런 경우 45.55를 하나로 취급해야하지, 45와 55로 따로 분류하고 싶지는 않을 것입니다.\n",
    "\n",
    "숫자 사이에 컴마(,)가 들어가는 경우도 있습니다. 가령 보통 수치를 표현할 때는 123,456,789와 같이 세 자리 단위로 컴마가 들어갑니다."
   ]
  },
  {
   "cell_type": "markdown",
   "id": "7904db4d",
   "metadata": {},
   "source": [
    "### 1.3.2 줄임말과 단어 내에 띄어쓰기가 있는 경우.\n",
    "토큰화 작업에서 종종 영어권 언어의 아포스트로피(')는 압축된 단어를 다시 펼치는 역할을 하기도 합니다.  \n",
    "예를 들어 what're는 what are의 줄임말이며, we're는 we are의 줄임말입니다. 위의 예에서 re를 접어(clitic)이라고 합니다. 즉, 단어가 줄임말로 쓰일 때 생기는 형태를 말합니다. 가령 I am을 줄인 I'm이 있을 때, m을 접어라고 합니다.\n",
    "\n",
    "New York이라는 단어나 rock 'n' roll이라는 단어를 봅시다. 이 단어들은 하나의 단어이지만 중간에 띄어쓰기가 존재합니다. 사용 용도에 따라서, 하나의 단어 사이에 띄어쓰기가 있는 경우에도 하나의 토큰으로 봐야하는 경우도 있을 수 있으므로, 토큰화 작업은 저러한 단어를 하나로 인식할 수 있는 능력도 가져야합니다."
   ]
  },
  {
   "cell_type": "markdown",
   "id": "fe69c294",
   "metadata": {},
   "source": [
    "### 1.3.3 표준 토큰화 예제\n",
    "이해를 돕기 위해, 표준으로 쓰이고 있는 토큰화 방법 중 하나인 Penn Treebank Tokenization의 규칙에 대해서 소개하고, 토큰화의 결과를 보도록 하겠습니다.\n",
    "\n",
    "**규칙 1. 하이푼으로 구성된 단어는 하나로 유지한다.  \n",
    "규칙 2. doesn't와 같이 아포스트로피로 '접어'가 함께하는 단어는 분리해준다.**\n",
    "\n",
    "해당 표준에 아래의 문장을 input으로 넣어봅니다.  \n",
    "**\"Starting a home-based restaurant may be an ideal. it doesn't have a food chain or restaurant of their own.\"**"
   ]
  },
  {
   "cell_type": "code",
   "execution_count": 4,
   "id": "1fc9fd22",
   "metadata": {
    "ExecuteTime": {
     "end_time": "2021-07-29T02:44:37.210436Z",
     "start_time": "2021-07-29T02:44:37.206301Z"
    }
   },
   "outputs": [
    {
     "name": "stdout",
     "output_type": "stream",
     "text": [
      "['Starting',\n",
      " 'a',\n",
      " 'home-based',\n",
      " 'restaurant',\n",
      " 'may',\n",
      " 'be',\n",
      " 'an',\n",
      " 'ideal.',\n",
      " 'it',\n",
      " 'does',\n",
      " \"n't\",\n",
      " 'have',\n",
      " 'a',\n",
      " 'food',\n",
      " 'chain',\n",
      " 'or',\n",
      " 'restaurant',\n",
      " 'of',\n",
      " 'their',\n",
      " 'own',\n",
      " '.']\n"
     ]
    }
   ],
   "source": [
    "from nltk.tokenize import TreebankWordTokenizer\n",
    "tokenizer=TreebankWordTokenizer()\n",
    "text=\"Starting a home-based restaurant may be an ideal. it doesn't have a food chain or restaurant of their own.\"\n",
    "pprint.pprint(tokenizer.tokenize(text))"
   ]
  },
  {
   "cell_type": "markdown",
   "id": "064d09ed",
   "metadata": {},
   "source": [
    "결과를 보면, 각각 규칙1과 규칙2에 따라서 home-based는 하나의 토큰으로 취급하고 있으며, dosen't의 경우 does와 n't는 분리되었음을 볼 수 있습니다."
   ]
  },
  {
   "cell_type": "markdown",
   "id": "d0b3b003",
   "metadata": {},
   "source": [
    "## 1.4 문장 토큰화(Sentence Tokenization)\n",
    "이번에는 토큰의 단위가 문장(sentence)일 때, 어떻게 토큰화를 수행해야할지 논의해보도록 하겠습니다. 이 작업은 갖고있는 코퍼스 내에서 문장 단위로 구분하는 작업으로 때로는 문장 분류(sentence segmentation)라고도 부릅니다.\n",
    "\n",
    "보통 갖고있는 코퍼스가 정제되지 않은 상태라면, 코퍼스는 문장 단위로 구분되어있지 않을 가능성이 높습니다. 이를 사용하고자 하는 용도에 맞게 하기 위해서는 문장 토큰화가 필요할 수 있습니다.\n",
    "\n",
    "어떻게 주어진 코퍼스로부터 문장 단위로 분류할 수 있을까요? 직관적으로 생각해봤을 때는 ?나 마침표(.)나 ! 기준으로 문장을 잘라내면 되지 않을까라고 생각할 수 있지만, 꼭 그렇지만은 않습니다. !나 ?는 문장의 구분을 위한 꽤 명확한 구분자(boundary) 역할을 하지만 마침표는 꼭 그렇지 않기 때문입니다. 다시 말해, 마침표는 문장의 끝이 아니더라도 등장할 수 있습니다.\n",
    "\n",
    "**예 1) IP 192.168.56.31 서버에 들어가서 로그 파일 저장해서 ukairia777@gmail.com로 결과 좀 보내줘. 그러고나서 점심 먹으러 가자.  \n",
    "예 2) Since I'm actively looking for Ph.D. students, I get the same question a dozen times every year.**\n",
    "\n",
    "예를 들어 위의 예제들에 마침표를 기준으로 문장 토큰화를 적용해본다면 어떨까요? 첫번째 예제에서는 보내줘.에서 그리고 두번째 예제에서는 year.에서 처음으로 문장이 끝난 것으로 인식하는 것이 제대로 문장의 끝을 예측했다고 볼 수 있을 것입니다. 하지만 단순히 마침표(.)로 문장을 구분짓는다고 가정하면, 문장의 끝이 나오기 전에 이미 마침표가 여러번 등장하여 예상한 결과가 나오지 않게 됩니다.\n",
    "\n",
    "그렇기 때문에 사용하는 코퍼스가 어떤 국적의 언어인지, 또는 해당 코퍼스 내에서 특수문자들이 어떻게 사용되고 있는지에 따라서 직접 규칙들을 정의해볼 수 있겠습니다. 물론, 100% 정확도를 얻는 일은 쉬운 일이 아닙니다. 갖고있는 코퍼스 데이터에 오타나, 문장의 구성이 엉망이라면 정해놓은 규칙이 소용이 없을 수 있기 때문입니다.\n",
    "\n",
    "NLTK에서는 영어 문장의 토큰화를 수행하는 sent_tokenize를 지원하고 있습니다. NLTK를 통해 문장 토큰화를 실습해보고, 문장 토큰화에 대해 이해해보도록 하겠습니다."
   ]
  },
  {
   "cell_type": "code",
   "execution_count": 5,
   "id": "4b4b7d46",
   "metadata": {
    "ExecuteTime": {
     "end_time": "2021-07-29T02:44:37.224639Z",
     "start_time": "2021-07-29T02:44:37.212741Z"
    }
   },
   "outputs": [
    {
     "name": "stdout",
     "output_type": "stream",
     "text": [
      "['His barber kept his word.',\n",
      " 'But keeping such a huge secret to himself was driving him crazy.',\n",
      " 'Finally, the barber went up a mountain and almost to the edge of a cliff.',\n",
      " 'He dug a hole in the midst of some reeds.',\n",
      " 'He looked about, to make sure no one was near.']\n"
     ]
    }
   ],
   "source": [
    "from nltk.tokenize import sent_tokenize\n",
    "text=\"His barber kept his word. But keeping such a huge secret to himself was driving him crazy. Finally, the barber went up a mountain and almost to the edge of a cliff. He dug a hole in the midst of some reeds. He looked about, to make sure no one was near.\"\n",
    "pprint.pprint(sent_tokenize(text))"
   ]
  },
  {
   "cell_type": "markdown",
   "id": "3cd4cc89",
   "metadata": {},
   "source": [
    "위 코드는 text에 저장된 여러 개의 문장들로부터 문장을 구분하는 코드입니다. 출력 결과를 보면 성공적으로 모든 문장을 구분해내었음을 볼 수 있습니다. 그렇다면, 이번에는 언급했던 문장 중간에 마침표가 여러번 등장하는 경우에 대해서도 실습해보도록 하겠습니다."
   ]
  },
  {
   "cell_type": "code",
   "execution_count": 6,
   "id": "a84eb60c",
   "metadata": {
    "ExecuteTime": {
     "end_time": "2021-07-29T02:44:37.228630Z",
     "start_time": "2021-07-29T02:44:37.226009Z"
    }
   },
   "outputs": [
    {
     "name": "stdout",
     "output_type": "stream",
     "text": [
      "['I am actively looking for Ph.D. students.', 'and you are a Ph.D student.']\n"
     ]
    }
   ],
   "source": [
    "from nltk.tokenize import sent_tokenize\n",
    "text=\"I am actively looking for Ph.D. students. and you are a Ph.D student.\"\n",
    "pprint.pprint(sent_tokenize(text))"
   ]
  },
  {
   "cell_type": "markdown",
   "id": "75bc4d3d",
   "metadata": {
    "ExecuteTime": {
     "end_time": "2021-07-28T17:06:13.390226Z",
     "start_time": "2021-07-28T17:06:13.372242Z"
    }
   },
   "source": [
    "NLTK는 단순히 마침표를 구분자로 하여 문장을 구분하지 않았기 때문에, Ph.D.를 문장 내의 단어로 인식하여 성공적으로 인식하는 것을 볼 수 있습니다. 한국어에 대한 문장 토큰화 도구 또한 존재합니다. 저자 개인적으로는 박상길님이 개발한 KSS(Korean Sentence Splitter)를 추천드립니다."
   ]
  },
  {
   "cell_type": "code",
   "execution_count": 17,
   "id": "51b79760",
   "metadata": {
    "ExecuteTime": {
     "end_time": "2021-07-29T02:46:29.821671Z",
     "start_time": "2021-07-29T02:46:29.792569Z"
    }
   },
   "outputs": [
    {
     "name": "stdout",
     "output_type": "stream",
     "text": [
      "['딥 러닝 자연어 처리가 재미있기는 합니다.',\n",
      " '그런데 문제는 영어보다 한국어로 할 때 너무 어려워요.',\n",
      " '농담아니에요.',\n",
      " '이제 해보면 알걸요?']\n"
     ]
    }
   ],
   "source": [
    "import kss\n",
    "\n",
    "text='딥 러닝 자연어 처리가 재미있기는 합니다. 그런데 문제는 영어보다 한국어로 할 때 너무 어려워요. 농담아니에요. 이제 해보면 알걸요?'\n",
    "pprint.pprint(kss.split_sentences(text))"
   ]
  },
  {
   "cell_type": "markdown",
   "id": "551278bb",
   "metadata": {},
   "source": [
    "출력 결과는 정상적으로 모든 문장이 분리된 결과를 보여줍니다.\n",
    "\n"
   ]
  },
  {
   "cell_type": "markdown",
   "id": "cdc74889",
   "metadata": {},
   "source": [
    "## 1.5 이진 분류기(Binary Classifier)\n",
    "문장 토큰화에서의 예외 사항을 발생시키는 마침표의 처리를 위해서 입력에 따라 두 개의 클래스로 분류하는 이진 분류기(binary classifier)를 사용하기도 합니다.\n",
    "\n",
    "물론, 여기서 말하는 두 개의 클래스는  \n",
    "**1. 마침표(.)가 단어의 일부분일 경우. 즉, 마침표가 약어(abbreivation)로 쓰이는 경우**  \n",
    "**2. 마침표(.)가 정말로 문장의 구분자(boundary)일 경우를 의미할 것입니다.**\n",
    "\n",
    "이진 분류기는 앞서 언급했듯이, 임의로 정한 여러가지 규칙을 코딩한 함수일 수도 있으며, 머신 러닝을 통해 이진 분류기를 구현하기도 합니다.\n",
    "\n",
    "마침표(.)가 어떤 클래스에 속하는지 결정을 위해서는 어떤 마침표가 주로 약어(abbreviation)으로 쓰이는 지 알아야합니다. 그렇기 때문에, 이진 분류기 구현에서 약어 사전(abbreviation dictionary)는 유용하게 쓰입니다. 영어권 언어의 경우에 있어 https://public.oed.com/how-to-use-the-oed/abbreviations/\n",
    "해당 링크는 약어 사전의 예라고 볼 수 있습니다.\n",
    "\n",
    "이러한 문장 토큰화를 수행하는 오픈 소스로는 NLTK, OpenNLP, 스탠포드 CoreNLP, splitta, LingPipe 등이 있습니다. 문장 토큰화 규칙을 짤 때, 발생할 수 있는 여러가지 예외사항을 다룬 참고 자료로 아래 링크를 보면 좋습니다.\n",
    "https://www.grammarly.com/blog/engineering/how-to-split-sentences/"
   ]
  },
  {
   "cell_type": "markdown",
   "id": "edca2219",
   "metadata": {},
   "source": [
    "## 1.6 한국어에서의 토큰화의 어려움.\n",
    "영어는 New York과 같은 합성어나 he's 와 같이 줄임말에 대한 예외처리만 한다면, 띄어쓰기(whitespace)를 기준으로 하는 띄어쓰기 토큰화를 수행해도 단어 토큰화가 잘 작동합니다. 거의 대부분의 경우에서 단어 단위로 띄어쓰기가 이루어지기 때문에 띄어쓰기 토큰화와 단어 토큰화가 거의 같기 때문입니다.\n",
    "\n",
    "하지만 한국어는 영어와는 달리 띄어쓰기만으로는 토큰화를 하기에 부족합니다. 한국어의 경우에는 띄어쓰기 단위가 되는 단위를 '어절'이라고 하는데 즉, 어절 토큰화는 한국어 NLP에서 지양되고 있습니다. 어절 토큰화와 단어 토큰화가 같지 않기 때문입니다. 그 근본적인 이유는 한국어가 영어와는 다른 형태를 가지는 언어인 교착어라는 점에서 기인합니다. 교착어란 조사, 어미 등을 붙여서 말을 만드는 언어를 말합니다."
   ]
  },
  {
   "cell_type": "markdown",
   "id": "85eb4101",
   "metadata": {},
   "source": [
    "### 1.6.1 한국어는 교착어이다.\n",
    "좀 더 자세히 설명하기 전에 간단한 예를 들어 봅시다. 영어와는 달리 한국어에는 조사라는 것이 존재합니다. 예를 들어, 그(he/him)라는 주어나 목적어가 들어간 문장이 있다고 합시다. 이 경우, 그라는 단어 하나에도 '그가', '그에게', '그를', '그와', '그는'과 같이 다양한 조사가 '그'라는 글자 뒤에 띄어쓰기 없이 바로 붙게됩니다. 자연어 처리를 하다보면 같은 단어임에도 서로 다른 조사가 붙어서 다른 단어로 인식이 되면 자연어 처리가 힘들고 번거로워지는 경우가 많습니다. 대부분의 한국어 NLP에서 조사는 분리해줄 필요가 있습니다.\n",
    "\n",
    "즉, 띄어쓰기 단위가 영어처럼 독립적인 단어라면 띄어쓰기 단위로 토큰화를 하면 되겠지만 한국어는 어절이 독립적인 단어로 구성되는 것이 아니라 조사 등의 무언가가 붙어있는 경우가 많아서 이를 전부 분리해줘야 한다는 의미입니다.\n",
    "\n",
    "좀 더 자세히 설명해보겠습니다. 한국어 토큰화에서는 형태소(morpheme)란 개념을 반드시 이해해야 합니다.  \n",
    "\n",
    "**형태소(morpheme)란 뜻을 가진 가장 작은 말의 단위를 말합니다.**  \n",
    "\n",
    "이 형태소에는 두 가지 형태소가 있는데 자립 형태소와 의존 형태소입니다.\n",
    "\n",
    "**자립 형태소 : 접사, 어미, 조사와 상관없이 자립하여 사용할 수 있는 형태소. 그 자체로 단어가 된다. 체언(명사, 대명사, 수사), 수식언(관형사, 부사), 감탄사 등이 있다.  \n",
    "의존 형태소 : 다른 형태소와 결합하여 사용되는 형태소. 접사, 어미, 조사, 어간를 말한다.**\n",
    "\n",
    "예를 들어 다음과 같은 문장이 있다고 합시다.\n",
    "\n",
    "**문장 : 에디가 딥러닝책을 읽었다**\n",
    "이를 형태소 단위로 분해하면 다음과 같습니다.\n",
    "\n",
    "**자립 형태소 : 에디, 딥러닝책(형태소 자체로 뜻을 가지고 혼자 사용할 수 있음)  \n",
    "의존 형태소 : -가, -을, 읽-, -었, -다(형태소 자체가 의존적임(함께 쓰여야 기능을 함)**\n",
    "\n",
    "이를 통해 유추할 수 있는 것은 한국어에서 영어에서의 단어 토큰화와 유사한 형태를 얻으려면 어절 토큰화가 아니라 형태소 토큰화를 수행해야한다는 겁니다."
   ]
  },
  {
   "cell_type": "markdown",
   "id": "4c00eedc",
   "metadata": {},
   "source": [
    "### 1.6.2 한국어는 띄어쓰기가 영어보다 잘 지켜지지 않는다.\n",
    "사용하는 한국어 코퍼스가 뉴스 기사와 같이 띄어쓰기를 철저하게 지키려고 노력하는 글이라면 좋겠지만, 많은 경우에 띄어쓰기가 틀렸거나, 지켜지지 않는 코퍼스가 많습니다.\n",
    "\n",
    "한국어는 영어권 언어와 비교하여 띄어쓰기가 어렵고, 또 잘 지켜지지 않는 경향이 있습니다. 그 이유는 여러 견해가 있으나, 가장 기본적인 견해는 한국어의 경우 띄어쓰기가 지켜지지 않아도 글을 쉽게 이해할 수 있는 언어라는 점입니다. 사실, 띄어쓰기가 없던 한국어에 띄어쓰기가 보편화된 것도 근대(1933년, 한글맞춤법통일안)의 일입니다.\n",
    "\n",
    "**예 1) 제가이렇게띄어쓰기를전혀하지않고글을썼다고하더라도글을이해할수있습니다.  \n",
    "예 2) Tobeornottobethatisthequestion**\n",
    "\n",
    "반면, 영어의 경우에는 띄어쓰기를 하지 않으면 손쉽게 알아보기 어려운 문장들이 생깁니다. 이는 한국어(모아쓰기 방식)와 영어(풀어쓰기 방식)라는 언어적 특성의 차이에 기인합니다. 이 책에서는 모아쓰기와 풀어쓰기에 대한 설명은 생략하겠으나, 결론은 한국어는 수많은 코퍼스에서 띄어쓰기가 무시되는 경우가 많아 자연어 처리가 어려워졌다는 것입니다."
   ]
  },
  {
   "cell_type": "markdown",
   "id": "5a95dcd2",
   "metadata": {},
   "source": [
    "## 1.7 품사 태깅(Part-of-speech tagging)\n",
    "단어는 표기는 같지만, 품사에 따라서 단어의 의미가 달라지기도 합니다. 예를 들어서 영어 단어 'fly'는 동사로는 '날다'라는 의미를 갖지만, 명사 로는 '파리'라는 의미를 갖고있습니다.   \n",
    "한국어도 마찬가지입니다. '못'이라는 단어는 명사로서는 망치를 사용해서 목재 따위를 고정하는 물건을 의미합니다.  \n",
    "하지만 부사로서의 '못'은 '먹는다', '달린다'와 같은 동작 동사를 할 수 없다는 의미로 쓰입니다.  \n",
    "즉, 결국 단어의 의미를 제대로 파악하기 위해서는 해당 단어가 어떤 품사로 쓰였는지 보는 것이 주요 지표가 될 수도 있습니다.  \n",
    "그에 따라 단어 토큰화 과정에서 각 단어가 어떤 품사로 쓰였는지를 구분해놓기도 하는데, 이 작업을 품사 태깅(part-of-speech tagging)이라고 합니다. NLTK와 KoNLPy에서는 어떻게 품사 태깅이 되는지 실습을 통해서 알아보도록 하겠습니다."
   ]
  },
  {
   "cell_type": "markdown",
   "id": "6b8429e0",
   "metadata": {},
   "source": [
    "## 1.8 NLTK와 KoNLPy를 이용한 영어, 한국어 토큰화 실습\n",
    "NLTK에서는 영어 코퍼스에 품사 태깅 기능을 지원하고 있습니다. 품사를 어떻게 명명하고, 태깅하는지의 기준은 여러가지가 있는데, NLTK에서는 Penn Treebank POS Tags라는 기준을 사용합니다. 실제로 NLTK를 사용해서 영어 코퍼스에 품사 태깅을 해보도록 하겠습니다."
   ]
  },
  {
   "cell_type": "code",
   "execution_count": 8,
   "id": "ad8ecd46",
   "metadata": {
    "ExecuteTime": {
     "end_time": "2021-07-29T02:44:55.314056Z",
     "start_time": "2021-07-29T02:44:55.310086Z"
    }
   },
   "outputs": [
    {
     "name": "stdout",
     "output_type": "stream",
     "text": [
      "['I',\n",
      " 'am',\n",
      " 'actively',\n",
      " 'looking',\n",
      " 'for',\n",
      " 'Ph.D.',\n",
      " 'students',\n",
      " '.',\n",
      " 'and',\n",
      " 'you',\n",
      " 'are',\n",
      " 'a',\n",
      " 'Ph.D.',\n",
      " 'student',\n",
      " '.']\n"
     ]
    }
   ],
   "source": [
    "from nltk.tokenize import word_tokenize\n",
    "text=\"I am actively looking for Ph.D. students. and you are a Ph.D. student.\"\n",
    "pprint.pprint(word_tokenize(text))"
   ]
  },
  {
   "cell_type": "code",
   "execution_count": 9,
   "id": "5d1c16c6",
   "metadata": {
    "ExecuteTime": {
     "end_time": "2021-07-29T02:44:57.257267Z",
     "start_time": "2021-07-29T02:44:57.157584Z"
    }
   },
   "outputs": [
    {
     "data": {
      "text/plain": [
       "[('I', 'PRP'),\n",
       " ('am', 'VBP'),\n",
       " ('actively', 'RB'),\n",
       " ('looking', 'VBG'),\n",
       " ('for', 'IN'),\n",
       " ('Ph.D.', 'NNP'),\n",
       " ('students', 'NNS'),\n",
       " ('.', '.'),\n",
       " ('and', 'CC'),\n",
       " ('you', 'PRP'),\n",
       " ('are', 'VBP'),\n",
       " ('a', 'DT'),\n",
       " ('Ph.D.', 'NNP'),\n",
       " ('student', 'NN'),\n",
       " ('.', '.')]"
      ]
     },
     "execution_count": 9,
     "metadata": {},
     "output_type": "execute_result"
    }
   ],
   "source": [
    "from nltk.tag import pos_tag\n",
    "x=word_tokenize(text)\n",
    "pos_tag(x)"
   ]
  },
  {
   "cell_type": "markdown",
   "id": "859bca37",
   "metadata": {},
   "source": [
    "영어 문장에 대해서 토큰화를 수행하고, 이어서 품사 태깅을 수행하였습니다. Penn Treebank POG Tags에서 PRP는 인칭 대명사, VBP는 동사, RB는 부사, VBG는 현재부사, IN은 전치사, NNP는 고유 명사, NNS는 복수형 명사, CC는 접속사, DT는 관사를 의미합니다.\n",
    "\n",
    "한국어 자연어 처리를 위해서는 KoNLPy(\"코엔엘파이\"라고 읽습니다)라는 파이썬 패키지를 사용할 수 있습니다. 코엔엘파이를 통해서 사용할 수 있는 형태소 분석기로 Okt(Open Korea Text), 메캅(Mecab), 코모란(Komoran), 한나눔(Hannanum), 꼬꼬마(Kkma)가 있습니다.\n",
    "\n",
    "한국어 NLP에서 형태소 분석기를 사용한다는 것은 단어 토큰화가 아니라 정확히는 **형태소(morpheme) 단위로 형태소 토큰화(morpheme tokenization)**를 수행하게 됨을 뜻합니다. 여기선 이 중에서 Okt와 꼬꼬마를 통해서 토큰화를 수행해보도록 하겠습니다. (Okt는 기존에는 Twitter라는 이름을 갖고있었으나 0.5.0 버전부터 이름이 변경되어 인터넷에는 아직 Twitter로 많이 알려져있으므로 학습 시 참고바랍니다.)"
   ]
  },
  {
   "cell_type": "code",
   "execution_count": 10,
   "id": "9bfc837a",
   "metadata": {
    "ExecuteTime": {
     "end_time": "2021-07-29T02:45:05.159292Z",
     "start_time": "2021-07-29T02:44:58.746409Z"
    }
   },
   "outputs": [
    {
     "name": "stdout",
     "output_type": "stream",
     "text": [
      "['열심히', '코딩', '한', '당신', ',', '연휴', '에는', '여행', '을', '가봐요']\n"
     ]
    }
   ],
   "source": [
    "from konlpy.tag import Okt  \n",
    "okt=Okt()  \n",
    "#형태소 추출\n",
    "pprint.pprint(okt.morphs(\"열심히 코딩한 당신, 연휴에는 여행을 가봐요\"))"
   ]
  },
  {
   "cell_type": "code",
   "execution_count": 11,
   "id": "b4f880c0",
   "metadata": {
    "ExecuteTime": {
     "end_time": "2021-07-29T02:45:05.191995Z",
     "start_time": "2021-07-29T02:45:05.161650Z"
    }
   },
   "outputs": [
    {
     "name": "stdout",
     "output_type": "stream",
     "text": [
      "[('열심히', 'Adverb'),\n",
      " ('코딩', 'Noun'),\n",
      " ('한', 'Josa'),\n",
      " ('당신', 'Noun'),\n",
      " (',', 'Punctuation'),\n",
      " ('연휴', 'Noun'),\n",
      " ('에는', 'Josa'),\n",
      " ('여행', 'Noun'),\n",
      " ('을', 'Josa'),\n",
      " ('가봐요', 'Verb')]\n"
     ]
    }
   ],
   "source": [
    "#품사태깅\n",
    "pprint.pprint(okt.pos(\"열심히 코딩한 당신, 연휴에는 여행을 가봐요\"))  "
   ]
  },
  {
   "cell_type": "code",
   "execution_count": 12,
   "id": "18db00fe",
   "metadata": {
    "ExecuteTime": {
     "end_time": "2021-07-29T02:45:05.223412Z",
     "start_time": "2021-07-29T02:45:05.196135Z"
    }
   },
   "outputs": [
    {
     "name": "stdout",
     "output_type": "stream",
     "text": [
      "['코딩', '당신', '연휴', '여행']\n"
     ]
    }
   ],
   "source": [
    "#명사 추출\n",
    "pprint.pprint(okt.nouns(\"열심히 코딩한 당신, 연휴에는 여행을 가봐요\"))  "
   ]
  },
  {
   "cell_type": "markdown",
   "id": "67be73f5",
   "metadata": {},
   "source": [
    "위의 예제는 Okt 형태소 분석기로 토큰화를 시도해본 예제입니다.\n",
    "\n",
    "**1) morphs : 형태소 추출  \n",
    "2) pos : 품사 태깅(Part-of-speech tagging)   \n",
    "3) nouns : 명사 추출**\n",
    "\n",
    "위 예제에서 사용된 각 메소드는 이런 기능을 갖고 있습니다. 앞서 언급한 코엔엘파이의 형태소 분석기들은 공통적으로 이 메소드들을 제공하고 있습니다. 위 예제에서 형태소 추출과 품사 태깅 메소드의 결과를 보면, 조사를 기본적으로 분리하고 있음을 확인할 수 있습니다. 그렇기 때문에 한국어 NLP에서 전처리에 형태소 분석기를 사용하는 것은 꽤 유용합니다.\n",
    "\n",
    "이번에는 꼬꼬마 형태소 분석기를 사용하여 같은 문장에 대해서 토큰화를 진행해볼 것입니다."
   ]
  },
  {
   "cell_type": "code",
   "execution_count": 13,
   "id": "80420513",
   "metadata": {
    "ExecuteTime": {
     "end_time": "2021-07-29T02:45:13.757450Z",
     "start_time": "2021-07-29T02:45:05.226897Z"
    }
   },
   "outputs": [
    {
     "name": "stdout",
     "output_type": "stream",
     "text": [
      "['열심히', '코딩', '하', 'ㄴ', '당신', ',', '연휴', '에', '는', '여행', '을', '가보', '아요']\n"
     ]
    }
   ],
   "source": [
    "from konlpy.tag import Kkma  \n",
    "kkma=Kkma()  \n",
    "#형태소 추출- 꼬꼬마 형태소 분석기는 okt와는 다른 형태로 분석한다.\n",
    "pprint.pprint(kkma.morphs(\"열심히 코딩한 당신, 연휴에는 여행을 가봐요\"))"
   ]
  },
  {
   "cell_type": "code",
   "execution_count": 14,
   "id": "ae43df2d",
   "metadata": {
    "ExecuteTime": {
     "end_time": "2021-07-29T02:45:13.781975Z",
     "start_time": "2021-07-29T02:45:13.759449Z"
    }
   },
   "outputs": [
    {
     "name": "stdout",
     "output_type": "stream",
     "text": [
      "[('열심히', 'MAG'),\n",
      " ('코딩', 'NNG'),\n",
      " ('하', 'XSV'),\n",
      " ('ㄴ', 'ETD'),\n",
      " ('당신', 'NP'),\n",
      " (',', 'SP'),\n",
      " ('연휴', 'NNG'),\n",
      " ('에', 'JKM'),\n",
      " ('는', 'JX'),\n",
      " ('여행', 'NNG'),\n",
      " ('을', 'JKO'),\n",
      " ('가보', 'VV'),\n",
      " ('아요', 'EFN')]\n"
     ]
    }
   ],
   "source": [
    "pprint.pprint(kkma.pos(\"열심히 코딩한 당신, 연휴에는 여행을 가봐요\"))  "
   ]
  },
  {
   "cell_type": "code",
   "execution_count": 15,
   "id": "cf9f1e96",
   "metadata": {
    "ExecuteTime": {
     "end_time": "2021-07-29T02:45:13.826032Z",
     "start_time": "2021-07-29T02:45:13.785351Z"
    }
   },
   "outputs": [
    {
     "name": "stdout",
     "output_type": "stream",
     "text": [
      "['코딩', '당신', '연휴', '여행']\n"
     ]
    }
   ],
   "source": [
    "pprint.pprint(kkma.nouns(\"열심히 코딩한 당신, 연휴에는 여행을 가봐요\"))  "
   ]
  },
  {
   "cell_type": "markdown",
   "id": "2f4861dd",
   "metadata": {},
   "source": [
    "앞서 사용한 Okt 형태소 분석기와 결과가 다른 것을 볼 수 있습니다. 각 형태소 분석기는 성능과 결과가 다르게 나오기 때문에, 형태소 분석기의 선택은 사용하고자 하는 필요 용도에 어떤 형태소 분석기가 가장 적절한지를 판단하고 사용하면 됩니다. 예를 들어서 속도를 중시한다면 메캅을 사용할 수 있습니다."
   ]
  },
  {
   "cell_type": "markdown",
   "id": "20fbeccf",
   "metadata": {},
   "source": [
    "**한국어 형태소 분석기 성능 비교**  \n",
    "https://iostream.tistory.com/144\n",
    "http://www.engear.net/wp/%ED%95%9C%EA%B8%80-%ED%98%95%ED%83%9C%EC%86%8C-%EB%B6%84%EC%84%9D%EA%B8%B0-%EB%B9%84%EA%B5%90/"
   ]
  },
  {
   "cell_type": "markdown",
   "id": "9a1d7b8d",
   "metadata": {},
   "source": [
    "**윈도우10 메캅 설치**  \n",
    "https://cleancode-ws.tistory.com/97"
   ]
  },
  {
   "cell_type": "markdown",
   "id": "55e6f5c6",
   "metadata": {},
   "source": [
    "# 2. 정제(cleaning)와 정규화(Normalization)"
   ]
  },
  {
   "cell_type": "markdown",
   "id": "662cf83a",
   "metadata": {},
   "source": [
    "코퍼스에서 용도에 맞게 토큰을 분류하는 작업을 토큰화(tokenization)라고 하며, 토큰화 작업 전, 후에는 텍스트 데이터를 용도에 맞게 정제(cleaning) 및 정규화(normalization)하는 일이 항상 함께합니다. 정제 및 정규화의 목적은 각각 다음과 같습니다.\n",
    "\n",
    "**정제(cleaning) : 갖고 있는 코퍼스로부터 노이즈 데이터를 제거한다.  \n",
    "정규화(normalization) : 표현 방법이 다른 단어들을 통합시켜서 같은 단어로 만들어준다.**\n",
    "\n",
    "정제 작업은 토큰화 작업에 방해가 되는 부분들을 배제시키고 토큰화 작업을 수행하기 위해서 토큰화 작업보다 앞서 이루어지기도 하지만, 토큰화 작업 이후에도 여전히 남아있는 노이즈들을 제거하기위해 지속적으로 이루어지기도 합니다. 사실 완벽한 정제 작업은 어려운 편이라서, 대부분의 경우 이 정도면 됐다.라는 일종의 합의점을 찾기도 합니다.\n",
    "\n",
    "이 챕터에서는 여러가지 정제와 정규화 기법에 대해서 배웁니다."
   ]
  },
  {
   "cell_type": "markdown",
   "id": "4977ec79",
   "metadata": {},
   "source": [
    "## 2.1 규칙에 기반한 표기가 다른 단어들의 통합\n",
    "필요에 따라 직접 코딩을 통해 정의할 수 있는 정규화 규칙의 예로서 같은 의미를 갖고있음에도, 표기가 다른 단어들을 하나의 단어로 정규화하는 방법을 사용할 수 있습니다.\n",
    "\n",
    "가령, USA와 US는 같은 의미를 가지므로, 하나의 단어로 정규화해볼 수 있습니다. uh-huh와 uhhuh는 형태는 다르지만 여전히 같은 의미를 갖고 있습니다. 이러한 정규화를 거치게 되면, US를 찾아도 USA도 함께 찾을 수 있을 것입니다. 다음 챕터에서 표기가 다른 단어들을 통합하는 방법인 어간 추출(stemming)과 표제어 추출(lemmatizaiton)에 대해서 더 자세히 알아보도록 하겠습니다.\n",
    "\n",
    "- 어간: (찾) 다, (보) 다 등 어미에 붙어서 의미를 나타내는 요소\n",
    "- 표제어: 사전에 등재된 낱말"
   ]
  },
  {
   "cell_type": "markdown",
   "id": "98695f7f",
   "metadata": {},
   "source": [
    "## 2.2 대, 소문자 통합\n",
    "영어권 언어에서 대, 소문자를 통합하는 것은 단어의 개수를 줄일 수 있는 또 다른 정규화 방법입니다. 영어권 언어에서 대문자는 문장의 맨 앞 등과 같은 특정 상황에서만 쓰이고, 대부분의 글은 소문자로 작성되기 때문에 대, 소문자 통합 작업은 대부분 대문자를 소문자로 변환하는 소문자 변환작업으로 이루어지게 됩니다.\n",
    "\n",
    "소문자 변환이 왜 유용한지 예를 들어보도록 하겠습니다. 가령, Automobile이라는 단어가 문장의 첫 단어였기때문에 A가 대문자였다고 생각해봅시다. 여기에 소문자 변환을 사용하면, automobile을 찾는 질의(query)에서, 결과로서 Automobile도 찾을 수 있게 됩니다.\n",
    "\n",
    "유사하게, 검색 엔진에서 사용자가 페라리 차량에 관심이 있어서 페라리를 검색해본다고 합시다. 엄밀히 말해서 사실 사용자가 검색을 통해 찾고자하는 결과는 a Ferrari car라고 봐야합니다. 하지만, 검색 엔진은 소문자 변환을 적용했을 것이기 때문에 ferrari만 쳐도 원하는 결과를 얻을 수 있을 것입니다.\n",
    "\n",
    "물론, 대문자와 소문자를 무작정 통합해서는 안 됩니다. 대문자와 소문자가 구분되어야 하는 경우도 있기 때문입니다. 가령 미국을 뜻하는 단어 US와 우리를 뜻하는 us는 구분되어야 합니다. 또 회사 이름(General Motors)나, 사람 이름(Bush) 등은 대문자로 유지되는 것이 옳습니다.\n",
    "\n",
    "모든 토큰을 소문자로 만드는 것이 문제를 가져온다면, 또 다른 대안은 일부만 소문자로 변환시키는 방법도 있습니다. 가령, 이런 규칙은 어떨까요? 문장의 맨 앞에서 나오는 단어의 대문자만 소문자로 바꾸고, 다른 단어들은 전부 대문자인 상태로 놔두는 것입니다.\n",
    "\n",
    "사실, 이러한 작업은 더 많은 변수를 사용해서 소문자 변환을 언제 사용할지 결정하는 머신 러닝 시퀀스 모델로 더 정확하게 진행시킬 수 있습니다. 하지만 만약 올바른 대문자 단어를 얻고 싶은 상황에서, 훈련에 사용하는 코퍼스가 사용자들이 단어의 대문자, 소문자의 올바른 사용 방법과 상관없이 소문자를 사용하는 사람들로부터 나온 데이터라면 이러한 방법 또한 그다지 도움이 되지 않을 수 있습니다. 결국에는 예외 사항을 크게 고려하지 않고, 모든 코퍼스를 소문자로 바꾸는 것이 종종 더 실용적인 해결책이 되기도 합니다."
   ]
  },
  {
   "cell_type": "markdown",
   "id": "5e6bbc96",
   "metadata": {},
   "source": [
    "## 2.3 불필요한 단어의 제거(Removing Unnecessary Words)\n",
    "정제 작업에서 제거해야하는 노이즈 데이터(noise data)는 **자연어가 아니면서 아무 의미도 갖지 않는 글자들(특수 문자 등)**을 의미하기도 하지만, **분석하고자 하는 목적에 맞지 않는 불필요 단어**들을 노이즈 데이터라고 하기도 합니다.\n",
    "\n",
    "불필요 단어들을 제거하는 방법으로는 불용어 제거와 등장 빈도가 적은 단어, 길이가 짧은 단어들을 제거하는 방법이 있습니다. 불용어 제거는 불용어 챕터에서 더욱 자세히 다루기로 하고, 여기서는 등장 빈도가 적은 단어와 길이가 짧은 단어를 제거하는 경우에 대해서 간략히 설명하겠습니다.\n",
    "\n"
   ]
  },
  {
   "cell_type": "markdown",
   "id": "de30ac0d",
   "metadata": {},
   "source": [
    "### 2.3.1 등장 빈도가 적은 단어(Removing Rare words)\n",
    "때론 텍스트 데이터에서 너무 적게 등장해서 자연어 처리에 도움이 되지 않는 단어들이 존재합니다. 예를 들어 입력된 메일이 정상 메일인지 스팸 메일인지를 분류하는 스팸 메일 분류기를 설계한다고 가정해보겠습니다. 총 100,000개의 메일을 가지고 정상 메일에서는 어떤 단어들이 주로 등장하고, 스팸 메일에서는 어떤 단어들이 주로 등장하는지를 가지고 설계하고자 합니다. 그런데 이때 100,000개의 메일 데이터에서 총 합 5번 밖에 등장하지 않은 단어가 있다면 이 단어는 직관적으로 분류에 거의 도움이 되지 않을 것임을 알 수 있습니다."
   ]
  },
  {
   "cell_type": "markdown",
   "id": "e705c6e7",
   "metadata": {},
   "source": [
    "### 2.3.2 길이가 짧은 단어(Removing words with a very short length)\n",
    "영어권 언어에서는 길이가 짧은 단어를 삭제하는 것만으로도 어느정도 자연어 처리에서 크게 의미가 없는 단어들을 제거하는 효과를 볼 수 있다고 알려져 있습니다. 즉, 영어권 언어에서 길이가 짧은 단어들은 대부분 불용어에 해당됩니다. 사실 길이가 짧은 단어를 제거하는 2차 이유는 길이를 조건으로 텍스트를 삭제하면서 단어가 아닌 구두점들까지도 한꺼번에 제거하기 위함도 있습니다. 하지만 한국어에서는 길이가 짧은 단어라고 삭제하는 이런 방법이 크게 유효하지 않을 수 있는데 그 이유에 대해서 정리해보도록 하겠습니다.\n",
    "\n",
    "단정적으로 말할 수는 없지만, 영어 단어의 평균 길이는 6~7 정도이며, 한국어 단어의 평균 길이는 2~3 정도로 추정되고 있습니다. 두 나라의 단어 평균 길이가 몇 인지에 대해서는 확실히 말하기 어렵지만 그럼에도 확실한 사실은 영어 단어의 길이가 한국어 단어의 길이보다는 평균적으로 길다는 점입니다.\n",
    "\n",
    "이는 영어 단어와 한국어 단어에서 각 한 글자가 가진 의미의 크기가 다르다는 점에서 기인합니다. 한국어 단어는 한자어가 많고, 한 글자만으로도 이미 의미를 가진 경우가 많습니다. 예를 들어 '학교'라는 한국어 단어를 생각해보면, 배울 학(學)과 학교 교(校)로 글자 하나, 하나가 이미 함축적인 의미를 갖고있어 두 글자만으로 학교라는 단어를 표현합니다. 하지만 영어의 경우에는 학교라는 글자를 표현하기 위해서는 s, c, h, o, o, l이라는 총 6개의 글자가 필요합니다. 다른 예로는 전설 속 동물인 용(龍)을 표현하기 위해서는 한국어로는 한 글자면 충분하지만, 영어에서는 d, r, a, g, o, n이라는 총 6개의 글자가 필요합니다.\n",
    "\n",
    "이러한 특성으로 인해 영어는 길이가 2~3 이하인 단어를 제거하는 것만으로도 크게 의미를 갖지 못하는 단어를 줄이는 효과를 갖고있습니다. 예를 들어 갖고 있는 텍스트 데이터에서 길이가 1인 단어를 제거하는 코드를 수행하면 대부분의 자연어 처리에서 의미를 갖지 못하는 단어인 관사 'a'와 주어로 쓰이는 'I'가 제거됩니다. 마찬가지로 길이가 2인 단어를 제거한다고 하면 it, at, to, on, in, by 등과 같은 대부분 불용어에 해당되는 단어들이 제거됩니다. 필요에 따라서는 길이가 3인 단어도 제거할 수 있지만, 이 경우 fox, dog, car 등 길이가 3인 명사들이 제거 되기시작하므로 사용하고자 하는 데이터에서 해당 방법을 사용해도 되는지에 대한 고민이 필요합니다."
   ]
  },
  {
   "cell_type": "code",
   "execution_count": 22,
   "id": "dec40522",
   "metadata": {
    "ExecuteTime": {
     "end_time": "2021-07-29T03:18:30.704899Z",
     "start_time": "2021-07-29T03:18:30.701770Z"
    }
   },
   "outputs": [
    {
     "name": "stdout",
     "output_type": "stream",
     "text": [
      "' was wondering anyone out there could enlighten this car.'\n"
     ]
    }
   ],
   "source": [
    "# 길이가 1~2인 단어들을 정규 표현식을 이용하여 삭제\n",
    "import re\n",
    "text = \"I was wondering if anyone out there could enlighten me on this car.\"\n",
    "shortword = re.compile(r'\\W*\\b\\w{1,2}\\b')\n",
    "pprint.pprint(shortword.sub('', text))"
   ]
  },
  {
   "cell_type": "markdown",
   "id": "37dc504a",
   "metadata": {},
   "source": [
    "## 2.4 정규 표현식(Regular Expression)\n",
    "얻어낸 코퍼스에서 노이즈 데이터의 특징을 잡아낼 수 있다면, 정규 표현식을 통해서 이를 제거할 수 있는 경우가 많습니다. 가령, HTML 문서로부터 가져온 코퍼스라면 문서 여기저기에 HTML 태그가 있습니다. 뉴스 기사를 크롤링 했다면, 기사마다 게재 시간이 적혀져 있을 수 있습니다. 정규 표현식은 이러한 코퍼스 내에 계속해서 등장하는 글자들을 규칙에 기반하여 한 번에 제거하는 방식으로서 매우 유용합니다.\n",
    "\n",
    "이 책에서도 전처리를 위해 정규 표현식을 앞으로 종종 사용하게 될 겁니다. 예를 들어 위에서 길이가 짧은 단어를 제거할 때도, 정규 표현식이 유용하게 사용되었습니다. 정규 표현식에 대한 자세한 내용은 다른 챕터에서 다루도록 하겠습니다."
   ]
  },
  {
   "cell_type": "markdown",
   "id": "2058f1b3",
   "metadata": {},
   "source": [
    "# 3. 어간 추출(stemming) and 표제어 추출(Lemmatization)\n",
    "\n",
    "이번 챕터에서는 정규화 기법 중 코퍼스에 있는 단어의 개수를 줄일 수 있는 기법인 표제어 추출(lemmatization)과 어간 추출(stemming)의 개념에 대해서 알아봅니다. 또한 이 둘의 결과가 어떻게 다른지 이해합니다.\n",
    "\n",
    "이 두 작업이 갖고 있는 의미는 눈으로 봤을 때는 서로 다른 단어들이지만, 하나의 단어로 일반화시킬 수 있다면 하나의 단어로 일반화시켜서 문서 내의 단어 수를 줄이겠다는 것입니다. 이러한 방법들은 단어의 빈도수를 기반으로 문제를 풀고자 하는 BoW(Bag of Words) 표현을 사용하는 자연어 처리 문제에서 주로 사용됩니다. BoW 표현은 뒤의 4챕터에서 배우게 됩니다. 자연어 처리에서 전처리, 더 정확히는 정규화의 지향점은 언제나 갖고 있는 코퍼스로부터 복잡성을 줄이는 일입니다.\n",
    "\n"
   ]
  },
  {
   "cell_type": "markdown",
   "id": "a57fd9a3",
   "metadata": {},
   "source": [
    "## 3.1 표제어 추출(Lemmatization)\n",
    "표제어(Lemma)는 한글로는 '표제어' 또는 '기본 사전형 단어' 정도의 의미를 갖습니다. 표제어 추출은 단어들로부터 표제어를 찾아가는 과정입니다. **표제어 추출은 단어들이 다른 형태를 가지더라도, 그 뿌리 단어를 찾아가서 단어의 개수를 줄일 수 있는지 판단**합니다. 예를 들어서 **am, are, is**는 서로 다른 스펠링이지만 그 **뿌리 단어는 be**라고 볼 수 있습니다. 이 때, 이 단어들의 표제어는 be라고 합니다.\n",
    "\n",
    "표제어 추출을 하는 가장 섬세한 방법은 단어의 형태학적 파싱을 먼저 진행하는 것입니다. 형태소란 '의미를 가진 가장 작은 단위'를 뜻합니다. 그리고 형태학(morphology)이란, 형태소로부터 단어들을 만들어가는 학문을 뜻합니다.\n",
    "\n",
    "형태소는 두 가지 종류가 있습니다. 각각 어간(stem)과 접사(affix)입니다.  \n",
    "\n",
    "**1) 어간(stem)\n",
    ": 단어의 의미를 담고 있는 단어의 핵심 부분.   \n",
    "2) 접사(affix)\n",
    ": 단어에 추가적인 의미를 주는 부분.**\n",
    "\n",
    "형태학적 파싱은 이 두 가지 구성 요소를 분리하는 작업을 말합니다. 가령, cats라는 단어에 대해 형태학적 파싱을 수행한다면, 형태학적 파싱은 결과로 cat(어간)와 -s(접사)를 분리합니다. 꼭 두 가지로 분리되지 않는 경우도 있습니다. 단어 fox는 형태학적 파싱을 한다고 하더라도 더 이상 분리할 수 없습니다. fox는 독립적인 형태소이기 때문입니다. 이와 유사하게 cat 또한 더 이상 분리되지 않습니다.\n",
    "\n",
    "NLTK에서는 표제어 추출을 위한 도구인 WordNetLemmatizer를 지원합니다. 이를 통해 표제어 추출을 실습해보도록 하겠습니다."
   ]
  },
  {
   "cell_type": "code",
   "execution_count": 23,
   "id": "0f8f523c",
   "metadata": {
    "ExecuteTime": {
     "end_time": "2021-07-29T03:21:26.104028Z",
     "start_time": "2021-07-29T03:21:26.099944Z"
    }
   },
   "outputs": [
    {
     "name": "stdout",
     "output_type": "stream",
     "text": [
      "['policy',\n",
      " 'doing',\n",
      " 'organization',\n",
      " 'have',\n",
      " 'going',\n",
      " 'love',\n",
      " 'life',\n",
      " 'fly',\n",
      " 'dy',\n",
      " 'watched',\n",
      " 'ha',\n",
      " 'starting']\n"
     ]
    }
   ],
   "source": [
    "from nltk.stem import WordNetLemmatizer\n",
    "n=WordNetLemmatizer()\n",
    "words=['policy', 'doing', 'organization', 'have', 'going', 'love', 'lives', 'fly', 'dies'\n",
    "       , 'watched', 'has', 'starting']\n",
    "pprint.pprint([n.lemmatize(w) for w in words])"
   ]
  },
  {
   "cell_type": "markdown",
   "id": "4921e4be",
   "metadata": {},
   "source": [
    "잠시 후 어간 추출(stemming)에 대해서 배우고, 같은 입력에 대한 결과를 비교해보시면 알겠지만 표제어 추출은 어간 추출과는 달리 단어의 형태가 적절히 보존되는 양상을 보이는 특징이 있습니다. 하지만 그럼에도 위의 결과에서는 dy나 ha와 같이 의미를 알 수 없는 적절하지 못한 단어를 출력하고 있습니다. 이는 표제어 추출기(lemmatizer)가 본래 단어의 품사 정보를 알아야만 정확한 결과를 얻을 수 있기 때문입니다."
   ]
  },
  {
   "cell_type": "markdown",
   "id": "8e79a5dd",
   "metadata": {},
   "source": [
    "WordNetLemmatizer는 입력으로 단어가 동사 품사라는 사실을 알려줄 수 있습니다. 즉, dies와 watched, has가 문장에서 동사로 쓰였다는 것을 알려준다면 표제어 추출기는 품사의 정보를 보존하면서 정확한 Lemma를 출력하게 됩니다.\n",
    "\n"
   ]
  },
  {
   "cell_type": "code",
   "execution_count": 24,
   "id": "3147e2e5",
   "metadata": {
    "ExecuteTime": {
     "end_time": "2021-07-29T03:23:16.810868Z",
     "start_time": "2021-07-29T03:23:16.807324Z"
    }
   },
   "outputs": [
    {
     "data": {
      "text/plain": [
       "'die'"
      ]
     },
     "execution_count": 24,
     "metadata": {},
     "output_type": "execute_result"
    }
   ],
   "source": [
    "n.lemmatize('dies', 'v')"
   ]
  },
  {
   "cell_type": "code",
   "execution_count": 28,
   "id": "7ea3f825",
   "metadata": {
    "ExecuteTime": {
     "end_time": "2021-07-29T03:23:35.167672Z",
     "start_time": "2021-07-29T03:23:35.164102Z"
    }
   },
   "outputs": [
    {
     "data": {
      "text/plain": [
       "'watch'"
      ]
     },
     "execution_count": 28,
     "metadata": {},
     "output_type": "execute_result"
    }
   ],
   "source": [
    "n.lemmatize('watched', 'v')"
   ]
  },
  {
   "cell_type": "code",
   "execution_count": 29,
   "id": "098216ad",
   "metadata": {
    "ExecuteTime": {
     "end_time": "2021-07-29T03:23:39.548825Z",
     "start_time": "2021-07-29T03:23:39.545247Z"
    }
   },
   "outputs": [
    {
     "data": {
      "text/plain": [
       "'have'"
      ]
     },
     "execution_count": 29,
     "metadata": {},
     "output_type": "execute_result"
    }
   ],
   "source": [
    "n.lemmatize('has', 'v')"
   ]
  },
  {
   "cell_type": "markdown",
   "id": "e67e93b0",
   "metadata": {},
   "source": [
    "어간 추출에 대해서 언급하기에 앞서, 표제어 추출과 어간 추출의 차이에 대해 미리 언급하고자 합니다. 표제어 추출은 문맥을 고려하며, 수행했을 때의 결과는 해당 단어의 품사 정보를 보존합니다. (품사 태깅 POS 태그를 보존한다고도 말할 수 있습니다.)\n",
    "\n",
    "하지만, 어간 추출을 수행한 결과는 품사 정보가 보존되지 않습니다. (다시 말해 POS 태그를 고려하지 않습니다.) 더 정확히는, 어간 추출을 한 결과는 사전에 존재하지 않는 단어일 경우가 많습니다."
   ]
  },
  {
   "cell_type": "markdown",
   "id": "31c34833",
   "metadata": {},
   "source": [
    "## 3.2 어간 추출(Stemming)\n",
    "어간(Stem)을 추출하는 작업을 어간 추출(stemming)이라고 합니다. 어간 추출은 형태학적 분석을 단순화한 버전이라고 볼 수도 있고, 정해진 규칙만 보고 단어의 어미를 자르는 어림짐작의 작업이라고 볼 수도 있습니다. 다시 말해, 이 작업은 섬세한 작업이 아니기 때문에 어간 추출 후에 나오는 결과 단어는 사전에 존재하지 않는 단어일 수도 있습니다.\n",
    "\n",
    "설명이 어렵게 느껴질 수 있는데, 예제를 보면 쉽게 이해할 수 있습니다. 어간 추출 알고리즘 중 하나인 포터 알고리즘(Porter Algorithm)에 아래의 Text를 입력으로 넣는다고 해봅시다.\n",
    "\n",
    "**input : This was not the map we found in Billy Bones's chest, but an accurate copy, complete in all things--names and heights and soundings--with the single exception of the red crosses and the written notes.**"
   ]
  },
  {
   "cell_type": "code",
   "execution_count": 55,
   "id": "ea745f2c",
   "metadata": {
    "ExecuteTime": {
     "end_time": "2021-07-29T03:29:58.776369Z",
     "start_time": "2021-07-29T03:29:58.772621Z"
    }
   },
   "outputs": [
    {
     "name": "stdout",
     "output_type": "stream",
     "text": [
      "['This', 'was', 'not', 'the', 'map', 'we', 'found', 'in', 'Billy', 'Bones', \"'s\", 'chest', ',', 'but', 'an', 'accurate', 'copy', ',', 'complete', 'in', 'all', 'things', '--', 'names', 'and', 'heights', 'and', 'soundings', '--', 'with', 'the', 'single', 'exception', 'of', 'the', 'red', 'crosses', 'and', 'the', 'written', 'notes', '.']\n"
     ]
    }
   ],
   "source": [
    "from nltk.stem import PorterStemmer\n",
    "from nltk.tokenize import word_tokenize\n",
    "s = PorterStemmer()\n",
    "text=\"This was not the map we found in Billy Bones's chest, but an accurate copy, complete in all things--names and heights and soundings--with the single exception of the red crosses and the written notes.\"\n",
    "words=word_tokenize(text)\n",
    "print(words)"
   ]
  },
  {
   "cell_type": "code",
   "execution_count": 36,
   "id": "e472951e",
   "metadata": {
    "ExecuteTime": {
     "end_time": "2021-07-29T03:26:52.786846Z",
     "start_time": "2021-07-29T03:26:52.783514Z"
    }
   },
   "outputs": [
    {
     "name": "stdout",
     "output_type": "stream",
     "text": [
      "['thi', 'wa', 'not', 'the', 'map', 'we', 'found', 'in', 'billi', 'bone', \"'s\", 'chest', ',', 'but', 'an', 'accur', 'copi', ',', 'complet', 'in', 'all', 'thing', '--', 'name', 'and', 'height', 'and', 'sound', '--', 'with', 'the', 'singl', 'except', 'of', 'the', 'red', 'cross', 'and', 'the', 'written', 'note', '.']\n"
     ]
    }
   ],
   "source": [
    "print([s.stem(w) for w in words])"
   ]
  },
  {
   "cell_type": "markdown",
   "id": "90799272",
   "metadata": {},
   "source": [
    "위의 알고리즘의 결과에는 사전에 없는 단어들도 포함되어 있습니다. 위의 어간 추출은 단순 규칙에 기반하여 이루어지기 때문입니다.\n",
    "\n",
    "가령, 포터 알고리즘의 어간 추출은 이러한 규칙들을 가집니다.  \n",
    "ALIZE → AL  \n",
    "ANCE → 제거  \n",
    "ICAL → IC"
   ]
  },
  {
   "cell_type": "code",
   "execution_count": 57,
   "id": "897bc2c1",
   "metadata": {
    "ExecuteTime": {
     "end_time": "2021-07-29T03:30:18.110523Z",
     "start_time": "2021-07-29T03:30:18.107571Z"
    }
   },
   "outputs": [
    {
     "name": "stdout",
     "output_type": "stream",
     "text": [
      "['formal', 'allow', 'electric']\n"
     ]
    }
   ],
   "source": [
    "words=['formalize', 'allowance', 'electricical']\n",
    "print([s.stem(w) for w in words])"
   ]
  },
  {
   "cell_type": "markdown",
   "id": "182f9e4d",
   "metadata": {},
   "source": [
    "위의 규칙에 따라서 다음과 같은 결과가 나옵니다.  \n",
    "formalize → formal  \n",
    "allowance → allow  \n",
    "electricical → electric\n",
    "\n",
    "※ Porter 알고리즘의 상세 규칙은 마틴 포터의 홈페이지에서 확인할 수 있다.\n",
    "\n",
    "어간 추출 속도는 표제어 추출보다 일반적으로 빠른데, 포터 어간 추출기는 정밀하게 설계되어 정확도가 높으므로 영어 자연어 처리에서 어간 추출을 하고자 한다면 가장 준수한 선택입니다. NLTK에서는 포터 알고리즘 외에도 랭커스터 스태머(Lancaster Stemmer) 알고리즘을 지원합니다. 이번에는 포터 알고리즘과 랭커스터 스태머 알고리즘으로 각각 어간 추출을 진행했을 때, 이 둘의 결과를 비교해보도록 하겠습니다."
   ]
  },
  {
   "cell_type": "code",
   "execution_count": 71,
   "id": "a41d6f0e",
   "metadata": {
    "ExecuteTime": {
     "end_time": "2021-07-29T03:35:41.188752Z",
     "start_time": "2021-07-29T03:35:41.183150Z"
    }
   },
   "outputs": [
    {
     "data": {
      "text/plain": [
       "[('policy', 'polici'),\n",
       " ('doing', 'do'),\n",
       " ('organization', 'organ'),\n",
       " ('have', 'have'),\n",
       " ('going', 'go'),\n",
       " ('love', 'love'),\n",
       " ('lives', 'live'),\n",
       " ('fly', 'fli'),\n",
       " ('dies', 'die'),\n",
       " ('watched', 'watch'),\n",
       " ('has', 'ha'),\n",
       " ('starting', 'start')]"
      ]
     },
     "execution_count": 71,
     "metadata": {},
     "output_type": "execute_result"
    }
   ],
   "source": [
    "# porter stemmer\n",
    "from nltk.stem import PorterStemmer\n",
    "s=PorterStemmer()\n",
    "words=['policy', 'doing', 'organization', 'have', 'going', 'love', 'lives', 'fly', 'dies', 'watched', 'has', 'starting']\n",
    "list(zip(words, [s.stem(w) for w in words]))"
   ]
  },
  {
   "cell_type": "code",
   "execution_count": 72,
   "id": "76f099a9",
   "metadata": {
    "ExecuteTime": {
     "end_time": "2021-07-29T03:36:05.858708Z",
     "start_time": "2021-07-29T03:36:05.853265Z"
    }
   },
   "outputs": [
    {
     "data": {
      "text/plain": [
       "[('policy', 'policy'),\n",
       " ('doing', 'doing'),\n",
       " ('organization', 'org'),\n",
       " ('have', 'hav'),\n",
       " ('going', 'going'),\n",
       " ('love', 'lov'),\n",
       " ('lives', 'liv'),\n",
       " ('fly', 'fly'),\n",
       " ('dies', 'die'),\n",
       " ('watched', 'watch'),\n",
       " ('has', 'has'),\n",
       " ('starting', 'start')]"
      ]
     },
     "execution_count": 72,
     "metadata": {},
     "output_type": "execute_result"
    }
   ],
   "source": [
    "#Lancaster Stemmer\n",
    "from nltk.stem import LancasterStemmer\n",
    "l=LancasterStemmer()\n",
    "words=['policy', 'doing', 'organization', 'have', 'going', 'love', 'lives', 'fly', 'dies', 'watched', 'has', 'starting']\n",
    "# print([l.stem(w) for w in words])\n",
    "list(zip(words, [l.stem(w) for w in words]))"
   ]
  },
  {
   "cell_type": "markdown",
   "id": "14d3e8f1",
   "metadata": {},
   "source": [
    "동일한 단어들의 나열에 대해서 두 스태머는 전혀 다른 결과를 보여줍니다. 두 스태머 알고리즘은 서로 다른 알고리즘을 사용하기 때문입니다. 그렇기 때문에 이미 알려진 알고리즘을 사용할 때는, 사용하고자 하는 코퍼스에 스태머를 적용해보고 **어떤 스태머가 해당 코퍼스에 적합한지를 판단한 후에 사용하여야 합니다.**\n",
    "\n",
    "이런 규칙에 기반한 알고리즘은 종종 제대로 된 일반화를 수행하지 못 할 수 있습니다. 어간 추출을 하고나서 일반화가 지나치게 되거나, 또는 덜 되거나 하는 경우입니다. 예를 들어 포터 알고리즘에서 organization을 어간 추출했을 때의 결과를 봅시다.\n",
    "\n",
    "organization → organ\n",
    "\n",
    "organization과 organ은 완전히 다른 단어 임에도 organization에 대해서 어간 추출을 했더니 organ이라는 단어가 나왔습니다. organ에 대해서 어간 추출을 한다고 하더라도 결과는 역시 organ이 되기 때문에, 두 단어에 대해서 어간 추출을 한다면 동일한 어간을 갖게 됩니다. 이는 어간 추출의 목적에는 맞지 않습니다.\n",
    "\n",
    "마지막으로, 같은 단어에 대해서 표제어 추출과 어간 추출을 각각 수행했을 때, 결과에서 어떤 차이가 있는지 간단한 예를 보겠습니다.\n",
    "\n",
    "**Stemming**\n",
    "am → am  \n",
    "the going → the go  \n",
    "having → hav  \n",
    "  \n",
    "**Lemmatization**  \n",
    "am → be  \n",
    "the going → the going  \n",
    "having → have"
   ]
  },
  {
   "cell_type": "markdown",
   "id": "9e7f3c57",
   "metadata": {},
   "source": [
    "한국어에서의 어간 추출\n",
    "한국어에 대해서는 별도 실습은 진행하지 않지만, 한국어의 어간에 대해서 간략히 설명합니다. 한국어는 아래의 표와 같이 5언 9품사의 구조를 가지고 있습니다."
   ]
  },
  {
   "cell_type": "code",
   "execution_count": 3,
   "id": "a70e055f",
   "metadata": {
    "ExecuteTime": {
     "end_time": "2021-07-29T12:29:03.300470Z",
     "start_time": "2021-07-29T12:29:03.292600Z"
    }
   },
   "outputs": [
    {
     "data": {
      "text/html": [
       "<div>\n",
       "<style scoped>\n",
       "    .dataframe tbody tr th:only-of-type {\n",
       "        vertical-align: middle;\n",
       "    }\n",
       "\n",
       "    .dataframe tbody tr th {\n",
       "        vertical-align: top;\n",
       "    }\n",
       "\n",
       "    .dataframe thead th {\n",
       "        text-align: right;\n",
       "    }\n",
       "</style>\n",
       "<table border=\"1\" class=\"dataframe\">\n",
       "  <thead>\n",
       "    <tr style=\"text-align: right;\">\n",
       "      <th></th>\n",
       "      <th>언</th>\n",
       "      <th>품사</th>\n",
       "    </tr>\n",
       "  </thead>\n",
       "  <tbody>\n",
       "    <tr>\n",
       "      <th>0</th>\n",
       "      <td>체언</td>\n",
       "      <td>명사, 대명사, 수사</td>\n",
       "    </tr>\n",
       "    <tr>\n",
       "      <th>1</th>\n",
       "      <td>수식언</td>\n",
       "      <td>관형사, 부사</td>\n",
       "    </tr>\n",
       "    <tr>\n",
       "      <th>2</th>\n",
       "      <td>관계연</td>\n",
       "      <td>조사</td>\n",
       "    </tr>\n",
       "    <tr>\n",
       "      <th>3</th>\n",
       "      <td>독립언</td>\n",
       "      <td>감탄사</td>\n",
       "    </tr>\n",
       "    <tr>\n",
       "      <th>4</th>\n",
       "      <td>용언</td>\n",
       "      <td>동사, 형용사</td>\n",
       "    </tr>\n",
       "  </tbody>\n",
       "</table>\n",
       "</div>"
      ],
      "text/plain": [
       "     언           품사\n",
       "0   체언  명사, 대명사, 수사\n",
       "1  수식언      관형사, 부사\n",
       "2  관계연           조사\n",
       "3  독립언          감탄사\n",
       "4   용언      동사, 형용사"
      ]
     },
     "execution_count": 3,
     "metadata": {},
     "output_type": "execute_result"
    }
   ],
   "source": [
    "pd.DataFrame({\"언\":[\"체언\", \"수식언\", \"관계연\", \"독립언\", \"용언\"]\n",
    "                   , \"품사\":[\"명사, 대명사, 수사\", \"관형사, 부사\", \"조사\", \"감탄사\", \"동사, 형용사\"]})"
   ]
  },
  {
   "cell_type": "markdown",
   "id": "a1396674",
   "metadata": {},
   "source": [
    "이 중 용언에 해당되는 '동사'와 '형용사'는 어간(stem)과 어미(ending)의 결합으로 구성됩니다. 앞으로 용언이라고 언급하는 부분은 전부 동사와 형용사를 포함하여 언급하는 개념입니다."
   ]
  },
  {
   "cell_type": "markdown",
   "id": "d871e40e",
   "metadata": {},
   "source": [
    "### 3.2.1 활용(conjugation)\n",
    "활용(conjugation)은 한국어에서만 가지는 특징이 아니라, 인도유럽어(indo-european language)에서도 주로 볼 수 있는 언어적 특징 중 하나를 말하는 통칭적인 개념입니다. 다만, 여기서는 한국어에 한정하여 설명합니다.\n",
    "\n",
    "활용이란 용언의 어간(stem)이 어미(ending)를 가지는 일을 말합니다.\n",
    "\n",
    "어간(stem) : 용언(동사, 형용사)을 활용할 때, 원칙적으로 모양이 변하지 않는 부분. 활용에서 어미에 선행하는 부분. 때론 어간의 모양도 바뀔 수 있음(예: 긋다, 긋고, 그어서, 그어라).\n",
    "\n",
    "어미(ending): 용언의 어간 뒤에 붙어서 활용하면서 변하는 부분이며, 여러 문법적 기능을 수행\n",
    "\n",
    "활용은 어간이 어미를 취할 때, 어간의 모습이 일정하다면 규칙 활용, 어간이나 어미의 모습이 변하는 불규칙 활용으로 나뉩니다."
   ]
  },
  {
   "cell_type": "markdown",
   "id": "f08cbb51",
   "metadata": {},
   "source": [
    "### 3.2.2 규칙 활용\n",
    "규칙 활용은 어간이 어미를 취할 때, 어간의 모습이 일정합니다. 아래의 예제는 어간과 어미가 합쳐질 때, 어간의 형태가 바뀌지 않음을 보여줍니다.\n",
    "\n",
    "**잡다 =  \n",
    "잡(어간) + 다(어미)**\n",
    "\n",
    "이 경우에는 어간이 어미가 붙기전의 모습과 어미가 붙은 후의 모습이 같으므로, 규칙 기반으로 어미를 단순히 분리해주면 어간 추출이 됩니다.\n",
    "\n",
    "\n"
   ]
  },
  {
   "cell_type": "markdown",
   "id": "3ed7f6c3",
   "metadata": {},
   "source": [
    "### 3.2.3 불규칙 활용\n",
    "불규칙 활용은 어간이 어미를 취할 때 어간의 모습이 바뀌거나 취하는 어미가 특수한 어미일 경우를 말합니다.\n",
    "\n",
    "예를 들어   \n",
    "‘듣-, 돕-, 곱-, 잇-, 오르-, 노랗-’ 등이 ‘듣/들-, 돕/도우-, 곱/고우-, 잇/이-, 올/올-, 노랗/노라-’와 같이  \n",
    "어간의 형식이 달라지는 일이 있거나  \n",
    "‘오르+ 아/어→올라, 하+아/어→하여, 이르+아/어→이르러, 푸르+아/어→푸르러’와 같이 \n",
    "일반적인 어미가 아닌 특수한 어미를 취하는 경우 불규칙활용을 하는 예에 속합니다.\n",
    "\n",
    "이 경우에는 어간이 어미가 붙는 과정에서 어간의 모습이 바뀌었으므로 단순한 분리만으로 어간 추출이 되지 않고 좀 더 복잡한 규칙을 필요로 합니다.\n",
    "\n",
    "아래의 링크는 다양한 불규칙 활용의 예를 보여줍니다.  \n",
    "링크 : https://namu.wiki/w/한국어/불규칙%20활용"
   ]
  },
  {
   "cell_type": "markdown",
   "id": "5472170b",
   "metadata": {},
   "source": [
    "# 4. 불용어(Stopword)\n",
    "\n",
    "갖고 있는 데이터에서 유의미한 단어 토큰만을 선별하기 위해서는 큰 의미가 없는 단어 토큰을 제거하는 작업이 필요합니다. 여기서 큰 의미가 없다라는 것은 자주 등장하지만 분석을 하는 것에 있어서는 큰 도움이 되지 않는 단어들을 말합니다. 예를 들면, I, my, me, over, 조사, 접미사 같은 단어들은 문장에서는 자주 등장하지만 실제 의미 분석을 하는데는 거의 기여하는 바가 없는 경우가 있습니다. 이러한 단어들을 불용어(stopword)라고 하며, NLTK에서는 위와 같은 100여개 이상의 영어 단어들을 불용어로 패키지 내에서 미리 정의하고 있습니다.\n",
    "\n",
    "물론 불용어는 개발자가 직접 정의할 수도 있습니다. 이번 챕터에서는 영어 문장에서 NLTK가 정의한 영어 불용어를 제거하는 실습을 하고, 한국어 문장에서 직접 정의한 불용어를 제거해보겠습니다.\n",
    "\n",
    "NLTK 실습에서는 1챕터에서 언급했듯이 NLTK Data가 필요합니다. 만약, 데이터가 없다는 에러가 발생 시에는 nltk.download(필요한 데이터)라는 커맨드를 통해 다운로드 할 수 있습니다. 해당 커맨드 또한 에러가 발생할 경우 1챕터의 NLTK Data 가이드를 참고 바랍니다."
   ]
  },
  {
   "cell_type": "markdown",
   "id": "6476618c",
   "metadata": {},
   "source": [
    "## 4.1 NLTK에서 불용어 확인하기"
   ]
  },
  {
   "cell_type": "code",
   "execution_count": 115,
   "id": "cf4b5e08",
   "metadata": {
    "ExecuteTime": {
     "end_time": "2021-07-29T04:09:57.715658Z",
     "start_time": "2021-07-29T04:09:57.712371Z"
    }
   },
   "outputs": [
    {
     "ename": "SyntaxError",
     "evalue": "invalid syntax (<ipython-input-115-d658826d422e>, line 3)",
     "output_type": "error",
     "traceback": [
      "\u001b[0;36m  File \u001b[0;32m\"<ipython-input-115-d658826d422e>\"\u001b[0;36m, line \u001b[0;32m3\u001b[0m\n\u001b[0;31m    print('stopwords.words(\"english\")는 NLTK가 정의한 영어 불용어 리스트를 리턴합니다. 출력 결과가 100개 이상이기 때문에 여기서는 간단히 10개만 확인해보았습니다. 'i', 'me', 'my'와 같은 단어들을 NLTK에서 불용어로 정의하고 있음을 확인할 수 있습니다.')\u001b[0m\n\u001b[0m                                                                                                                  ^\u001b[0m\n\u001b[0;31mSyntaxError\u001b[0m\u001b[0;31m:\u001b[0m invalid syntax\n"
     ]
    }
   ],
   "source": [
    "from nltk.corpus import stopwords  \n",
    "stopwords.words('english')[:10]  "
   ]
  },
  {
   "cell_type": "markdown",
   "id": "d8118615",
   "metadata": {},
   "source": [
    "stopwords.words(\"english\")는 NLTK가 정의한 영어 불용어 리스트를 리턴합니다.  \n",
    "출력 결과가 100개 이상이기 때문에 여기서는 간단히 10개만 확인해보았습니다. 'i', 'me', 'my'와 같은 단어들을 NLTK에서 불용어로 정의하고 있음을 확인할 수 있습니다."
   ]
  },
  {
   "cell_type": "markdown",
   "id": "53602586",
   "metadata": {},
   "source": [
    "## 4.2 NLTK를 통해서 불용어 제거하기"
   ]
  },
  {
   "cell_type": "code",
   "execution_count": 116,
   "id": "f20a0601",
   "metadata": {
    "ExecuteTime": {
     "end_time": "2021-07-29T04:10:38.487929Z",
     "start_time": "2021-07-29T04:10:38.481734Z"
    }
   },
   "outputs": [
    {
     "name": "stdout",
     "output_type": "stream",
     "text": [
      "['Family', 'is', 'not', 'an', 'important', 'thing', '.', 'It', \"'s\", 'everything', '.']\n",
      "['Family', 'important', 'thing', '.', 'It', \"'s\", 'everything', '.']\n"
     ]
    }
   ],
   "source": [
    "from nltk.corpus import stopwords \n",
    "from nltk.tokenize import word_tokenize \n",
    "\n",
    "example = \"Family is not an important thing. It's everything.\"\n",
    "stop_words = set(stopwords.words('english')) \n",
    "\n",
    "word_tokens = word_tokenize(example)\n",
    "\n",
    "result = []\n",
    "for w in word_tokens: \n",
    "    if w not in stop_words: \n",
    "        result.append(w) \n",
    "\n",
    "print(word_tokens) \n",
    "print(result) "
   ]
  },
  {
   "cell_type": "markdown",
   "id": "bf8897df",
   "metadata": {},
   "source": [
    "위 코드는 \"Family is not an important thing. It's everything.\"라는 임의의 문장을 정의하고, NLTK가 정의하고 있는 불용어를 제외한 결과를 출력하고 있습니다. 'is', 'not', 'an'과 같은 단어들이 문장에서 제거되었음을 볼 수 있습니다."
   ]
  },
  {
   "cell_type": "markdown",
   "id": "e2500584",
   "metadata": {},
   "source": [
    "## 4.3 한국어에서 불용어 제거하기\n",
    "한국어에서 불용어를 제거하는 방법으로는 간단하게는 토큰화 후에 조사, 접속사 등을 제거하는 방법이 있습니다. 하지만 불용어를 제거하려고 하다보면 조사나 접속사와 같은 단어들뿐만 아니라 명사, 형용사와 같은 단어들 중에서 불용어로서 제거하고 싶은 단어들이 생기기도 합니다. 결국에는 사용자가 직접 불용어 사전을 만들게 되는 경우가 많습니다. 이번에는 직접 불용어를 정의해보고, 주어진 문장으로부터 직접 정의한 불용어 사전을 참고로 불용어를 제거해보겠습니다."
   ]
  },
  {
   "cell_type": "code",
   "execution_count": 123,
   "id": "f1bbde84",
   "metadata": {
    "ExecuteTime": {
     "end_time": "2021-07-29T04:14:27.782272Z",
     "start_time": "2021-07-29T04:14:27.778384Z"
    }
   },
   "outputs": [
    {
     "name": "stdout",
     "output_type": "stream",
     "text": [
      "['고기를', '아무렇게나', '구우려고', '하면', '안', '돼', '.', '고기라고', '다', '같은', '게', '아니거든', '.', '예컨대', '삼겹살을', '구울', '때는', '중요한', '게', '있지', '.']\n",
      "['고기를', '구우려고', '안', '돼', '.', '고기라고', '다', '같은', '게', '.', '삼겹살을', '구울', '때는', '중요한', '게', '있지', '.']\n",
      "21 17\n"
     ]
    }
   ],
   "source": [
    "from nltk.corpus import stopwords \n",
    "from nltk.tokenize import word_tokenize \n",
    "\n",
    "example = \"고기를 아무렇게나 구우려고 하면 안 돼. 고기라고 다 같은 게 아니거든. 예컨대 삼겹살을 구울 때는 중요한 게 있지.\"\n",
    "stop_words = \"아무거나 아무렇게나 어찌하든지 같다 비슷하다 예컨대 이럴정도로 하면 아니거든\"\n",
    "# 위의 불용어는 명사가 아닌 단어 중에서 저자가 임의로 선정한 것으로 실제 의미있는 선정 기준이 아님\n",
    "stop_words=stop_words.split(' ')\n",
    "word_tokens = word_tokenize(example)\n",
    "\n",
    "result = [] \n",
    "for w in word_tokens: \n",
    "    if w not in stop_words: \n",
    "        result.append(w) \n",
    "# 위의 4줄은 아래의 한 줄로 대체 가능\n",
    "# result=[word for word in word_tokens if not word in stop_words]\n",
    "\n",
    "print(word_tokens) \n",
    "print(result)\n",
    "print(len(word_tokens), len(result))"
   ]
  },
  {
   "cell_type": "markdown",
   "id": "8b3fab1a",
   "metadata": {},
   "source": [
    "아래의 링크는 보편적으로 선택할 수 있는 한국어 불용어 리스트를 보여줍니다. (여전히 절대적인 기준은 아닙니다.)  \n",
    "링크 : https://www.ranks.nl/stopwords/korean\n",
    "\n",
    "한국어 불용어를 제거하는 더 좋은 방법은 코드 내에서 직접 정의하지 않고 txt 파일이나 csv 파일로 수많은 불용어를 정리해놓고, 이를 불러와서 사용하는 방법입니다.\n",
    "\n",
    "추가 참고 가능한 한국어 불용어 리스트 : https://bab2min.tistory.com/544\n",
    "\n"
   ]
  },
  {
   "cell_type": "markdown",
   "id": "342e383c",
   "metadata": {},
   "source": [
    "# 5. 정규 표현식(regular expression)\n",
    "텍스트 데이터를 전처리하다보면, 정규 표현식은 아주 유용한 도구로서 사용됩니다. 이번 챕터에서는 파이썬에서 지원하고 있는 정규 표현식 모듈 re의 사용 방법과 NLTK를 통한 정규 표현식을 이용한 토큰화에 대해서 알아보도록 하겠습니다.\n",
    "\n"
   ]
  },
  {
   "cell_type": "markdown",
   "id": "4c4398c3",
   "metadata": {},
   "source": [
    "## 5.1 정규 표현식 문법과 모듈 함수\n",
    "파이썬에서는 정규 표현식 모듈 re을 지원하므로, 이를 이용하면 특정 규칙이 있는 텍스트 데이터를 빠르게 정제할 수 있습니다. 본격적으로 정규 표현식에 대해서 실습해보기에 앞서 정규 표현식을 위해 사용되는 특수 문자와 모듈 함수에 대해서 알아보도록 하겠습니다."
   ]
  },
  {
   "cell_type": "markdown",
   "id": "654f613d",
   "metadata": {},
   "source": [
    "### 5.1.1 정규 표현식 문법\n",
    "정규 표현식을 위해 사용되는 문법 중 특수 문자들은 아래와 같습니다.\n",
    "\n"
   ]
  },
  {
   "cell_type": "markdown",
   "id": "9ca554c4",
   "metadata": {},
   "source": [
    "특수 문자\t설명  \n",
    "- .\t한 개의 임의의 문자를 나타냅니다. (줄바꿈 문자인 \\n는 제외)  \n",
    "- ?\t앞의 문자가 존재할 수도 있고, 존재하지 않을 수도 있습니다. (문자가 0개 또는 1개)  \n",
    "- \\*\t앞의 문자가 무한개로 존재할 수도 있고, 존재하지 않을 수도 있습니다. (문자가 0개 이상)  \n",
    "- \\+\t앞의 문자가 최소 한 개 이상 존재합니다. (문자가 1개 이상)  \n",
    "- ^\t뒤의 문자로 문자열이 시작됩니다.  \n",
    "- $\t앞의 문자로 문자열이 끝납니다.  \n",
    "- {숫자}\t숫자만큼 반복합니다.  \n",
    "- {숫자1, 숫자2}\t 숫자1 이상 숫자2 이하만큼 반복합니다. ?, *, +를 이것으로 대체할 수 있습니다.  \n",
    "- {숫자,}\t 숫자 이상만큼 반복합니다.  \n",
    "- [ ]\t 대괄호 안의 문자들 중 한 개의 문자와 매치합니다. [amk]라고 한다면 a 또는 m 또는 k 중 하나라도 존재하면 매치를 의미합니다. [a-z]와 같이 범위를 지정할 수도 있습니다. [a-zA-Z]는 알파벳 전체를 의미하는 범위이며, 문자열에 알파벳이 존재하면 매치를 의미합니다.  \n",
    "- [^문자]\t 해당 문자를 제외한 문자를 매치합니다.  \n",
    "- l\tAlB와 같이 쓰이며 A 또는 B의 의미를 가집니다.  "
   ]
  },
  {
   "cell_type": "markdown",
   "id": "130fe0c4",
   "metadata": {},
   "source": [
    "정규 표현식 문법에는 역 슬래쉬(\\)를 이용하여 자주 쓰이는 문자 규칙들이 있습니다.\n",
    "\n",
    "문자 규칙\t설명  \n",
    "- \\\t역 슬래쉬 문자 자체를 의미합니다  \n",
    "- \\d\t모든 숫자를 의미합니다. [0-9]와 의미가 동일합니다.  \n",
    "- \\D\t숫자를 제외한 모든 문자를 의미합니다. [^0-9]와 의미가 동일합니다.  \n",
    "- \\s\t공백을 의미합니다. [ \\t\\n\\r\\f\\v]와 의미가 동일합니다.  \n",
    "- \\S\t공백을 제외한 문자를 의미합니다. [^ \\t\\n\\r\\f\\v]와 의미가 동일합니다.  \n",
    "- \\w\t문자 또는 숫자를 의미합니다. [a-zA-Z0-9]와 의미가 동일합니다.  \n",
    "- \\W\t문자 또는 숫자가 아닌 문자를 의미합니다. [^a-zA-Z0-9]와 의미가 동일합니다.  "
   ]
  },
  {
   "cell_type": "markdown",
   "id": "316b4394",
   "metadata": {},
   "source": [
    "### 5.1.2 정규표현식 모듈 함수\n",
    "정규표현식 모듈에서 지원하는 함수는 이와 같습니다."
   ]
  },
  {
   "cell_type": "markdown",
   "id": "dd17a4d7",
   "metadata": {},
   "source": [
    "모듈 함수\t설명  \n",
    "- re.compile()\t정규표현식을 컴파일하는 함수입니다. 다시 말해, 파이썬에게 전해주는 역할을 합니다. 찾고자 하는 패턴이 빈번한 경우에는 미리 컴파일해놓고 사용하면 속도와 편의성면에서 유리합니다.  \n",
    "- re.search()\t문자열 전체에 대해서 정규표현식과 매치되는지를 검색합니다.  \n",
    "- re.match()\t문자열의 처음이 정규표현식과 매치되는지를 검색합니다.  \n",
    "- re.split()\t정규 표현식을 기준으로 문자열을 분리하여 리스트로 리턴합니다.  \n",
    "- re.findall()\t문자열에서 정규 표현식과 매치되는 모든 경우의 문자열을 찾아서 리스트로 리턴합니다. 만약, 매치되는 문자열이 없다면 빈 리스트가 리턴됩니다.  \n",
    "- re.finditer()\t문자열에서 정규 표현식과 매치되는 모든 경우의 문자열에 대한 이터레이터 객체를 리턴합니다.  \n",
    "- re.sub()\t문자열에서 정규 표현식과 일치하는 부분에 대해서 다른 문자열로 대체합니다.  \n",
    "\n",
    "앞으로 진행될 실습에서는 re.compile()에 정규 표현식을 컴파일하고, re.search()를 통해서 해당 정규 표현식이 입력 텍스트와 매치되는지를 확인하면서 각 정규 표현식에 대해서 이해해보도록 하겠습니다. re.search() 함수는 매치된다면 Match Object를 리턴하고, 매치되지 않으면 아무런 값도 출력되지 않습니다."
   ]
  },
  {
   "cell_type": "markdown",
   "id": "73296b7b",
   "metadata": {},
   "source": [
    "## 5.2 정규 표현식 실습\n",
    "앞서 표로 봤던 정규 표현식 특수 문자에 대해서 직접 예제를 통해 이해해보도록 하겠습니다."
   ]
  },
  {
   "cell_type": "markdown",
   "id": "3e415c1e",
   "metadata": {},
   "source": [
    "### 5.2.1 .기호\n",
    ".은 한 개의 임의의 문자를 나타냅니다. 예를 들어서 정규 표현식이 a.c라고 합시다. a와 c 사이에는 어떤 1개의 문자라도 올 수 있습니다. 즉, akc, azc, avc, a5c, a!c와 같은 형태는 모두 a.c의 정규 표현식과 매치됩니다. 실제 예제를 통해 이해해보도록 하겠습니다."
   ]
  },
  {
   "cell_type": "code",
   "execution_count": 125,
   "id": "bcfefe70",
   "metadata": {
    "ExecuteTime": {
     "end_time": "2021-07-29T04:24:49.634417Z",
     "start_time": "2021-07-29T04:24:49.631718Z"
    }
   },
   "outputs": [],
   "source": [
    "import re\n",
    "r=re.compile(\"a.c\")\n",
    "r.search(\"kkk\") # 아무런 결과도 출력되지 않는다."
   ]
  },
  {
   "cell_type": "code",
   "execution_count": 127,
   "id": "ff82b04c",
   "metadata": {
    "ExecuteTime": {
     "end_time": "2021-07-29T04:25:13.772085Z",
     "start_time": "2021-07-29T04:25:13.768694Z"
    }
   },
   "outputs": [
    {
     "data": {
      "text/plain": [
       "<re.Match object; span=(0, 3), match='abc'>"
      ]
     },
     "execution_count": 127,
     "metadata": {},
     "output_type": "execute_result"
    }
   ],
   "source": [
    "r.search(\"abc\")"
   ]
  },
  {
   "cell_type": "markdown",
   "id": "ca05aa48",
   "metadata": {},
   "source": [
    "위의 코드는 search의 입력으로 들어오는 문자열에 정규표현식 패턴 a.c이 존재하는지를 확인하는 코드입니다. (.)은 어떤 문자로도 인식될 수 있기 때문에 abc라는 문자열은 a.c라는 정규 표현식 패턴으로 매치되는 것을 볼 수 있습니다.\n",
    "\n"
   ]
  },
  {
   "cell_type": "markdown",
   "id": "e3ac3657",
   "metadata": {},
   "source": [
    "### 5.2.2 ?기호\n",
    "?는 ? 앞의 문자가 존재할 수도 있고, 존재하지 않을 수도 있는 경우를 나타냅니다. 예를 들어서 정규 표현식이 ab?c라고 합시다. 이 경우 이 정규 표현식에서의 b는 있다고 취급할 수도 있고, 없다고 취급할 수도 있습니다. 즉, abc와 ac 모두 매치할 수 있습니다."
   ]
  },
  {
   "cell_type": "code",
   "execution_count": 128,
   "id": "2ecec994",
   "metadata": {
    "ExecuteTime": {
     "end_time": "2021-07-29T04:25:39.003528Z",
     "start_time": "2021-07-29T04:25:39.001016Z"
    }
   },
   "outputs": [],
   "source": [
    "import re\n",
    "r=re.compile(\"ab?c\")\n",
    "r.search(\"abbc\") # 아무런 결과도 출력되지 않는다."
   ]
  },
  {
   "cell_type": "code",
   "execution_count": 129,
   "id": "0799e7c1",
   "metadata": {
    "ExecuteTime": {
     "end_time": "2021-07-29T04:25:43.684867Z",
     "start_time": "2021-07-29T04:25:43.681221Z"
    }
   },
   "outputs": [
    {
     "data": {
      "text/plain": [
       "<re.Match object; span=(0, 3), match='abc'>"
      ]
     },
     "execution_count": 129,
     "metadata": {},
     "output_type": "execute_result"
    }
   ],
   "source": [
    "r.search(\"abc\")"
   ]
  },
  {
   "cell_type": "markdown",
   "id": "cb19d739",
   "metadata": {},
   "source": [
    "b가 있는 것으로 판단하여 abc를 매치하는 것을 볼 수 있습니다."
   ]
  },
  {
   "cell_type": "code",
   "execution_count": 131,
   "id": "5d270a37",
   "metadata": {
    "ExecuteTime": {
     "end_time": "2021-07-29T04:25:58.519913Z",
     "start_time": "2021-07-29T04:25:58.516374Z"
    }
   },
   "outputs": [
    {
     "data": {
      "text/plain": [
       "<re.Match object; span=(0, 2), match='ac'>"
      ]
     },
     "execution_count": 131,
     "metadata": {},
     "output_type": "execute_result"
    }
   ],
   "source": [
    "r.search(\"ac\")"
   ]
  },
  {
   "cell_type": "markdown",
   "id": "ad9d2785",
   "metadata": {},
   "source": [
    "b가 없는 것으로 판단하여 ac를 매치하는 것을 볼 수 있습니다.\n",
    "\n"
   ]
  },
  {
   "cell_type": "markdown",
   "id": "f437b7ce",
   "metadata": {},
   "source": [
    "### 5.2.3 *기호\n",
    "' * '은 바로 앞의 문자가 0개 이상일 경우를 나타냅니다. 앞의 문자는 존재하지 않을 수도 있으며, 또는 여러 개일 수도 있습니다. 예를 들어서 정규 표현식이 ab*c라고 합시다. 그렇다면 ac, abc, abbc, abbbc 등과 매치할 수 있으며 b의 갯수는 무수히 많아도 상관없습니다."
   ]
  },
  {
   "cell_type": "code",
   "execution_count": 132,
   "id": "e6ae73e7",
   "metadata": {
    "ExecuteTime": {
     "end_time": "2021-07-29T04:27:08.163835Z",
     "start_time": "2021-07-29T04:27:08.161269Z"
    }
   },
   "outputs": [],
   "source": [
    "import re\n",
    "r=re.compile(\"ab*c\")\n",
    "r.search(\"a\") # 아무런 결과도 출력되지 않는다."
   ]
  },
  {
   "cell_type": "code",
   "execution_count": 133,
   "id": "65cf00b7",
   "metadata": {
    "ExecuteTime": {
     "end_time": "2021-07-29T04:27:17.660716Z",
     "start_time": "2021-07-29T04:27:17.657187Z"
    }
   },
   "outputs": [
    {
     "data": {
      "text/plain": [
       "<re.Match object; span=(0, 2), match='ac'>"
      ]
     },
     "execution_count": 133,
     "metadata": {},
     "output_type": "execute_result"
    }
   ],
   "source": [
    "r.search(\"ac\")"
   ]
  },
  {
   "cell_type": "code",
   "execution_count": 134,
   "id": "5a78193e",
   "metadata": {
    "ExecuteTime": {
     "end_time": "2021-07-29T04:27:30.187203Z",
     "start_time": "2021-07-29T04:27:30.183779Z"
    }
   },
   "outputs": [
    {
     "data": {
      "text/plain": [
       "<re.Match object; span=(0, 3), match='abc'>"
      ]
     },
     "execution_count": 134,
     "metadata": {},
     "output_type": "execute_result"
    }
   ],
   "source": [
    "r.search(\"abc\") \n"
   ]
  },
  {
   "cell_type": "code",
   "execution_count": 135,
   "id": "54651750",
   "metadata": {
    "ExecuteTime": {
     "end_time": "2021-07-29T04:27:55.644736Z",
     "start_time": "2021-07-29T04:27:55.641131Z"
    }
   },
   "outputs": [
    {
     "data": {
      "text/plain": [
       "<re.Match object; span=(0, 6), match='abbbbc'>"
      ]
     },
     "execution_count": 135,
     "metadata": {},
     "output_type": "execute_result"
    }
   ],
   "source": [
    "r.search(\"abbbbc\") \n"
   ]
  },
  {
   "cell_type": "markdown",
   "id": "01b7331f",
   "metadata": {},
   "source": [
    "### 5.2.4 +기호\n",
    "+는 *와 유사합니다. 하지만 다른 점은 앞의 문자가 최소 1개 이상이어야 한다는 점입니다. 예를 들어서 정규 표현식이 ab+c라고 한다면, ac는 매치되지 않습니다. 하지만 abc, abbc, abbbc 등과 매치할 수 있으며 b의 갯수는 무수히 많을 수 있습니다."
   ]
  },
  {
   "cell_type": "code",
   "execution_count": 136,
   "id": "4c5e11c2",
   "metadata": {
    "ExecuteTime": {
     "end_time": "2021-07-29T04:29:05.935682Z",
     "start_time": "2021-07-29T04:29:05.932975Z"
    }
   },
   "outputs": [],
   "source": [
    "import re\n",
    "r=re.compile(\"ab+c\")\n",
    "r.search(\"ac\") # 아무런 결과도 출력되지 않는다."
   ]
  },
  {
   "cell_type": "code",
   "execution_count": 137,
   "id": "c12f2895",
   "metadata": {
    "ExecuteTime": {
     "end_time": "2021-07-29T04:29:09.808489Z",
     "start_time": "2021-07-29T04:29:09.804121Z"
    }
   },
   "outputs": [
    {
     "data": {
      "text/plain": [
       "<re.Match object; span=(0, 3), match='abc'>"
      ]
     },
     "execution_count": 137,
     "metadata": {},
     "output_type": "execute_result"
    }
   ],
   "source": [
    "r.search(\"abc\") \n"
   ]
  },
  {
   "cell_type": "code",
   "execution_count": 138,
   "id": "e764f05a",
   "metadata": {
    "ExecuteTime": {
     "end_time": "2021-07-29T04:29:25.241131Z",
     "start_time": "2021-07-29T04:29:25.237135Z"
    }
   },
   "outputs": [
    {
     "data": {
      "text/plain": [
       "<re.Match object; span=(0, 6), match='abbbbc'>"
      ]
     },
     "execution_count": 138,
     "metadata": {},
     "output_type": "execute_result"
    }
   ],
   "source": [
    "r.search(\"abbbbc\") \n"
   ]
  },
  {
   "cell_type": "markdown",
   "id": "438f159d",
   "metadata": {},
   "source": [
    "### 5.2.5 ^기호\n",
    "^는 시작되는 글자를 지정합니다. 가령 정규표현식이 ^a라면 a로 시작되는 문자열만을 찾아냅니다."
   ]
  },
  {
   "cell_type": "code",
   "execution_count": 139,
   "id": "d12227d8",
   "metadata": {
    "ExecuteTime": {
     "end_time": "2021-07-29T04:30:02.079493Z",
     "start_time": "2021-07-29T04:30:02.076554Z"
    }
   },
   "outputs": [],
   "source": [
    "import re\n",
    "r=re.compile(\"^a\")\n",
    "r.search(\"bbc\") # 아무런 결과도 출력되지 않는다."
   ]
  },
  {
   "cell_type": "code",
   "execution_count": 140,
   "id": "ff4633ce",
   "metadata": {
    "ExecuteTime": {
     "end_time": "2021-07-29T04:30:06.570374Z",
     "start_time": "2021-07-29T04:30:06.566897Z"
    }
   },
   "outputs": [
    {
     "data": {
      "text/plain": [
       "<re.Match object; span=(0, 1), match='a'>"
      ]
     },
     "execution_count": 140,
     "metadata": {},
     "output_type": "execute_result"
    }
   ],
   "source": [
    "r.search(\"ab\")                                                                                                    "
   ]
  },
  {
   "cell_type": "markdown",
   "id": "c6693ccd",
   "metadata": {},
   "source": [
    "### 5.2.6 {숫자} 기호\n",
    "문자에 해당 기호를 붙이면, 해당 문자를 숫자만큼 반복한 것을 나타냅니다. 예를 들어서 정규 표현식이 ab{2}c라면 a와 c 사이에 b가 존재하면서 b가 2개인 문자열에 대해서 매치합니다."
   ]
  },
  {
   "cell_type": "code",
   "execution_count": 141,
   "id": "8236672f",
   "metadata": {
    "ExecuteTime": {
     "end_time": "2021-07-29T04:30:28.258362Z",
     "start_time": "2021-07-29T04:30:28.255710Z"
    }
   },
   "outputs": [],
   "source": [
    "import re\n",
    "r=re.compile(\"ab{2}c\")\n",
    "r.search(\"ac\") # 아무런 결과도 출력되지 않는다.\n",
    "r.search(\"abc\") # 아무런 결과도 출력되지 않는다."
   ]
  },
  {
   "cell_type": "code",
   "execution_count": 142,
   "id": "d1ca63f0",
   "metadata": {
    "ExecuteTime": {
     "end_time": "2021-07-29T04:30:36.043442Z",
     "start_time": "2021-07-29T04:30:36.039599Z"
    }
   },
   "outputs": [
    {
     "data": {
      "text/plain": [
       "<re.Match object; span=(0, 4), match='abbc'>"
      ]
     },
     "execution_count": 142,
     "metadata": {},
     "output_type": "execute_result"
    }
   ],
   "source": [
    "r.search(\"abbc\")"
   ]
  },
  {
   "cell_type": "code",
   "execution_count": 143,
   "id": "7e864cb3",
   "metadata": {
    "ExecuteTime": {
     "end_time": "2021-07-29T04:30:52.332707Z",
     "start_time": "2021-07-29T04:30:52.330473Z"
    }
   },
   "outputs": [],
   "source": [
    "r.search(\"abbbbbc\") # 아무런 결과도 출력되지 않는다.\n"
   ]
  },
  {
   "cell_type": "markdown",
   "id": "bba4c3af",
   "metadata": {},
   "source": [
    "### 5.2.7 {숫자1, 숫자2} 기호\n",
    "문자에 해당 기호를 붙이면, 해당 문자를 숫자1 이상 숫자2 이하만큼 반복합니다. 예를 들어서 정규 표현식이 ab{2,8}c라면 a와 c 사이에 b가 존재하면서 b는 2개 이상 8개 이하인 문자열에 대해서 매치합니다."
   ]
  },
  {
   "cell_type": "code",
   "execution_count": 144,
   "id": "035ef313",
   "metadata": {
    "ExecuteTime": {
     "end_time": "2021-07-29T04:31:42.959304Z",
     "start_time": "2021-07-29T04:31:42.956426Z"
    }
   },
   "outputs": [],
   "source": [
    "import re\n",
    "r=re.compile(\"ab{2,8}c\")\n",
    "r.search(\"ac\") # 아무런 결과도 출력되지 않는다.\n",
    "r.search(\"abc\") # 아무런 결과도 출력되지 않는다."
   ]
  },
  {
   "cell_type": "code",
   "execution_count": 145,
   "id": "9edcf033",
   "metadata": {
    "ExecuteTime": {
     "end_time": "2021-07-29T04:31:49.726064Z",
     "start_time": "2021-07-29T04:31:49.722430Z"
    }
   },
   "outputs": [
    {
     "data": {
      "text/plain": [
       "<re.Match object; span=(0, 4), match='abbc'>"
      ]
     },
     "execution_count": 145,
     "metadata": {},
     "output_type": "execute_result"
    }
   ],
   "source": [
    "r.search(\"abbc\")\n"
   ]
  },
  {
   "cell_type": "code",
   "execution_count": 146,
   "id": "da89eb67",
   "metadata": {
    "ExecuteTime": {
     "end_time": "2021-07-29T04:32:03.975508Z",
     "start_time": "2021-07-29T04:32:03.972055Z"
    }
   },
   "outputs": [
    {
     "data": {
      "text/plain": [
       "<re.Match object; span=(0, 10), match='abbbbbbbbc'>"
      ]
     },
     "execution_count": 146,
     "metadata": {},
     "output_type": "execute_result"
    }
   ],
   "source": [
    "r.search(\"abbbbbbbbc\")\n"
   ]
  },
  {
   "cell_type": "code",
   "execution_count": 147,
   "id": "14a7387f",
   "metadata": {
    "ExecuteTime": {
     "end_time": "2021-07-29T04:32:08.178870Z",
     "start_time": "2021-07-29T04:32:08.176634Z"
    }
   },
   "outputs": [],
   "source": [
    "r.search(\"abbbbbbbbbc\") # 아무런 결과도 출력되지 않는다.\n"
   ]
  },
  {
   "cell_type": "markdown",
   "id": "6e23129d",
   "metadata": {},
   "source": [
    "### 5.2.8 {숫자,} 기호\n",
    "문자에 해당 기호를 붙이면 해당 문자를 숫자 이상 만큼 반복합니다. 예를 들어서 정규 표현식이 a{2,}bc라면 뒤에 bc가 붙으면서 a의 갯수가 2개 이상인 경우인 문자열과 매치합니다. 또한 만약 {0,}을 쓴다면 *와 동일한 의미가 되며, {1,}을 쓴다면 +와 동일한 의미가 됩니다.\n",
    "\n"
   ]
  },
  {
   "cell_type": "code",
   "execution_count": 148,
   "id": "28d7db3d",
   "metadata": {
    "ExecuteTime": {
     "end_time": "2021-07-29T04:32:21.631329Z",
     "start_time": "2021-07-29T04:32:21.628645Z"
    }
   },
   "outputs": [],
   "source": [
    "import re\n",
    "r=re.compile(\"a{2,}bc\")\n",
    "r.search(\"bc\") # 아무런 결과도 출력되지 않는다.\n",
    "r.search(\"aa\") # 아무런 결과도 출력되지 않는다.\n"
   ]
  },
  {
   "cell_type": "code",
   "execution_count": 149,
   "id": "872b3c1c",
   "metadata": {
    "ExecuteTime": {
     "end_time": "2021-07-29T04:32:25.757420Z",
     "start_time": "2021-07-29T04:32:25.753757Z"
    }
   },
   "outputs": [
    {
     "data": {
      "text/plain": [
       "<re.Match object; span=(0, 4), match='aabc'>"
      ]
     },
     "execution_count": 149,
     "metadata": {},
     "output_type": "execute_result"
    }
   ],
   "source": [
    "r.search(\"aabc\")\n"
   ]
  },
  {
   "cell_type": "code",
   "execution_count": 150,
   "id": "1920b8fd",
   "metadata": {
    "ExecuteTime": {
     "end_time": "2021-07-29T04:32:28.726520Z",
     "start_time": "2021-07-29T04:32:28.722551Z"
    }
   },
   "outputs": [
    {
     "data": {
      "text/plain": [
       "<re.Match object; span=(0, 10), match='aaaaaaaabc'>"
      ]
     },
     "execution_count": 150,
     "metadata": {},
     "output_type": "execute_result"
    }
   ],
   "source": [
    "r.search(\"aaaaaaaabc\")\n"
   ]
  },
  {
   "cell_type": "markdown",
   "id": "e0137088",
   "metadata": {},
   "source": [
    "### 5.2.9 [ ] 기호\n",
    "[ ]안에 문자들을 넣으면 그 문자들 중 한 개의 문자와 매치라는 의미를 가집니다. 예를 들어서 정규 표현식이 [abc]라면, a 또는 b또는 c가 들어가있는 문자열과 매치됩니다. 범위를 지정하는 것도 가능합니다. [a-zA-Z]는 알파벳 전부를 의미하며, [0-9]는 숫자 전부를 의미합니다."
   ]
  },
  {
   "cell_type": "code",
   "execution_count": 151,
   "id": "3d9ff111",
   "metadata": {
    "ExecuteTime": {
     "end_time": "2021-07-29T04:32:44.793217Z",
     "start_time": "2021-07-29T04:32:44.790648Z"
    }
   },
   "outputs": [],
   "source": [
    "import re\n",
    "r=re.compile(\"[abc]\") # [abc]는 [a-c]와 같다.\n",
    "r.search(\"zzz\") # 아무런 결과도 출력되지 않는다."
   ]
  },
  {
   "cell_type": "code",
   "execution_count": 152,
   "id": "6b996993",
   "metadata": {
    "ExecuteTime": {
     "end_time": "2021-07-29T04:32:47.717981Z",
     "start_time": "2021-07-29T04:32:47.713413Z"
    }
   },
   "outputs": [
    {
     "data": {
      "text/plain": [
       "<re.Match object; span=(0, 1), match='a'>"
      ]
     },
     "execution_count": 152,
     "metadata": {},
     "output_type": "execute_result"
    }
   ],
   "source": [
    "r.search(\"a\")\n"
   ]
  },
  {
   "cell_type": "code",
   "execution_count": 153,
   "id": "ca4fa9a5",
   "metadata": {
    "ExecuteTime": {
     "end_time": "2021-07-29T04:32:52.924416Z",
     "start_time": "2021-07-29T04:32:52.920792Z"
    }
   },
   "outputs": [
    {
     "data": {
      "text/plain": [
       "<re.Match object; span=(0, 1), match='a'>"
      ]
     },
     "execution_count": 153,
     "metadata": {},
     "output_type": "execute_result"
    }
   ],
   "source": [
    "r.search(\"aaaaaaa\")                                                                                               "
   ]
  },
  {
   "cell_type": "code",
   "execution_count": 159,
   "id": "dd735613",
   "metadata": {
    "ExecuteTime": {
     "end_time": "2021-07-29T04:33:25.745947Z",
     "start_time": "2021-07-29T04:33:25.741707Z"
    }
   },
   "outputs": [
    {
     "data": {
      "text/plain": [
       "<re.Match object; span=(0, 1), match='b'>"
      ]
     },
     "execution_count": 159,
     "metadata": {},
     "output_type": "execute_result"
    }
   ],
   "source": [
    "r.search(\"baac\")      "
   ]
  },
  {
   "cell_type": "markdown",
   "id": "904abe34",
   "metadata": {
    "ExecuteTime": {
     "end_time": "2021-07-29T04:33:04.188280Z",
     "start_time": "2021-07-29T04:33:04.184999Z"
    }
   },
   "source": [
    "이번에는 알파벳 소문자에 대해서만 범위 지정하여 정규 표현식을 만들어보고 문자열과 매치해보도록 하겠습니다.\n",
    "\n"
   ]
  },
  {
   "cell_type": "code",
   "execution_count": 160,
   "id": "8591abba",
   "metadata": {
    "ExecuteTime": {
     "end_time": "2021-07-29T04:33:26.322263Z",
     "start_time": "2021-07-29T04:33:26.319821Z"
    }
   },
   "outputs": [],
   "source": [
    "import re\n",
    "r=re.compile(\"[a-z]\")\n",
    "r.search(\"AAA\") # 아무런 결과도 출력되지 않는다."
   ]
  },
  {
   "cell_type": "code",
   "execution_count": 161,
   "id": "29efff58",
   "metadata": {
    "ExecuteTime": {
     "end_time": "2021-07-29T04:33:26.412374Z",
     "start_time": "2021-07-29T04:33:26.409247Z"
    }
   },
   "outputs": [
    {
     "data": {
      "text/plain": [
       "<re.Match object; span=(0, 1), match='a'>"
      ]
     },
     "execution_count": 161,
     "metadata": {},
     "output_type": "execute_result"
    }
   ],
   "source": [
    "r.search(\"aBC\")"
   ]
  },
  {
   "cell_type": "code",
   "execution_count": 162,
   "id": "9bb6e195",
   "metadata": {
    "ExecuteTime": {
     "end_time": "2021-07-29T04:33:26.778648Z",
     "start_time": "2021-07-29T04:33:26.776270Z"
    }
   },
   "outputs": [],
   "source": [
    "r.search(\"111\") # 아무런 결과도 출력되지 않는다."
   ]
  },
  {
   "cell_type": "markdown",
   "id": "874180d0",
   "metadata": {},
   "source": [
    "### 5.2.10 [^문자] 기호\n",
    "[^문자]는 5)에서 설명한 ^와는 완전히 다른 의미로 쓰입니다. 여기서는 ^ 기호 뒤에 붙은 문자들을 제외한 모든 문자를 매치하는 역할을 합니다. 예를 들어서 [^abc]라는 정규 표현식이 있다면, a 또는 b 또는 c가 들어간 문자열을 제외한 모든 문자열을 매치합니다."
   ]
  },
  {
   "cell_type": "code",
   "execution_count": 163,
   "id": "9b9d19b8",
   "metadata": {
    "ExecuteTime": {
     "end_time": "2021-07-29T04:33:43.299439Z",
     "start_time": "2021-07-29T04:33:43.296697Z"
    }
   },
   "outputs": [],
   "source": [
    "import re\n",
    "r=re.compile(\"[^abc]\")\n",
    "r.search(\"a\") # 아무런 결과도 출력되지 않는다.\n",
    "r.search(\"ab\") # 아무런 결과도 출력되지 않는다.\n",
    "r.search(\"b\") # 아무런 결과도 출력되지 않는다."
   ]
  },
  {
   "cell_type": "code",
   "execution_count": 164,
   "id": "6389ca39",
   "metadata": {
    "ExecuteTime": {
     "end_time": "2021-07-29T04:33:57.971942Z",
     "start_time": "2021-07-29T04:33:57.968186Z"
    }
   },
   "outputs": [
    {
     "data": {
      "text/plain": [
       "<re.Match object; span=(0, 1), match='d'>"
      ]
     },
     "execution_count": 164,
     "metadata": {},
     "output_type": "execute_result"
    }
   ],
   "source": [
    "r.search(\"d\")"
   ]
  },
  {
   "cell_type": "code",
   "execution_count": 165,
   "id": "5f83f12f",
   "metadata": {
    "ExecuteTime": {
     "end_time": "2021-07-29T04:34:04.183467Z",
     "start_time": "2021-07-29T04:34:04.179783Z"
    }
   },
   "outputs": [
    {
     "data": {
      "text/plain": [
       "<re.Match object; span=(0, 1), match='1'>"
      ]
     },
     "execution_count": 165,
     "metadata": {},
     "output_type": "execute_result"
    }
   ],
   "source": [
    "r.search(\"1\")                                                                                                "
   ]
  },
  {
   "cell_type": "markdown",
   "id": "1a97a313",
   "metadata": {},
   "source": [
    "## 5.3 정규 표현식 모듈 함수 예제\n",
    "지금까지 정규 표현식 문법에 대한 이해를 위해 정규 표현식 모듈 함수 중에서 re.compile()과 re.search()를 사용해보았습니다. 이번에는 다른 정규 표현식 모듈 함수에 대해서도 직접 실습을 진행해보도록 하겠습니다.\n",
    "\n"
   ]
  },
  {
   "cell_type": "markdown",
   "id": "05b8dbc8",
   "metadata": {},
   "source": [
    "### 5.3.1 re.match() 와 re.search()의 차이\n",
    "search()가 정규 표현식 전체에 대해서 문자열이 매치하는지를 본다면, match()는 문자열의 첫 부분부터 정규 표현식과 매치하는지를 확인합니다. 문자열 중간에 찾을 패턴이 있다고 하더라도, match 함수는 문자열의 **시작에서 패턴이 일치하지 않으면 찾지 않습니다.**"
   ]
  },
  {
   "cell_type": "code",
   "execution_count": 166,
   "id": "e3969ab0",
   "metadata": {
    "ExecuteTime": {
     "end_time": "2021-07-29T04:34:54.325168Z",
     "start_time": "2021-07-29T04:34:54.322919Z"
    }
   },
   "outputs": [],
   "source": [
    "import re\n",
    "r=re.compile(\"ab.\")"
   ]
  },
  {
   "cell_type": "code",
   "execution_count": 167,
   "id": "62826ba5",
   "metadata": {
    "ExecuteTime": {
     "end_time": "2021-07-29T04:34:58.466048Z",
     "start_time": "2021-07-29T04:34:58.462450Z"
    }
   },
   "outputs": [
    {
     "data": {
      "text/plain": [
       "<re.Match object; span=(3, 6), match='abc'>"
      ]
     },
     "execution_count": 167,
     "metadata": {},
     "output_type": "execute_result"
    }
   ],
   "source": [
    "r.search(\"kkkabc\")  \n"
   ]
  },
  {
   "cell_type": "code",
   "execution_count": 168,
   "id": "c3ebabac",
   "metadata": {
    "ExecuteTime": {
     "end_time": "2021-07-29T04:35:07.418823Z",
     "start_time": "2021-07-29T04:35:07.416488Z"
    }
   },
   "outputs": [],
   "source": [
    "r.match(\"kkkabc\")  #아무런 결과도 출력되지 않는다.\n"
   ]
  },
  {
   "cell_type": "code",
   "execution_count": 169,
   "id": "4420b627",
   "metadata": {
    "ExecuteTime": {
     "end_time": "2021-07-29T04:35:28.797342Z",
     "start_time": "2021-07-29T04:35:28.793637Z"
    }
   },
   "outputs": [
    {
     "data": {
      "text/plain": [
       "<re.Match object; span=(0, 3), match='abc'>"
      ]
     },
     "execution_count": 169,
     "metadata": {},
     "output_type": "execute_result"
    }
   ],
   "source": [
    "r.match(\"abckkk\")  \n"
   ]
  },
  {
   "cell_type": "markdown",
   "id": "b735bcd2",
   "metadata": {},
   "source": [
    "위의 경우 정규 표현식이 ab. 이기때문에, ab 다음에는 어떤 한 글자가 존재할 수 있다는 패턴을 의미합니다. search 모듈 함수에 kkkabc라는 문자열을 넣어 매치되는지 확인한다면 abc라는 문자열에서 매치되어 Match object를 리턴합니다. 하지만 match 모듈 함수의 경우 앞 부분이 ab.와 매치되지 않기때문에, 아무런 결과도 출력되지 않습니다. 하지만 반대로 abckkk로 매치를 시도해보면, 시작 부분에서 패턴과 매치되었기 때문에 정상적으로 Match object를 리턴합니다."
   ]
  },
  {
   "cell_type": "markdown",
   "id": "16653d9e",
   "metadata": {},
   "source": [
    "### 5.3.2 re.split()\n",
    "split() 함수는 입력된 정규 표현식을 기준으로 문자열들을 분리하여 리스트로 리턴합니다. 자연어 처리에 있어서 가장 많이 사용되는 정규 표현식 함수 중 하나인데, 토큰화에 유용하게 쓰일 수 있기 때문입니다."
   ]
  },
  {
   "cell_type": "code",
   "execution_count": 170,
   "id": "8a876f55",
   "metadata": {
    "ExecuteTime": {
     "end_time": "2021-07-29T04:36:57.871404Z",
     "start_time": "2021-07-29T04:36:57.867270Z"
    }
   },
   "outputs": [
    {
     "data": {
      "text/plain": [
       "['사과', '딸기', '수박', '메론', '바나나']"
      ]
     },
     "execution_count": 170,
     "metadata": {},
     "output_type": "execute_result"
    }
   ],
   "source": [
    "import re\n",
    "text=\"사과 딸기 수박 메론 바나나\"\n",
    "re.split(\" \",text)"
   ]
  },
  {
   "cell_type": "markdown",
   "id": "ccd2e314",
   "metadata": {},
   "source": [
    "위의 예제의 경우 입력 텍스트로부터 공백을 기준으로 문자열 분리를 수행하였고, 결과로서 리스트를 리턴하는 모습을 볼 수 있습니다."
   ]
  },
  {
   "cell_type": "code",
   "execution_count": 171,
   "id": "31d7c8e9",
   "metadata": {
    "ExecuteTime": {
     "end_time": "2021-07-29T04:37:08.039403Z",
     "start_time": "2021-07-29T04:37:08.035416Z"
    }
   },
   "outputs": [
    {
     "data": {
      "text/plain": [
       "['사과', '딸기', '수박', '메론', '바나나']"
      ]
     },
     "execution_count": 171,
     "metadata": {},
     "output_type": "execute_result"
    }
   ],
   "source": [
    "import re\n",
    "text=\"\"\"사과\n",
    "딸기\n",
    "수박\n",
    "메론\n",
    "바나나\"\"\"\n",
    "re.split(\"\\n\",text)\n"
   ]
  },
  {
   "cell_type": "code",
   "execution_count": 172,
   "id": "9cd5a1e9",
   "metadata": {
    "ExecuteTime": {
     "end_time": "2021-07-29T04:37:20.119205Z",
     "start_time": "2021-07-29T04:37:20.113657Z"
    }
   },
   "outputs": [
    {
     "data": {
      "text/plain": [
       "['사과', '딸기', '수박', '메론', '바나나']"
      ]
     },
     "execution_count": 172,
     "metadata": {},
     "output_type": "execute_result"
    }
   ],
   "source": [
    "import re\n",
    "text=\"사과+딸기+수박+메론+바나나\"\n",
    "re.split(\"\\+\",text)\n",
    "['사과', '딸기', '수박', '메론', '바나나']  "
   ]
  },
  {
   "cell_type": "markdown",
   "id": "6448afc8",
   "metadata": {},
   "source": [
    "이와 유사하게 줄바꿈이나 다른 정규 표현식을 기준으로 텍스트를 분리할 수도 있습니다.\n",
    "\n"
   ]
  },
  {
   "cell_type": "markdown",
   "id": "b043b838",
   "metadata": {},
   "source": [
    "### 5.3.3 re.findall()\n",
    "findall() 함수는 정규 표현식과 매치되는 모든 문자열들을 리스트로 리턴합니다. 단, 매치되는 문자열이 없다면 빈 리스트를 리턴합니다.\n",
    "\n"
   ]
  },
  {
   "cell_type": "code",
   "execution_count": 173,
   "id": "68019bdc",
   "metadata": {
    "ExecuteTime": {
     "end_time": "2021-07-29T04:37:42.732353Z",
     "start_time": "2021-07-29T04:37:42.727476Z"
    }
   },
   "outputs": [
    {
     "data": {
      "text/plain": [
       "['010', '1234', '1234', '30']"
      ]
     },
     "execution_count": 173,
     "metadata": {},
     "output_type": "execute_result"
    }
   ],
   "source": [
    "import re\n",
    "text=\"\"\"이름 : 김철수\n",
    "전화번호 : 010 - 1234 - 1234\n",
    "나이 : 30\n",
    "성별 : 남\"\"\"  \n",
    "re.findall(\"\\d+\",text)"
   ]
  },
  {
   "cell_type": "markdown",
   "id": "8b3dbabf",
   "metadata": {},
   "source": [
    "정규 표현식으로 숫자를 입력하자, 전체 텍스트로부터 숫자만 찾아내서 리스트로 리턴하는 것을 볼 수 있습니다. 하지만 만약 입력 텍스트에 숫자가 없다면 빈 리스트를 리턴하게 됩니다.\n",
    "\n"
   ]
  },
  {
   "cell_type": "code",
   "execution_count": 174,
   "id": "f2f1d60a",
   "metadata": {
    "ExecuteTime": {
     "end_time": "2021-07-29T04:37:51.912955Z",
     "start_time": "2021-07-29T04:37:51.909266Z"
    }
   },
   "outputs": [
    {
     "data": {
      "text/plain": [
       "[]"
      ]
     },
     "execution_count": 174,
     "metadata": {},
     "output_type": "execute_result"
    }
   ],
   "source": [
    "re.findall(\"\\d+\", \"문자열입니다.\")\n"
   ]
  },
  {
   "cell_type": "markdown",
   "id": "b1ca41f1",
   "metadata": {},
   "source": [
    "### 5.3.4 re.sub()\n",
    "sub() 함수는 정규 표현식 패턴과 일치하는 문자열을 찾아 다른 문자열로 대체할 수 있습니다."
   ]
  },
  {
   "cell_type": "code",
   "execution_count": 178,
   "id": "b6396ec7",
   "metadata": {
    "ExecuteTime": {
     "end_time": "2021-07-29T04:39:38.455287Z",
     "start_time": "2021-07-29T04:39:38.452330Z"
    }
   },
   "outputs": [
    {
     "name": "stdout",
     "output_type": "stream",
     "text": [
      "Regular expression : A regular expression, regex or regexp[1] (sometimes called a rational expression)[2][3] is, in theoretical computer science and formal language theory, a sequence of characters that define a search pattern.\n",
      "Regular expression   A regular expression  regex or regexp     sometimes called a rational expression        is  in theoretical computer science and formal language theory  a sequence of characters that define a search pattern \n"
     ]
    }
   ],
   "source": [
    "import re\n",
    "text=\"Regular expression : A regular expression, regex or regexp[1] (sometimes called a rational expression)[2][3] is, in theoretical computer science and formal language theory, a sequence of characters that define a search pattern.\"\n",
    "print(text)\n",
    "print(re.sub('[^a-zA-Z]',' ',text)) # 해당 문자열을 제외하고 ' '로 replace"
   ]
  },
  {
   "cell_type": "markdown",
   "id": "1914bebb",
   "metadata": {},
   "source": [
    "위와 같은 경우, 영어 문장에 각주 등과 같은 이유로 특수 문자가 섞여있습니다. 자연어 처리를 위해 특수 문자를 제거하고 싶다면 알파벳 외의 문자는 공백으로 처리하는 등의 사용 용도로 쓸 수 있습니다."
   ]
  },
  {
   "cell_type": "markdown",
   "id": "6a6c4519",
   "metadata": {},
   "source": [
    "## 5.5 정규 표현식 텍스트 전처리 예제"
   ]
  },
  {
   "cell_type": "code",
   "execution_count": 181,
   "id": "5c25c89e",
   "metadata": {
    "ExecuteTime": {
     "end_time": "2021-07-29T04:40:30.626016Z",
     "start_time": "2021-07-29T04:40:30.623643Z"
    }
   },
   "outputs": [],
   "source": [
    "import re  \n",
    "\n",
    "text = \"\"\"100 John    PROF\n",
    "101 James   STUD\n",
    "102 Mac   STUD\"\"\"  "
   ]
  },
  {
   "cell_type": "markdown",
   "id": "c771d878",
   "metadata": {},
   "source": [
    "'\\s+'는 공백을 찾아내는 정규표현식입니다. 뒤에 붙는 +는 최소 1개 이상의 패턴을 찾아낸다는 의미입니다. s는 공백을 의미하기 때문에 최소 1개 이상의 공백인 패턴을 찾아냅니다. 입력으로 테이블 형식의 데이터를 텍스트에 저장하였습니다. 각 데이터가 공백으로 구분되어있습니다. split은 주어진 정규표현식을 기준으로 분리하므로 결과는 아래와 같습니다.\n",
    "\n"
   ]
  },
  {
   "cell_type": "code",
   "execution_count": 182,
   "id": "c50e5795",
   "metadata": {
    "ExecuteTime": {
     "end_time": "2021-07-29T04:40:31.945310Z",
     "start_time": "2021-07-29T04:40:31.941527Z"
    }
   },
   "outputs": [
    {
     "data": {
      "text/plain": [
       "['100', 'John', 'PROF', '101', 'James', 'STUD', '102', 'Mac', 'STUD']"
      ]
     },
     "execution_count": 182,
     "metadata": {},
     "output_type": "execute_result"
    }
   ],
   "source": [
    "re.split('\\s+', text)  "
   ]
  },
  {
   "cell_type": "markdown",
   "id": "6f315f7a",
   "metadata": {},
   "source": [
    "이제 공백을 기준으로 데이터가 구분된 것을 볼 수 있습니다. 이제 해당 데이터로부터 숫자만을 뽑아온다고 해봅시다.\n",
    "\n"
   ]
  },
  {
   "cell_type": "code",
   "execution_count": 185,
   "id": "e1a852e0",
   "metadata": {
    "ExecuteTime": {
     "end_time": "2021-07-29T04:41:11.769113Z",
     "start_time": "2021-07-29T04:41:11.764903Z"
    }
   },
   "outputs": [
    {
     "name": "stdout",
     "output_type": "stream",
     "text": [
      "여기서 \\d는 숫자에 해당되는 정규표현식입니다. +를 붙였으므로 최소 1개 이상의 숫자에 해당하는 값을 의미합니다. findall은 해당 정규 표현식에 일치하는 값을 찾아내는 메소드입니다.\n"
     ]
    },
    {
     "data": {
      "text/plain": [
       "['100', '101', '102']"
      ]
     },
     "execution_count": 185,
     "metadata": {},
     "output_type": "execute_result"
    }
   ],
   "source": [
    "print(\"여기서 \\d는 숫자에 해당되는 정규표현식입니다. +를 붙였으므로 최소 1개 이상의 숫자에 해당하는 값을 의미합니다. findall은 해당 정규 표현식에 일치하는 값을 찾아내는 메소드입니다.\")\n",
    "re.findall('\\d+',text)  "
   ]
  },
  {
   "cell_type": "markdown",
   "id": "9e49f169",
   "metadata": {},
   "source": [
    "해당 코드의 결과는 위와 같습니다. 이번에는 텍스트로부터 대문자인 행의 값만 가져오고 싶다고 합시다. 이 경우에는 정규 표현식에 대문자를 기준으로 매치시키면 됩니다. 하지만 정규 표현식에 대문자라는 기준만을 넣을 경우에는 문자열을 가져오는 것이 아니라 모든 대문자 각각을 갖고오게 됩니다.\n",
    "\n"
   ]
  },
  {
   "cell_type": "code",
   "execution_count": 189,
   "id": "c5146af3",
   "metadata": {
    "ExecuteTime": {
     "end_time": "2021-07-29T04:41:46.523183Z",
     "start_time": "2021-07-29T04:41:46.520424Z"
    }
   },
   "outputs": [
    {
     "name": "stdout",
     "output_type": "stream",
     "text": [
      "['J', 'P', 'R', 'O', 'F', 'J', 'S', 'T', 'U', 'D', 'M', 'S', 'T', 'U', 'D']\n",
      "이는 우리가 원하는 결과가 아닙니다. 이 경우, 여러가지 방법이 있겠지만 대문자가 연속적으로 4번 등장하는 경우로 조건을 추가해봅시다.\n"
     ]
    }
   ],
   "source": [
    "print(re.findall('[A-Z]',text))\n",
    "print(\"이는 우리가 원하는 결과가 아닙니다. 이 경우, 여러가지 방법이 있겠지만 대문자가 연속적으로 4번 등장하는 경우로 조건을 추가해봅시다.\")"
   ]
  },
  {
   "cell_type": "code",
   "execution_count": 190,
   "id": "05f7c0bc",
   "metadata": {
    "ExecuteTime": {
     "end_time": "2021-07-29T04:42:06.610293Z",
     "start_time": "2021-07-29T04:42:06.606428Z"
    }
   },
   "outputs": [
    {
     "data": {
      "text/plain": [
       "['PROF', 'STUD', 'STUD']"
      ]
     },
     "execution_count": 190,
     "metadata": {},
     "output_type": "execute_result"
    }
   ],
   "source": [
    "re.findall('[A-Z]{4}',text)  \n"
   ]
  },
  {
   "cell_type": "markdown",
   "id": "15cab350",
   "metadata": {},
   "source": [
    "대문자로 구성된 문자열들을 제대로 가져오는 것을 볼 수 있습니다. 이름의 경우에는 대문자와 소문자가 섞여있는 상황입니다. 이름에 대한 행의 값을 갖고오고 싶다면 처음에 대문자가 등장하고, 그 후에 소문자가 여러번 등장하는 경우에 매치하게 합니다."
   ]
  },
  {
   "cell_type": "code",
   "execution_count": 191,
   "id": "f25fccf6",
   "metadata": {
    "ExecuteTime": {
     "end_time": "2021-07-29T04:42:17.366181Z",
     "start_time": "2021-07-29T04:42:17.362026Z"
    }
   },
   "outputs": [
    {
     "data": {
      "text/plain": [
       "['John', 'James', 'Mac']"
      ]
     },
     "execution_count": 191,
     "metadata": {},
     "output_type": "execute_result"
    }
   ],
   "source": [
    "re.findall('[A-Z][a-z]+',text)\n"
   ]
  },
  {
   "cell_type": "markdown",
   "id": "c589ef6d",
   "metadata": {},
   "source": [
    "## 5.6 정규 표현식을 이용한 토큰화\n",
    "NLTK에서는 정규 표현식을 사용해서 단어 토큰화를 수행하는 RegexpTokenizer를 지원합니다. RegexpTokenizer()에서 괄호 안에 원하는 정규 표현식을 넣어서 토큰화를 수행하는 것입니다."
   ]
  },
  {
   "cell_type": "code",
   "execution_count": 192,
   "id": "ac12f5a3",
   "metadata": {
    "ExecuteTime": {
     "end_time": "2021-07-29T04:42:33.041916Z",
     "start_time": "2021-07-29T04:42:33.038623Z"
    }
   },
   "outputs": [
    {
     "name": "stdout",
     "output_type": "stream",
     "text": [
      "['Don', 't', 'be', 'fooled', 'by', 'the', 'dark', 'sounding', 'name', 'Mr', 'Jone', 's', 'Orphanage', 'is', 'as', 'cheery', 'as', 'cheery', 'goes', 'for', 'a', 'pastry', 'shop']\n"
     ]
    }
   ],
   "source": [
    "import nltk\n",
    "from nltk.tokenize import RegexpTokenizer\n",
    "tokenizer=RegexpTokenizer(\"[\\w]+\")\n",
    "print(tokenizer.tokenize(\"Don't be fooled by the dark sounding name, Mr. Jone's Orphanage is as cheery as cheery goes for a pastry shop\"))"
   ]
  },
  {
   "cell_type": "markdown",
   "id": "8326cba0",
   "metadata": {},
   "source": [
    "tokenizer=RegexpTokenizer(\"[\\w]+\")에서 \\+는 문자 또는 숫자가 1개 이상인 경우를 인식하는 코드입니다. 그렇기 때문에 이 코드는 문장에서 구두점을 제외하고, 단어들만을 가지고 토큰화를 수행합니다.\n",
    "\n",
    "RegexpTokenizer()에서 괄호 안에 토큰으로 원하는 정규 표현식을 넣어서 사용한다고 언급하였습니다. 그런데 괄호 안에 토큰을 나누기 위한 기준을 입력할 수도 있습니다. 이번에는 공백을 기준으로 문장을 토큰화해보도록 하겠습니다."
   ]
  },
  {
   "cell_type": "code",
   "execution_count": 193,
   "id": "d6eec78a",
   "metadata": {
    "ExecuteTime": {
     "end_time": "2021-07-29T04:43:46.746978Z",
     "start_time": "2021-07-29T04:43:46.743834Z"
    }
   },
   "outputs": [
    {
     "name": "stdout",
     "output_type": "stream",
     "text": [
      "[\"Don't\", 'be', 'fooled', 'by', 'the', 'dark', 'sounding', 'name,', 'Mr.', \"Jone's\", 'Orphanage', 'is', 'as', 'cheery', 'as', 'cheery', 'goes', 'for', 'a', 'pastry', 'shop']\n"
     ]
    }
   ],
   "source": [
    "import nltk\n",
    "from nltk.tokenize import RegexpTokenizer\n",
    "tokenizer=RegexpTokenizer(\"[\\s]+\", gaps=True)\n",
    "print(tokenizer.tokenize(\"Don't be fooled by the dark sounding name, Mr. Jone's Orphanage is as cheery as cheery goes for a pastry shop\"))"
   ]
  },
  {
   "cell_type": "markdown",
   "id": "423bdceb",
   "metadata": {},
   "source": [
    "위 코드에서 gaps=true는 해당 정규 표현식을 토큰으로 나누기 위한 기준으로 사용한다는 의미입니다. 만약 gaps=True라는 부분을 기재하지 않는다면, 토큰화의 결과는 공백들만 나오게 됩니다. 이번에는 위의 예제와는 달리 아포스트로피나 온점을 제외하지 않고, 토큰화가 수행된 것을 확인할 수 있습니다."
   ]
  },
  {
   "cell_type": "markdown",
   "id": "0f8d6cc0",
   "metadata": {},
   "source": [
    "# 6. 정수 인코딩(Integer Encoding)\n",
    "컴퓨터는 텍스트보다는 숫자를 더 잘 처리 할 수 있습니다. 이를 위해 자연어 처리에서는 텍스트를 숫자로 바꾸는 여러가지 기법들이 있습니다. 그리고 그러한 기법들을 본격적으로 적용시키기 위한 첫 단계로 각 단어를 고유한 정수에 맵핑(mapping)시키는 전처리 작업이 필요할 때가 있습니다.\n",
    "\n",
    "예를 들어 갖고 있는 텍스트에 단어가 5,000개가 있다면, 5,000개의 단어들 각각에 1번부터 5,000번까지 단어와 맵핑되는 고유한 정수, 다른 표현으로는 인덱스를 부여합니다. 가령, book은 150번, dog는 171번, love는 192번, books는 212번과 같이 숫자가 부여됩니다. 인덱스를 부여하는 방법은 여러 가지가 있을 수 있는데 랜덤으로 부여하기도 하지만, 보통은 전처리 또는 빈도수가 높은 단어들만 사용하기 위해서 단어에 대한 빈도수를 기준으로 정렬한 뒤에 부여합니다."
   ]
  },
  {
   "cell_type": "markdown",
   "id": "5276e56b",
   "metadata": {},
   "source": [
    "띄어쓰기 조정  \n",
    "soyspacing\n",
    "\n",
    "https://github.com/lovit/soyspacing"
   ]
  },
  {
   "cell_type": "code",
   "execution_count": null,
   "id": "f3b5ed7b",
   "metadata": {},
   "outputs": [],
   "source": []
  }
 ],
 "metadata": {
  "hide_input": false,
  "kernelspec": {
   "display_name": "Python 3",
   "language": "python",
   "name": "python3"
  },
  "language_info": {
   "codemirror_mode": {
    "name": "ipython",
    "version": 3
   },
   "file_extension": ".py",
   "mimetype": "text/x-python",
   "name": "python",
   "nbconvert_exporter": "python",
   "pygments_lexer": "ipython3",
   "version": "3.8.10"
  },
  "latex_envs": {
   "LaTeX_envs_menu_present": true,
   "autoclose": false,
   "autocomplete": true,
   "bibliofile": "biblio.bib",
   "cite_by": "apalike",
   "current_citInitial": 1,
   "eqLabelWithNumbers": true,
   "eqNumInitial": 1,
   "hotkeys": {
    "equation": "Ctrl-E",
    "itemize": "Ctrl-I"
   },
   "labels_anchors": false,
   "latex_user_defs": false,
   "report_style_numbering": false,
   "user_envs_cfg": false
  },
  "toc": {
   "base_numbering": 1,
   "nav_menu": {},
   "number_sections": true,
   "sideBar": true,
   "skip_h1_title": false,
   "title_cell": "Table of Contents",
   "title_sidebar": "Contents",
   "toc_cell": false,
   "toc_position": {
    "height": "calc(100% - 180px)",
    "left": "10px",
    "top": "150px",
    "width": "307.188px"
   },
   "toc_section_display": true,
   "toc_window_display": true
  }
 },
 "nbformat": 4,
 "nbformat_minor": 5
}
